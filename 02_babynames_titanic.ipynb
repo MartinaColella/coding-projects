{
 "cells": [
  {
   "cell_type": "markdown",
   "id": "5baeed73",
   "metadata": {},
   "source": [
    "## Data Before Titanic"
   ]
  },
  {
   "cell_type": "code",
   "execution_count": 111,
   "id": "6dd9aae9",
   "metadata": {},
   "outputs": [],
   "source": [
    "import pandas as pd"
   ]
  },
  {
   "cell_type": "code",
   "execution_count": 112,
   "id": "33e99a50",
   "metadata": {},
   "outputs": [],
   "source": [
    "df = pd.read_csv('../data/baby_names_all_years.csv')"
   ]
  },
  {
   "cell_type": "code",
   "execution_count": 113,
   "id": "b8fb2115",
   "metadata": {
    "scrolled": true
   },
   "outputs": [
    {
     "data": {
      "text/html": [
       "<div>\n",
       "<style scoped>\n",
       "    .dataframe tbody tr th:only-of-type {\n",
       "        vertical-align: middle;\n",
       "    }\n",
       "\n",
       "    .dataframe tbody tr th {\n",
       "        vertical-align: top;\n",
       "    }\n",
       "\n",
       "    .dataframe thead th {\n",
       "        text-align: right;\n",
       "    }\n",
       "</style>\n",
       "<table border=\"1\" class=\"dataframe\">\n",
       "  <thead>\n",
       "    <tr style=\"text-align: right;\">\n",
       "      <th></th>\n",
       "      <th>name</th>\n",
       "      <th>gender</th>\n",
       "      <th>frequency</th>\n",
       "      <th>year</th>\n",
       "    </tr>\n",
       "  </thead>\n",
       "  <tbody>\n",
       "    <tr>\n",
       "      <th>0</th>\n",
       "      <td>Mary</td>\n",
       "      <td>F</td>\n",
       "      <td>7065</td>\n",
       "      <td>1880</td>\n",
       "    </tr>\n",
       "    <tr>\n",
       "      <th>1</th>\n",
       "      <td>Anna</td>\n",
       "      <td>F</td>\n",
       "      <td>2604</td>\n",
       "      <td>1880</td>\n",
       "    </tr>\n",
       "    <tr>\n",
       "      <th>2</th>\n",
       "      <td>Emma</td>\n",
       "      <td>F</td>\n",
       "      <td>2003</td>\n",
       "      <td>1880</td>\n",
       "    </tr>\n",
       "    <tr>\n",
       "      <th>3</th>\n",
       "      <td>Elizabeth</td>\n",
       "      <td>F</td>\n",
       "      <td>1939</td>\n",
       "      <td>1880</td>\n",
       "    </tr>\n",
       "    <tr>\n",
       "      <th>4</th>\n",
       "      <td>Minnie</td>\n",
       "      <td>F</td>\n",
       "      <td>1746</td>\n",
       "      <td>1880</td>\n",
       "    </tr>\n",
       "    <tr>\n",
       "      <th>...</th>\n",
       "      <td>...</td>\n",
       "      <td>...</td>\n",
       "      <td>...</td>\n",
       "      <td>...</td>\n",
       "    </tr>\n",
       "    <tr>\n",
       "      <th>2052776</th>\n",
       "      <td>Zyeire</td>\n",
       "      <td>M</td>\n",
       "      <td>5</td>\n",
       "      <td>2021</td>\n",
       "    </tr>\n",
       "    <tr>\n",
       "      <th>2052777</th>\n",
       "      <td>Zyel</td>\n",
       "      <td>M</td>\n",
       "      <td>5</td>\n",
       "      <td>2021</td>\n",
       "    </tr>\n",
       "    <tr>\n",
       "      <th>2052778</th>\n",
       "      <td>Zyian</td>\n",
       "      <td>M</td>\n",
       "      <td>5</td>\n",
       "      <td>2021</td>\n",
       "    </tr>\n",
       "    <tr>\n",
       "      <th>2052779</th>\n",
       "      <td>Zylar</td>\n",
       "      <td>M</td>\n",
       "      <td>5</td>\n",
       "      <td>2021</td>\n",
       "    </tr>\n",
       "    <tr>\n",
       "      <th>2052780</th>\n",
       "      <td>Zyn</td>\n",
       "      <td>M</td>\n",
       "      <td>5</td>\n",
       "      <td>2021</td>\n",
       "    </tr>\n",
       "  </tbody>\n",
       "</table>\n",
       "<p>2052781 rows × 4 columns</p>\n",
       "</div>"
      ],
      "text/plain": [
       "              name gender  frequency  year\n",
       "0             Mary      F       7065  1880\n",
       "1             Anna      F       2604  1880\n",
       "2             Emma      F       2003  1880\n",
       "3        Elizabeth      F       1939  1880\n",
       "4           Minnie      F       1746  1880\n",
       "...            ...    ...        ...   ...\n",
       "2052776     Zyeire      M          5  2021\n",
       "2052777       Zyel      M          5  2021\n",
       "2052778      Zyian      M          5  2021\n",
       "2052779      Zylar      M          5  2021\n",
       "2052780        Zyn      M          5  2021\n",
       "\n",
       "[2052781 rows x 4 columns]"
      ]
     },
     "execution_count": 113,
     "metadata": {},
     "output_type": "execute_result"
    }
   ],
   "source": [
    "df\n",
    "# dataframe of all years and all names"
   ]
  },
  {
   "cell_type": "code",
   "execution_count": 114,
   "id": "e0721360",
   "metadata": {},
   "outputs": [],
   "source": [
    "# add a column with percentage ^"
   ]
  },
  {
   "cell_type": "code",
   "execution_count": 115,
   "id": "df93b964",
   "metadata": {},
   "outputs": [],
   "source": [
    "# df['birth_percentage']= (df['frequency']/df['frequency'].sum() * 100)\n",
    "# df"
   ]
  },
  {
   "cell_type": "code",
   "execution_count": 116,
   "id": "bf6e5f36",
   "metadata": {},
   "outputs": [],
   "source": [
    "# boolean mask to filter the years before Titanic - all names\n",
    "boolean_mask_bt = df['year'].isin(range(1993, 1998))"
   ]
  },
  {
   "cell_type": "code",
   "execution_count": 117,
   "id": "f28f2fde",
   "metadata": {},
   "outputs": [
    {
     "data": {
      "text/html": [
       "<div>\n",
       "<style scoped>\n",
       "    .dataframe tbody tr th:only-of-type {\n",
       "        vertical-align: middle;\n",
       "    }\n",
       "\n",
       "    .dataframe tbody tr th {\n",
       "        vertical-align: top;\n",
       "    }\n",
       "\n",
       "    .dataframe thead th {\n",
       "        text-align: right;\n",
       "    }\n",
       "</style>\n",
       "<table border=\"1\" class=\"dataframe\">\n",
       "  <thead>\n",
       "    <tr style=\"text-align: right;\">\n",
       "      <th></th>\n",
       "      <th>name</th>\n",
       "      <th>gender</th>\n",
       "      <th>frequency</th>\n",
       "      <th>year</th>\n",
       "    </tr>\n",
       "  </thead>\n",
       "  <tbody>\n",
       "    <tr>\n",
       "      <th>1145105</th>\n",
       "      <td>Jessica</td>\n",
       "      <td>F</td>\n",
       "      <td>34990</td>\n",
       "      <td>1993</td>\n",
       "    </tr>\n",
       "    <tr>\n",
       "      <th>1145106</th>\n",
       "      <td>Ashley</td>\n",
       "      <td>F</td>\n",
       "      <td>34850</td>\n",
       "      <td>1993</td>\n",
       "    </tr>\n",
       "    <tr>\n",
       "      <th>1145107</th>\n",
       "      <td>Sarah</td>\n",
       "      <td>F</td>\n",
       "      <td>24254</td>\n",
       "      <td>1993</td>\n",
       "    </tr>\n",
       "    <tr>\n",
       "      <th>1145108</th>\n",
       "      <td>Samantha</td>\n",
       "      <td>F</td>\n",
       "      <td>23669</td>\n",
       "      <td>1993</td>\n",
       "    </tr>\n",
       "    <tr>\n",
       "      <th>1145109</th>\n",
       "      <td>Emily</td>\n",
       "      <td>F</td>\n",
       "      <td>23593</td>\n",
       "      <td>1993</td>\n",
       "    </tr>\n",
       "    <tr>\n",
       "      <th>...</th>\n",
       "      <td>...</td>\n",
       "      <td>...</td>\n",
       "      <td>...</td>\n",
       "      <td>...</td>\n",
       "    </tr>\n",
       "    <tr>\n",
       "      <th>1276541</th>\n",
       "      <td>Zhane</td>\n",
       "      <td>M</td>\n",
       "      <td>5</td>\n",
       "      <td>1997</td>\n",
       "    </tr>\n",
       "    <tr>\n",
       "      <th>1276542</th>\n",
       "      <td>Zian</td>\n",
       "      <td>M</td>\n",
       "      <td>5</td>\n",
       "      <td>1997</td>\n",
       "    </tr>\n",
       "    <tr>\n",
       "      <th>1276543</th>\n",
       "      <td>Ziar</td>\n",
       "      <td>M</td>\n",
       "      <td>5</td>\n",
       "      <td>1997</td>\n",
       "    </tr>\n",
       "    <tr>\n",
       "      <th>1276544</th>\n",
       "      <td>Zohair</td>\n",
       "      <td>M</td>\n",
       "      <td>5</td>\n",
       "      <td>1997</td>\n",
       "    </tr>\n",
       "    <tr>\n",
       "      <th>1276545</th>\n",
       "      <td>Zohar</td>\n",
       "      <td>M</td>\n",
       "      <td>5</td>\n",
       "      <td>1997</td>\n",
       "    </tr>\n",
       "  </tbody>\n",
       "</table>\n",
       "<p>131441 rows × 4 columns</p>\n",
       "</div>"
      ],
      "text/plain": [
       "             name gender  frequency  year\n",
       "1145105   Jessica      F      34990  1993\n",
       "1145106    Ashley      F      34850  1993\n",
       "1145107     Sarah      F      24254  1993\n",
       "1145108  Samantha      F      23669  1993\n",
       "1145109     Emily      F      23593  1993\n",
       "...           ...    ...        ...   ...\n",
       "1276541     Zhane      M          5  1997\n",
       "1276542      Zian      M          5  1997\n",
       "1276543      Ziar      M          5  1997\n",
       "1276544    Zohair      M          5  1997\n",
       "1276545     Zohar      M          5  1997\n",
       "\n",
       "[131441 rows x 4 columns]"
      ]
     },
     "execution_count": 117,
     "metadata": {},
     "output_type": "execute_result"
    }
   ],
   "source": [
    "# Dataframe: years before Titanic - all names\n",
    "df_before_titanic = df.loc[boolean_mask_bt]\n",
    "df_before_titanic"
   ]
  },
  {
   "cell_type": "markdown",
   "id": "31423643",
   "metadata": {},
   "source": [
    "### before Titanic _males only"
   ]
  },
  {
   "cell_type": "code",
   "execution_count": 118,
   "id": "0ad08df6",
   "metadata": {},
   "outputs": [],
   "source": [
    "# boolean mask to filter only male\n",
    "boolean_mask_bt_male = df_before_titanic['gender'] == 'M'"
   ]
  },
  {
   "cell_type": "code",
   "execution_count": 119,
   "id": "097fddf5",
   "metadata": {},
   "outputs": [
    {
     "data": {
      "text/html": [
       "<div>\n",
       "<style scoped>\n",
       "    .dataframe tbody tr th:only-of-type {\n",
       "        vertical-align: middle;\n",
       "    }\n",
       "\n",
       "    .dataframe tbody tr th {\n",
       "        vertical-align: top;\n",
       "    }\n",
       "\n",
       "    .dataframe thead th {\n",
       "        text-align: right;\n",
       "    }\n",
       "</style>\n",
       "<table border=\"1\" class=\"dataframe\">\n",
       "  <thead>\n",
       "    <tr style=\"text-align: right;\">\n",
       "      <th></th>\n",
       "      <th>name</th>\n",
       "      <th>gender</th>\n",
       "      <th>frequency</th>\n",
       "      <th>year</th>\n",
       "    </tr>\n",
       "  </thead>\n",
       "  <tbody>\n",
       "    <tr>\n",
       "      <th>1160904</th>\n",
       "      <td>Michael</td>\n",
       "      <td>M</td>\n",
       "      <td>49562</td>\n",
       "      <td>1993</td>\n",
       "    </tr>\n",
       "    <tr>\n",
       "      <th>1160905</th>\n",
       "      <td>Christopher</td>\n",
       "      <td>M</td>\n",
       "      <td>38232</td>\n",
       "      <td>1993</td>\n",
       "    </tr>\n",
       "    <tr>\n",
       "      <th>1160906</th>\n",
       "      <td>Matthew</td>\n",
       "      <td>M</td>\n",
       "      <td>35773</td>\n",
       "      <td>1993</td>\n",
       "    </tr>\n",
       "    <tr>\n",
       "      <th>1160907</th>\n",
       "      <td>Joshua</td>\n",
       "      <td>M</td>\n",
       "      <td>33586</td>\n",
       "      <td>1993</td>\n",
       "    </tr>\n",
       "    <tr>\n",
       "      <th>1160908</th>\n",
       "      <td>Tyler</td>\n",
       "      <td>M</td>\n",
       "      <td>29797</td>\n",
       "      <td>1993</td>\n",
       "    </tr>\n",
       "    <tr>\n",
       "      <th>...</th>\n",
       "      <td>...</td>\n",
       "      <td>...</td>\n",
       "      <td>...</td>\n",
       "      <td>...</td>\n",
       "    </tr>\n",
       "    <tr>\n",
       "      <th>1276541</th>\n",
       "      <td>Zhane</td>\n",
       "      <td>M</td>\n",
       "      <td>5</td>\n",
       "      <td>1997</td>\n",
       "    </tr>\n",
       "    <tr>\n",
       "      <th>1276542</th>\n",
       "      <td>Zian</td>\n",
       "      <td>M</td>\n",
       "      <td>5</td>\n",
       "      <td>1997</td>\n",
       "    </tr>\n",
       "    <tr>\n",
       "      <th>1276543</th>\n",
       "      <td>Ziar</td>\n",
       "      <td>M</td>\n",
       "      <td>5</td>\n",
       "      <td>1997</td>\n",
       "    </tr>\n",
       "    <tr>\n",
       "      <th>1276544</th>\n",
       "      <td>Zohair</td>\n",
       "      <td>M</td>\n",
       "      <td>5</td>\n",
       "      <td>1997</td>\n",
       "    </tr>\n",
       "    <tr>\n",
       "      <th>1276545</th>\n",
       "      <td>Zohar</td>\n",
       "      <td>M</td>\n",
       "      <td>5</td>\n",
       "      <td>1997</td>\n",
       "    </tr>\n",
       "  </tbody>\n",
       "</table>\n",
       "<p>52082 rows × 4 columns</p>\n",
       "</div>"
      ],
      "text/plain": [
       "                name gender  frequency  year\n",
       "1160904      Michael      M      49562  1993\n",
       "1160905  Christopher      M      38232  1993\n",
       "1160906      Matthew      M      35773  1993\n",
       "1160907       Joshua      M      33586  1993\n",
       "1160908        Tyler      M      29797  1993\n",
       "...              ...    ...        ...   ...\n",
       "1276541        Zhane      M          5  1997\n",
       "1276542         Zian      M          5  1997\n",
       "1276543         Ziar      M          5  1997\n",
       "1276544       Zohair      M          5  1997\n",
       "1276545        Zohar      M          5  1997\n",
       "\n",
       "[52082 rows x 4 columns]"
      ]
     },
     "execution_count": 119,
     "metadata": {},
     "output_type": "execute_result"
    }
   ],
   "source": [
    "df_before_titanic_male = df_before_titanic.loc[boolean_mask_bt_male]\n",
    "df_before_titanic_male"
   ]
  },
  {
   "cell_type": "code",
   "execution_count": 120,
   "id": "dc442d77",
   "metadata": {},
   "outputs": [
    {
     "data": {
      "text/plain": [
       "9575049"
      ]
     },
     "execution_count": 120,
     "metadata": {},
     "output_type": "execute_result"
    }
   ],
   "source": [
    "# how many males were born 1993 - 1997\n",
    "males_born_bt = df_before_titanic_male['frequency'].sum()\n",
    "males_born_bt"
   ]
  },
  {
   "cell_type": "code",
   "execution_count": 121,
   "id": "af5039c3",
   "metadata": {},
   "outputs": [],
   "source": [
    "boolean_mask_bt_jack = df_before_titanic_male['name'] == 'Jack'"
   ]
  },
  {
   "cell_type": "code",
   "execution_count": 122,
   "id": "605c871e",
   "metadata": {},
   "outputs": [
    {
     "data": {
      "text/html": [
       "<div>\n",
       "<style scoped>\n",
       "    .dataframe tbody tr th:only-of-type {\n",
       "        vertical-align: middle;\n",
       "    }\n",
       "\n",
       "    .dataframe tbody tr th {\n",
       "        vertical-align: top;\n",
       "    }\n",
       "\n",
       "    .dataframe thead th {\n",
       "        text-align: right;\n",
       "    }\n",
       "</style>\n",
       "<table border=\"1\" class=\"dataframe\">\n",
       "  <thead>\n",
       "    <tr style=\"text-align: right;\">\n",
       "      <th></th>\n",
       "      <th>name</th>\n",
       "      <th>gender</th>\n",
       "      <th>frequency</th>\n",
       "      <th>year</th>\n",
       "    </tr>\n",
       "  </thead>\n",
       "  <tbody>\n",
       "    <tr>\n",
       "      <th>1161046</th>\n",
       "      <td>Jack</td>\n",
       "      <td>M</td>\n",
       "      <td>2420</td>\n",
       "      <td>1993</td>\n",
       "    </tr>\n",
       "    <tr>\n",
       "      <th>1186952</th>\n",
       "      <td>Jack</td>\n",
       "      <td>M</td>\n",
       "      <td>2778</td>\n",
       "      <td>1994</td>\n",
       "    </tr>\n",
       "    <tr>\n",
       "      <th>1212932</th>\n",
       "      <td>Jack</td>\n",
       "      <td>M</td>\n",
       "      <td>3448</td>\n",
       "      <td>1995</td>\n",
       "    </tr>\n",
       "    <tr>\n",
       "      <th>1239130</th>\n",
       "      <td>Jack</td>\n",
       "      <td>M</td>\n",
       "      <td>4244</td>\n",
       "      <td>1996</td>\n",
       "    </tr>\n",
       "    <tr>\n",
       "      <th>1265810</th>\n",
       "      <td>Jack</td>\n",
       "      <td>M</td>\n",
       "      <td>4985</td>\n",
       "      <td>1997</td>\n",
       "    </tr>\n",
       "  </tbody>\n",
       "</table>\n",
       "</div>"
      ],
      "text/plain": [
       "         name gender  frequency  year\n",
       "1161046  Jack      M       2420  1993\n",
       "1186952  Jack      M       2778  1994\n",
       "1212932  Jack      M       3448  1995\n",
       "1239130  Jack      M       4244  1996\n",
       "1265810  Jack      M       4985  1997"
      ]
     },
     "execution_count": 122,
     "metadata": {},
     "output_type": "execute_result"
    }
   ],
   "source": [
    "df_before_titanic_jack = df_before_titanic_male.loc[boolean_mask_bt_jack]\n",
    "df_before_titanic_jack"
   ]
  },
  {
   "cell_type": "code",
   "execution_count": 123,
   "id": "5d41c8de",
   "metadata": {},
   "outputs": [
    {
     "data": {
      "text/plain": [
       "17875"
      ]
     },
     "execution_count": 123,
     "metadata": {},
     "output_type": "execute_result"
    }
   ],
   "source": [
    "# sum of jacks\n",
    "jacks_born_bt = df_before_titanic_jack['frequency'].sum()\n",
    "jacks_born_bt "
   ]
  },
  {
   "cell_type": "code",
   "execution_count": 124,
   "id": "31037bce",
   "metadata": {},
   "outputs": [],
   "source": [
    "# calculate percentage "
   ]
  },
  {
   "cell_type": "markdown",
   "id": "4b278d8c",
   "metadata": {},
   "source": [
    "### Before Titanic - females_only "
   ]
  },
  {
   "cell_type": "code",
   "execution_count": 125,
   "id": "9126fbd2",
   "metadata": {},
   "outputs": [],
   "source": [
    "# boolean mask to filter only female befre titanic\n",
    "boolean_mask_bt_female = df_before_titanic['gender'] == 'F'"
   ]
  },
  {
   "cell_type": "code",
   "execution_count": 126,
   "id": "8e723bd9",
   "metadata": {},
   "outputs": [
    {
     "data": {
      "text/html": [
       "<div>\n",
       "<style scoped>\n",
       "    .dataframe tbody tr th:only-of-type {\n",
       "        vertical-align: middle;\n",
       "    }\n",
       "\n",
       "    .dataframe tbody tr th {\n",
       "        vertical-align: top;\n",
       "    }\n",
       "\n",
       "    .dataframe thead th {\n",
       "        text-align: right;\n",
       "    }\n",
       "</style>\n",
       "<table border=\"1\" class=\"dataframe\">\n",
       "  <thead>\n",
       "    <tr style=\"text-align: right;\">\n",
       "      <th></th>\n",
       "      <th>name</th>\n",
       "      <th>gender</th>\n",
       "      <th>frequency</th>\n",
       "      <th>year</th>\n",
       "    </tr>\n",
       "  </thead>\n",
       "  <tbody>\n",
       "    <tr>\n",
       "      <th>1145105</th>\n",
       "      <td>Jessica</td>\n",
       "      <td>F</td>\n",
       "      <td>34990</td>\n",
       "      <td>1993</td>\n",
       "    </tr>\n",
       "    <tr>\n",
       "      <th>1145106</th>\n",
       "      <td>Ashley</td>\n",
       "      <td>F</td>\n",
       "      <td>34850</td>\n",
       "      <td>1993</td>\n",
       "    </tr>\n",
       "    <tr>\n",
       "      <th>1145107</th>\n",
       "      <td>Sarah</td>\n",
       "      <td>F</td>\n",
       "      <td>24254</td>\n",
       "      <td>1993</td>\n",
       "    </tr>\n",
       "    <tr>\n",
       "      <th>1145108</th>\n",
       "      <td>Samantha</td>\n",
       "      <td>F</td>\n",
       "      <td>23669</td>\n",
       "      <td>1993</td>\n",
       "    </tr>\n",
       "    <tr>\n",
       "      <th>1145109</th>\n",
       "      <td>Emily</td>\n",
       "      <td>F</td>\n",
       "      <td>23593</td>\n",
       "      <td>1993</td>\n",
       "    </tr>\n",
       "    <tr>\n",
       "      <th>...</th>\n",
       "      <td>...</td>\n",
       "      <td>...</td>\n",
       "      <td>...</td>\n",
       "      <td>...</td>\n",
       "    </tr>\n",
       "    <tr>\n",
       "      <th>1265730</th>\n",
       "      <td>Zorina</td>\n",
       "      <td>F</td>\n",
       "      <td>5</td>\n",
       "      <td>1997</td>\n",
       "    </tr>\n",
       "    <tr>\n",
       "      <th>1265731</th>\n",
       "      <td>Zsofia</td>\n",
       "      <td>F</td>\n",
       "      <td>5</td>\n",
       "      <td>1997</td>\n",
       "    </tr>\n",
       "    <tr>\n",
       "      <th>1265732</th>\n",
       "      <td>Zulmarie</td>\n",
       "      <td>F</td>\n",
       "      <td>5</td>\n",
       "      <td>1997</td>\n",
       "    </tr>\n",
       "    <tr>\n",
       "      <th>1265733</th>\n",
       "      <td>Zuzanna</td>\n",
       "      <td>F</td>\n",
       "      <td>5</td>\n",
       "      <td>1997</td>\n",
       "    </tr>\n",
       "    <tr>\n",
       "      <th>1265734</th>\n",
       "      <td>Zykerria</td>\n",
       "      <td>F</td>\n",
       "      <td>5</td>\n",
       "      <td>1997</td>\n",
       "    </tr>\n",
       "  </tbody>\n",
       "</table>\n",
       "<p>79359 rows × 4 columns</p>\n",
       "</div>"
      ],
      "text/plain": [
       "             name gender  frequency  year\n",
       "1145105   Jessica      F      34990  1993\n",
       "1145106    Ashley      F      34850  1993\n",
       "1145107     Sarah      F      24254  1993\n",
       "1145108  Samantha      F      23669  1993\n",
       "1145109     Emily      F      23593  1993\n",
       "...           ...    ...        ...   ...\n",
       "1265730    Zorina      F          5  1997\n",
       "1265731    Zsofia      F          5  1997\n",
       "1265732  Zulmarie      F          5  1997\n",
       "1265733   Zuzanna      F          5  1997\n",
       "1265734  Zykerria      F          5  1997\n",
       "\n",
       "[79359 rows x 4 columns]"
      ]
     },
     "execution_count": 126,
     "metadata": {},
     "output_type": "execute_result"
    }
   ],
   "source": [
    "df_before_titanic_female = df_before_titanic.loc[boolean_mask_bt_female]\n",
    "df_before_titanic_female"
   ]
  },
  {
   "cell_type": "code",
   "execution_count": 127,
   "id": "66898a70",
   "metadata": {},
   "outputs": [
    {
     "data": {
      "text/plain": [
       "8846136"
      ]
     },
     "execution_count": 127,
     "metadata": {},
     "output_type": "execute_result"
    }
   ],
   "source": [
    "# how many females were born 1993 - 1997\n",
    "females_born_bt = df_before_titanic_female['frequency'].sum()\n",
    "females_born_bt"
   ]
  },
  {
   "cell_type": "code",
   "execution_count": 128,
   "id": "c459f64a",
   "metadata": {},
   "outputs": [],
   "source": [
    "boolean_mask_bt_rose = df_before_titanic_female['name'] == 'Rose'"
   ]
  },
  {
   "cell_type": "code",
   "execution_count": 129,
   "id": "31407c6a",
   "metadata": {},
   "outputs": [
    {
     "data": {
      "text/html": [
       "<div>\n",
       "<style scoped>\n",
       "    .dataframe tbody tr th:only-of-type {\n",
       "        vertical-align: middle;\n",
       "    }\n",
       "\n",
       "    .dataframe tbody tr th {\n",
       "        vertical-align: top;\n",
       "    }\n",
       "\n",
       "    .dataframe thead th {\n",
       "        text-align: right;\n",
       "    }\n",
       "</style>\n",
       "<table border=\"1\" class=\"dataframe\">\n",
       "  <thead>\n",
       "    <tr style=\"text-align: right;\">\n",
       "      <th></th>\n",
       "      <th>name</th>\n",
       "      <th>gender</th>\n",
       "      <th>frequency</th>\n",
       "      <th>year</th>\n",
       "    </tr>\n",
       "  </thead>\n",
       "  <tbody>\n",
       "    <tr>\n",
       "      <th>1145448</th>\n",
       "      <td>Rose</td>\n",
       "      <td>F</td>\n",
       "      <td>744</td>\n",
       "      <td>1993</td>\n",
       "    </tr>\n",
       "    <tr>\n",
       "      <th>1171410</th>\n",
       "      <td>Rose</td>\n",
       "      <td>F</td>\n",
       "      <td>791</td>\n",
       "      <td>1994</td>\n",
       "    </tr>\n",
       "    <tr>\n",
       "      <th>1197406</th>\n",
       "      <td>Rose</td>\n",
       "      <td>F</td>\n",
       "      <td>787</td>\n",
       "      <td>1995</td>\n",
       "    </tr>\n",
       "    <tr>\n",
       "      <th>1223527</th>\n",
       "      <td>Rose</td>\n",
       "      <td>F</td>\n",
       "      <td>703</td>\n",
       "      <td>1996</td>\n",
       "    </tr>\n",
       "    <tr>\n",
       "      <th>1249965</th>\n",
       "      <td>Rose</td>\n",
       "      <td>F</td>\n",
       "      <td>666</td>\n",
       "      <td>1997</td>\n",
       "    </tr>\n",
       "  </tbody>\n",
       "</table>\n",
       "</div>"
      ],
      "text/plain": [
       "         name gender  frequency  year\n",
       "1145448  Rose      F        744  1993\n",
       "1171410  Rose      F        791  1994\n",
       "1197406  Rose      F        787  1995\n",
       "1223527  Rose      F        703  1996\n",
       "1249965  Rose      F        666  1997"
      ]
     },
     "execution_count": 129,
     "metadata": {},
     "output_type": "execute_result"
    }
   ],
   "source": [
    "df_before_titanic_rose = df_before_titanic_female.loc[boolean_mask_bt_rose]\n",
    "df_before_titanic_rose"
   ]
  },
  {
   "cell_type": "code",
   "execution_count": 130,
   "id": "c87ef77b",
   "metadata": {},
   "outputs": [
    {
     "data": {
      "text/plain": [
       "3691"
      ]
     },
     "execution_count": 130,
     "metadata": {},
     "output_type": "execute_result"
    }
   ],
   "source": [
    "# rose sum before titanic \n",
    "df_before_titanic_rose['frequency'].sum()"
   ]
  },
  {
   "cell_type": "code",
   "execution_count": 131,
   "id": "8b0e489c",
   "metadata": {},
   "outputs": [],
   "source": [
    "# calculate percentage "
   ]
  },
  {
   "cell_type": "markdown",
   "id": "2f2f3c4b",
   "metadata": {},
   "source": [
    "## Data After Titanic"
   ]
  },
  {
   "cell_type": "code",
   "execution_count": 132,
   "id": "46fd79d1",
   "metadata": {},
   "outputs": [],
   "source": [
    "# boolean mask to filter the years after Titanic - all names\n",
    "boolean_mask_at = df['year'].isin(range(1998, 2003))"
   ]
  },
  {
   "cell_type": "code",
   "execution_count": 133,
   "id": "79657e99",
   "metadata": {},
   "outputs": [
    {
     "data": {
      "text/html": [
       "<div>\n",
       "<style scoped>\n",
       "    .dataframe tbody tr th:only-of-type {\n",
       "        vertical-align: middle;\n",
       "    }\n",
       "\n",
       "    .dataframe tbody tr th {\n",
       "        vertical-align: top;\n",
       "    }\n",
       "\n",
       "    .dataframe thead th {\n",
       "        text-align: right;\n",
       "    }\n",
       "</style>\n",
       "<table border=\"1\" class=\"dataframe\">\n",
       "  <thead>\n",
       "    <tr style=\"text-align: right;\">\n",
       "      <th></th>\n",
       "      <th>name</th>\n",
       "      <th>gender</th>\n",
       "      <th>frequency</th>\n",
       "      <th>year</th>\n",
       "    </tr>\n",
       "  </thead>\n",
       "  <tbody>\n",
       "    <tr>\n",
       "      <th>1276546</th>\n",
       "      <td>Emily</td>\n",
       "      <td>F</td>\n",
       "      <td>26185</td>\n",
       "      <td>1998</td>\n",
       "    </tr>\n",
       "    <tr>\n",
       "      <th>1276547</th>\n",
       "      <td>Hannah</td>\n",
       "      <td>F</td>\n",
       "      <td>21375</td>\n",
       "      <td>1998</td>\n",
       "    </tr>\n",
       "    <tr>\n",
       "      <th>1276548</th>\n",
       "      <td>Samantha</td>\n",
       "      <td>F</td>\n",
       "      <td>20194</td>\n",
       "      <td>1998</td>\n",
       "    </tr>\n",
       "    <tr>\n",
       "      <th>1276549</th>\n",
       "      <td>Sarah</td>\n",
       "      <td>F</td>\n",
       "      <td>19892</td>\n",
       "      <td>1998</td>\n",
       "    </tr>\n",
       "    <tr>\n",
       "      <th>1276550</th>\n",
       "      <td>Ashley</td>\n",
       "      <td>F</td>\n",
       "      <td>19874</td>\n",
       "      <td>1998</td>\n",
       "    </tr>\n",
       "    <tr>\n",
       "      <th>...</th>\n",
       "      <td>...</td>\n",
       "      <td>...</td>\n",
       "      <td>...</td>\n",
       "      <td>...</td>\n",
       "    </tr>\n",
       "    <tr>\n",
       "      <th>1423628</th>\n",
       "      <td>Zimri</td>\n",
       "      <td>M</td>\n",
       "      <td>5</td>\n",
       "      <td>2002</td>\n",
       "    </tr>\n",
       "    <tr>\n",
       "      <th>1423629</th>\n",
       "      <td>Zoran</td>\n",
       "      <td>M</td>\n",
       "      <td>5</td>\n",
       "      <td>2002</td>\n",
       "    </tr>\n",
       "    <tr>\n",
       "      <th>1423630</th>\n",
       "      <td>Zyen</td>\n",
       "      <td>M</td>\n",
       "      <td>5</td>\n",
       "      <td>2002</td>\n",
       "    </tr>\n",
       "    <tr>\n",
       "      <th>1423631</th>\n",
       "      <td>Zylan</td>\n",
       "      <td>M</td>\n",
       "      <td>5</td>\n",
       "      <td>2002</td>\n",
       "    </tr>\n",
       "    <tr>\n",
       "      <th>1423632</th>\n",
       "      <td>Zyonn</td>\n",
       "      <td>M</td>\n",
       "      <td>5</td>\n",
       "      <td>2002</td>\n",
       "    </tr>\n",
       "  </tbody>\n",
       "</table>\n",
       "<p>147087 rows × 4 columns</p>\n",
       "</div>"
      ],
      "text/plain": [
       "             name gender  frequency  year\n",
       "1276546     Emily      F      26185  1998\n",
       "1276547    Hannah      F      21375  1998\n",
       "1276548  Samantha      F      20194  1998\n",
       "1276549     Sarah      F      19892  1998\n",
       "1276550    Ashley      F      19874  1998\n",
       "...           ...    ...        ...   ...\n",
       "1423628     Zimri      M          5  2002\n",
       "1423629     Zoran      M          5  2002\n",
       "1423630      Zyen      M          5  2002\n",
       "1423631     Zylan      M          5  2002\n",
       "1423632     Zyonn      M          5  2002\n",
       "\n",
       "[147087 rows x 4 columns]"
      ]
     },
     "execution_count": 133,
     "metadata": {},
     "output_type": "execute_result"
    }
   ],
   "source": [
    "df_after_titanic = df.loc[boolean_mask_at]\n",
    "df_after_titanic "
   ]
  },
  {
   "cell_type": "markdown",
   "id": "6180f25d",
   "metadata": {},
   "source": [
    "### after titanic males only"
   ]
  },
  {
   "cell_type": "code",
   "execution_count": 134,
   "id": "7e48799a",
   "metadata": {},
   "outputs": [],
   "source": [
    "# boolean mask only males\n",
    "boolean_mask_at_male = df_after_titanic['gender'] == 'M'"
   ]
  },
  {
   "cell_type": "code",
   "execution_count": 135,
   "id": "ec0b66a1",
   "metadata": {},
   "outputs": [
    {
     "data": {
      "text/html": [
       "<div>\n",
       "<style scoped>\n",
       "    .dataframe tbody tr th:only-of-type {\n",
       "        vertical-align: middle;\n",
       "    }\n",
       "\n",
       "    .dataframe tbody tr th {\n",
       "        vertical-align: top;\n",
       "    }\n",
       "\n",
       "    .dataframe thead th {\n",
       "        text-align: right;\n",
       "    }\n",
       "</style>\n",
       "<table border=\"1\" class=\"dataframe\">\n",
       "  <thead>\n",
       "    <tr style=\"text-align: right;\">\n",
       "      <th></th>\n",
       "      <th>name</th>\n",
       "      <th>gender</th>\n",
       "      <th>frequency</th>\n",
       "      <th>year</th>\n",
       "    </tr>\n",
       "  </thead>\n",
       "  <tbody>\n",
       "    <tr>\n",
       "      <th>1293145</th>\n",
       "      <td>Michael</td>\n",
       "      <td>M</td>\n",
       "      <td>36617</td>\n",
       "      <td>1998</td>\n",
       "    </tr>\n",
       "    <tr>\n",
       "      <th>1293146</th>\n",
       "      <td>Jacob</td>\n",
       "      <td>M</td>\n",
       "      <td>36024</td>\n",
       "      <td>1998</td>\n",
       "    </tr>\n",
       "    <tr>\n",
       "      <th>1293147</th>\n",
       "      <td>Matthew</td>\n",
       "      <td>M</td>\n",
       "      <td>31143</td>\n",
       "      <td>1998</td>\n",
       "    </tr>\n",
       "    <tr>\n",
       "      <th>1293148</th>\n",
       "      <td>Joshua</td>\n",
       "      <td>M</td>\n",
       "      <td>28091</td>\n",
       "      <td>1998</td>\n",
       "    </tr>\n",
       "    <tr>\n",
       "      <th>1293149</th>\n",
       "      <td>Christopher</td>\n",
       "      <td>M</td>\n",
       "      <td>27003</td>\n",
       "      <td>1998</td>\n",
       "    </tr>\n",
       "    <tr>\n",
       "      <th>...</th>\n",
       "      <td>...</td>\n",
       "      <td>...</td>\n",
       "      <td>...</td>\n",
       "      <td>...</td>\n",
       "    </tr>\n",
       "    <tr>\n",
       "      <th>1423628</th>\n",
       "      <td>Zimri</td>\n",
       "      <td>M</td>\n",
       "      <td>5</td>\n",
       "      <td>2002</td>\n",
       "    </tr>\n",
       "    <tr>\n",
       "      <th>1423629</th>\n",
       "      <td>Zoran</td>\n",
       "      <td>M</td>\n",
       "      <td>5</td>\n",
       "      <td>2002</td>\n",
       "    </tr>\n",
       "    <tr>\n",
       "      <th>1423630</th>\n",
       "      <td>Zyen</td>\n",
       "      <td>M</td>\n",
       "      <td>5</td>\n",
       "      <td>2002</td>\n",
       "    </tr>\n",
       "    <tr>\n",
       "      <th>1423631</th>\n",
       "      <td>Zylan</td>\n",
       "      <td>M</td>\n",
       "      <td>5</td>\n",
       "      <td>2002</td>\n",
       "    </tr>\n",
       "    <tr>\n",
       "      <th>1423632</th>\n",
       "      <td>Zyonn</td>\n",
       "      <td>M</td>\n",
       "      <td>5</td>\n",
       "      <td>2002</td>\n",
       "    </tr>\n",
       "  </tbody>\n",
       "</table>\n",
       "<p>59827 rows × 4 columns</p>\n",
       "</div>"
      ],
      "text/plain": [
       "                name gender  frequency  year\n",
       "1293145      Michael      M      36617  1998\n",
       "1293146        Jacob      M      36024  1998\n",
       "1293147      Matthew      M      31143  1998\n",
       "1293148       Joshua      M      28091  1998\n",
       "1293149  Christopher      M      27003  1998\n",
       "...              ...    ...        ...   ...\n",
       "1423628        Zimri      M          5  2002\n",
       "1423629        Zoran      M          5  2002\n",
       "1423630         Zyen      M          5  2002\n",
       "1423631        Zylan      M          5  2002\n",
       "1423632        Zyonn      M          5  2002\n",
       "\n",
       "[59827 rows x 4 columns]"
      ]
     },
     "execution_count": 135,
     "metadata": {},
     "output_type": "execute_result"
    }
   ],
   "source": [
    "# males after titanic - all names\n",
    "df_after_titanic_male = df_after_titanic.loc[boolean_mask_at_male]\n",
    "df_after_titanic_male"
   ]
  },
  {
   "cell_type": "code",
   "execution_count": 136,
   "id": "2834b3db",
   "metadata": {},
   "outputs": [
    {
     "data": {
      "text/plain": [
       "9678231"
      ]
     },
     "execution_count": 136,
     "metadata": {},
     "output_type": "execute_result"
    }
   ],
   "source": [
    "# sum of males born after titanic\n",
    "df_after_titanic_male['frequency'].sum()"
   ]
  },
  {
   "cell_type": "code",
   "execution_count": 137,
   "id": "452ea107",
   "metadata": {},
   "outputs": [
    {
     "data": {
      "text/html": [
       "<div>\n",
       "<style scoped>\n",
       "    .dataframe tbody tr th:only-of-type {\n",
       "        vertical-align: middle;\n",
       "    }\n",
       "\n",
       "    .dataframe tbody tr th {\n",
       "        vertical-align: top;\n",
       "    }\n",
       "\n",
       "    .dataframe thead th {\n",
       "        text-align: right;\n",
       "    }\n",
       "</style>\n",
       "<table border=\"1\" class=\"dataframe\">\n",
       "  <thead>\n",
       "    <tr style=\"text-align: right;\">\n",
       "      <th></th>\n",
       "      <th>name</th>\n",
       "      <th>gender</th>\n",
       "      <th>frequency</th>\n",
       "      <th>year</th>\n",
       "    </tr>\n",
       "  </thead>\n",
       "  <tbody>\n",
       "    <tr>\n",
       "      <th>1293205</th>\n",
       "      <td>Jack</td>\n",
       "      <td>M</td>\n",
       "      <td>6374</td>\n",
       "      <td>1998</td>\n",
       "    </tr>\n",
       "    <tr>\n",
       "      <th>1321448</th>\n",
       "      <td>Jack</td>\n",
       "      <td>M</td>\n",
       "      <td>7384</td>\n",
       "      <td>1999</td>\n",
       "    </tr>\n",
       "    <tr>\n",
       "      <th>1350711</th>\n",
       "      <td>Jack</td>\n",
       "      <td>M</td>\n",
       "      <td>8122</td>\n",
       "      <td>2000</td>\n",
       "    </tr>\n",
       "    <tr>\n",
       "      <th>1380807</th>\n",
       "      <td>Jack</td>\n",
       "      <td>M</td>\n",
       "      <td>8148</td>\n",
       "      <td>2001</td>\n",
       "    </tr>\n",
       "    <tr>\n",
       "      <th>1411191</th>\n",
       "      <td>Jack</td>\n",
       "      <td>M</td>\n",
       "      <td>8998</td>\n",
       "      <td>2002</td>\n",
       "    </tr>\n",
       "  </tbody>\n",
       "</table>\n",
       "</div>"
      ],
      "text/plain": [
       "         name gender  frequency  year\n",
       "1293205  Jack      M       6374  1998\n",
       "1321448  Jack      M       7384  1999\n",
       "1350711  Jack      M       8122  2000\n",
       "1380807  Jack      M       8148  2001\n",
       "1411191  Jack      M       8998  2002"
      ]
     },
     "execution_count": 137,
     "metadata": {},
     "output_type": "execute_result"
    }
   ],
   "source": [
    "# jacks born after\n",
    "boolean_mask_at_jack = df_after_titanic_male['name'] == 'Jack'\n",
    "df_after_titanic_jack = df_after_titanic_male.loc[boolean_mask_at_jack]\n",
    "df_after_titanic_jack"
   ]
  },
  {
   "cell_type": "code",
   "execution_count": 138,
   "id": "39c051d2",
   "metadata": {},
   "outputs": [
    {
     "data": {
      "text/plain": [
       "39026"
      ]
     },
     "execution_count": 138,
     "metadata": {},
     "output_type": "execute_result"
    }
   ],
   "source": [
    "# how many jacks \n",
    "df_after_titanic_jack['frequency'].sum()"
   ]
  },
  {
   "cell_type": "code",
   "execution_count": 139,
   "id": "3c309ea5",
   "metadata": {},
   "outputs": [],
   "source": [
    "# 17875 vs 39026 "
   ]
  },
  {
   "cell_type": "markdown",
   "id": "a947dd4b",
   "metadata": {},
   "source": [
    "### after titanic females only"
   ]
  },
  {
   "cell_type": "code",
   "execution_count": 140,
   "id": "51917994",
   "metadata": {},
   "outputs": [],
   "source": [
    "boolean_mask_at_female = df_after_titanic['gender'] == 'F'"
   ]
  },
  {
   "cell_type": "code",
   "execution_count": 141,
   "id": "e30f209c",
   "metadata": {},
   "outputs": [
    {
     "data": {
      "text/html": [
       "<div>\n",
       "<style scoped>\n",
       "    .dataframe tbody tr th:only-of-type {\n",
       "        vertical-align: middle;\n",
       "    }\n",
       "\n",
       "    .dataframe tbody tr th {\n",
       "        vertical-align: top;\n",
       "    }\n",
       "\n",
       "    .dataframe thead th {\n",
       "        text-align: right;\n",
       "    }\n",
       "</style>\n",
       "<table border=\"1\" class=\"dataframe\">\n",
       "  <thead>\n",
       "    <tr style=\"text-align: right;\">\n",
       "      <th></th>\n",
       "      <th>name</th>\n",
       "      <th>gender</th>\n",
       "      <th>frequency</th>\n",
       "      <th>year</th>\n",
       "    </tr>\n",
       "  </thead>\n",
       "  <tbody>\n",
       "    <tr>\n",
       "      <th>1276546</th>\n",
       "      <td>Emily</td>\n",
       "      <td>F</td>\n",
       "      <td>26185</td>\n",
       "      <td>1998</td>\n",
       "    </tr>\n",
       "    <tr>\n",
       "      <th>1276547</th>\n",
       "      <td>Hannah</td>\n",
       "      <td>F</td>\n",
       "      <td>21375</td>\n",
       "      <td>1998</td>\n",
       "    </tr>\n",
       "    <tr>\n",
       "      <th>1276548</th>\n",
       "      <td>Samantha</td>\n",
       "      <td>F</td>\n",
       "      <td>20194</td>\n",
       "      <td>1998</td>\n",
       "    </tr>\n",
       "    <tr>\n",
       "      <th>1276549</th>\n",
       "      <td>Sarah</td>\n",
       "      <td>F</td>\n",
       "      <td>19892</td>\n",
       "      <td>1998</td>\n",
       "    </tr>\n",
       "    <tr>\n",
       "      <th>1276550</th>\n",
       "      <td>Ashley</td>\n",
       "      <td>F</td>\n",
       "      <td>19874</td>\n",
       "      <td>1998</td>\n",
       "    </tr>\n",
       "    <tr>\n",
       "      <th>...</th>\n",
       "      <td>...</td>\n",
       "      <td>...</td>\n",
       "      <td>...</td>\n",
       "      <td>...</td>\n",
       "    </tr>\n",
       "    <tr>\n",
       "      <th>1411143</th>\n",
       "      <td>Zulay</td>\n",
       "      <td>F</td>\n",
       "      <td>5</td>\n",
       "      <td>2002</td>\n",
       "    </tr>\n",
       "    <tr>\n",
       "      <th>1411144</th>\n",
       "      <td>Zuleica</td>\n",
       "      <td>F</td>\n",
       "      <td>5</td>\n",
       "      <td>2002</td>\n",
       "    </tr>\n",
       "    <tr>\n",
       "      <th>1411145</th>\n",
       "      <td>Zyara</td>\n",
       "      <td>F</td>\n",
       "      <td>5</td>\n",
       "      <td>2002</td>\n",
       "    </tr>\n",
       "    <tr>\n",
       "      <th>1411146</th>\n",
       "      <td>Zylah</td>\n",
       "      <td>F</td>\n",
       "      <td>5</td>\n",
       "      <td>2002</td>\n",
       "    </tr>\n",
       "    <tr>\n",
       "      <th>1411147</th>\n",
       "      <td>Zyrah</td>\n",
       "      <td>F</td>\n",
       "      <td>5</td>\n",
       "      <td>2002</td>\n",
       "    </tr>\n",
       "  </tbody>\n",
       "</table>\n",
       "<p>87260 rows × 4 columns</p>\n",
       "</div>"
      ],
      "text/plain": [
       "             name gender  frequency  year\n",
       "1276546     Emily      F      26185  1998\n",
       "1276547    Hannah      F      21375  1998\n",
       "1276548  Samantha      F      20194  1998\n",
       "1276549     Sarah      F      19892  1998\n",
       "1276550    Ashley      F      19874  1998\n",
       "...           ...    ...        ...   ...\n",
       "1411143     Zulay      F          5  2002\n",
       "1411144   Zuleica      F          5  2002\n",
       "1411145     Zyara      F          5  2002\n",
       "1411146     Zylah      F          5  2002\n",
       "1411147     Zyrah      F          5  2002\n",
       "\n",
       "[87260 rows x 4 columns]"
      ]
     },
     "execution_count": 141,
     "metadata": {},
     "output_type": "execute_result"
    }
   ],
   "source": [
    "df_after_titanic_female = df_after_titanic.loc[boolean_mask_at_female]\n",
    "df_after_titanic_female"
   ]
  },
  {
   "cell_type": "code",
   "execution_count": 142,
   "id": "f7ef725a",
   "metadata": {},
   "outputs": [
    {
     "data": {
      "text/plain": [
       "8952687"
      ]
     },
     "execution_count": 142,
     "metadata": {},
     "output_type": "execute_result"
    }
   ],
   "source": [
    "# sum of females \n",
    "df_after_titanic_female['frequency'].sum()"
   ]
  },
  {
   "cell_type": "code",
   "execution_count": 160,
   "id": "1a3e88c1",
   "metadata": {},
   "outputs": [
    {
     "data": {
      "text/html": [
       "<div>\n",
       "<style scoped>\n",
       "    .dataframe tbody tr th:only-of-type {\n",
       "        vertical-align: middle;\n",
       "    }\n",
       "\n",
       "    .dataframe tbody tr th {\n",
       "        vertical-align: top;\n",
       "    }\n",
       "\n",
       "    .dataframe thead th {\n",
       "        text-align: right;\n",
       "    }\n",
       "</style>\n",
       "<table border=\"1\" class=\"dataframe\">\n",
       "  <thead>\n",
       "    <tr style=\"text-align: right;\">\n",
       "      <th></th>\n",
       "      <th>name</th>\n",
       "      <th>gender</th>\n",
       "      <th>frequency</th>\n",
       "      <th>year</th>\n",
       "    </tr>\n",
       "  </thead>\n",
       "  <tbody>\n",
       "    <tr>\n",
       "      <th>1276842</th>\n",
       "      <td>Rose</td>\n",
       "      <td>F</td>\n",
       "      <td>1019</td>\n",
       "      <td>1998</td>\n",
       "    </tr>\n",
       "    <tr>\n",
       "      <th>1304730</th>\n",
       "      <td>Rose</td>\n",
       "      <td>F</td>\n",
       "      <td>1132</td>\n",
       "      <td>1999</td>\n",
       "    </tr>\n",
       "    <tr>\n",
       "      <th>1333306</th>\n",
       "      <td>Rose</td>\n",
       "      <td>F</td>\n",
       "      <td>1080</td>\n",
       "      <td>2000</td>\n",
       "    </tr>\n",
       "    <tr>\n",
       "      <th>1363091</th>\n",
       "      <td>Rose</td>\n",
       "      <td>F</td>\n",
       "      <td>1029</td>\n",
       "      <td>2001</td>\n",
       "    </tr>\n",
       "    <tr>\n",
       "      <th>1393393</th>\n",
       "      <td>Rose</td>\n",
       "      <td>F</td>\n",
       "      <td>922</td>\n",
       "      <td>2002</td>\n",
       "    </tr>\n",
       "  </tbody>\n",
       "</table>\n",
       "</div>"
      ],
      "text/plain": [
       "         name gender  frequency  year\n",
       "1276842  Rose      F       1019  1998\n",
       "1304730  Rose      F       1132  1999\n",
       "1333306  Rose      F       1080  2000\n",
       "1363091  Rose      F       1029  2001\n",
       "1393393  Rose      F        922  2002"
      ]
     },
     "execution_count": 160,
     "metadata": {},
     "output_type": "execute_result"
    }
   ],
   "source": [
    "# how many rose\n",
    "boolean_mask_at_rose = df_after_titanic_female['name'] == 'Rose'\n",
    "\n",
    "df_after_titanic_rose = df_after_titanic_female.loc[boolean_mask_at_rose]\n",
    "df_after_titanic_rose"
   ]
  },
  {
   "cell_type": "code",
   "execution_count": 144,
   "id": "b946c0a4",
   "metadata": {},
   "outputs": [
    {
     "data": {
      "text/plain": [
       "5182"
      ]
     },
     "execution_count": 144,
     "metadata": {},
     "output_type": "execute_result"
    }
   ],
   "source": [
    "# total of Rose for 5 years \n",
    "df_after_titanic_rose['frequency'].sum()"
   ]
  },
  {
   "cell_type": "code",
   "execution_count": 145,
   "id": "a634ed0a",
   "metadata": {},
   "outputs": [],
   "source": [
    "# 3691 vs 5182"
   ]
  },
  {
   "cell_type": "code",
   "execution_count": 146,
   "id": "ab44584a",
   "metadata": {},
   "outputs": [
    {
     "name": "stderr",
     "output_type": "stream",
     "text": [
      "/var/folders/33/6_3s22415y18bgznpc1317_40000gp/T/ipykernel_1007/232616966.py:2: SettingWithCopyWarning: \n",
      "A value is trying to be set on a copy of a slice from a DataFrame.\n",
      "Try using .loc[row_indexer,col_indexer] = value instead\n",
      "\n",
      "See the caveats in the documentation: https://pandas.pydata.org/pandas-docs/stable/user_guide/indexing.html#returning-a-view-versus-a-copy\n",
      "  df_after_titanic_rose['growth'] = df_after_titanic_rose['frequency'].pct_change()\n"
     ]
    },
    {
     "data": {
      "text/html": [
       "<div>\n",
       "<style scoped>\n",
       "    .dataframe tbody tr th:only-of-type {\n",
       "        vertical-align: middle;\n",
       "    }\n",
       "\n",
       "    .dataframe tbody tr th {\n",
       "        vertical-align: top;\n",
       "    }\n",
       "\n",
       "    .dataframe thead th {\n",
       "        text-align: right;\n",
       "    }\n",
       "</style>\n",
       "<table border=\"1\" class=\"dataframe\">\n",
       "  <thead>\n",
       "    <tr style=\"text-align: right;\">\n",
       "      <th></th>\n",
       "      <th>name</th>\n",
       "      <th>gender</th>\n",
       "      <th>frequency</th>\n",
       "      <th>year</th>\n",
       "      <th>growth</th>\n",
       "    </tr>\n",
       "  </thead>\n",
       "  <tbody>\n",
       "    <tr>\n",
       "      <th>1276842</th>\n",
       "      <td>Rose</td>\n",
       "      <td>F</td>\n",
       "      <td>1019</td>\n",
       "      <td>1998</td>\n",
       "      <td>NaN</td>\n",
       "    </tr>\n",
       "    <tr>\n",
       "      <th>1304730</th>\n",
       "      <td>Rose</td>\n",
       "      <td>F</td>\n",
       "      <td>1132</td>\n",
       "      <td>1999</td>\n",
       "      <td>0.110893</td>\n",
       "    </tr>\n",
       "    <tr>\n",
       "      <th>1333306</th>\n",
       "      <td>Rose</td>\n",
       "      <td>F</td>\n",
       "      <td>1080</td>\n",
       "      <td>2000</td>\n",
       "      <td>-0.045936</td>\n",
       "    </tr>\n",
       "    <tr>\n",
       "      <th>1363091</th>\n",
       "      <td>Rose</td>\n",
       "      <td>F</td>\n",
       "      <td>1029</td>\n",
       "      <td>2001</td>\n",
       "      <td>-0.047222</td>\n",
       "    </tr>\n",
       "    <tr>\n",
       "      <th>1393393</th>\n",
       "      <td>Rose</td>\n",
       "      <td>F</td>\n",
       "      <td>922</td>\n",
       "      <td>2002</td>\n",
       "      <td>-0.103984</td>\n",
       "    </tr>\n",
       "  </tbody>\n",
       "</table>\n",
       "</div>"
      ],
      "text/plain": [
       "         name gender  frequency  year    growth\n",
       "1276842  Rose      F       1019  1998       NaN\n",
       "1304730  Rose      F       1132  1999  0.110893\n",
       "1333306  Rose      F       1080  2000 -0.045936\n",
       "1363091  Rose      F       1029  2001 -0.047222\n",
       "1393393  Rose      F        922  2002 -0.103984"
      ]
     },
     "execution_count": 146,
     "metadata": {},
     "output_type": "execute_result"
    }
   ],
   "source": [
    "# growth rate for Rose in the last 5 years\n",
    "df_after_titanic_rose['growth'] = df_after_titanic_rose['frequency'].pct_change()\n",
    "df_after_titanic_rose"
   ]
  },
  {
   "cell_type": "code",
   "execution_count": 223,
   "id": "1cdec6ec",
   "metadata": {},
   "outputs": [
    {
     "name": "stderr",
     "output_type": "stream",
     "text": [
      "/var/folders/33/6_3s22415y18bgznpc1317_40000gp/T/ipykernel_1007/2771831635.py:1: SettingWithCopyWarning: \n",
      "A value is trying to be set on a copy of a slice from a DataFrame.\n",
      "Try using .loc[row_indexer,col_indexer] = value instead\n",
      "\n",
      "See the caveats in the documentation: https://pandas.pydata.org/pandas-docs/stable/user_guide/indexing.html#returning-a-view-versus-a-copy\n",
      "  df_after_titanic_rose['growth_2'] = df_after_titanic_rose.loc[:, 'frequency']\n"
     ]
    }
   ],
   "source": [
    "df_after_titanic_rose['growth_2'] = df_after_titanic_rose.loc[:, 'frequency']"
   ]
  },
  {
   "cell_type": "code",
   "execution_count": 73,
   "id": "0c62860b",
   "metadata": {},
   "outputs": [],
   "source": [
    "# create a list for all 10 year"
   ]
  },
  {
   "cell_type": "markdown",
   "id": "dc5439e1",
   "metadata": {},
   "source": [
    "## graphs Jack and Rose"
   ]
  },
  {
   "cell_type": "code",
   "execution_count": 41,
   "id": "d2bbdef1",
   "metadata": {},
   "outputs": [],
   "source": [
    "# Jacks and roses before vs jacks and roses after"
   ]
  },
  {
   "cell_type": "code",
   "execution_count": 38,
   "id": "af31c1b2",
   "metadata": {},
   "outputs": [],
   "source": [
    "import matplotlib.pyplot as plt"
   ]
  },
  {
   "cell_type": "code",
   "execution_count": 39,
   "id": "964bf0be",
   "metadata": {},
   "outputs": [],
   "source": [
    "plt.style.use('ggplot')"
   ]
  },
  {
   "cell_type": "code",
   "execution_count": 40,
   "id": "fac8490f",
   "metadata": {},
   "outputs": [
    {
     "data": {
      "text/plain": [
       "<Figure size 640x480 with 0 Axes>"
      ]
     },
     "execution_count": 40,
     "metadata": {},
     "output_type": "execute_result"
    },
    {
     "data": {
      "text/plain": [
       "<Figure size 640x480 with 0 Axes>"
      ]
     },
     "metadata": {},
     "output_type": "display_data"
    }
   ],
   "source": [
    "plt.figure(figsize=(6.4, 4.8))"
   ]
  },
  {
   "cell_type": "code",
   "execution_count": 226,
   "id": "04d8dcf3",
   "metadata": {},
   "outputs": [
    {
     "data": {
      "image/png": "[encoded data removed]",
      "text/plain": [
       "<Figure size 640x480 with 1 Axes>"
      ]
     },
     "metadata": {},
     "output_type": "display_data"
    }
   ],
   "source": [
    "# jack\n",
    "\n",
    "x_vals = ['Jack before Titanic', 'Jack after Titanic']\n",
    "y_vals = [17875, 39026]\n",
    "\n",
    "#set the graph \n",
    "plt.bar(x_vals, y_vals, color = 'lightskyblue', width = 0.2)\n",
    "\n",
    "plt.show()"
   ]
  },
  {
   "cell_type": "code",
   "execution_count": 49,
   "id": "b0179810",
   "metadata": {},
   "outputs": [
    {
     "data": {
      "image/png": "[encoded data removed]",
      "text/plain": [
       "<Figure size 640x480 with 1 Axes>"
      ]
     },
     "metadata": {},
     "output_type": "display_data"
    }
   ],
   "source": [
    "# rose\n",
    "x_vals = ['Rose before Titanic', 'Rose after Titanic']\n",
    "y_vals = [3691, 5182]\n",
    "\n",
    "#set the graph \n",
    "plt.bar(x_vals, y_vals, color = 'pink', width = 0.5)\n",
    "\n",
    "plt.show()\n"
   ]
  },
  {
   "cell_type": "code",
   "execution_count": 235,
   "id": "572ced89",
   "metadata": {},
   "outputs": [
    {
     "data": {
      "image/png": "[encoded data removed]",
      "text/plain": [
       "<Figure size 640x480 with 1 Axes>"
      ]
     },
     "metadata": {},
     "output_type": "display_data"
    }
   ],
   "source": [
    "# both together\n",
    "# rose\n",
    "x_vals = ['1993-1997', '1993-1997', '1998-2022', '1998-2022']\n",
    "y_vals = [17875,3691, 39026, 5182]\n",
    "\n",
    "#set the graph \n",
    "plt.bar(x_vals, y_vals, color = ['lightskyblue','pink', 'lightskyblue','pink'], label= ['Jack: 17875', 'Rose: 3691', 'Jack: 39026', 'Rose:5182'], width = 0.5)\n",
    "plt.title('Sum of names before and after Titanic')\n",
    "plt.legend()\n",
    "plt.savefig('jack_rose_before_after.png')"
   ]
  },
  {
   "cell_type": "markdown",
   "id": "e58731d4",
   "metadata": {},
   "source": [
    "## growth rate "
   ]
  },
  {
   "cell_type": "code",
   "execution_count": 64,
   "id": "8485c08e",
   "metadata": {},
   "outputs": [],
   "source": [
    "# growth rate considering the 5 years \n",
    "# if you have time later --> growth rate per each year "
   ]
  },
  {
   "cell_type": "code",
   "execution_count": null,
   "id": "fcca2eec",
   "metadata": {},
   "outputs": [],
   "source": []
  },
  {
   "cell_type": "markdown",
   "id": "688b8ec4",
   "metadata": {},
   "source": [
    "## Graph all 10 years "
   ]
  },
  {
   "cell_type": "code",
   "execution_count": 172,
   "id": "5ff1f2c7",
   "metadata": {},
   "outputs": [
    {
     "ename": "SyntaxError",
     "evalue": "invalid syntax (3237849034.py, line 1)",
     "output_type": "error",
     "traceback": [
      "\u001b[0;36m  Cell \u001b[0;32mIn[172], line 1\u001b[0;36m\u001b[0m\n\u001b[0;31m    df_before_titanic_jack_list = list[] list['frequency']\u001b[0m\n\u001b[0m                                       ^\u001b[0m\n\u001b[0;31mSyntaxError\u001b[0m\u001b[0;31m:\u001b[0m invalid syntax\n"
     ]
    }
   ],
   "source": [
    "df_before_titanic_jack_list = list[], list['frequency']"
   ]
  },
  {
   "cell_type": "code",
   "execution_count": 168,
   "id": "dc0bf409",
   "metadata": {},
   "outputs": [
    {
     "ename": "AttributeError",
     "evalue": "'Series' object has no attribute 'list'",
     "output_type": "error",
     "traceback": [
      "\u001b[0;31m---------------------------------------------------------------------------\u001b[0m",
      "\u001b[0;31mAttributeError\u001b[0m                            Traceback (most recent call last)",
      "Cell \u001b[0;32mIn[168], line 2\u001b[0m\n\u001b[1;32m      1\u001b[0m \u001b[38;5;66;03m# create list for Jack frequency before Titanic\u001b[39;00m\n\u001b[0;32m----> 2\u001b[0m \u001b[43mdf_before_titanic_jack\u001b[49m\u001b[43m[\u001b[49m\u001b[38;5;124;43m'\u001b[39;49m\u001b[38;5;124;43mfrequency\u001b[39;49m\u001b[38;5;124;43m'\u001b[39;49m\u001b[43m]\u001b[49m\u001b[38;5;241;43m.\u001b[39;49m\u001b[43mlist\u001b[49m()\n",
      "File \u001b[0;32m~/opt/miniconda3/lib/python3.9/site-packages/pandas/core/generic.py:5902\u001b[0m, in \u001b[0;36mNDFrame.__getattr__\u001b[0;34m(self, name)\u001b[0m\n\u001b[1;32m   5895\u001b[0m \u001b[38;5;28;01mif\u001b[39;00m (\n\u001b[1;32m   5896\u001b[0m     name \u001b[38;5;129;01mnot\u001b[39;00m \u001b[38;5;129;01min\u001b[39;00m \u001b[38;5;28mself\u001b[39m\u001b[38;5;241m.\u001b[39m_internal_names_set\n\u001b[1;32m   5897\u001b[0m     \u001b[38;5;129;01mand\u001b[39;00m name \u001b[38;5;129;01mnot\u001b[39;00m \u001b[38;5;129;01min\u001b[39;00m \u001b[38;5;28mself\u001b[39m\u001b[38;5;241m.\u001b[39m_metadata\n\u001b[1;32m   5898\u001b[0m     \u001b[38;5;129;01mand\u001b[39;00m name \u001b[38;5;129;01mnot\u001b[39;00m \u001b[38;5;129;01min\u001b[39;00m \u001b[38;5;28mself\u001b[39m\u001b[38;5;241m.\u001b[39m_accessors\n\u001b[1;32m   5899\u001b[0m     \u001b[38;5;129;01mand\u001b[39;00m \u001b[38;5;28mself\u001b[39m\u001b[38;5;241m.\u001b[39m_info_axis\u001b[38;5;241m.\u001b[39m_can_hold_identifiers_and_holds_name(name)\n\u001b[1;32m   5900\u001b[0m ):\n\u001b[1;32m   5901\u001b[0m     \u001b[38;5;28;01mreturn\u001b[39;00m \u001b[38;5;28mself\u001b[39m[name]\n\u001b[0;32m-> 5902\u001b[0m \u001b[38;5;28;01mreturn\u001b[39;00m \u001b[38;5;28;43mobject\u001b[39;49m\u001b[38;5;241;43m.\u001b[39;49m\u001b[38;5;21;43m__getattribute__\u001b[39;49m\u001b[43m(\u001b[49m\u001b[38;5;28;43mself\u001b[39;49m\u001b[43m,\u001b[49m\u001b[43m \u001b[49m\u001b[43mname\u001b[49m\u001b[43m)\u001b[49m\n",
      "\u001b[0;31mAttributeError\u001b[0m: 'Series' object has no attribute 'list'"
     ]
    }
   ],
   "source": [
    "# create list for Jack frequency before Titanic\n",
    "df_before_titanic_jack['frequency'].list()"
   ]
  },
  {
   "cell_type": "code",
   "execution_count": 177,
   "id": "136f0086",
   "metadata": {
    "scrolled": true
   },
   "outputs": [
    {
     "data": {
      "image/png": "[encoded data removed]",
      "text/plain": [
       "<Figure size 640x480 with 1 Axes>"
      ]
     },
     "metadata": {},
     "output_type": "display_data"
    }
   ],
   "source": [
    "# JACK \n",
    "x_vals = range(1993, 2003)\n",
    "y_vals = [2420, 2778 ,3448 ,4244 ,4985, 6374,7384, 8122,8148, 8998 ]\n",
    "\n",
    "#set the graph \n",
    "plt.bar(x_vals, y_vals, color = ['darkseagreen','darkseagreen','darkseagreen','darkseagreen','darkseagreen', 'skyblue', 'skyblue', 'skyblue', 'skyblue', 'skyblue'], width = 0.5)\n",
    "\n",
    "#plt.legend()\n",
    "plt.show()\n",
    "# plt.savefig('jack_rose_before_after.png')"
   ]
  },
  {
   "cell_type": "code",
   "execution_count": 180,
   "id": "8f1620cb",
   "metadata": {},
   "outputs": [
    {
     "data": {
      "image/png": "[encoded data removed]",
      "text/plain": [
       "<Figure size 640x480 with 1 Axes>"
      ]
     },
     "metadata": {},
     "output_type": "display_data"
    }
   ],
   "source": [
    "# JACK \n",
    "x_vals = range(1993, 2003)\n",
    "y_vals = {Jack : [2420, 2778 ,3448 ,4244 ,4985, 6374,7384, 8122,8148, 8998 ], Rose : []}\n",
    "\n",
    "#set the graph \n",
    "plt.plot(x_vals, y_vals)\n",
    "\n",
    "#plt.legend()\n",
    "plt.show()\n",
    "# plt.savefig('jack_rose_before_after.png')"
   ]
  },
  {
   "cell_type": "code",
   "execution_count": 182,
   "id": "4f2ad2d0",
   "metadata": {},
   "outputs": [],
   "source": [
    "import numpy as np"
   ]
  },
  {
   "cell_type": "markdown",
   "id": "bcdb209a",
   "metadata": {},
   "source": [
    "## frequency of Rose all 10 years "
   ]
  },
  {
   "cell_type": "code",
   "execution_count": 237,
   "id": "4179f19c",
   "metadata": {},
   "outputs": [
    {
     "data": {
      "text/html": [
       "<div>\n",
       "<style scoped>\n",
       "    .dataframe tbody tr th:only-of-type {\n",
       "        vertical-align: middle;\n",
       "    }\n",
       "\n",
       "    .dataframe tbody tr th {\n",
       "        vertical-align: top;\n",
       "    }\n",
       "\n",
       "    .dataframe thead th {\n",
       "        text-align: right;\n",
       "    }\n",
       "</style>\n",
       "<table border=\"1\" class=\"dataframe\">\n",
       "  <thead>\n",
       "    <tr style=\"text-align: right;\">\n",
       "      <th></th>\n",
       "      <th>frequency</th>\n",
       "    </tr>\n",
       "  </thead>\n",
       "  <tbody>\n",
       "    <tr>\n",
       "      <th>1145448</th>\n",
       "      <td>744</td>\n",
       "    </tr>\n",
       "    <tr>\n",
       "      <th>1171410</th>\n",
       "      <td>791</td>\n",
       "    </tr>\n",
       "    <tr>\n",
       "      <th>1197406</th>\n",
       "      <td>787</td>\n",
       "    </tr>\n",
       "    <tr>\n",
       "      <th>1223527</th>\n",
       "      <td>703</td>\n",
       "    </tr>\n",
       "    <tr>\n",
       "      <th>1249965</th>\n",
       "      <td>666</td>\n",
       "    </tr>\n",
       "  </tbody>\n",
       "</table>\n",
       "</div>"
      ],
      "text/plain": [
       "         frequency\n",
       "1145448        744\n",
       "1171410        791\n",
       "1197406        787\n",
       "1223527        703\n",
       "1249965        666"
      ]
     },
     "execution_count": 237,
     "metadata": {},
     "output_type": "execute_result"
    }
   ],
   "source": [
    "list_before_rose = df_before_titanic_rose[['frequency']]\n",
    "list_before_rose"
   ]
  },
  {
   "cell_type": "code",
   "execution_count": 238,
   "id": "308c4f08",
   "metadata": {},
   "outputs": [
    {
     "data": {
      "text/html": [
       "<div>\n",
       "<style scoped>\n",
       "    .dataframe tbody tr th:only-of-type {\n",
       "        vertical-align: middle;\n",
       "    }\n",
       "\n",
       "    .dataframe tbody tr th {\n",
       "        vertical-align: top;\n",
       "    }\n",
       "\n",
       "    .dataframe thead th {\n",
       "        text-align: right;\n",
       "    }\n",
       "</style>\n",
       "<table border=\"1\" class=\"dataframe\">\n",
       "  <thead>\n",
       "    <tr style=\"text-align: right;\">\n",
       "      <th></th>\n",
       "      <th>frequency</th>\n",
       "    </tr>\n",
       "  </thead>\n",
       "  <tbody>\n",
       "    <tr>\n",
       "      <th>1276842</th>\n",
       "      <td>1019</td>\n",
       "    </tr>\n",
       "    <tr>\n",
       "      <th>1304730</th>\n",
       "      <td>1132</td>\n",
       "    </tr>\n",
       "    <tr>\n",
       "      <th>1333306</th>\n",
       "      <td>1080</td>\n",
       "    </tr>\n",
       "    <tr>\n",
       "      <th>1363091</th>\n",
       "      <td>1029</td>\n",
       "    </tr>\n",
       "    <tr>\n",
       "      <th>1393393</th>\n",
       "      <td>922</td>\n",
       "    </tr>\n",
       "  </tbody>\n",
       "</table>\n",
       "</div>"
      ],
      "text/plain": [
       "         frequency\n",
       "1276842       1019\n",
       "1304730       1132\n",
       "1333306       1080\n",
       "1363091       1029\n",
       "1393393        922"
      ]
     },
     "execution_count": 238,
     "metadata": {},
     "output_type": "execute_result"
    }
   ],
   "source": [
    "list_after_rose = df_after_titanic_rose[['frequency']]\n",
    "list_after_rose"
   ]
  },
  {
   "cell_type": "code",
   "execution_count": 239,
   "id": "7b736eba",
   "metadata": {},
   "outputs": [
    {
     "data": {
      "text/html": [
       "<div>\n",
       "<style scoped>\n",
       "    .dataframe tbody tr th:only-of-type {\n",
       "        vertical-align: middle;\n",
       "    }\n",
       "\n",
       "    .dataframe tbody tr th {\n",
       "        vertical-align: top;\n",
       "    }\n",
       "\n",
       "    .dataframe thead th {\n",
       "        text-align: right;\n",
       "    }\n",
       "</style>\n",
       "<table border=\"1\" class=\"dataframe\">\n",
       "  <thead>\n",
       "    <tr style=\"text-align: right;\">\n",
       "      <th></th>\n",
       "      <th>frequency</th>\n",
       "    </tr>\n",
       "  </thead>\n",
       "  <tbody>\n",
       "    <tr>\n",
       "      <th>1145448</th>\n",
       "      <td>744</td>\n",
       "    </tr>\n",
       "    <tr>\n",
       "      <th>1171410</th>\n",
       "      <td>791</td>\n",
       "    </tr>\n",
       "    <tr>\n",
       "      <th>1197406</th>\n",
       "      <td>787</td>\n",
       "    </tr>\n",
       "    <tr>\n",
       "      <th>1223527</th>\n",
       "      <td>703</td>\n",
       "    </tr>\n",
       "    <tr>\n",
       "      <th>1249965</th>\n",
       "      <td>666</td>\n",
       "    </tr>\n",
       "    <tr>\n",
       "      <th>1276842</th>\n",
       "      <td>1019</td>\n",
       "    </tr>\n",
       "    <tr>\n",
       "      <th>1304730</th>\n",
       "      <td>1132</td>\n",
       "    </tr>\n",
       "    <tr>\n",
       "      <th>1333306</th>\n",
       "      <td>1080</td>\n",
       "    </tr>\n",
       "    <tr>\n",
       "      <th>1363091</th>\n",
       "      <td>1029</td>\n",
       "    </tr>\n",
       "    <tr>\n",
       "      <th>1393393</th>\n",
       "      <td>922</td>\n",
       "    </tr>\n",
       "  </tbody>\n",
       "</table>\n",
       "</div>"
      ],
      "text/plain": [
       "         frequency\n",
       "1145448        744\n",
       "1171410        791\n",
       "1197406        787\n",
       "1223527        703\n",
       "1249965        666\n",
       "1276842       1019\n",
       "1304730       1132\n",
       "1333306       1080\n",
       "1363091       1029\n",
       "1393393        922"
      ]
     },
     "execution_count": 239,
     "metadata": {},
     "output_type": "execute_result"
    }
   ],
   "source": [
    "# append rose before and after\n",
    "list_rose_all_years = pd.concat([list_before_rose, list_after_rose])\n",
    "list_rose_all_years"
   ]
  },
  {
   "cell_type": "code",
   "execution_count": 222,
   "id": "ecc5ed95",
   "metadata": {},
   "outputs": [
    {
     "data": {
      "image/png": "[encoded data removed]",
      "text/plain": [
       "<Figure size 640x480 with 1 Axes>"
      ]
     },
     "metadata": {},
     "output_type": "display_data"
    }
   ],
   "source": [
    "# ROSE \n",
    "x_vals = range(1993, 2003)\n",
    "y_vals = (list_rose_all_years)\n",
    "\n",
    "#set the graph \n",
    "plt.plot(x_vals, y_vals, linewidth = 2, marker = 'p', color = 'palevioletred')\n",
    "\n",
    "plt.xlabel('years')\n",
    "plt.ylabel('frequency')\n",
    "plt.title('Frequency of Rose 1993 - 2003')\n",
    "\n",
    "#plt.legend()\n",
    "plt.savefig('rose_growth.png')"
   ]
  },
  {
   "cell_type": "markdown",
   "id": "3f923761",
   "metadata": {},
   "source": [
    "## frequency of Jack all 10 years"
   ]
  },
  {
   "cell_type": "code",
   "execution_count": 205,
   "id": "b4d29c5f",
   "metadata": {},
   "outputs": [
    {
     "data": {
      "text/plain": [
       "1161046    2420\n",
       "1186952    2778\n",
       "1212932    3448\n",
       "1239130    4244\n",
       "1265810    4985\n",
       "Name: frequency, dtype: int64"
      ]
     },
     "execution_count": 205,
     "metadata": {},
     "output_type": "execute_result"
    }
   ],
   "source": [
    "# list before jack \n",
    "list_before_jack = df_before_titanic_jack['frequency']\n",
    "list_before_jack"
   ]
  },
  {
   "cell_type": "code",
   "execution_count": 206,
   "id": "a2f8ebf2",
   "metadata": {},
   "outputs": [
    {
     "data": {
      "text/plain": [
       "1293205    6374\n",
       "1321448    7384\n",
       "1350711    8122\n",
       "1380807    8148\n",
       "1411191    8998\n",
       "Name: frequency, dtype: int64"
      ]
     },
     "execution_count": 206,
     "metadata": {},
     "output_type": "execute_result"
    }
   ],
   "source": [
    "# list after jack \n",
    "list_after_jack = df_after_titanic_jack['frequency']\n",
    "list_after_jack"
   ]
  },
  {
   "cell_type": "code",
   "execution_count": 208,
   "id": "0eb69368",
   "metadata": {},
   "outputs": [
    {
     "data": {
      "text/plain": [
       "1161046    2420\n",
       "1186952    2778\n",
       "1212932    3448\n",
       "1239130    4244\n",
       "1265810    4985\n",
       "1293205    6374\n",
       "1321448    7384\n",
       "1350711    8122\n",
       "1380807    8148\n",
       "1411191    8998\n",
       "Name: frequency, dtype: int64"
      ]
     },
     "execution_count": 208,
     "metadata": {},
     "output_type": "execute_result"
    }
   ],
   "source": [
    "list_jack_all_years = pd.concat([list_before_jack, list_after_jack])\n",
    "list_jack_all_years"
   ]
  },
  {
   "cell_type": "code",
   "execution_count": 224,
   "id": "69284a8a",
   "metadata": {},
   "outputs": [
    {
     "data": {
      "image/png": "[encoded data removed]",
      "text/plain": [
       "<Figure size 640x480 with 1 Axes>"
      ]
     },
     "metadata": {},
     "output_type": "display_data"
    }
   ],
   "source": [
    "# graph Jack growth\n",
    "\n",
    "x_vals = range(1993, 2003)\n",
    "y_vals = (list_jack_all_years)\n",
    "\n",
    "#set the graph \n",
    "plt.plot(x_vals, y_vals, linewidth = 2, marker = 'p', color = 'skyblue')\n",
    "\n",
    "plt.xlabel('years')\n",
    "plt.ylabel('frequency')\n",
    "plt.title('Frequency of Jack 1993 - 2003')\n",
    "\n",
    "#plt.legend()\n",
    "plt.savefig('growth_jack.png')"
   ]
  },
  {
   "cell_type": "code",
   "execution_count": 225,
   "id": "da486a83",
   "metadata": {},
   "outputs": [
    {
     "data": {
      "image/png": "[encoded data removed]",
      "text/plain": [
       "<Figure size 640x480 with 1 Axes>"
      ]
     },
     "metadata": {},
     "output_type": "display_data"
    }
   ],
   "source": [
    "# combine the two graphs \n",
    "x_vals = range(1993, 2003)\n",
    "y_vals = (list_jack_all_years)\n",
    "y_vals_rose = (list_rose_all_years)\n",
    "\n",
    "#set the graph \n",
    "plt.plot(x_vals, y_vals, linewidth = 2, marker = 'p', color = 'skyblue', label = 'Jack')\n",
    "plt.plot(x_vals, y_vals_rose, linewidth = 2, marker = 'p', color = 'palevioletred', label = 'Rose')\n",
    "\n",
    "plt.xlabel('years')\n",
    "plt.ylabel('frequency')\n",
    "plt.title('Frequency of Jack and Rose 1993 - 2003')\n",
    "plt.legend()\n",
    "\n",
    "plt.savefig('growth_jack_and_rose.png')"
   ]
  },
  {
   "cell_type": "code",
   "execution_count": null,
   "id": "339cf228",
   "metadata": {},
   "outputs": [],
   "source": []
  }
 ],
 "metadata": {
  "kernelspec": {
   "display_name": "Python 3 (ipykernel)",
   "language": "python",
   "name": "python3"
  },
  "language_info": {
   "codemirror_mode": {
    "name": "ipython",
    "version": 3
   },
   "file_extension": ".py",
   "mimetype": "text/x-python",
   "name": "python",
   "nbconvert_exporter": "python",
   "pygments_lexer": "ipython3",
   "version": "3.9.12"
  }
 },
 "nbformat": 4,
 "nbformat_minor": 5
}
