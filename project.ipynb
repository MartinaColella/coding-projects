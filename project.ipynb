{
 "cells": [
  {
   "cell_type": "code",
   "execution_count": 1,
   "id": "7491a1fc",
   "metadata": {},
   "outputs": [],
   "source": [
    "import pandas as pd\n",
    "import matplotlib.pyplot as plt\n",
    "import seaborn as sns\n",
    "import plotly.express as px"
   ]
  },
  {
   "cell_type": "code",
   "execution_count": 2,
   "id": "e9ae0a9f",
   "metadata": {},
   "outputs": [
    {
     "data": {
      "text/html": [
       "<div>\n",
       "<style scoped>\n",
       "    .dataframe tbody tr th:only-of-type {\n",
       "        vertical-align: middle;\n",
       "    }\n",
       "\n",
       "    .dataframe tbody tr th {\n",
       "        vertical-align: top;\n",
       "    }\n",
       "\n",
       "    .dataframe thead th {\n",
       "        text-align: right;\n",
       "    }\n",
       "</style>\n",
       "<table border=\"1\" class=\"dataframe\">\n",
       "  <thead>\n",
       "    <tr style=\"text-align: right;\">\n",
       "      <th></th>\n",
       "      <th>name</th>\n",
       "      <th>zip</th>\n",
       "      <th>kpi</th>\n",
       "      <th>Month 1</th>\n",
       "      <th>Month 2</th>\n",
       "      <th>delivery service</th>\n",
       "    </tr>\n",
       "  </thead>\n",
       "  <tbody>\n",
       "    <tr>\n",
       "      <th>0</th>\n",
       "      <td>Mampf</td>\n",
       "      <td>8020</td>\n",
       "      <td># Commissionable Orders</td>\n",
       "      <td>699.0</td>\n",
       "      <td>822.00</td>\n",
       "      <td>deliverando</td>\n",
       "    </tr>\n",
       "    <tr>\n",
       "      <th>1</th>\n",
       "      <td>Mampf</td>\n",
       "      <td>8020</td>\n",
       "      <td>Avg Basket Size €</td>\n",
       "      <td>22.5</td>\n",
       "      <td>23.33</td>\n",
       "      <td>deliverando</td>\n",
       "    </tr>\n",
       "    <tr>\n",
       "      <th>2</th>\n",
       "      <td>Mampf</td>\n",
       "      <td>8020</td>\n",
       "      <td># Negative Comments</td>\n",
       "      <td>3.0</td>\n",
       "      <td>4.00</td>\n",
       "      <td>deliverando</td>\n",
       "    </tr>\n",
       "    <tr>\n",
       "      <th>3</th>\n",
       "      <td>Mampf</td>\n",
       "      <td>8020</td>\n",
       "      <td># Positive Comments</td>\n",
       "      <td>1.0</td>\n",
       "      <td>1.00</td>\n",
       "      <td>deliverando</td>\n",
       "    </tr>\n",
       "    <tr>\n",
       "      <th>4</th>\n",
       "      <td>Mampf</td>\n",
       "      <td>8020</td>\n",
       "      <td>% Kill Rate</td>\n",
       "      <td>52.0</td>\n",
       "      <td>46.00</td>\n",
       "      <td>deliverando</td>\n",
       "    </tr>\n",
       "  </tbody>\n",
       "</table>\n",
       "</div>"
      ],
      "text/plain": [
       "    name   zip                      kpi  Month 1  Month 2 delivery service\n",
       "0  Mampf  8020  # Commissionable Orders    699.0   822.00      deliverando\n",
       "1  Mampf  8020        Avg Basket Size €     22.5    23.33      deliverando\n",
       "2  Mampf  8020      # Negative Comments      3.0     4.00      deliverando\n",
       "3  Mampf  8020      # Positive Comments      1.0     1.00      deliverando\n",
       "4  Mampf  8020              % Kill Rate     52.0    46.00      deliverando"
      ]
     },
     "execution_count": 2,
     "metadata": {},
     "output_type": "execute_result"
    }
   ],
   "source": [
    "deliverando = pd.read_csv('./data/SalesAnalyst_deliverando.csv', delimiter = ';')\n",
    "deliverando.head()"
   ]
  },
  {
   "cell_type": "code",
   "execution_count": 3,
   "id": "0a40388c",
   "metadata": {},
   "outputs": [],
   "source": [
    "# change values of column kpi (without #)\n",
    "deliverando['kpi'] = deliverando['kpi'].str.replace('# Commissionable Orders', 'Commissionable Orders')\n",
    "deliverando['kpi'] = deliverando['kpi'].str.replace('# Negative Comments', 'Negative Comments')\n",
    "deliverando['kpi'] = deliverando['kpi'].str.replace('# Positive Comments', 'Positive Comments')"
   ]
  },
  {
   "cell_type": "code",
   "execution_count": 4,
   "id": "2ac8d7c0",
   "metadata": {},
   "outputs": [],
   "source": [
    "# change name columns\n",
    "deliverando = deliverando.rename(columns={'Month 1': 'month_1', 'Month 2': 'month_2', 'delivery service' : 'delivery_service'})"
   ]
  },
  {
   "cell_type": "code",
   "execution_count": 5,
   "id": "3fde2a70",
   "metadata": {},
   "outputs": [],
   "source": [
    "#make orders into integers\n",
    "deliverando['month_1'] = deliverando['month_1'].astype(int)\n",
    "deliverando['month_2'] = deliverando['month_2'].astype(int)"
   ]
  },
  {
   "cell_type": "code",
   "execution_count": 6,
   "id": "9ec081d7",
   "metadata": {},
   "outputs": [],
   "source": [
    "# keep only restaurants that have some orders -> to avoid NaN\n",
    "deliverando = deliverando[(deliverando['month_1'] > 0) & (deliverando['month_2'] > 0)]"
   ]
  },
  {
   "cell_type": "code",
   "execution_count": 7,
   "id": "21804c6a",
   "metadata": {},
   "outputs": [
    {
     "data": {
      "text/html": [
       "<div>\n",
       "<style scoped>\n",
       "    .dataframe tbody tr th:only-of-type {\n",
       "        vertical-align: middle;\n",
       "    }\n",
       "\n",
       "    .dataframe tbody tr th {\n",
       "        vertical-align: top;\n",
       "    }\n",
       "\n",
       "    .dataframe thead th {\n",
       "        text-align: right;\n",
       "    }\n",
       "</style>\n",
       "<table border=\"1\" class=\"dataframe\">\n",
       "  <thead>\n",
       "    <tr style=\"text-align: right;\">\n",
       "      <th></th>\n",
       "      <th>name</th>\n",
       "      <th>zip</th>\n",
       "      <th>kpi</th>\n",
       "      <th>month_1</th>\n",
       "      <th>month_2</th>\n",
       "      <th>delivery_service</th>\n",
       "      <th>growth_rate</th>\n",
       "    </tr>\n",
       "  </thead>\n",
       "  <tbody>\n",
       "    <tr>\n",
       "      <th>0</th>\n",
       "      <td>Mampf</td>\n",
       "      <td>8020</td>\n",
       "      <td>Commissionable Orders</td>\n",
       "      <td>699</td>\n",
       "      <td>822</td>\n",
       "      <td>deliverando</td>\n",
       "      <td>117.596567</td>\n",
       "    </tr>\n",
       "    <tr>\n",
       "      <th>1</th>\n",
       "      <td>Mampf</td>\n",
       "      <td>8020</td>\n",
       "      <td>Avg Basket Size €</td>\n",
       "      <td>22</td>\n",
       "      <td>23</td>\n",
       "      <td>deliverando</td>\n",
       "      <td>104.545455</td>\n",
       "    </tr>\n",
       "    <tr>\n",
       "      <th>2</th>\n",
       "      <td>Mampf</td>\n",
       "      <td>8020</td>\n",
       "      <td>Negative Comments</td>\n",
       "      <td>3</td>\n",
       "      <td>4</td>\n",
       "      <td>deliverando</td>\n",
       "      <td>133.333333</td>\n",
       "    </tr>\n",
       "    <tr>\n",
       "      <th>3</th>\n",
       "      <td>Mampf</td>\n",
       "      <td>8020</td>\n",
       "      <td>Positive Comments</td>\n",
       "      <td>1</td>\n",
       "      <td>1</td>\n",
       "      <td>deliverando</td>\n",
       "      <td>100.000000</td>\n",
       "    </tr>\n",
       "    <tr>\n",
       "      <th>4</th>\n",
       "      <td>Mampf</td>\n",
       "      <td>8020</td>\n",
       "      <td>% Kill Rate</td>\n",
       "      <td>52</td>\n",
       "      <td>46</td>\n",
       "      <td>deliverando</td>\n",
       "      <td>88.461538</td>\n",
       "    </tr>\n",
       "    <tr>\n",
       "      <th>...</th>\n",
       "      <td>...</td>\n",
       "      <td>...</td>\n",
       "      <td>...</td>\n",
       "      <td>...</td>\n",
       "      <td>...</td>\n",
       "      <td>...</td>\n",
       "      <td>...</td>\n",
       "    </tr>\n",
       "    <tr>\n",
       "      <th>1447</th>\n",
       "      <td>Landhaus Ruckerlberg</td>\n",
       "      <td>8010</td>\n",
       "      <td>Avg Time to Accept (s)</td>\n",
       "      <td>33</td>\n",
       "      <td>514</td>\n",
       "      <td>deliverando</td>\n",
       "      <td>1557.575758</td>\n",
       "    </tr>\n",
       "    <tr>\n",
       "      <th>1454</th>\n",
       "      <td>Stella Pizzeria &amp; Kebap House</td>\n",
       "      <td>8052</td>\n",
       "      <td>Commissionable Orders</td>\n",
       "      <td>7</td>\n",
       "      <td>76</td>\n",
       "      <td>deliverando</td>\n",
       "      <td>1085.714286</td>\n",
       "    </tr>\n",
       "    <tr>\n",
       "      <th>1455</th>\n",
       "      <td>Stella Pizzeria &amp; Kebap House</td>\n",
       "      <td>8052</td>\n",
       "      <td>Avg Basket Size €</td>\n",
       "      <td>16</td>\n",
       "      <td>19</td>\n",
       "      <td>deliverando</td>\n",
       "      <td>118.750000</td>\n",
       "    </tr>\n",
       "    <tr>\n",
       "      <th>1457</th>\n",
       "      <td>Stella Pizzeria &amp; Kebap House</td>\n",
       "      <td>8052</td>\n",
       "      <td>Positive Comments</td>\n",
       "      <td>1</td>\n",
       "      <td>1</td>\n",
       "      <td>deliverando</td>\n",
       "      <td>100.000000</td>\n",
       "    </tr>\n",
       "    <tr>\n",
       "      <th>1458</th>\n",
       "      <td>Stella Pizzeria &amp; Kebap House</td>\n",
       "      <td>8052</td>\n",
       "      <td>Avg Time to Accept (s)</td>\n",
       "      <td>20</td>\n",
       "      <td>20</td>\n",
       "      <td>deliverando</td>\n",
       "      <td>100.000000</td>\n",
       "    </tr>\n",
       "  </tbody>\n",
       "</table>\n",
       "<p>1080 rows × 7 columns</p>\n",
       "</div>"
      ],
      "text/plain": [
       "                               name   zip                     kpi  month_1  \\\n",
       "0                             Mampf  8020   Commissionable Orders      699   \n",
       "1                             Mampf  8020       Avg Basket Size €       22   \n",
       "2                             Mampf  8020       Negative Comments        3   \n",
       "3                             Mampf  8020       Positive Comments        1   \n",
       "4                             Mampf  8020             % Kill Rate       52   \n",
       "...                             ...   ...                     ...      ...   \n",
       "1447           Landhaus Ruckerlberg  8010  Avg Time to Accept (s)       33   \n",
       "1454  Stella Pizzeria & Kebap House  8052   Commissionable Orders        7   \n",
       "1455  Stella Pizzeria & Kebap House  8052       Avg Basket Size €       16   \n",
       "1457  Stella Pizzeria & Kebap House  8052       Positive Comments        1   \n",
       "1458  Stella Pizzeria & Kebap House  8052  Avg Time to Accept (s)       20   \n",
       "\n",
       "      month_2 delivery_service  growth_rate  \n",
       "0         822      deliverando   117.596567  \n",
       "1          23      deliverando   104.545455  \n",
       "2           4      deliverando   133.333333  \n",
       "3           1      deliverando   100.000000  \n",
       "4          46      deliverando    88.461538  \n",
       "...       ...              ...          ...  \n",
       "1447      514      deliverando  1557.575758  \n",
       "1454       76      deliverando  1085.714286  \n",
       "1455       19      deliverando   118.750000  \n",
       "1457        1      deliverando   100.000000  \n",
       "1458       20      deliverando   100.000000  \n",
       "\n",
       "[1080 rows x 7 columns]"
      ]
     },
     "execution_count": 7,
     "metadata": {},
     "output_type": "execute_result"
    }
   ],
   "source": [
    "# calculate growth\n",
    "deliverando['growth_rate'] = (deliverando['month_2']/ deliverando['month_1']) * 100\n",
    "deliverando"
   ]
  },
  {
   "cell_type": "code",
   "execution_count": 8,
   "id": "40d367f7",
   "metadata": {},
   "outputs": [
    {
     "data": {
      "text/html": [
       "<div>\n",
       "<style scoped>\n",
       "    .dataframe tbody tr th:only-of-type {\n",
       "        vertical-align: middle;\n",
       "    }\n",
       "\n",
       "    .dataframe tbody tr th {\n",
       "        vertical-align: top;\n",
       "    }\n",
       "\n",
       "    .dataframe thead th {\n",
       "        text-align: right;\n",
       "    }\n",
       "</style>\n",
       "<table border=\"1\" class=\"dataframe\">\n",
       "  <thead>\n",
       "    <tr style=\"text-align: right;\">\n",
       "      <th></th>\n",
       "      <th>name</th>\n",
       "      <th>zip</th>\n",
       "      <th>kpi</th>\n",
       "      <th>month_1</th>\n",
       "      <th>month_2</th>\n",
       "      <th>delivery_service</th>\n",
       "      <th>growth_rate</th>\n",
       "    </tr>\n",
       "  </thead>\n",
       "  <tbody>\n",
       "    <tr>\n",
       "      <th>0</th>\n",
       "      <td>Mampf</td>\n",
       "      <td>8020</td>\n",
       "      <td>Commissionable Orders</td>\n",
       "      <td>699</td>\n",
       "      <td>822</td>\n",
       "      <td>deliverando</td>\n",
       "      <td>117.60</td>\n",
       "    </tr>\n",
       "    <tr>\n",
       "      <th>1</th>\n",
       "      <td>Mampf</td>\n",
       "      <td>8020</td>\n",
       "      <td>Avg Basket Size €</td>\n",
       "      <td>22</td>\n",
       "      <td>23</td>\n",
       "      <td>deliverando</td>\n",
       "      <td>104.55</td>\n",
       "    </tr>\n",
       "    <tr>\n",
       "      <th>2</th>\n",
       "      <td>Mampf</td>\n",
       "      <td>8020</td>\n",
       "      <td>Negative Comments</td>\n",
       "      <td>3</td>\n",
       "      <td>4</td>\n",
       "      <td>deliverando</td>\n",
       "      <td>133.33</td>\n",
       "    </tr>\n",
       "    <tr>\n",
       "      <th>3</th>\n",
       "      <td>Mampf</td>\n",
       "      <td>8020</td>\n",
       "      <td>Positive Comments</td>\n",
       "      <td>1</td>\n",
       "      <td>1</td>\n",
       "      <td>deliverando</td>\n",
       "      <td>100.00</td>\n",
       "    </tr>\n",
       "    <tr>\n",
       "      <th>4</th>\n",
       "      <td>Mampf</td>\n",
       "      <td>8020</td>\n",
       "      <td>% Kill Rate</td>\n",
       "      <td>52</td>\n",
       "      <td>46</td>\n",
       "      <td>deliverando</td>\n",
       "      <td>88.46</td>\n",
       "    </tr>\n",
       "    <tr>\n",
       "      <th>...</th>\n",
       "      <td>...</td>\n",
       "      <td>...</td>\n",
       "      <td>...</td>\n",
       "      <td>...</td>\n",
       "      <td>...</td>\n",
       "      <td>...</td>\n",
       "      <td>...</td>\n",
       "    </tr>\n",
       "    <tr>\n",
       "      <th>1447</th>\n",
       "      <td>Landhaus Ruckerlberg</td>\n",
       "      <td>8010</td>\n",
       "      <td>Avg Time to Accept (s)</td>\n",
       "      <td>33</td>\n",
       "      <td>514</td>\n",
       "      <td>deliverando</td>\n",
       "      <td>1557.58</td>\n",
       "    </tr>\n",
       "    <tr>\n",
       "      <th>1454</th>\n",
       "      <td>Stella Pizzeria &amp; Kebap House</td>\n",
       "      <td>8052</td>\n",
       "      <td>Commissionable Orders</td>\n",
       "      <td>7</td>\n",
       "      <td>76</td>\n",
       "      <td>deliverando</td>\n",
       "      <td>1085.71</td>\n",
       "    </tr>\n",
       "    <tr>\n",
       "      <th>1455</th>\n",
       "      <td>Stella Pizzeria &amp; Kebap House</td>\n",
       "      <td>8052</td>\n",
       "      <td>Avg Basket Size €</td>\n",
       "      <td>16</td>\n",
       "      <td>19</td>\n",
       "      <td>deliverando</td>\n",
       "      <td>118.75</td>\n",
       "    </tr>\n",
       "    <tr>\n",
       "      <th>1457</th>\n",
       "      <td>Stella Pizzeria &amp; Kebap House</td>\n",
       "      <td>8052</td>\n",
       "      <td>Positive Comments</td>\n",
       "      <td>1</td>\n",
       "      <td>1</td>\n",
       "      <td>deliverando</td>\n",
       "      <td>100.00</td>\n",
       "    </tr>\n",
       "    <tr>\n",
       "      <th>1458</th>\n",
       "      <td>Stella Pizzeria &amp; Kebap House</td>\n",
       "      <td>8052</td>\n",
       "      <td>Avg Time to Accept (s)</td>\n",
       "      <td>20</td>\n",
       "      <td>20</td>\n",
       "      <td>deliverando</td>\n",
       "      <td>100.00</td>\n",
       "    </tr>\n",
       "  </tbody>\n",
       "</table>\n",
       "<p>1080 rows × 7 columns</p>\n",
       "</div>"
      ],
      "text/plain": [
       "                               name   zip                     kpi  month_1  \\\n",
       "0                             Mampf  8020   Commissionable Orders      699   \n",
       "1                             Mampf  8020       Avg Basket Size €       22   \n",
       "2                             Mampf  8020       Negative Comments        3   \n",
       "3                             Mampf  8020       Positive Comments        1   \n",
       "4                             Mampf  8020             % Kill Rate       52   \n",
       "...                             ...   ...                     ...      ...   \n",
       "1447           Landhaus Ruckerlberg  8010  Avg Time to Accept (s)       33   \n",
       "1454  Stella Pizzeria & Kebap House  8052   Commissionable Orders        7   \n",
       "1455  Stella Pizzeria & Kebap House  8052       Avg Basket Size €       16   \n",
       "1457  Stella Pizzeria & Kebap House  8052       Positive Comments        1   \n",
       "1458  Stella Pizzeria & Kebap House  8052  Avg Time to Accept (s)       20   \n",
       "\n",
       "      month_2 delivery_service  growth_rate  \n",
       "0         822      deliverando       117.60  \n",
       "1          23      deliverando       104.55  \n",
       "2           4      deliverando       133.33  \n",
       "3           1      deliverando       100.00  \n",
       "4          46      deliverando        88.46  \n",
       "...       ...              ...          ...  \n",
       "1447      514      deliverando      1557.58  \n",
       "1454       76      deliverando      1085.71  \n",
       "1455       19      deliverando       118.75  \n",
       "1457        1      deliverando       100.00  \n",
       "1458       20      deliverando       100.00  \n",
       "\n",
       "[1080 rows x 7 columns]"
      ]
     },
     "execution_count": 8,
     "metadata": {},
     "output_type": "execute_result"
    }
   ],
   "source": [
    "deliverando.round(decimals=2)"
   ]
  },
  {
   "cell_type": "code",
   "execution_count": 14,
   "id": "1666c462",
   "metadata": {},
   "outputs": [
    {
     "data": {
      "text/html": [
       "<div>\n",
       "<style scoped>\n",
       "    .dataframe tbody tr th:only-of-type {\n",
       "        vertical-align: middle;\n",
       "    }\n",
       "\n",
       "    .dataframe tbody tr th {\n",
       "        vertical-align: top;\n",
       "    }\n",
       "\n",
       "    .dataframe thead tr th {\n",
       "        text-align: left;\n",
       "    }\n",
       "</style>\n",
       "<table border=\"1\" class=\"dataframe\">\n",
       "  <thead>\n",
       "    <tr>\n",
       "      <th></th>\n",
       "      <th>name</th>\n",
       "      <th>zip</th>\n",
       "      <th colspan=\"6\" halign=\"left\">month_1</th>\n",
       "    </tr>\n",
       "    <tr>\n",
       "      <th>kpi</th>\n",
       "      <th></th>\n",
       "      <th></th>\n",
       "      <th>% Kill Rate</th>\n",
       "      <th>Avg Basket Size €</th>\n",
       "      <th>Avg Time to Accept (s)</th>\n",
       "      <th>Commissionable Orders</th>\n",
       "      <th>Negative Comments</th>\n",
       "      <th>Positive Comments</th>\n",
       "    </tr>\n",
       "  </thead>\n",
       "  <tbody>\n",
       "    <tr>\n",
       "      <th>0</th>\n",
       "      <td>Adelphia</td>\n",
       "      <td>8010</td>\n",
       "      <td>NaN</td>\n",
       "      <td>15.0</td>\n",
       "      <td>462.0</td>\n",
       "      <td>78.0</td>\n",
       "      <td>NaN</td>\n",
       "      <td>1.0</td>\n",
       "    </tr>\n",
       "    <tr>\n",
       "      <th>1</th>\n",
       "      <td>Aegaeis - Greek Grill</td>\n",
       "      <td>8020</td>\n",
       "      <td>NaN</td>\n",
       "      <td>15.0</td>\n",
       "      <td>305.0</td>\n",
       "      <td>25.0</td>\n",
       "      <td>NaN</td>\n",
       "      <td>NaN</td>\n",
       "    </tr>\n",
       "    <tr>\n",
       "      <th>2</th>\n",
       "      <td>Akakiko</td>\n",
       "      <td>8010</td>\n",
       "      <td>107.0</td>\n",
       "      <td>30.0</td>\n",
       "      <td>499.0</td>\n",
       "      <td>481.0</td>\n",
       "      <td>1.0</td>\n",
       "      <td>1.0</td>\n",
       "    </tr>\n",
       "    <tr>\n",
       "      <th>3</th>\n",
       "      <td>Akdag Kebap</td>\n",
       "      <td>8020</td>\n",
       "      <td>33.0</td>\n",
       "      <td>10.0</td>\n",
       "      <td>465.0</td>\n",
       "      <td>144.0</td>\n",
       "      <td>1.0</td>\n",
       "      <td>1.0</td>\n",
       "    </tr>\n",
       "    <tr>\n",
       "      <th>4</th>\n",
       "      <td>Al Pomodoro- Ristorante Pizzeria</td>\n",
       "      <td>8010</td>\n",
       "      <td>135.0</td>\n",
       "      <td>21.0</td>\n",
       "      <td>249.0</td>\n",
       "      <td>55.0</td>\n",
       "      <td>NaN</td>\n",
       "      <td>1.0</td>\n",
       "    </tr>\n",
       "    <tr>\n",
       "      <th>...</th>\n",
       "      <td>...</td>\n",
       "      <td>...</td>\n",
       "      <td>...</td>\n",
       "      <td>...</td>\n",
       "      <td>...</td>\n",
       "      <td>...</td>\n",
       "      <td>...</td>\n",
       "      <td>...</td>\n",
       "    </tr>\n",
       "    <tr>\n",
       "      <th>225</th>\n",
       "      <td>Zur Steirerstub'n</td>\n",
       "      <td>8020</td>\n",
       "      <td>118.0</td>\n",
       "      <td>24.0</td>\n",
       "      <td>283.0</td>\n",
       "      <td>43.0</td>\n",
       "      <td>NaN</td>\n",
       "      <td>1.0</td>\n",
       "    </tr>\n",
       "    <tr>\n",
       "      <th>226</th>\n",
       "      <td>bp - MERKUR inside</td>\n",
       "      <td>8010</td>\n",
       "      <td>NaN</td>\n",
       "      <td>21.0</td>\n",
       "      <td>485.0</td>\n",
       "      <td>86.0</td>\n",
       "      <td>NaN</td>\n",
       "      <td>1.0</td>\n",
       "    </tr>\n",
       "    <tr>\n",
       "      <th>227</th>\n",
       "      <td>dean &amp; david Wels</td>\n",
       "      <td>8010</td>\n",
       "      <td>79.0</td>\n",
       "      <td>26.0</td>\n",
       "      <td>19.0</td>\n",
       "      <td>767.0</td>\n",
       "      <td>NaN</td>\n",
       "      <td>1.0</td>\n",
       "    </tr>\n",
       "    <tr>\n",
       "      <th>228</th>\n",
       "      <td>my Kentt Pizza &amp; Kebap</td>\n",
       "      <td>8054</td>\n",
       "      <td>89.0</td>\n",
       "      <td>16.0</td>\n",
       "      <td>12.0</td>\n",
       "      <td>172.0</td>\n",
       "      <td>1.0</td>\n",
       "      <td>1.0</td>\n",
       "    </tr>\n",
       "    <tr>\n",
       "      <th>229</th>\n",
       "      <td>the italian</td>\n",
       "      <td>8020</td>\n",
       "      <td>NaN</td>\n",
       "      <td>21.0</td>\n",
       "      <td>381.0</td>\n",
       "      <td>59.0</td>\n",
       "      <td>NaN</td>\n",
       "      <td>1.0</td>\n",
       "    </tr>\n",
       "  </tbody>\n",
       "</table>\n",
       "<p>230 rows × 8 columns</p>\n",
       "</div>"
      ],
      "text/plain": [
       "                                 name   zip     month_1                    \\\n",
       "kpi                                         % Kill Rate Avg Basket Size €   \n",
       "0                            Adelphia  8010         NaN              15.0   \n",
       "1               Aegaeis - Greek Grill  8020         NaN              15.0   \n",
       "2                             Akakiko  8010       107.0              30.0   \n",
       "3                         Akdag Kebap  8020        33.0              10.0   \n",
       "4    Al Pomodoro- Ristorante Pizzeria  8010       135.0              21.0   \n",
       "..                                ...   ...         ...               ...   \n",
       "225                 Zur Steirerstub'n  8020       118.0              24.0   \n",
       "226                bp - MERKUR inside  8010         NaN              21.0   \n",
       "227                 dean & david Wels  8010        79.0              26.0   \n",
       "228            my Kentt Pizza & Kebap  8054        89.0              16.0   \n",
       "229                       the italian  8020         NaN              21.0   \n",
       "\n",
       "                                                                    \\\n",
       "kpi Avg Time to Accept (s) Commissionable Orders Negative Comments   \n",
       "0                    462.0                  78.0               NaN   \n",
       "1                    305.0                  25.0               NaN   \n",
       "2                    499.0                 481.0               1.0   \n",
       "3                    465.0                 144.0               1.0   \n",
       "4                    249.0                  55.0               NaN   \n",
       "..                     ...                   ...               ...   \n",
       "225                  283.0                  43.0               NaN   \n",
       "226                  485.0                  86.0               NaN   \n",
       "227                   19.0                 767.0               NaN   \n",
       "228                   12.0                 172.0               1.0   \n",
       "229                  381.0                  59.0               NaN   \n",
       "\n",
       "                       \n",
       "kpi Positive Comments  \n",
       "0                 1.0  \n",
       "1                 NaN  \n",
       "2                 1.0  \n",
       "3                 1.0  \n",
       "4                 1.0  \n",
       "..                ...  \n",
       "225               1.0  \n",
       "226               1.0  \n",
       "227               1.0  \n",
       "228               1.0  \n",
       "229               1.0  \n",
       "\n",
       "[230 rows x 8 columns]"
      ]
     },
     "execution_count": 14,
     "metadata": {},
     "output_type": "execute_result"
    }
   ],
   "source": [
    "# pivot table month _ 1\n",
    "deliverando_pt_1 = deliverando.pivot_table(index = ['name', 'zip'], values = ['month_1'], columns = ['kpi']).reset_index()\n",
    "deliverando_pt_1"
   ]
  },
  {
   "cell_type": "code",
   "execution_count": 18,
   "id": "6cef4a50",
   "metadata": {},
   "outputs": [],
   "source": [
    "deliverando_pt_1.columns = ['name', 'zip','%_kill_rate', 'avg_basket_size_€', 'avg_time_to_accept_(s)', 'commissionable_orders', 'negative_comments', 'positive_comments']"
   ]
  },
  {
   "cell_type": "code",
   "execution_count": 19,
   "id": "b6a9a509",
   "metadata": {},
   "outputs": [
    {
     "data": {
      "text/html": [
       "<div>\n",
       "<style scoped>\n",
       "    .dataframe tbody tr th:only-of-type {\n",
       "        vertical-align: middle;\n",
       "    }\n",
       "\n",
       "    .dataframe tbody tr th {\n",
       "        vertical-align: top;\n",
       "    }\n",
       "\n",
       "    .dataframe thead th {\n",
       "        text-align: right;\n",
       "    }\n",
       "</style>\n",
       "<table border=\"1\" class=\"dataframe\">\n",
       "  <thead>\n",
       "    <tr style=\"text-align: right;\">\n",
       "      <th></th>\n",
       "      <th>name</th>\n",
       "      <th>zip</th>\n",
       "      <th>%_kill_rate</th>\n",
       "      <th>avg_basket_size_€</th>\n",
       "      <th>avg_time_to_accept_(s)</th>\n",
       "      <th>commissionable_orders</th>\n",
       "      <th>negative_comments</th>\n",
       "      <th>positive_comments</th>\n",
       "    </tr>\n",
       "  </thead>\n",
       "  <tbody>\n",
       "    <tr>\n",
       "      <th>0</th>\n",
       "      <td>Adelphia</td>\n",
       "      <td>8010</td>\n",
       "      <td>NaN</td>\n",
       "      <td>15.0</td>\n",
       "      <td>462.0</td>\n",
       "      <td>78.0</td>\n",
       "      <td>NaN</td>\n",
       "      <td>1.0</td>\n",
       "    </tr>\n",
       "    <tr>\n",
       "      <th>1</th>\n",
       "      <td>Aegaeis - Greek Grill</td>\n",
       "      <td>8020</td>\n",
       "      <td>NaN</td>\n",
       "      <td>15.0</td>\n",
       "      <td>305.0</td>\n",
       "      <td>25.0</td>\n",
       "      <td>NaN</td>\n",
       "      <td>NaN</td>\n",
       "    </tr>\n",
       "    <tr>\n",
       "      <th>2</th>\n",
       "      <td>Akakiko</td>\n",
       "      <td>8010</td>\n",
       "      <td>107.0</td>\n",
       "      <td>30.0</td>\n",
       "      <td>499.0</td>\n",
       "      <td>481.0</td>\n",
       "      <td>1.0</td>\n",
       "      <td>1.0</td>\n",
       "    </tr>\n",
       "    <tr>\n",
       "      <th>3</th>\n",
       "      <td>Akdag Kebap</td>\n",
       "      <td>8020</td>\n",
       "      <td>33.0</td>\n",
       "      <td>10.0</td>\n",
       "      <td>465.0</td>\n",
       "      <td>144.0</td>\n",
       "      <td>1.0</td>\n",
       "      <td>1.0</td>\n",
       "    </tr>\n",
       "    <tr>\n",
       "      <th>4</th>\n",
       "      <td>Al Pomodoro- Ristorante Pizzeria</td>\n",
       "      <td>8010</td>\n",
       "      <td>135.0</td>\n",
       "      <td>21.0</td>\n",
       "      <td>249.0</td>\n",
       "      <td>55.0</td>\n",
       "      <td>NaN</td>\n",
       "      <td>1.0</td>\n",
       "    </tr>\n",
       "    <tr>\n",
       "      <th>...</th>\n",
       "      <td>...</td>\n",
       "      <td>...</td>\n",
       "      <td>...</td>\n",
       "      <td>...</td>\n",
       "      <td>...</td>\n",
       "      <td>...</td>\n",
       "      <td>...</td>\n",
       "      <td>...</td>\n",
       "    </tr>\n",
       "    <tr>\n",
       "      <th>225</th>\n",
       "      <td>Zur Steirerstub'n</td>\n",
       "      <td>8020</td>\n",
       "      <td>118.0</td>\n",
       "      <td>24.0</td>\n",
       "      <td>283.0</td>\n",
       "      <td>43.0</td>\n",
       "      <td>NaN</td>\n",
       "      <td>1.0</td>\n",
       "    </tr>\n",
       "    <tr>\n",
       "      <th>226</th>\n",
       "      <td>bp - MERKUR inside</td>\n",
       "      <td>8010</td>\n",
       "      <td>NaN</td>\n",
       "      <td>21.0</td>\n",
       "      <td>485.0</td>\n",
       "      <td>86.0</td>\n",
       "      <td>NaN</td>\n",
       "      <td>1.0</td>\n",
       "    </tr>\n",
       "    <tr>\n",
       "      <th>227</th>\n",
       "      <td>dean &amp; david Wels</td>\n",
       "      <td>8010</td>\n",
       "      <td>79.0</td>\n",
       "      <td>26.0</td>\n",
       "      <td>19.0</td>\n",
       "      <td>767.0</td>\n",
       "      <td>NaN</td>\n",
       "      <td>1.0</td>\n",
       "    </tr>\n",
       "    <tr>\n",
       "      <th>228</th>\n",
       "      <td>my Kentt Pizza &amp; Kebap</td>\n",
       "      <td>8054</td>\n",
       "      <td>89.0</td>\n",
       "      <td>16.0</td>\n",
       "      <td>12.0</td>\n",
       "      <td>172.0</td>\n",
       "      <td>1.0</td>\n",
       "      <td>1.0</td>\n",
       "    </tr>\n",
       "    <tr>\n",
       "      <th>229</th>\n",
       "      <td>the italian</td>\n",
       "      <td>8020</td>\n",
       "      <td>NaN</td>\n",
       "      <td>21.0</td>\n",
       "      <td>381.0</td>\n",
       "      <td>59.0</td>\n",
       "      <td>NaN</td>\n",
       "      <td>1.0</td>\n",
       "    </tr>\n",
       "  </tbody>\n",
       "</table>\n",
       "<p>230 rows × 8 columns</p>\n",
       "</div>"
      ],
      "text/plain": [
       "                                 name   zip  %_kill_rate  avg_basket_size_€  \\\n",
       "0                            Adelphia  8010          NaN               15.0   \n",
       "1               Aegaeis - Greek Grill  8020          NaN               15.0   \n",
       "2                             Akakiko  8010        107.0               30.0   \n",
       "3                         Akdag Kebap  8020         33.0               10.0   \n",
       "4    Al Pomodoro- Ristorante Pizzeria  8010        135.0               21.0   \n",
       "..                                ...   ...          ...                ...   \n",
       "225                 Zur Steirerstub'n  8020        118.0               24.0   \n",
       "226                bp - MERKUR inside  8010          NaN               21.0   \n",
       "227                 dean & david Wels  8010         79.0               26.0   \n",
       "228            my Kentt Pizza & Kebap  8054         89.0               16.0   \n",
       "229                       the italian  8020          NaN               21.0   \n",
       "\n",
       "     avg_time_to_accept_(s)  commissionable_orders  negative_comments  \\\n",
       "0                     462.0                   78.0                NaN   \n",
       "1                     305.0                   25.0                NaN   \n",
       "2                     499.0                  481.0                1.0   \n",
       "3                     465.0                  144.0                1.0   \n",
       "4                     249.0                   55.0                NaN   \n",
       "..                      ...                    ...                ...   \n",
       "225                   283.0                   43.0                NaN   \n",
       "226                   485.0                   86.0                NaN   \n",
       "227                    19.0                  767.0                NaN   \n",
       "228                    12.0                  172.0                1.0   \n",
       "229                   381.0                   59.0                NaN   \n",
       "\n",
       "     positive_comments  \n",
       "0                  1.0  \n",
       "1                  NaN  \n",
       "2                  1.0  \n",
       "3                  1.0  \n",
       "4                  1.0  \n",
       "..                 ...  \n",
       "225                1.0  \n",
       "226                1.0  \n",
       "227                1.0  \n",
       "228                1.0  \n",
       "229                1.0  \n",
       "\n",
       "[230 rows x 8 columns]"
      ]
     },
     "execution_count": 19,
     "metadata": {},
     "output_type": "execute_result"
    }
   ],
   "source": [
    "deliverando_pt_1"
   ]
  },
  {
   "cell_type": "code",
   "execution_count": 20,
   "id": "247fd743",
   "metadata": {},
   "outputs": [
    {
     "data": {
      "text/html": [
       "<div>\n",
       "<style scoped>\n",
       "    .dataframe tbody tr th:only-of-type {\n",
       "        vertical-align: middle;\n",
       "    }\n",
       "\n",
       "    .dataframe tbody tr th {\n",
       "        vertical-align: top;\n",
       "    }\n",
       "\n",
       "    .dataframe thead tr th {\n",
       "        text-align: left;\n",
       "    }\n",
       "</style>\n",
       "<table border=\"1\" class=\"dataframe\">\n",
       "  <thead>\n",
       "    <tr>\n",
       "      <th></th>\n",
       "      <th>name</th>\n",
       "      <th>zip</th>\n",
       "      <th colspan=\"6\" halign=\"left\">month_2</th>\n",
       "    </tr>\n",
       "    <tr>\n",
       "      <th>kpi</th>\n",
       "      <th></th>\n",
       "      <th></th>\n",
       "      <th>% Kill Rate</th>\n",
       "      <th>Avg Basket Size €</th>\n",
       "      <th>Avg Time to Accept (s)</th>\n",
       "      <th>Commissionable Orders</th>\n",
       "      <th>Negative Comments</th>\n",
       "      <th>Positive Comments</th>\n",
       "    </tr>\n",
       "  </thead>\n",
       "  <tbody>\n",
       "    <tr>\n",
       "      <th>0</th>\n",
       "      <td>Adelphia</td>\n",
       "      <td>8010</td>\n",
       "      <td>NaN</td>\n",
       "      <td>14.0</td>\n",
       "      <td>512.0</td>\n",
       "      <td>69.0</td>\n",
       "      <td>NaN</td>\n",
       "      <td>1.0</td>\n",
       "    </tr>\n",
       "    <tr>\n",
       "      <th>1</th>\n",
       "      <td>Aegaeis - Greek Grill</td>\n",
       "      <td>8020</td>\n",
       "      <td>NaN</td>\n",
       "      <td>14.0</td>\n",
       "      <td>155.0</td>\n",
       "      <td>1.0</td>\n",
       "      <td>NaN</td>\n",
       "      <td>NaN</td>\n",
       "    </tr>\n",
       "    <tr>\n",
       "      <th>2</th>\n",
       "      <td>Akakiko</td>\n",
       "      <td>8010</td>\n",
       "      <td>105.0</td>\n",
       "      <td>31.0</td>\n",
       "      <td>600.0</td>\n",
       "      <td>405.0</td>\n",
       "      <td>1.0</td>\n",
       "      <td>1.0</td>\n",
       "    </tr>\n",
       "    <tr>\n",
       "      <th>3</th>\n",
       "      <td>Akdag Kebap</td>\n",
       "      <td>8020</td>\n",
       "      <td>21.0</td>\n",
       "      <td>10.0</td>\n",
       "      <td>361.0</td>\n",
       "      <td>98.0</td>\n",
       "      <td>2.0</td>\n",
       "      <td>1.0</td>\n",
       "    </tr>\n",
       "    <tr>\n",
       "      <th>4</th>\n",
       "      <td>Al Pomodoro- Ristorante Pizzeria</td>\n",
       "      <td>8010</td>\n",
       "      <td>105.0</td>\n",
       "      <td>22.0</td>\n",
       "      <td>311.0</td>\n",
       "      <td>62.0</td>\n",
       "      <td>NaN</td>\n",
       "      <td>1.0</td>\n",
       "    </tr>\n",
       "    <tr>\n",
       "      <th>...</th>\n",
       "      <td>...</td>\n",
       "      <td>...</td>\n",
       "      <td>...</td>\n",
       "      <td>...</td>\n",
       "      <td>...</td>\n",
       "      <td>...</td>\n",
       "      <td>...</td>\n",
       "      <td>...</td>\n",
       "    </tr>\n",
       "    <tr>\n",
       "      <th>225</th>\n",
       "      <td>Zur Steirerstub'n</td>\n",
       "      <td>8020</td>\n",
       "      <td>135.0</td>\n",
       "      <td>24.0</td>\n",
       "      <td>243.0</td>\n",
       "      <td>42.0</td>\n",
       "      <td>NaN</td>\n",
       "      <td>1.0</td>\n",
       "    </tr>\n",
       "    <tr>\n",
       "      <th>226</th>\n",
       "      <td>bp - MERKUR inside</td>\n",
       "      <td>8010</td>\n",
       "      <td>NaN</td>\n",
       "      <td>22.0</td>\n",
       "      <td>626.0</td>\n",
       "      <td>175.0</td>\n",
       "      <td>NaN</td>\n",
       "      <td>1.0</td>\n",
       "    </tr>\n",
       "    <tr>\n",
       "      <th>227</th>\n",
       "      <td>dean &amp; david Wels</td>\n",
       "      <td>8010</td>\n",
       "      <td>82.0</td>\n",
       "      <td>26.0</td>\n",
       "      <td>19.0</td>\n",
       "      <td>752.0</td>\n",
       "      <td>NaN</td>\n",
       "      <td>1.0</td>\n",
       "    </tr>\n",
       "    <tr>\n",
       "      <th>228</th>\n",
       "      <td>my Kentt Pizza &amp; Kebap</td>\n",
       "      <td>8054</td>\n",
       "      <td>93.0</td>\n",
       "      <td>19.0</td>\n",
       "      <td>13.0</td>\n",
       "      <td>201.0</td>\n",
       "      <td>2.0</td>\n",
       "      <td>1.0</td>\n",
       "    </tr>\n",
       "    <tr>\n",
       "      <th>229</th>\n",
       "      <td>the italian</td>\n",
       "      <td>8020</td>\n",
       "      <td>NaN</td>\n",
       "      <td>22.0</td>\n",
       "      <td>433.0</td>\n",
       "      <td>131.0</td>\n",
       "      <td>NaN</td>\n",
       "      <td>1.0</td>\n",
       "    </tr>\n",
       "  </tbody>\n",
       "</table>\n",
       "<p>230 rows × 8 columns</p>\n",
       "</div>"
      ],
      "text/plain": [
       "                                 name   zip     month_2                    \\\n",
       "kpi                                         % Kill Rate Avg Basket Size €   \n",
       "0                            Adelphia  8010         NaN              14.0   \n",
       "1               Aegaeis - Greek Grill  8020         NaN              14.0   \n",
       "2                             Akakiko  8010       105.0              31.0   \n",
       "3                         Akdag Kebap  8020        21.0              10.0   \n",
       "4    Al Pomodoro- Ristorante Pizzeria  8010       105.0              22.0   \n",
       "..                                ...   ...         ...               ...   \n",
       "225                 Zur Steirerstub'n  8020       135.0              24.0   \n",
       "226                bp - MERKUR inside  8010         NaN              22.0   \n",
       "227                 dean & david Wels  8010        82.0              26.0   \n",
       "228            my Kentt Pizza & Kebap  8054        93.0              19.0   \n",
       "229                       the italian  8020         NaN              22.0   \n",
       "\n",
       "                                                                    \\\n",
       "kpi Avg Time to Accept (s) Commissionable Orders Negative Comments   \n",
       "0                    512.0                  69.0               NaN   \n",
       "1                    155.0                   1.0               NaN   \n",
       "2                    600.0                 405.0               1.0   \n",
       "3                    361.0                  98.0               2.0   \n",
       "4                    311.0                  62.0               NaN   \n",
       "..                     ...                   ...               ...   \n",
       "225                  243.0                  42.0               NaN   \n",
       "226                  626.0                 175.0               NaN   \n",
       "227                   19.0                 752.0               NaN   \n",
       "228                   13.0                 201.0               2.0   \n",
       "229                  433.0                 131.0               NaN   \n",
       "\n",
       "                       \n",
       "kpi Positive Comments  \n",
       "0                 1.0  \n",
       "1                 NaN  \n",
       "2                 1.0  \n",
       "3                 1.0  \n",
       "4                 1.0  \n",
       "..                ...  \n",
       "225               1.0  \n",
       "226               1.0  \n",
       "227               1.0  \n",
       "228               1.0  \n",
       "229               1.0  \n",
       "\n",
       "[230 rows x 8 columns]"
      ]
     },
     "execution_count": 20,
     "metadata": {},
     "output_type": "execute_result"
    }
   ],
   "source": [
    "# pivot table month 2 \n",
    "deliverando_pt_2 = deliverando.pivot_table(index = ['name', 'zip'], values = ['month_2'], columns = ['kpi']).reset_index()\n",
    "deliverando_pt_2"
   ]
  },
  {
   "cell_type": "code",
   "execution_count": 21,
   "id": "0bee43ea",
   "metadata": {},
   "outputs": [],
   "source": [
    "deliverando_pt_2.columns = ['name', 'zip','%_kill_rate', 'avg_basket_size_€', 'avg_time_to_accept_(s)', 'commissionable_orders', 'negative_comments', 'positive_comments']"
   ]
  },
  {
   "cell_type": "code",
   "execution_count": 22,
   "id": "480a0572",
   "metadata": {},
   "outputs": [
    {
     "data": {
      "text/html": [
       "<div>\n",
       "<style scoped>\n",
       "    .dataframe tbody tr th:only-of-type {\n",
       "        vertical-align: middle;\n",
       "    }\n",
       "\n",
       "    .dataframe tbody tr th {\n",
       "        vertical-align: top;\n",
       "    }\n",
       "\n",
       "    .dataframe thead th {\n",
       "        text-align: right;\n",
       "    }\n",
       "</style>\n",
       "<table border=\"1\" class=\"dataframe\">\n",
       "  <thead>\n",
       "    <tr style=\"text-align: right;\">\n",
       "      <th></th>\n",
       "      <th>name</th>\n",
       "      <th>zip</th>\n",
       "      <th>%_kill_rate</th>\n",
       "      <th>avg_basket_size_€</th>\n",
       "      <th>avg_time_to_accept_(s)</th>\n",
       "      <th>commissionable_orders</th>\n",
       "      <th>negative_comments</th>\n",
       "      <th>positive_comments</th>\n",
       "    </tr>\n",
       "  </thead>\n",
       "  <tbody>\n",
       "    <tr>\n",
       "      <th>0</th>\n",
       "      <td>Adelphia</td>\n",
       "      <td>8010</td>\n",
       "      <td>NaN</td>\n",
       "      <td>14.0</td>\n",
       "      <td>512.0</td>\n",
       "      <td>69.0</td>\n",
       "      <td>NaN</td>\n",
       "      <td>1.0</td>\n",
       "    </tr>\n",
       "    <tr>\n",
       "      <th>1</th>\n",
       "      <td>Aegaeis - Greek Grill</td>\n",
       "      <td>8020</td>\n",
       "      <td>NaN</td>\n",
       "      <td>14.0</td>\n",
       "      <td>155.0</td>\n",
       "      <td>1.0</td>\n",
       "      <td>NaN</td>\n",
       "      <td>NaN</td>\n",
       "    </tr>\n",
       "    <tr>\n",
       "      <th>2</th>\n",
       "      <td>Akakiko</td>\n",
       "      <td>8010</td>\n",
       "      <td>105.0</td>\n",
       "      <td>31.0</td>\n",
       "      <td>600.0</td>\n",
       "      <td>405.0</td>\n",
       "      <td>1.0</td>\n",
       "      <td>1.0</td>\n",
       "    </tr>\n",
       "    <tr>\n",
       "      <th>3</th>\n",
       "      <td>Akdag Kebap</td>\n",
       "      <td>8020</td>\n",
       "      <td>21.0</td>\n",
       "      <td>10.0</td>\n",
       "      <td>361.0</td>\n",
       "      <td>98.0</td>\n",
       "      <td>2.0</td>\n",
       "      <td>1.0</td>\n",
       "    </tr>\n",
       "    <tr>\n",
       "      <th>4</th>\n",
       "      <td>Al Pomodoro- Ristorante Pizzeria</td>\n",
       "      <td>8010</td>\n",
       "      <td>105.0</td>\n",
       "      <td>22.0</td>\n",
       "      <td>311.0</td>\n",
       "      <td>62.0</td>\n",
       "      <td>NaN</td>\n",
       "      <td>1.0</td>\n",
       "    </tr>\n",
       "    <tr>\n",
       "      <th>...</th>\n",
       "      <td>...</td>\n",
       "      <td>...</td>\n",
       "      <td>...</td>\n",
       "      <td>...</td>\n",
       "      <td>...</td>\n",
       "      <td>...</td>\n",
       "      <td>...</td>\n",
       "      <td>...</td>\n",
       "    </tr>\n",
       "    <tr>\n",
       "      <th>225</th>\n",
       "      <td>Zur Steirerstub'n</td>\n",
       "      <td>8020</td>\n",
       "      <td>135.0</td>\n",
       "      <td>24.0</td>\n",
       "      <td>243.0</td>\n",
       "      <td>42.0</td>\n",
       "      <td>NaN</td>\n",
       "      <td>1.0</td>\n",
       "    </tr>\n",
       "    <tr>\n",
       "      <th>226</th>\n",
       "      <td>bp - MERKUR inside</td>\n",
       "      <td>8010</td>\n",
       "      <td>NaN</td>\n",
       "      <td>22.0</td>\n",
       "      <td>626.0</td>\n",
       "      <td>175.0</td>\n",
       "      <td>NaN</td>\n",
       "      <td>1.0</td>\n",
       "    </tr>\n",
       "    <tr>\n",
       "      <th>227</th>\n",
       "      <td>dean &amp; david Wels</td>\n",
       "      <td>8010</td>\n",
       "      <td>82.0</td>\n",
       "      <td>26.0</td>\n",
       "      <td>19.0</td>\n",
       "      <td>752.0</td>\n",
       "      <td>NaN</td>\n",
       "      <td>1.0</td>\n",
       "    </tr>\n",
       "    <tr>\n",
       "      <th>228</th>\n",
       "      <td>my Kentt Pizza &amp; Kebap</td>\n",
       "      <td>8054</td>\n",
       "      <td>93.0</td>\n",
       "      <td>19.0</td>\n",
       "      <td>13.0</td>\n",
       "      <td>201.0</td>\n",
       "      <td>2.0</td>\n",
       "      <td>1.0</td>\n",
       "    </tr>\n",
       "    <tr>\n",
       "      <th>229</th>\n",
       "      <td>the italian</td>\n",
       "      <td>8020</td>\n",
       "      <td>NaN</td>\n",
       "      <td>22.0</td>\n",
       "      <td>433.0</td>\n",
       "      <td>131.0</td>\n",
       "      <td>NaN</td>\n",
       "      <td>1.0</td>\n",
       "    </tr>\n",
       "  </tbody>\n",
       "</table>\n",
       "<p>230 rows × 8 columns</p>\n",
       "</div>"
      ],
      "text/plain": [
       "                                 name   zip  %_kill_rate  avg_basket_size_€  \\\n",
       "0                            Adelphia  8010          NaN               14.0   \n",
       "1               Aegaeis - Greek Grill  8020          NaN               14.0   \n",
       "2                             Akakiko  8010        105.0               31.0   \n",
       "3                         Akdag Kebap  8020         21.0               10.0   \n",
       "4    Al Pomodoro- Ristorante Pizzeria  8010        105.0               22.0   \n",
       "..                                ...   ...          ...                ...   \n",
       "225                 Zur Steirerstub'n  8020        135.0               24.0   \n",
       "226                bp - MERKUR inside  8010          NaN               22.0   \n",
       "227                 dean & david Wels  8010         82.0               26.0   \n",
       "228            my Kentt Pizza & Kebap  8054         93.0               19.0   \n",
       "229                       the italian  8020          NaN               22.0   \n",
       "\n",
       "     avg_time_to_accept_(s)  commissionable_orders  negative_comments  \\\n",
       "0                     512.0                   69.0                NaN   \n",
       "1                     155.0                    1.0                NaN   \n",
       "2                     600.0                  405.0                1.0   \n",
       "3                     361.0                   98.0                2.0   \n",
       "4                     311.0                   62.0                NaN   \n",
       "..                      ...                    ...                ...   \n",
       "225                   243.0                   42.0                NaN   \n",
       "226                   626.0                  175.0                NaN   \n",
       "227                    19.0                  752.0                NaN   \n",
       "228                    13.0                  201.0                2.0   \n",
       "229                   433.0                  131.0                NaN   \n",
       "\n",
       "     positive_comments  \n",
       "0                  1.0  \n",
       "1                  NaN  \n",
       "2                  1.0  \n",
       "3                  1.0  \n",
       "4                  1.0  \n",
       "..                 ...  \n",
       "225                1.0  \n",
       "226                1.0  \n",
       "227                1.0  \n",
       "228                1.0  \n",
       "229                1.0  \n",
       "\n",
       "[230 rows x 8 columns]"
      ]
     },
     "execution_count": 22,
     "metadata": {},
     "output_type": "execute_result"
    }
   ],
   "source": [
    "deliverando_pt_2"
   ]
  },
  {
   "cell_type": "code",
   "execution_count": 49,
   "id": "c5a67505",
   "metadata": {},
   "outputs": [
    {
     "data": {
      "text/html": [
       "<div>\n",
       "<style scoped>\n",
       "    .dataframe tbody tr th:only-of-type {\n",
       "        vertical-align: middle;\n",
       "    }\n",
       "\n",
       "    .dataframe tbody tr th {\n",
       "        vertical-align: top;\n",
       "    }\n",
       "\n",
       "    .dataframe thead th {\n",
       "        text-align: right;\n",
       "    }\n",
       "</style>\n",
       "<table border=\"1\" class=\"dataframe\">\n",
       "  <thead>\n",
       "    <tr style=\"text-align: right;\">\n",
       "      <th></th>\n",
       "      <th>name</th>\n",
       "      <th>zip</th>\n",
       "      <th>%_kill_rate_x</th>\n",
       "      <th>avg_basket_size_€_x</th>\n",
       "      <th>avg_time_to_accept_(s)_x</th>\n",
       "      <th>commissionable_orders_x</th>\n",
       "      <th>negative_comments_x</th>\n",
       "      <th>positive_comments_x</th>\n",
       "      <th>%_kill_rate_y</th>\n",
       "      <th>avg_basket_size_€_y</th>\n",
       "      <th>avg_time_to_accept_(s)_y</th>\n",
       "      <th>commissionable_orders_y</th>\n",
       "      <th>negative_comments_y</th>\n",
       "      <th>positive_comments_y</th>\n",
       "    </tr>\n",
       "  </thead>\n",
       "  <tbody>\n",
       "    <tr>\n",
       "      <th>0</th>\n",
       "      <td>Adelphia</td>\n",
       "      <td>8010</td>\n",
       "      <td>NaN</td>\n",
       "      <td>15.0</td>\n",
       "      <td>462.0</td>\n",
       "      <td>78.0</td>\n",
       "      <td>NaN</td>\n",
       "      <td>1.0</td>\n",
       "      <td>NaN</td>\n",
       "      <td>14.0</td>\n",
       "      <td>512.0</td>\n",
       "      <td>69.0</td>\n",
       "      <td>NaN</td>\n",
       "      <td>1.0</td>\n",
       "    </tr>\n",
       "    <tr>\n",
       "      <th>1</th>\n",
       "      <td>Aegaeis - Greek Grill</td>\n",
       "      <td>8020</td>\n",
       "      <td>NaN</td>\n",
       "      <td>15.0</td>\n",
       "      <td>305.0</td>\n",
       "      <td>25.0</td>\n",
       "      <td>NaN</td>\n",
       "      <td>NaN</td>\n",
       "      <td>NaN</td>\n",
       "      <td>14.0</td>\n",
       "      <td>155.0</td>\n",
       "      <td>1.0</td>\n",
       "      <td>NaN</td>\n",
       "      <td>NaN</td>\n",
       "    </tr>\n",
       "    <tr>\n",
       "      <th>2</th>\n",
       "      <td>Akakiko</td>\n",
       "      <td>8010</td>\n",
       "      <td>107.0</td>\n",
       "      <td>30.0</td>\n",
       "      <td>499.0</td>\n",
       "      <td>481.0</td>\n",
       "      <td>1.0</td>\n",
       "      <td>1.0</td>\n",
       "      <td>105.0</td>\n",
       "      <td>31.0</td>\n",
       "      <td>600.0</td>\n",
       "      <td>405.0</td>\n",
       "      <td>1.0</td>\n",
       "      <td>1.0</td>\n",
       "    </tr>\n",
       "    <tr>\n",
       "      <th>3</th>\n",
       "      <td>Akdag Kebap</td>\n",
       "      <td>8020</td>\n",
       "      <td>33.0</td>\n",
       "      <td>10.0</td>\n",
       "      <td>465.0</td>\n",
       "      <td>144.0</td>\n",
       "      <td>1.0</td>\n",
       "      <td>1.0</td>\n",
       "      <td>21.0</td>\n",
       "      <td>10.0</td>\n",
       "      <td>361.0</td>\n",
       "      <td>98.0</td>\n",
       "      <td>2.0</td>\n",
       "      <td>1.0</td>\n",
       "    </tr>\n",
       "    <tr>\n",
       "      <th>4</th>\n",
       "      <td>Al Pomodoro- Ristorante Pizzeria</td>\n",
       "      <td>8010</td>\n",
       "      <td>135.0</td>\n",
       "      <td>21.0</td>\n",
       "      <td>249.0</td>\n",
       "      <td>55.0</td>\n",
       "      <td>NaN</td>\n",
       "      <td>1.0</td>\n",
       "      <td>105.0</td>\n",
       "      <td>22.0</td>\n",
       "      <td>311.0</td>\n",
       "      <td>62.0</td>\n",
       "      <td>NaN</td>\n",
       "      <td>1.0</td>\n",
       "    </tr>\n",
       "    <tr>\n",
       "      <th>...</th>\n",
       "      <td>...</td>\n",
       "      <td>...</td>\n",
       "      <td>...</td>\n",
       "      <td>...</td>\n",
       "      <td>...</td>\n",
       "      <td>...</td>\n",
       "      <td>...</td>\n",
       "      <td>...</td>\n",
       "      <td>...</td>\n",
       "      <td>...</td>\n",
       "      <td>...</td>\n",
       "      <td>...</td>\n",
       "      <td>...</td>\n",
       "      <td>...</td>\n",
       "    </tr>\n",
       "    <tr>\n",
       "      <th>225</th>\n",
       "      <td>Zur Steirerstub'n</td>\n",
       "      <td>8020</td>\n",
       "      <td>118.0</td>\n",
       "      <td>24.0</td>\n",
       "      <td>283.0</td>\n",
       "      <td>43.0</td>\n",
       "      <td>NaN</td>\n",
       "      <td>1.0</td>\n",
       "      <td>135.0</td>\n",
       "      <td>24.0</td>\n",
       "      <td>243.0</td>\n",
       "      <td>42.0</td>\n",
       "      <td>NaN</td>\n",
       "      <td>1.0</td>\n",
       "    </tr>\n",
       "    <tr>\n",
       "      <th>226</th>\n",
       "      <td>bp - MERKUR inside</td>\n",
       "      <td>8010</td>\n",
       "      <td>NaN</td>\n",
       "      <td>21.0</td>\n",
       "      <td>485.0</td>\n",
       "      <td>86.0</td>\n",
       "      <td>NaN</td>\n",
       "      <td>1.0</td>\n",
       "      <td>NaN</td>\n",
       "      <td>22.0</td>\n",
       "      <td>626.0</td>\n",
       "      <td>175.0</td>\n",
       "      <td>NaN</td>\n",
       "      <td>1.0</td>\n",
       "    </tr>\n",
       "    <tr>\n",
       "      <th>227</th>\n",
       "      <td>dean &amp; david Wels</td>\n",
       "      <td>8010</td>\n",
       "      <td>79.0</td>\n",
       "      <td>26.0</td>\n",
       "      <td>19.0</td>\n",
       "      <td>767.0</td>\n",
       "      <td>NaN</td>\n",
       "      <td>1.0</td>\n",
       "      <td>82.0</td>\n",
       "      <td>26.0</td>\n",
       "      <td>19.0</td>\n",
       "      <td>752.0</td>\n",
       "      <td>NaN</td>\n",
       "      <td>1.0</td>\n",
       "    </tr>\n",
       "    <tr>\n",
       "      <th>228</th>\n",
       "      <td>my Kentt Pizza &amp; Kebap</td>\n",
       "      <td>8054</td>\n",
       "      <td>89.0</td>\n",
       "      <td>16.0</td>\n",
       "      <td>12.0</td>\n",
       "      <td>172.0</td>\n",
       "      <td>1.0</td>\n",
       "      <td>1.0</td>\n",
       "      <td>93.0</td>\n",
       "      <td>19.0</td>\n",
       "      <td>13.0</td>\n",
       "      <td>201.0</td>\n",
       "      <td>2.0</td>\n",
       "      <td>1.0</td>\n",
       "    </tr>\n",
       "    <tr>\n",
       "      <th>229</th>\n",
       "      <td>the italian</td>\n",
       "      <td>8020</td>\n",
       "      <td>NaN</td>\n",
       "      <td>21.0</td>\n",
       "      <td>381.0</td>\n",
       "      <td>59.0</td>\n",
       "      <td>NaN</td>\n",
       "      <td>1.0</td>\n",
       "      <td>NaN</td>\n",
       "      <td>22.0</td>\n",
       "      <td>433.0</td>\n",
       "      <td>131.0</td>\n",
       "      <td>NaN</td>\n",
       "      <td>1.0</td>\n",
       "    </tr>\n",
       "  </tbody>\n",
       "</table>\n",
       "<p>230 rows × 14 columns</p>\n",
       "</div>"
      ],
      "text/plain": [
       "                                 name   zip  %_kill_rate_x  \\\n",
       "0                            Adelphia  8010            NaN   \n",
       "1               Aegaeis - Greek Grill  8020            NaN   \n",
       "2                             Akakiko  8010          107.0   \n",
       "3                         Akdag Kebap  8020           33.0   \n",
       "4    Al Pomodoro- Ristorante Pizzeria  8010          135.0   \n",
       "..                                ...   ...            ...   \n",
       "225                 Zur Steirerstub'n  8020          118.0   \n",
       "226                bp - MERKUR inside  8010            NaN   \n",
       "227                 dean & david Wels  8010           79.0   \n",
       "228            my Kentt Pizza & Kebap  8054           89.0   \n",
       "229                       the italian  8020            NaN   \n",
       "\n",
       "     avg_basket_size_€_x  avg_time_to_accept_(s)_x  commissionable_orders_x  \\\n",
       "0                   15.0                     462.0                     78.0   \n",
       "1                   15.0                     305.0                     25.0   \n",
       "2                   30.0                     499.0                    481.0   \n",
       "3                   10.0                     465.0                    144.0   \n",
       "4                   21.0                     249.0                     55.0   \n",
       "..                   ...                       ...                      ...   \n",
       "225                 24.0                     283.0                     43.0   \n",
       "226                 21.0                     485.0                     86.0   \n",
       "227                 26.0                      19.0                    767.0   \n",
       "228                 16.0                      12.0                    172.0   \n",
       "229                 21.0                     381.0                     59.0   \n",
       "\n",
       "     negative_comments_x  positive_comments_x  %_kill_rate_y  \\\n",
       "0                    NaN                  1.0            NaN   \n",
       "1                    NaN                  NaN            NaN   \n",
       "2                    1.0                  1.0          105.0   \n",
       "3                    1.0                  1.0           21.0   \n",
       "4                    NaN                  1.0          105.0   \n",
       "..                   ...                  ...            ...   \n",
       "225                  NaN                  1.0          135.0   \n",
       "226                  NaN                  1.0            NaN   \n",
       "227                  NaN                  1.0           82.0   \n",
       "228                  1.0                  1.0           93.0   \n",
       "229                  NaN                  1.0            NaN   \n",
       "\n",
       "     avg_basket_size_€_y  avg_time_to_accept_(s)_y  commissionable_orders_y  \\\n",
       "0                   14.0                     512.0                     69.0   \n",
       "1                   14.0                     155.0                      1.0   \n",
       "2                   31.0                     600.0                    405.0   \n",
       "3                   10.0                     361.0                     98.0   \n",
       "4                   22.0                     311.0                     62.0   \n",
       "..                   ...                       ...                      ...   \n",
       "225                 24.0                     243.0                     42.0   \n",
       "226                 22.0                     626.0                    175.0   \n",
       "227                 26.0                      19.0                    752.0   \n",
       "228                 19.0                      13.0                    201.0   \n",
       "229                 22.0                     433.0                    131.0   \n",
       "\n",
       "     negative_comments_y  positive_comments_y  \n",
       "0                    NaN                  1.0  \n",
       "1                    NaN                  NaN  \n",
       "2                    1.0                  1.0  \n",
       "3                    2.0                  1.0  \n",
       "4                    NaN                  1.0  \n",
       "..                   ...                  ...  \n",
       "225                  NaN                  1.0  \n",
       "226                  NaN                  1.0  \n",
       "227                  NaN                  1.0  \n",
       "228                  2.0                  1.0  \n",
       "229                  NaN                  1.0  \n",
       "\n",
       "[230 rows x 14 columns]"
      ]
     },
     "execution_count": 49,
     "metadata": {},
     "output_type": "execute_result"
    }
   ],
   "source": [
    "del_merged = deliverando_pt_1.merge(deliverando_pt_2, how = 'outer', on = ['name', 'zip'])\n",
    "del_merged"
   ]
  },
  {
   "cell_type": "code",
   "execution_count": 54,
   "id": "1e703e35",
   "metadata": {},
   "outputs": [],
   "source": [
    "del_merged.rename(columns = {'avg_basket_size_€_x': 'avg_basket_size_€_1', 'avg_basket_size_€_y': 'avg_basket_size_€_2'}, inplace = True)"
   ]
  },
  {
   "cell_type": "code",
   "execution_count": 56,
   "id": "07470906",
   "metadata": {},
   "outputs": [
    {
     "data": {
      "application/vnd.plotly.v1+json": {
       "config": {
        "plotlyServerURL": "https://plot.ly"
       },
       "data": [
        {
         "alignmentgroup": "True",
         "hovertemplate": "value=%{x}<br>variable=%{y}<extra></extra>",
         "legendgroup": "",
         "marker": {
          "color": "#636efa"
         },
         "name": "",
         "notched": false,
         "offsetgroup": "",
         "orientation": "h",
         "showlegend": false,
         "type": "box",
         "x": [
          15,
          15,
          30,
          10,
          21,
          19,
          11,
          null,
          31,
          12,
          null,
          14,
          20,
          21,
          22,
          23,
          18,
          null,
          22,
          22,
          20,
          21,
          23,
          null,
          19,
          16,
          17,
          22,
          25,
          23,
          23.666666666666668,
          26,
          21,
          23,
          26,
          18,
          18,
          11,
          15,
          17,
          15,
          22,
          23,
          19,
          22,
          26,
          26,
          24,
          18,
          24,
          23,
          27,
          24,
          22,
          18,
          14,
          17,
          17,
          null,
          12,
          19,
          25,
          null,
          23,
          null,
          null,
          19,
          21,
          24,
          21,
          19,
          20,
          15,
          14,
          16,
          null,
          17,
          16,
          10,
          31,
          24,
          24,
          20,
          28,
          null,
          23,
          32,
          13,
          25,
          null,
          29,
          null,
          null,
          21,
          26,
          25,
          27,
          9,
          21,
          12,
          23,
          26,
          16,
          16,
          18,
          26,
          17,
          14,
          24,
          25,
          16,
          26,
          17,
          14,
          27,
          11,
          21,
          22,
          31,
          21,
          21.5,
          23,
          21,
          17,
          23,
          28,
          15,
          18,
          27,
          null,
          13,
          16,
          11,
          22,
          19,
          15,
          19,
          15,
          17,
          24,
          17,
          18,
          28,
          null,
          null,
          17,
          null,
          29,
          17,
          null,
          19,
          23,
          20,
          15,
          11,
          24,
          19,
          21,
          23,
          18,
          14,
          20,
          18,
          17,
          17,
          11,
          16,
          20,
          16,
          21,
          null,
          28,
          18,
          19,
          19,
          14,
          22,
          23,
          12,
          23,
          18,
          21,
          26,
          15.5,
          20,
          24,
          11,
          26,
          20,
          null,
          19,
          13,
          16,
          18,
          17,
          14,
          14,
          26,
          23,
          14,
          17,
          30,
          12,
          28,
          25,
          21,
          18,
          36,
          10,
          14,
          18,
          27,
          17,
          16,
          17,
          16,
          23,
          17,
          21,
          24,
          null,
          26,
          28.5,
          38,
          null,
          24,
          21,
          26,
          16,
          21,
          14,
          14,
          31,
          10,
          22,
          20,
          12,
          null,
          32,
          12,
          null,
          19,
          19,
          18,
          24,
          24,
          19,
          null,
          23,
          22,
          20,
          14,
          23,
          null,
          20,
          13,
          17,
          20,
          24,
          19,
          24.666666666666668,
          25,
          22,
          23,
          27,
          22,
          18,
          13,
          14,
          18,
          15,
          22,
          22,
          20,
          23,
          25,
          27,
          25,
          18,
          24,
          24,
          28,
          25,
          22,
          20,
          32,
          15,
          27,
          null,
          14,
          19,
          26,
          null,
          18,
          null,
          null,
          19,
          23,
          23,
          21,
          15,
          18,
          17,
          12,
          15,
          null,
          18,
          17,
          9,
          17,
          30,
          26,
          20,
          26,
          null,
          22,
          38,
          8,
          27,
          null,
          30,
          null,
          null,
          21,
          24,
          27,
          25,
          10,
          23,
          11,
          24,
          25,
          25,
          16,
          18,
          22,
          18,
          14,
          22,
          25,
          14,
          27,
          26,
          13,
          19,
          11,
          23,
          23,
          31,
          21.5,
          22,
          23,
          22,
          18,
          24,
          30,
          13,
          21,
          29,
          null,
          14,
          21,
          10,
          22,
          22,
          14,
          17,
          14,
          17,
          19,
          20,
          19,
          29,
          null,
          null,
          22,
          null,
          25,
          17,
          null,
          18,
          24,
          25,
          16,
          11,
          23,
          20,
          23,
          22,
          17,
          14,
          20,
          20,
          17,
          18,
          9,
          17,
          21,
          15,
          21,
          null,
          27,
          17,
          22,
          19,
          14,
          21,
          22,
          12,
          23,
          18,
          21,
          28,
          15.5,
          19,
          25,
          18,
          25,
          19,
          null,
          22,
          13,
          19,
          18,
          18,
          19,
          14,
          27,
          23,
          16,
          16,
          30,
          13,
          26,
          20,
          22,
          19,
          43,
          10,
          14,
          19,
          27,
          16,
          16,
          17,
          16,
          24,
          17,
          19,
          24,
          null,
          26,
          25.5,
          28,
          null,
          24,
          22,
          26,
          19,
          22
         ],
         "x0": " ",
         "xaxis": "x",
         "y": [
          "avg_basket_size_€_1",
          "avg_basket_size_€_1",
          "avg_basket_size_€_1",
          "avg_basket_size_€_1",
          "avg_basket_size_€_1",
          "avg_basket_size_€_1",
          "avg_basket_size_€_1",
          "avg_basket_size_€_1",
          "avg_basket_size_€_1",
          "avg_basket_size_€_1",
          "avg_basket_size_€_1",
          "avg_basket_size_€_1",
          "avg_basket_size_€_1",
          "avg_basket_size_€_1",
          "avg_basket_size_€_1",
          "avg_basket_size_€_1",
          "avg_basket_size_€_1",
          "avg_basket_size_€_1",
          "avg_basket_size_€_1",
          "avg_basket_size_€_1",
          "avg_basket_size_€_1",
          "avg_basket_size_€_1",
          "avg_basket_size_€_1",
          "avg_basket_size_€_1",
          "avg_basket_size_€_1",
          "avg_basket_size_€_1",
          "avg_basket_size_€_1",
          "avg_basket_size_€_1",
          "avg_basket_size_€_1",
          "avg_basket_size_€_1",
          "avg_basket_size_€_1",
          "avg_basket_size_€_1",
          "avg_basket_size_€_1",
          "avg_basket_size_€_1",
          "avg_basket_size_€_1",
          "avg_basket_size_€_1",
          "avg_basket_size_€_1",
          "avg_basket_size_€_1",
          "avg_basket_size_€_1",
          "avg_basket_size_€_1",
          "avg_basket_size_€_1",
          "avg_basket_size_€_1",
          "avg_basket_size_€_1",
          "avg_basket_size_€_1",
          "avg_basket_size_€_1",
          "avg_basket_size_€_1",
          "avg_basket_size_€_1",
          "avg_basket_size_€_1",
          "avg_basket_size_€_1",
          "avg_basket_size_€_1",
          "avg_basket_size_€_1",
          "avg_basket_size_€_1",
          "avg_basket_size_€_1",
          "avg_basket_size_€_1",
          "avg_basket_size_€_1",
          "avg_basket_size_€_1",
          "avg_basket_size_€_1",
          "avg_basket_size_€_1",
          "avg_basket_size_€_1",
          "avg_basket_size_€_1",
          "avg_basket_size_€_1",
          "avg_basket_size_€_1",
          "avg_basket_size_€_1",
          "avg_basket_size_€_1",
          "avg_basket_size_€_1",
          "avg_basket_size_€_1",
          "avg_basket_size_€_1",
          "avg_basket_size_€_1",
          "avg_basket_size_€_1",
          "avg_basket_size_€_1",
          "avg_basket_size_€_1",
          "avg_basket_size_€_1",
          "avg_basket_size_€_1",
          "avg_basket_size_€_1",
          "avg_basket_size_€_1",
          "avg_basket_size_€_1",
          "avg_basket_size_€_1",
          "avg_basket_size_€_1",
          "avg_basket_size_€_1",
          "avg_basket_size_€_1",
          "avg_basket_size_€_1",
          "avg_basket_size_€_1",
          "avg_basket_size_€_1",
          "avg_basket_size_€_1",
          "avg_basket_size_€_1",
          "avg_basket_size_€_1",
          "avg_basket_size_€_1",
          "avg_basket_size_€_1",
          "avg_basket_size_€_1",
          "avg_basket_size_€_1",
          "avg_basket_size_€_1",
          "avg_basket_size_€_1",
          "avg_basket_size_€_1",
          "avg_basket_size_€_1",
          "avg_basket_size_€_1",
          "avg_basket_size_€_1",
          "avg_basket_size_€_1",
          "avg_basket_size_€_1",
          "avg_basket_size_€_1",
          "avg_basket_size_€_1",
          "avg_basket_size_€_1",
          "avg_basket_size_€_1",
          "avg_basket_size_€_1",
          "avg_basket_size_€_1",
          "avg_basket_size_€_1",
          "avg_basket_size_€_1",
          "avg_basket_size_€_1",
          "avg_basket_size_€_1",
          "avg_basket_size_€_1",
          "avg_basket_size_€_1",
          "avg_basket_size_€_1",
          "avg_basket_size_€_1",
          "avg_basket_size_€_1",
          "avg_basket_size_€_1",
          "avg_basket_size_€_1",
          "avg_basket_size_€_1",
          "avg_basket_size_€_1",
          "avg_basket_size_€_1",
          "avg_basket_size_€_1",
          "avg_basket_size_€_1",
          "avg_basket_size_€_1",
          "avg_basket_size_€_1",
          "avg_basket_size_€_1",
          "avg_basket_size_€_1",
          "avg_basket_size_€_1",
          "avg_basket_size_€_1",
          "avg_basket_size_€_1",
          "avg_basket_size_€_1",
          "avg_basket_size_€_1",
          "avg_basket_size_€_1",
          "avg_basket_size_€_1",
          "avg_basket_size_€_1",
          "avg_basket_size_€_1",
          "avg_basket_size_€_1",
          "avg_basket_size_€_1",
          "avg_basket_size_€_1",
          "avg_basket_size_€_1",
          "avg_basket_size_€_1",
          "avg_basket_size_€_1",
          "avg_basket_size_€_1",
          "avg_basket_size_€_1",
          "avg_basket_size_€_1",
          "avg_basket_size_€_1",
          "avg_basket_size_€_1",
          "avg_basket_size_€_1",
          "avg_basket_size_€_1",
          "avg_basket_size_€_1",
          "avg_basket_size_€_1",
          "avg_basket_size_€_1",
          "avg_basket_size_€_1",
          "avg_basket_size_€_1",
          "avg_basket_size_€_1",
          "avg_basket_size_€_1",
          "avg_basket_size_€_1",
          "avg_basket_size_€_1",
          "avg_basket_size_€_1",
          "avg_basket_size_€_1",
          "avg_basket_size_€_1",
          "avg_basket_size_€_1",
          "avg_basket_size_€_1",
          "avg_basket_size_€_1",
          "avg_basket_size_€_1",
          "avg_basket_size_€_1",
          "avg_basket_size_€_1",
          "avg_basket_size_€_1",
          "avg_basket_size_€_1",
          "avg_basket_size_€_1",
          "avg_basket_size_€_1",
          "avg_basket_size_€_1",
          "avg_basket_size_€_1",
          "avg_basket_size_€_1",
          "avg_basket_size_€_1",
          "avg_basket_size_€_1",
          "avg_basket_size_€_1",
          "avg_basket_size_€_1",
          "avg_basket_size_€_1",
          "avg_basket_size_€_1",
          "avg_basket_size_€_1",
          "avg_basket_size_€_1",
          "avg_basket_size_€_1",
          "avg_basket_size_€_1",
          "avg_basket_size_€_1",
          "avg_basket_size_€_1",
          "avg_basket_size_€_1",
          "avg_basket_size_€_1",
          "avg_basket_size_€_1",
          "avg_basket_size_€_1",
          "avg_basket_size_€_1",
          "avg_basket_size_€_1",
          "avg_basket_size_€_1",
          "avg_basket_size_€_1",
          "avg_basket_size_€_1",
          "avg_basket_size_€_1",
          "avg_basket_size_€_1",
          "avg_basket_size_€_1",
          "avg_basket_size_€_1",
          "avg_basket_size_€_1",
          "avg_basket_size_€_1",
          "avg_basket_size_€_1",
          "avg_basket_size_€_1",
          "avg_basket_size_€_1",
          "avg_basket_size_€_1",
          "avg_basket_size_€_1",
          "avg_basket_size_€_1",
          "avg_basket_size_€_1",
          "avg_basket_size_€_1",
          "avg_basket_size_€_1",
          "avg_basket_size_€_1",
          "avg_basket_size_€_1",
          "avg_basket_size_€_1",
          "avg_basket_size_€_1",
          "avg_basket_size_€_1",
          "avg_basket_size_€_1",
          "avg_basket_size_€_1",
          "avg_basket_size_€_1",
          "avg_basket_size_€_1",
          "avg_basket_size_€_1",
          "avg_basket_size_€_1",
          "avg_basket_size_€_1",
          "avg_basket_size_€_1",
          "avg_basket_size_€_1",
          "avg_basket_size_€_1",
          "avg_basket_size_€_1",
          "avg_basket_size_€_1",
          "avg_basket_size_€_1",
          "avg_basket_size_€_1",
          "avg_basket_size_€_1",
          "avg_basket_size_€_1",
          "avg_basket_size_€_1",
          "avg_basket_size_€_1",
          "avg_basket_size_€_2",
          "avg_basket_size_€_2",
          "avg_basket_size_€_2",
          "avg_basket_size_€_2",
          "avg_basket_size_€_2",
          "avg_basket_size_€_2",
          "avg_basket_size_€_2",
          "avg_basket_size_€_2",
          "avg_basket_size_€_2",
          "avg_basket_size_€_2",
          "avg_basket_size_€_2",
          "avg_basket_size_€_2",
          "avg_basket_size_€_2",
          "avg_basket_size_€_2",
          "avg_basket_size_€_2",
          "avg_basket_size_€_2",
          "avg_basket_size_€_2",
          "avg_basket_size_€_2",
          "avg_basket_size_€_2",
          "avg_basket_size_€_2",
          "avg_basket_size_€_2",
          "avg_basket_size_€_2",
          "avg_basket_size_€_2",
          "avg_basket_size_€_2",
          "avg_basket_size_€_2",
          "avg_basket_size_€_2",
          "avg_basket_size_€_2",
          "avg_basket_size_€_2",
          "avg_basket_size_€_2",
          "avg_basket_size_€_2",
          "avg_basket_size_€_2",
          "avg_basket_size_€_2",
          "avg_basket_size_€_2",
          "avg_basket_size_€_2",
          "avg_basket_size_€_2",
          "avg_basket_size_€_2",
          "avg_basket_size_€_2",
          "avg_basket_size_€_2",
          "avg_basket_size_€_2",
          "avg_basket_size_€_2",
          "avg_basket_size_€_2",
          "avg_basket_size_€_2",
          "avg_basket_size_€_2",
          "avg_basket_size_€_2",
          "avg_basket_size_€_2",
          "avg_basket_size_€_2",
          "avg_basket_size_€_2",
          "avg_basket_size_€_2",
          "avg_basket_size_€_2",
          "avg_basket_size_€_2",
          "avg_basket_size_€_2",
          "avg_basket_size_€_2",
          "avg_basket_size_€_2",
          "avg_basket_size_€_2",
          "avg_basket_size_€_2",
          "avg_basket_size_€_2",
          "avg_basket_size_€_2",
          "avg_basket_size_€_2",
          "avg_basket_size_€_2",
          "avg_basket_size_€_2",
          "avg_basket_size_€_2",
          "avg_basket_size_€_2",
          "avg_basket_size_€_2",
          "avg_basket_size_€_2",
          "avg_basket_size_€_2",
          "avg_basket_size_€_2",
          "avg_basket_size_€_2",
          "avg_basket_size_€_2",
          "avg_basket_size_€_2",
          "avg_basket_size_€_2",
          "avg_basket_size_€_2",
          "avg_basket_size_€_2",
          "avg_basket_size_€_2",
          "avg_basket_size_€_2",
          "avg_basket_size_€_2",
          "avg_basket_size_€_2",
          "avg_basket_size_€_2",
          "avg_basket_size_€_2",
          "avg_basket_size_€_2",
          "avg_basket_size_€_2",
          "avg_basket_size_€_2",
          "avg_basket_size_€_2",
          "avg_basket_size_€_2",
          "avg_basket_size_€_2",
          "avg_basket_size_€_2",
          "avg_basket_size_€_2",
          "avg_basket_size_€_2",
          "avg_basket_size_€_2",
          "avg_basket_size_€_2",
          "avg_basket_size_€_2",
          "avg_basket_size_€_2",
          "avg_basket_size_€_2",
          "avg_basket_size_€_2",
          "avg_basket_size_€_2",
          "avg_basket_size_€_2",
          "avg_basket_size_€_2",
          "avg_basket_size_€_2",
          "avg_basket_size_€_2",
          "avg_basket_size_€_2",
          "avg_basket_size_€_2",
          "avg_basket_size_€_2",
          "avg_basket_size_€_2",
          "avg_basket_size_€_2",
          "avg_basket_size_€_2",
          "avg_basket_size_€_2",
          "avg_basket_size_€_2",
          "avg_basket_size_€_2",
          "avg_basket_size_€_2",
          "avg_basket_size_€_2",
          "avg_basket_size_€_2",
          "avg_basket_size_€_2",
          "avg_basket_size_€_2",
          "avg_basket_size_€_2",
          "avg_basket_size_€_2",
          "avg_basket_size_€_2",
          "avg_basket_size_€_2",
          "avg_basket_size_€_2",
          "avg_basket_size_€_2",
          "avg_basket_size_€_2",
          "avg_basket_size_€_2",
          "avg_basket_size_€_2",
          "avg_basket_size_€_2",
          "avg_basket_size_€_2",
          "avg_basket_size_€_2",
          "avg_basket_size_€_2",
          "avg_basket_size_€_2",
          "avg_basket_size_€_2",
          "avg_basket_size_€_2",
          "avg_basket_size_€_2",
          "avg_basket_size_€_2",
          "avg_basket_size_€_2",
          "avg_basket_size_€_2",
          "avg_basket_size_€_2",
          "avg_basket_size_€_2",
          "avg_basket_size_€_2",
          "avg_basket_size_€_2",
          "avg_basket_size_€_2",
          "avg_basket_size_€_2",
          "avg_basket_size_€_2",
          "avg_basket_size_€_2",
          "avg_basket_size_€_2",
          "avg_basket_size_€_2",
          "avg_basket_size_€_2",
          "avg_basket_size_€_2",
          "avg_basket_size_€_2",
          "avg_basket_size_€_2",
          "avg_basket_size_€_2",
          "avg_basket_size_€_2",
          "avg_basket_size_€_2",
          "avg_basket_size_€_2",
          "avg_basket_size_€_2",
          "avg_basket_size_€_2",
          "avg_basket_size_€_2",
          "avg_basket_size_€_2",
          "avg_basket_size_€_2",
          "avg_basket_size_€_2",
          "avg_basket_size_€_2",
          "avg_basket_size_€_2",
          "avg_basket_size_€_2",
          "avg_basket_size_€_2",
          "avg_basket_size_€_2",
          "avg_basket_size_€_2",
          "avg_basket_size_€_2",
          "avg_basket_size_€_2",
          "avg_basket_size_€_2",
          "avg_basket_size_€_2",
          "avg_basket_size_€_2",
          "avg_basket_size_€_2",
          "avg_basket_size_€_2",
          "avg_basket_size_€_2",
          "avg_basket_size_€_2",
          "avg_basket_size_€_2",
          "avg_basket_size_€_2",
          "avg_basket_size_€_2",
          "avg_basket_size_€_2",
          "avg_basket_size_€_2",
          "avg_basket_size_€_2",
          "avg_basket_size_€_2",
          "avg_basket_size_€_2",
          "avg_basket_size_€_2",
          "avg_basket_size_€_2",
          "avg_basket_size_€_2",
          "avg_basket_size_€_2",
          "avg_basket_size_€_2",
          "avg_basket_size_€_2",
          "avg_basket_size_€_2",
          "avg_basket_size_€_2",
          "avg_basket_size_€_2",
          "avg_basket_size_€_2",
          "avg_basket_size_€_2",
          "avg_basket_size_€_2",
          "avg_basket_size_€_2",
          "avg_basket_size_€_2",
          "avg_basket_size_€_2",
          "avg_basket_size_€_2",
          "avg_basket_size_€_2",
          "avg_basket_size_€_2",
          "avg_basket_size_€_2",
          "avg_basket_size_€_2",
          "avg_basket_size_€_2",
          "avg_basket_size_€_2",
          "avg_basket_size_€_2",
          "avg_basket_size_€_2",
          "avg_basket_size_€_2",
          "avg_basket_size_€_2",
          "avg_basket_size_€_2",
          "avg_basket_size_€_2",
          "avg_basket_size_€_2",
          "avg_basket_size_€_2",
          "avg_basket_size_€_2",
          "avg_basket_size_€_2",
          "avg_basket_size_€_2",
          "avg_basket_size_€_2",
          "avg_basket_size_€_2",
          "avg_basket_size_€_2",
          "avg_basket_size_€_2",
          "avg_basket_size_€_2",
          "avg_basket_size_€_2",
          "avg_basket_size_€_2",
          "avg_basket_size_€_2",
          "avg_basket_size_€_2",
          "avg_basket_size_€_2",
          "avg_basket_size_€_2",
          "avg_basket_size_€_2",
          "avg_basket_size_€_2",
          "avg_basket_size_€_2",
          "avg_basket_size_€_2",
          "avg_basket_size_€_2",
          "avg_basket_size_€_2",
          "avg_basket_size_€_2"
         ],
         "y0": " ",
         "yaxis": "y"
        }
       ],
       "layout": {
        "boxmode": "group",
        "legend": {
         "tracegroupgap": 0
        },
        "template": {
         "data": {
          "bar": [
           {
            "error_x": {
             "color": "#2a3f5f"
            },
            "error_y": {
             "color": "#2a3f5f"
            },
            "marker": {
             "line": {
              "color": "#E5ECF6",
              "width": 0.5
             },
             "pattern": {
              "fillmode": "overlay",
              "size": 10,
              "solidity": 0.2
             }
            },
            "type": "bar"
           }
          ],
          "barpolar": [
           {
            "marker": {
             "line": {
              "color": "#E5ECF6",
              "width": 0.5
             },
             "pattern": {
              "fillmode": "overlay",
              "size": 10,
              "solidity": 0.2
             }
            },
            "type": "barpolar"
           }
          ],
          "carpet": [
           {
            "aaxis": {
             "endlinecolor": "#2a3f5f",
             "gridcolor": "white",
             "linecolor": "white",
             "minorgridcolor": "white",
             "startlinecolor": "#2a3f5f"
            },
            "baxis": {
             "endlinecolor": "#2a3f5f",
             "gridcolor": "white",
             "linecolor": "white",
             "minorgridcolor": "white",
             "startlinecolor": "#2a3f5f"
            },
            "type": "carpet"
           }
          ],
          "choropleth": [
           {
            "colorbar": {
             "outlinewidth": 0,
             "ticks": ""
            },
            "type": "choropleth"
           }
          ],
          "contour": [
           {
            "colorbar": {
             "outlinewidth": 0,
             "ticks": ""
            },
            "colorscale": [
             [
              0,
              "#0d0887"
             ],
             [
              0.1111111111111111,
              "#46039f"
             ],
             [
              0.2222222222222222,
              "#7201a8"
             ],
             [
              0.3333333333333333,
              "#9c179e"
             ],
             [
              0.4444444444444444,
              "#bd3786"
             ],
             [
              0.5555555555555556,
              "#d8576b"
             ],
             [
              0.6666666666666666,
              "#ed7953"
             ],
             [
              0.7777777777777778,
              "#fb9f3a"
             ],
             [
              0.8888888888888888,
              "#fdca26"
             ],
             [
              1,
              "#f0f921"
             ]
            ],
            "type": "contour"
           }
          ],
          "contourcarpet": [
           {
            "colorbar": {
             "outlinewidth": 0,
             "ticks": ""
            },
            "type": "contourcarpet"
           }
          ],
          "heatmap": [
           {
            "colorbar": {
             "outlinewidth": 0,
             "ticks": ""
            },
            "colorscale": [
             [
              0,
              "#0d0887"
             ],
             [
              0.1111111111111111,
              "#46039f"
             ],
             [
              0.2222222222222222,
              "#7201a8"
             ],
             [
              0.3333333333333333,
              "#9c179e"
             ],
             [
              0.4444444444444444,
              "#bd3786"
             ],
             [
              0.5555555555555556,
              "#d8576b"
             ],
             [
              0.6666666666666666,
              "#ed7953"
             ],
             [
              0.7777777777777778,
              "#fb9f3a"
             ],
             [
              0.8888888888888888,
              "#fdca26"
             ],
             [
              1,
              "#f0f921"
             ]
            ],
            "type": "heatmap"
           }
          ],
          "heatmapgl": [
           {
            "colorbar": {
             "outlinewidth": 0,
             "ticks": ""
            },
            "colorscale": [
             [
              0,
              "#0d0887"
             ],
             [
              0.1111111111111111,
              "#46039f"
             ],
             [
              0.2222222222222222,
              "#7201a8"
             ],
             [
              0.3333333333333333,
              "#9c179e"
             ],
             [
              0.4444444444444444,
              "#bd3786"
             ],
             [
              0.5555555555555556,
              "#d8576b"
             ],
             [
              0.6666666666666666,
              "#ed7953"
             ],
             [
              0.7777777777777778,
              "#fb9f3a"
             ],
             [
              0.8888888888888888,
              "#fdca26"
             ],
             [
              1,
              "#f0f921"
             ]
            ],
            "type": "heatmapgl"
           }
          ],
          "histogram": [
           {
            "marker": {
             "pattern": {
              "fillmode": "overlay",
              "size": 10,
              "solidity": 0.2
             }
            },
            "type": "histogram"
           }
          ],
          "histogram2d": [
           {
            "colorbar": {
             "outlinewidth": 0,
             "ticks": ""
            },
            "colorscale": [
             [
              0,
              "#0d0887"
             ],
             [
              0.1111111111111111,
              "#46039f"
             ],
             [
              0.2222222222222222,
              "#7201a8"
             ],
             [
              0.3333333333333333,
              "#9c179e"
             ],
             [
              0.4444444444444444,
              "#bd3786"
             ],
             [
              0.5555555555555556,
              "#d8576b"
             ],
             [
              0.6666666666666666,
              "#ed7953"
             ],
             [
              0.7777777777777778,
              "#fb9f3a"
             ],
             [
              0.8888888888888888,
              "#fdca26"
             ],
             [
              1,
              "#f0f921"
             ]
            ],
            "type": "histogram2d"
           }
          ],
          "histogram2dcontour": [
           {
            "colorbar": {
             "outlinewidth": 0,
             "ticks": ""
            },
            "colorscale": [
             [
              0,
              "#0d0887"
             ],
             [
              0.1111111111111111,
              "#46039f"
             ],
             [
              0.2222222222222222,
              "#7201a8"
             ],
             [
              0.3333333333333333,
              "#9c179e"
             ],
             [
              0.4444444444444444,
              "#bd3786"
             ],
             [
              0.5555555555555556,
              "#d8576b"
             ],
             [
              0.6666666666666666,
              "#ed7953"
             ],
             [
              0.7777777777777778,
              "#fb9f3a"
             ],
             [
              0.8888888888888888,
              "#fdca26"
             ],
             [
              1,
              "#f0f921"
             ]
            ],
            "type": "histogram2dcontour"
           }
          ],
          "mesh3d": [
           {
            "colorbar": {
             "outlinewidth": 0,
             "ticks": ""
            },
            "type": "mesh3d"
           }
          ],
          "parcoords": [
           {
            "line": {
             "colorbar": {
              "outlinewidth": 0,
              "ticks": ""
             }
            },
            "type": "parcoords"
           }
          ],
          "pie": [
           {
            "automargin": true,
            "type": "pie"
           }
          ],
          "scatter": [
           {
            "fillpattern": {
             "fillmode": "overlay",
             "size": 10,
             "solidity": 0.2
            },
            "type": "scatter"
           }
          ],
          "scatter3d": [
           {
            "line": {
             "colorbar": {
              "outlinewidth": 0,
              "ticks": ""
             }
            },
            "marker": {
             "colorbar": {
              "outlinewidth": 0,
              "ticks": ""
             }
            },
            "type": "scatter3d"
           }
          ],
          "scattercarpet": [
           {
            "marker": {
             "colorbar": {
              "outlinewidth": 0,
              "ticks": ""
             }
            },
            "type": "scattercarpet"
           }
          ],
          "scattergeo": [
           {
            "marker": {
             "colorbar": {
              "outlinewidth": 0,
              "ticks": ""
             }
            },
            "type": "scattergeo"
           }
          ],
          "scattergl": [
           {
            "marker": {
             "colorbar": {
              "outlinewidth": 0,
              "ticks": ""
             }
            },
            "type": "scattergl"
           }
          ],
          "scattermapbox": [
           {
            "marker": {
             "colorbar": {
              "outlinewidth": 0,
              "ticks": ""
             }
            },
            "type": "scattermapbox"
           }
          ],
          "scatterpolar": [
           {
            "marker": {
             "colorbar": {
              "outlinewidth": 0,
              "ticks": ""
             }
            },
            "type": "scatterpolar"
           }
          ],
          "scatterpolargl": [
           {
            "marker": {
             "colorbar": {
              "outlinewidth": 0,
              "ticks": ""
             }
            },
            "type": "scatterpolargl"
           }
          ],
          "scatterternary": [
           {
            "marker": {
             "colorbar": {
              "outlinewidth": 0,
              "ticks": ""
             }
            },
            "type": "scatterternary"
           }
          ],
          "surface": [
           {
            "colorbar": {
             "outlinewidth": 0,
             "ticks": ""
            },
            "colorscale": [
             [
              0,
              "#0d0887"
             ],
             [
              0.1111111111111111,
              "#46039f"
             ],
             [
              0.2222222222222222,
              "#7201a8"
             ],
             [
              0.3333333333333333,
              "#9c179e"
             ],
             [
              0.4444444444444444,
              "#bd3786"
             ],
             [
              0.5555555555555556,
              "#d8576b"
             ],
             [
              0.6666666666666666,
              "#ed7953"
             ],
             [
              0.7777777777777778,
              "#fb9f3a"
             ],
             [
              0.8888888888888888,
              "#fdca26"
             ],
             [
              1,
              "#f0f921"
             ]
            ],
            "type": "surface"
           }
          ],
          "table": [
           {
            "cells": {
             "fill": {
              "color": "#EBF0F8"
             },
             "line": {
              "color": "white"
             }
            },
            "header": {
             "fill": {
              "color": "#C8D4E3"
             },
             "line": {
              "color": "white"
             }
            },
            "type": "table"
           }
          ]
         },
         "layout": {
          "annotationdefaults": {
           "arrowcolor": "#2a3f5f",
           "arrowhead": 0,
           "arrowwidth": 1
          },
          "autotypenumbers": "strict",
          "coloraxis": {
           "colorbar": {
            "outlinewidth": 0,
            "ticks": ""
           }
          },
          "colorscale": {
           "diverging": [
            [
             0,
             "#8e0152"
            ],
            [
             0.1,
             "#c51b7d"
            ],
            [
             0.2,
             "#de77ae"
            ],
            [
             0.3,
             "#f1b6da"
            ],
            [
             0.4,
             "#fde0ef"
            ],
            [
             0.5,
             "#f7f7f7"
            ],
            [
             0.6,
             "#e6f5d0"
            ],
            [
             0.7,
             "#b8e186"
            ],
            [
             0.8,
             "#7fbc41"
            ],
            [
             0.9,
             "#4d9221"
            ],
            [
             1,
             "#276419"
            ]
           ],
           "sequential": [
            [
             0,
             "#0d0887"
            ],
            [
             0.1111111111111111,
             "#46039f"
            ],
            [
             0.2222222222222222,
             "#7201a8"
            ],
            [
             0.3333333333333333,
             "#9c179e"
            ],
            [
             0.4444444444444444,
             "#bd3786"
            ],
            [
             0.5555555555555556,
             "#d8576b"
            ],
            [
             0.6666666666666666,
             "#ed7953"
            ],
            [
             0.7777777777777778,
             "#fb9f3a"
            ],
            [
             0.8888888888888888,
             "#fdca26"
            ],
            [
             1,
             "#f0f921"
            ]
           ],
           "sequentialminus": [
            [
             0,
             "#0d0887"
            ],
            [
             0.1111111111111111,
             "#46039f"
            ],
            [
             0.2222222222222222,
             "#7201a8"
            ],
            [
             0.3333333333333333,
             "#9c179e"
            ],
            [
             0.4444444444444444,
             "#bd3786"
            ],
            [
             0.5555555555555556,
             "#d8576b"
            ],
            [
             0.6666666666666666,
             "#ed7953"
            ],
            [
             0.7777777777777778,
             "#fb9f3a"
            ],
            [
             0.8888888888888888,
             "#fdca26"
            ],
            [
             1,
             "#f0f921"
            ]
           ]
          },
          "colorway": [
           "#636efa",
           "#EF553B",
           "#00cc96",
           "#ab63fa",
           "#FFA15A",
           "#19d3f3",
           "#FF6692",
           "#B6E880",
           "#FF97FF",
           "#FECB52"
          ],
          "font": {
           "color": "#2a3f5f"
          },
          "geo": {
           "bgcolor": "white",
           "lakecolor": "white",
           "landcolor": "#E5ECF6",
           "showlakes": true,
           "showland": true,
           "subunitcolor": "white"
          },
          "hoverlabel": {
           "align": "left"
          },
          "hovermode": "closest",
          "mapbox": {
           "style": "light"
          },
          "paper_bgcolor": "white",
          "plot_bgcolor": "#E5ECF6",
          "polar": {
           "angularaxis": {
            "gridcolor": "white",
            "linecolor": "white",
            "ticks": ""
           },
           "bgcolor": "#E5ECF6",
           "radialaxis": {
            "gridcolor": "white",
            "linecolor": "white",
            "ticks": ""
           }
          },
          "scene": {
           "xaxis": {
            "backgroundcolor": "#E5ECF6",
            "gridcolor": "white",
            "gridwidth": 2,
            "linecolor": "white",
            "showbackground": true,
            "ticks": "",
            "zerolinecolor": "white"
           },
           "yaxis": {
            "backgroundcolor": "#E5ECF6",
            "gridcolor": "white",
            "gridwidth": 2,
            "linecolor": "white",
            "showbackground": true,
            "ticks": "",
            "zerolinecolor": "white"
           },
           "zaxis": {
            "backgroundcolor": "#E5ECF6",
            "gridcolor": "white",
            "gridwidth": 2,
            "linecolor": "white",
            "showbackground": true,
            "ticks": "",
            "zerolinecolor": "white"
           }
          },
          "shapedefaults": {
           "line": {
            "color": "#2a3f5f"
           }
          },
          "ternary": {
           "aaxis": {
            "gridcolor": "white",
            "linecolor": "white",
            "ticks": ""
           },
           "baxis": {
            "gridcolor": "white",
            "linecolor": "white",
            "ticks": ""
           },
           "bgcolor": "#E5ECF6",
           "caxis": {
            "gridcolor": "white",
            "linecolor": "white",
            "ticks": ""
           }
          },
          "title": {
           "x": 0.05
          },
          "xaxis": {
           "automargin": true,
           "gridcolor": "white",
           "linecolor": "white",
           "ticks": "",
           "title": {
            "standoff": 15
           },
           "zerolinecolor": "white",
           "zerolinewidth": 2
          },
          "yaxis": {
           "automargin": true,
           "gridcolor": "white",
           "linecolor": "white",
           "ticks": "",
           "title": {
            "standoff": 15
           },
           "zerolinecolor": "white",
           "zerolinewidth": 2
          }
         }
        },
        "title": {
         "text": "Average Basket Size for Month 1 and Month 2"
        },
        "xaxis": {
         "anchor": "y",
         "domain": [
          0,
          1
         ],
         "title": {
          "text": "value"
         }
        },
        "yaxis": {
         "anchor": "x",
         "domain": [
          0,
          1
         ],
         "title": {
          "text": "variable"
         }
        }
       }
      },
      "text/html": [
       "<div>                            <div id=\"4d12b97e-0b44-47a0-bc94-b06882ceff99\" class=\"plotly-graph-div\" style=\"height:525px; width:100%;\"></div>            <script type=\"text/javascript\">                require([\"plotly\"], function(Plotly) {                    window.PLOTLYENV=window.PLOTLYENV || {};                                    if (document.getElementById(\"4d12b97e-0b44-47a0-bc94-b06882ceff99\")) {                    Plotly.newPlot(                        \"4d12b97e-0b44-47a0-bc94-b06882ceff99\",                        [{\"alignmentgroup\":\"True\",\"hovertemplate\":\"value=%{x}<br>variable=%{y}<extra></extra>\",\"legendgroup\":\"\",\"marker\":{\"color\":\"#636efa\"},\"name\":\"\",\"notched\":false,\"offsetgroup\":\"\",\"orientation\":\"h\",\"showlegend\":false,\"x\":[15.0,15.0,30.0,10.0,21.0,19.0,11.0,null,31.0,12.0,null,14.0,20.0,21.0,22.0,23.0,18.0,null,22.0,22.0,20.0,21.0,23.0,null,19.0,16.0,17.0,22.0,25.0,23.0,23.666666666666668,26.0,21.0,23.0,26.0,18.0,18.0,11.0,15.0,17.0,15.0,22.0,23.0,19.0,22.0,26.0,26.0,24.0,18.0,24.0,23.0,27.0,24.0,22.0,18.0,14.0,17.0,17.0,null,12.0,19.0,25.0,null,23.0,null,null,19.0,21.0,24.0,21.0,19.0,20.0,15.0,14.0,16.0,null,17.0,16.0,10.0,31.0,24.0,24.0,20.0,28.0,null,23.0,32.0,13.0,25.0,null,29.0,null,null,21.0,26.0,25.0,27.0,9.0,21.0,12.0,23.0,26.0,16.0,16.0,18.0,26.0,17.0,14.0,24.0,25.0,16.0,26.0,17.0,14.0,27.0,11.0,21.0,22.0,31.0,21.0,21.5,23.0,21.0,17.0,23.0,28.0,15.0,18.0,27.0,null,13.0,16.0,11.0,22.0,19.0,15.0,19.0,15.0,17.0,24.0,17.0,18.0,28.0,null,null,17.0,null,29.0,17.0,null,19.0,23.0,20.0,15.0,11.0,24.0,19.0,21.0,23.0,18.0,14.0,20.0,18.0,17.0,17.0,11.0,16.0,20.0,16.0,21.0,null,28.0,18.0,19.0,19.0,14.0,22.0,23.0,12.0,23.0,18.0,21.0,26.0,15.5,20.0,24.0,11.0,26.0,20.0,null,19.0,13.0,16.0,18.0,17.0,14.0,14.0,26.0,23.0,14.0,17.0,30.0,12.0,28.0,25.0,21.0,18.0,36.0,10.0,14.0,18.0,27.0,17.0,16.0,17.0,16.0,23.0,17.0,21.0,24.0,null,26.0,28.5,38.0,null,24.0,21.0,26.0,16.0,21.0,14.0,14.0,31.0,10.0,22.0,20.0,12.0,null,32.0,12.0,null,19.0,19.0,18.0,24.0,24.0,19.0,null,23.0,22.0,20.0,14.0,23.0,null,20.0,13.0,17.0,20.0,24.0,19.0,24.666666666666668,25.0,22.0,23.0,27.0,22.0,18.0,13.0,14.0,18.0,15.0,22.0,22.0,20.0,23.0,25.0,27.0,25.0,18.0,24.0,24.0,28.0,25.0,22.0,20.0,32.0,15.0,27.0,null,14.0,19.0,26.0,null,18.0,null,null,19.0,23.0,23.0,21.0,15.0,18.0,17.0,12.0,15.0,null,18.0,17.0,9.0,17.0,30.0,26.0,20.0,26.0,null,22.0,38.0,8.0,27.0,null,30.0,null,null,21.0,24.0,27.0,25.0,10.0,23.0,11.0,24.0,25.0,25.0,16.0,18.0,22.0,18.0,14.0,22.0,25.0,14.0,27.0,26.0,13.0,19.0,11.0,23.0,23.0,31.0,21.5,22.0,23.0,22.0,18.0,24.0,30.0,13.0,21.0,29.0,null,14.0,21.0,10.0,22.0,22.0,14.0,17.0,14.0,17.0,19.0,20.0,19.0,29.0,null,null,22.0,null,25.0,17.0,null,18.0,24.0,25.0,16.0,11.0,23.0,20.0,23.0,22.0,17.0,14.0,20.0,20.0,17.0,18.0,9.0,17.0,21.0,15.0,21.0,null,27.0,17.0,22.0,19.0,14.0,21.0,22.0,12.0,23.0,18.0,21.0,28.0,15.5,19.0,25.0,18.0,25.0,19.0,null,22.0,13.0,19.0,18.0,18.0,19.0,14.0,27.0,23.0,16.0,16.0,30.0,13.0,26.0,20.0,22.0,19.0,43.0,10.0,14.0,19.0,27.0,16.0,16.0,17.0,16.0,24.0,17.0,19.0,24.0,null,26.0,25.5,28.0,null,24.0,22.0,26.0,19.0,22.0],\"x0\":\" \",\"xaxis\":\"x\",\"y\":[\"avg_basket_size_\\u20ac_1\",\"avg_basket_size_\\u20ac_1\",\"avg_basket_size_\\u20ac_1\",\"avg_basket_size_\\u20ac_1\",\"avg_basket_size_\\u20ac_1\",\"avg_basket_size_\\u20ac_1\",\"avg_basket_size_\\u20ac_1\",\"avg_basket_size_\\u20ac_1\",\"avg_basket_size_\\u20ac_1\",\"avg_basket_size_\\u20ac_1\",\"avg_basket_size_\\u20ac_1\",\"avg_basket_size_\\u20ac_1\",\"avg_basket_size_\\u20ac_1\",\"avg_basket_size_\\u20ac_1\",\"avg_basket_size_\\u20ac_1\",\"avg_basket_size_\\u20ac_1\",\"avg_basket_size_\\u20ac_1\",\"avg_basket_size_\\u20ac_1\",\"avg_basket_size_\\u20ac_1\",\"avg_basket_size_\\u20ac_1\",\"avg_basket_size_\\u20ac_1\",\"avg_basket_size_\\u20ac_1\",\"avg_basket_size_\\u20ac_1\",\"avg_basket_size_\\u20ac_1\",\"avg_basket_size_\\u20ac_1\",\"avg_basket_size_\\u20ac_1\",\"avg_basket_size_\\u20ac_1\",\"avg_basket_size_\\u20ac_1\",\"avg_basket_size_\\u20ac_1\",\"avg_basket_size_\\u20ac_1\",\"avg_basket_size_\\u20ac_1\",\"avg_basket_size_\\u20ac_1\",\"avg_basket_size_\\u20ac_1\",\"avg_basket_size_\\u20ac_1\",\"avg_basket_size_\\u20ac_1\",\"avg_basket_size_\\u20ac_1\",\"avg_basket_size_\\u20ac_1\",\"avg_basket_size_\\u20ac_1\",\"avg_basket_size_\\u20ac_1\",\"avg_basket_size_\\u20ac_1\",\"avg_basket_size_\\u20ac_1\",\"avg_basket_size_\\u20ac_1\",\"avg_basket_size_\\u20ac_1\",\"avg_basket_size_\\u20ac_1\",\"avg_basket_size_\\u20ac_1\",\"avg_basket_size_\\u20ac_1\",\"avg_basket_size_\\u20ac_1\",\"avg_basket_size_\\u20ac_1\",\"avg_basket_size_\\u20ac_1\",\"avg_basket_size_\\u20ac_1\",\"avg_basket_size_\\u20ac_1\",\"avg_basket_size_\\u20ac_1\",\"avg_basket_size_\\u20ac_1\",\"avg_basket_size_\\u20ac_1\",\"avg_basket_size_\\u20ac_1\",\"avg_basket_size_\\u20ac_1\",\"avg_basket_size_\\u20ac_1\",\"avg_basket_size_\\u20ac_1\",\"avg_basket_size_\\u20ac_1\",\"avg_basket_size_\\u20ac_1\",\"avg_basket_size_\\u20ac_1\",\"avg_basket_size_\\u20ac_1\",\"avg_basket_size_\\u20ac_1\",\"avg_basket_size_\\u20ac_1\",\"avg_basket_size_\\u20ac_1\",\"avg_basket_size_\\u20ac_1\",\"avg_basket_size_\\u20ac_1\",\"avg_basket_size_\\u20ac_1\",\"avg_basket_size_\\u20ac_1\",\"avg_basket_size_\\u20ac_1\",\"avg_basket_size_\\u20ac_1\",\"avg_basket_size_\\u20ac_1\",\"avg_basket_size_\\u20ac_1\",\"avg_basket_size_\\u20ac_1\",\"avg_basket_size_\\u20ac_1\",\"avg_basket_size_\\u20ac_1\",\"avg_basket_size_\\u20ac_1\",\"avg_basket_size_\\u20ac_1\",\"avg_basket_size_\\u20ac_1\",\"avg_basket_size_\\u20ac_1\",\"avg_basket_size_\\u20ac_1\",\"avg_basket_size_\\u20ac_1\",\"avg_basket_size_\\u20ac_1\",\"avg_basket_size_\\u20ac_1\",\"avg_basket_size_\\u20ac_1\",\"avg_basket_size_\\u20ac_1\",\"avg_basket_size_\\u20ac_1\",\"avg_basket_size_\\u20ac_1\",\"avg_basket_size_\\u20ac_1\",\"avg_basket_size_\\u20ac_1\",\"avg_basket_size_\\u20ac_1\",\"avg_basket_size_\\u20ac_1\",\"avg_basket_size_\\u20ac_1\",\"avg_basket_size_\\u20ac_1\",\"avg_basket_size_\\u20ac_1\",\"avg_basket_size_\\u20ac_1\",\"avg_basket_size_\\u20ac_1\",\"avg_basket_size_\\u20ac_1\",\"avg_basket_size_\\u20ac_1\",\"avg_basket_size_\\u20ac_1\",\"avg_basket_size_\\u20ac_1\",\"avg_basket_size_\\u20ac_1\",\"avg_basket_size_\\u20ac_1\",\"avg_basket_size_\\u20ac_1\",\"avg_basket_size_\\u20ac_1\",\"avg_basket_size_\\u20ac_1\",\"avg_basket_size_\\u20ac_1\",\"avg_basket_size_\\u20ac_1\",\"avg_basket_size_\\u20ac_1\",\"avg_basket_size_\\u20ac_1\",\"avg_basket_size_\\u20ac_1\",\"avg_basket_size_\\u20ac_1\",\"avg_basket_size_\\u20ac_1\",\"avg_basket_size_\\u20ac_1\",\"avg_basket_size_\\u20ac_1\",\"avg_basket_size_\\u20ac_1\",\"avg_basket_size_\\u20ac_1\",\"avg_basket_size_\\u20ac_1\",\"avg_basket_size_\\u20ac_1\",\"avg_basket_size_\\u20ac_1\",\"avg_basket_size_\\u20ac_1\",\"avg_basket_size_\\u20ac_1\",\"avg_basket_size_\\u20ac_1\",\"avg_basket_size_\\u20ac_1\",\"avg_basket_size_\\u20ac_1\",\"avg_basket_size_\\u20ac_1\",\"avg_basket_size_\\u20ac_1\",\"avg_basket_size_\\u20ac_1\",\"avg_basket_size_\\u20ac_1\",\"avg_basket_size_\\u20ac_1\",\"avg_basket_size_\\u20ac_1\",\"avg_basket_size_\\u20ac_1\",\"avg_basket_size_\\u20ac_1\",\"avg_basket_size_\\u20ac_1\",\"avg_basket_size_\\u20ac_1\",\"avg_basket_size_\\u20ac_1\",\"avg_basket_size_\\u20ac_1\",\"avg_basket_size_\\u20ac_1\",\"avg_basket_size_\\u20ac_1\",\"avg_basket_size_\\u20ac_1\",\"avg_basket_size_\\u20ac_1\",\"avg_basket_size_\\u20ac_1\",\"avg_basket_size_\\u20ac_1\",\"avg_basket_size_\\u20ac_1\",\"avg_basket_size_\\u20ac_1\",\"avg_basket_size_\\u20ac_1\",\"avg_basket_size_\\u20ac_1\",\"avg_basket_size_\\u20ac_1\",\"avg_basket_size_\\u20ac_1\",\"avg_basket_size_\\u20ac_1\",\"avg_basket_size_\\u20ac_1\",\"avg_basket_size_\\u20ac_1\",\"avg_basket_size_\\u20ac_1\",\"avg_basket_size_\\u20ac_1\",\"avg_basket_size_\\u20ac_1\",\"avg_basket_size_\\u20ac_1\",\"avg_basket_size_\\u20ac_1\",\"avg_basket_size_\\u20ac_1\",\"avg_basket_size_\\u20ac_1\",\"avg_basket_size_\\u20ac_1\",\"avg_basket_size_\\u20ac_1\",\"avg_basket_size_\\u20ac_1\",\"avg_basket_size_\\u20ac_1\",\"avg_basket_size_\\u20ac_1\",\"avg_basket_size_\\u20ac_1\",\"avg_basket_size_\\u20ac_1\",\"avg_basket_size_\\u20ac_1\",\"avg_basket_size_\\u20ac_1\",\"avg_basket_size_\\u20ac_1\",\"avg_basket_size_\\u20ac_1\",\"avg_basket_size_\\u20ac_1\",\"avg_basket_size_\\u20ac_1\",\"avg_basket_size_\\u20ac_1\",\"avg_basket_size_\\u20ac_1\",\"avg_basket_size_\\u20ac_1\",\"avg_basket_size_\\u20ac_1\",\"avg_basket_size_\\u20ac_1\",\"avg_basket_size_\\u20ac_1\",\"avg_basket_size_\\u20ac_1\",\"avg_basket_size_\\u20ac_1\",\"avg_basket_size_\\u20ac_1\",\"avg_basket_size_\\u20ac_1\",\"avg_basket_size_\\u20ac_1\",\"avg_basket_size_\\u20ac_1\",\"avg_basket_size_\\u20ac_1\",\"avg_basket_size_\\u20ac_1\",\"avg_basket_size_\\u20ac_1\",\"avg_basket_size_\\u20ac_1\",\"avg_basket_size_\\u20ac_1\",\"avg_basket_size_\\u20ac_1\",\"avg_basket_size_\\u20ac_1\",\"avg_basket_size_\\u20ac_1\",\"avg_basket_size_\\u20ac_1\",\"avg_basket_size_\\u20ac_1\",\"avg_basket_size_\\u20ac_1\",\"avg_basket_size_\\u20ac_1\",\"avg_basket_size_\\u20ac_1\",\"avg_basket_size_\\u20ac_1\",\"avg_basket_size_\\u20ac_1\",\"avg_basket_size_\\u20ac_1\",\"avg_basket_size_\\u20ac_1\",\"avg_basket_size_\\u20ac_1\",\"avg_basket_size_\\u20ac_1\",\"avg_basket_size_\\u20ac_1\",\"avg_basket_size_\\u20ac_1\",\"avg_basket_size_\\u20ac_1\",\"avg_basket_size_\\u20ac_1\",\"avg_basket_size_\\u20ac_1\",\"avg_basket_size_\\u20ac_1\",\"avg_basket_size_\\u20ac_1\",\"avg_basket_size_\\u20ac_1\",\"avg_basket_size_\\u20ac_1\",\"avg_basket_size_\\u20ac_1\",\"avg_basket_size_\\u20ac_1\",\"avg_basket_size_\\u20ac_1\",\"avg_basket_size_\\u20ac_1\",\"avg_basket_size_\\u20ac_1\",\"avg_basket_size_\\u20ac_1\",\"avg_basket_size_\\u20ac_1\",\"avg_basket_size_\\u20ac_1\",\"avg_basket_size_\\u20ac_1\",\"avg_basket_size_\\u20ac_1\",\"avg_basket_size_\\u20ac_1\",\"avg_basket_size_\\u20ac_1\",\"avg_basket_size_\\u20ac_1\",\"avg_basket_size_\\u20ac_1\",\"avg_basket_size_\\u20ac_1\",\"avg_basket_size_\\u20ac_1\",\"avg_basket_size_\\u20ac_1\",\"avg_basket_size_\\u20ac_1\",\"avg_basket_size_\\u20ac_2\",\"avg_basket_size_\\u20ac_2\",\"avg_basket_size_\\u20ac_2\",\"avg_basket_size_\\u20ac_2\",\"avg_basket_size_\\u20ac_2\",\"avg_basket_size_\\u20ac_2\",\"avg_basket_size_\\u20ac_2\",\"avg_basket_size_\\u20ac_2\",\"avg_basket_size_\\u20ac_2\",\"avg_basket_size_\\u20ac_2\",\"avg_basket_size_\\u20ac_2\",\"avg_basket_size_\\u20ac_2\",\"avg_basket_size_\\u20ac_2\",\"avg_basket_size_\\u20ac_2\",\"avg_basket_size_\\u20ac_2\",\"avg_basket_size_\\u20ac_2\",\"avg_basket_size_\\u20ac_2\",\"avg_basket_size_\\u20ac_2\",\"avg_basket_size_\\u20ac_2\",\"avg_basket_size_\\u20ac_2\",\"avg_basket_size_\\u20ac_2\",\"avg_basket_size_\\u20ac_2\",\"avg_basket_size_\\u20ac_2\",\"avg_basket_size_\\u20ac_2\",\"avg_basket_size_\\u20ac_2\",\"avg_basket_size_\\u20ac_2\",\"avg_basket_size_\\u20ac_2\",\"avg_basket_size_\\u20ac_2\",\"avg_basket_size_\\u20ac_2\",\"avg_basket_size_\\u20ac_2\",\"avg_basket_size_\\u20ac_2\",\"avg_basket_size_\\u20ac_2\",\"avg_basket_size_\\u20ac_2\",\"avg_basket_size_\\u20ac_2\",\"avg_basket_size_\\u20ac_2\",\"avg_basket_size_\\u20ac_2\",\"avg_basket_size_\\u20ac_2\",\"avg_basket_size_\\u20ac_2\",\"avg_basket_size_\\u20ac_2\",\"avg_basket_size_\\u20ac_2\",\"avg_basket_size_\\u20ac_2\",\"avg_basket_size_\\u20ac_2\",\"avg_basket_size_\\u20ac_2\",\"avg_basket_size_\\u20ac_2\",\"avg_basket_size_\\u20ac_2\",\"avg_basket_size_\\u20ac_2\",\"avg_basket_size_\\u20ac_2\",\"avg_basket_size_\\u20ac_2\",\"avg_basket_size_\\u20ac_2\",\"avg_basket_size_\\u20ac_2\",\"avg_basket_size_\\u20ac_2\",\"avg_basket_size_\\u20ac_2\",\"avg_basket_size_\\u20ac_2\",\"avg_basket_size_\\u20ac_2\",\"avg_basket_size_\\u20ac_2\",\"avg_basket_size_\\u20ac_2\",\"avg_basket_size_\\u20ac_2\",\"avg_basket_size_\\u20ac_2\",\"avg_basket_size_\\u20ac_2\",\"avg_basket_size_\\u20ac_2\",\"avg_basket_size_\\u20ac_2\",\"avg_basket_size_\\u20ac_2\",\"avg_basket_size_\\u20ac_2\",\"avg_basket_size_\\u20ac_2\",\"avg_basket_size_\\u20ac_2\",\"avg_basket_size_\\u20ac_2\",\"avg_basket_size_\\u20ac_2\",\"avg_basket_size_\\u20ac_2\",\"avg_basket_size_\\u20ac_2\",\"avg_basket_size_\\u20ac_2\",\"avg_basket_size_\\u20ac_2\",\"avg_basket_size_\\u20ac_2\",\"avg_basket_size_\\u20ac_2\",\"avg_basket_size_\\u20ac_2\",\"avg_basket_size_\\u20ac_2\",\"avg_basket_size_\\u20ac_2\",\"avg_basket_size_\\u20ac_2\",\"avg_basket_size_\\u20ac_2\",\"avg_basket_size_\\u20ac_2\",\"avg_basket_size_\\u20ac_2\",\"avg_basket_size_\\u20ac_2\",\"avg_basket_size_\\u20ac_2\",\"avg_basket_size_\\u20ac_2\",\"avg_basket_size_\\u20ac_2\",\"avg_basket_size_\\u20ac_2\",\"avg_basket_size_\\u20ac_2\",\"avg_basket_size_\\u20ac_2\",\"avg_basket_size_\\u20ac_2\",\"avg_basket_size_\\u20ac_2\",\"avg_basket_size_\\u20ac_2\",\"avg_basket_size_\\u20ac_2\",\"avg_basket_size_\\u20ac_2\",\"avg_basket_size_\\u20ac_2\",\"avg_basket_size_\\u20ac_2\",\"avg_basket_size_\\u20ac_2\",\"avg_basket_size_\\u20ac_2\",\"avg_basket_size_\\u20ac_2\",\"avg_basket_size_\\u20ac_2\",\"avg_basket_size_\\u20ac_2\",\"avg_basket_size_\\u20ac_2\",\"avg_basket_size_\\u20ac_2\",\"avg_basket_size_\\u20ac_2\",\"avg_basket_size_\\u20ac_2\",\"avg_basket_size_\\u20ac_2\",\"avg_basket_size_\\u20ac_2\",\"avg_basket_size_\\u20ac_2\",\"avg_basket_size_\\u20ac_2\",\"avg_basket_size_\\u20ac_2\",\"avg_basket_size_\\u20ac_2\",\"avg_basket_size_\\u20ac_2\",\"avg_basket_size_\\u20ac_2\",\"avg_basket_size_\\u20ac_2\",\"avg_basket_size_\\u20ac_2\",\"avg_basket_size_\\u20ac_2\",\"avg_basket_size_\\u20ac_2\",\"avg_basket_size_\\u20ac_2\",\"avg_basket_size_\\u20ac_2\",\"avg_basket_size_\\u20ac_2\",\"avg_basket_size_\\u20ac_2\",\"avg_basket_size_\\u20ac_2\",\"avg_basket_size_\\u20ac_2\",\"avg_basket_size_\\u20ac_2\",\"avg_basket_size_\\u20ac_2\",\"avg_basket_size_\\u20ac_2\",\"avg_basket_size_\\u20ac_2\",\"avg_basket_size_\\u20ac_2\",\"avg_basket_size_\\u20ac_2\",\"avg_basket_size_\\u20ac_2\",\"avg_basket_size_\\u20ac_2\",\"avg_basket_size_\\u20ac_2\",\"avg_basket_size_\\u20ac_2\",\"avg_basket_size_\\u20ac_2\",\"avg_basket_size_\\u20ac_2\",\"avg_basket_size_\\u20ac_2\",\"avg_basket_size_\\u20ac_2\",\"avg_basket_size_\\u20ac_2\",\"avg_basket_size_\\u20ac_2\",\"avg_basket_size_\\u20ac_2\",\"avg_basket_size_\\u20ac_2\",\"avg_basket_size_\\u20ac_2\",\"avg_basket_size_\\u20ac_2\",\"avg_basket_size_\\u20ac_2\",\"avg_basket_size_\\u20ac_2\",\"avg_basket_size_\\u20ac_2\",\"avg_basket_size_\\u20ac_2\",\"avg_basket_size_\\u20ac_2\",\"avg_basket_size_\\u20ac_2\",\"avg_basket_size_\\u20ac_2\",\"avg_basket_size_\\u20ac_2\",\"avg_basket_size_\\u20ac_2\",\"avg_basket_size_\\u20ac_2\",\"avg_basket_size_\\u20ac_2\",\"avg_basket_size_\\u20ac_2\",\"avg_basket_size_\\u20ac_2\",\"avg_basket_size_\\u20ac_2\",\"avg_basket_size_\\u20ac_2\",\"avg_basket_size_\\u20ac_2\",\"avg_basket_size_\\u20ac_2\",\"avg_basket_size_\\u20ac_2\",\"avg_basket_size_\\u20ac_2\",\"avg_basket_size_\\u20ac_2\",\"avg_basket_size_\\u20ac_2\",\"avg_basket_size_\\u20ac_2\",\"avg_basket_size_\\u20ac_2\",\"avg_basket_size_\\u20ac_2\",\"avg_basket_size_\\u20ac_2\",\"avg_basket_size_\\u20ac_2\",\"avg_basket_size_\\u20ac_2\",\"avg_basket_size_\\u20ac_2\",\"avg_basket_size_\\u20ac_2\",\"avg_basket_size_\\u20ac_2\",\"avg_basket_size_\\u20ac_2\",\"avg_basket_size_\\u20ac_2\",\"avg_basket_size_\\u20ac_2\",\"avg_basket_size_\\u20ac_2\",\"avg_basket_size_\\u20ac_2\",\"avg_basket_size_\\u20ac_2\",\"avg_basket_size_\\u20ac_2\",\"avg_basket_size_\\u20ac_2\",\"avg_basket_size_\\u20ac_2\",\"avg_basket_size_\\u20ac_2\",\"avg_basket_size_\\u20ac_2\",\"avg_basket_size_\\u20ac_2\",\"avg_basket_size_\\u20ac_2\",\"avg_basket_size_\\u20ac_2\",\"avg_basket_size_\\u20ac_2\",\"avg_basket_size_\\u20ac_2\",\"avg_basket_size_\\u20ac_2\",\"avg_basket_size_\\u20ac_2\",\"avg_basket_size_\\u20ac_2\",\"avg_basket_size_\\u20ac_2\",\"avg_basket_size_\\u20ac_2\",\"avg_basket_size_\\u20ac_2\",\"avg_basket_size_\\u20ac_2\",\"avg_basket_size_\\u20ac_2\",\"avg_basket_size_\\u20ac_2\",\"avg_basket_size_\\u20ac_2\",\"avg_basket_size_\\u20ac_2\",\"avg_basket_size_\\u20ac_2\",\"avg_basket_size_\\u20ac_2\",\"avg_basket_size_\\u20ac_2\",\"avg_basket_size_\\u20ac_2\",\"avg_basket_size_\\u20ac_2\",\"avg_basket_size_\\u20ac_2\",\"avg_basket_size_\\u20ac_2\",\"avg_basket_size_\\u20ac_2\",\"avg_basket_size_\\u20ac_2\",\"avg_basket_size_\\u20ac_2\",\"avg_basket_size_\\u20ac_2\",\"avg_basket_size_\\u20ac_2\",\"avg_basket_size_\\u20ac_2\",\"avg_basket_size_\\u20ac_2\",\"avg_basket_size_\\u20ac_2\",\"avg_basket_size_\\u20ac_2\",\"avg_basket_size_\\u20ac_2\",\"avg_basket_size_\\u20ac_2\",\"avg_basket_size_\\u20ac_2\",\"avg_basket_size_\\u20ac_2\",\"avg_basket_size_\\u20ac_2\",\"avg_basket_size_\\u20ac_2\",\"avg_basket_size_\\u20ac_2\",\"avg_basket_size_\\u20ac_2\",\"avg_basket_size_\\u20ac_2\",\"avg_basket_size_\\u20ac_2\",\"avg_basket_size_\\u20ac_2\",\"avg_basket_size_\\u20ac_2\",\"avg_basket_size_\\u20ac_2\",\"avg_basket_size_\\u20ac_2\",\"avg_basket_size_\\u20ac_2\",\"avg_basket_size_\\u20ac_2\"],\"y0\":\" \",\"yaxis\":\"y\",\"type\":\"box\"}],                        {\"template\":{\"data\":{\"histogram2dcontour\":[{\"type\":\"histogram2dcontour\",\"colorbar\":{\"outlinewidth\":0,\"ticks\":\"\"},\"colorscale\":[[0.0,\"#0d0887\"],[0.1111111111111111,\"#46039f\"],[0.2222222222222222,\"#7201a8\"],[0.3333333333333333,\"#9c179e\"],[0.4444444444444444,\"#bd3786\"],[0.5555555555555556,\"#d8576b\"],[0.6666666666666666,\"#ed7953\"],[0.7777777777777778,\"#fb9f3a\"],[0.8888888888888888,\"#fdca26\"],[1.0,\"#f0f921\"]]}],\"choropleth\":[{\"type\":\"choropleth\",\"colorbar\":{\"outlinewidth\":0,\"ticks\":\"\"}}],\"histogram2d\":[{\"type\":\"histogram2d\",\"colorbar\":{\"outlinewidth\":0,\"ticks\":\"\"},\"colorscale\":[[0.0,\"#0d0887\"],[0.1111111111111111,\"#46039f\"],[0.2222222222222222,\"#7201a8\"],[0.3333333333333333,\"#9c179e\"],[0.4444444444444444,\"#bd3786\"],[0.5555555555555556,\"#d8576b\"],[0.6666666666666666,\"#ed7953\"],[0.7777777777777778,\"#fb9f3a\"],[0.8888888888888888,\"#fdca26\"],[1.0,\"#f0f921\"]]}],\"heatmap\":[{\"type\":\"heatmap\",\"colorbar\":{\"outlinewidth\":0,\"ticks\":\"\"},\"colorscale\":[[0.0,\"#0d0887\"],[0.1111111111111111,\"#46039f\"],[0.2222222222222222,\"#7201a8\"],[0.3333333333333333,\"#9c179e\"],[0.4444444444444444,\"#bd3786\"],[0.5555555555555556,\"#d8576b\"],[0.6666666666666666,\"#ed7953\"],[0.7777777777777778,\"#fb9f3a\"],[0.8888888888888888,\"#fdca26\"],[1.0,\"#f0f921\"]]}],\"heatmapgl\":[{\"type\":\"heatmapgl\",\"colorbar\":{\"outlinewidth\":0,\"ticks\":\"\"},\"colorscale\":[[0.0,\"#0d0887\"],[0.1111111111111111,\"#46039f\"],[0.2222222222222222,\"#7201a8\"],[0.3333333333333333,\"#9c179e\"],[0.4444444444444444,\"#bd3786\"],[0.5555555555555556,\"#d8576b\"],[0.6666666666666666,\"#ed7953\"],[0.7777777777777778,\"#fb9f3a\"],[0.8888888888888888,\"#fdca26\"],[1.0,\"#f0f921\"]]}],\"contourcarpet\":[{\"type\":\"contourcarpet\",\"colorbar\":{\"outlinewidth\":0,\"ticks\":\"\"}}],\"contour\":[{\"type\":\"contour\",\"colorbar\":{\"outlinewidth\":0,\"ticks\":\"\"},\"colorscale\":[[0.0,\"#0d0887\"],[0.1111111111111111,\"#46039f\"],[0.2222222222222222,\"#7201a8\"],[0.3333333333333333,\"#9c179e\"],[0.4444444444444444,\"#bd3786\"],[0.5555555555555556,\"#d8576b\"],[0.6666666666666666,\"#ed7953\"],[0.7777777777777778,\"#fb9f3a\"],[0.8888888888888888,\"#fdca26\"],[1.0,\"#f0f921\"]]}],\"surface\":[{\"type\":\"surface\",\"colorbar\":{\"outlinewidth\":0,\"ticks\":\"\"},\"colorscale\":[[0.0,\"#0d0887\"],[0.1111111111111111,\"#46039f\"],[0.2222222222222222,\"#7201a8\"],[0.3333333333333333,\"#9c179e\"],[0.4444444444444444,\"#bd3786\"],[0.5555555555555556,\"#d8576b\"],[0.6666666666666666,\"#ed7953\"],[0.7777777777777778,\"#fb9f3a\"],[0.8888888888888888,\"#fdca26\"],[1.0,\"#f0f921\"]]}],\"mesh3d\":[{\"type\":\"mesh3d\",\"colorbar\":{\"outlinewidth\":0,\"ticks\":\"\"}}],\"scatter\":[{\"fillpattern\":{\"fillmode\":\"overlay\",\"size\":10,\"solidity\":0.2},\"type\":\"scatter\"}],\"parcoords\":[{\"type\":\"parcoords\",\"line\":{\"colorbar\":{\"outlinewidth\":0,\"ticks\":\"\"}}}],\"scatterpolargl\":[{\"type\":\"scatterpolargl\",\"marker\":{\"colorbar\":{\"outlinewidth\":0,\"ticks\":\"\"}}}],\"bar\":[{\"error_x\":{\"color\":\"#2a3f5f\"},\"error_y\":{\"color\":\"#2a3f5f\"},\"marker\":{\"line\":{\"color\":\"#E5ECF6\",\"width\":0.5},\"pattern\":{\"fillmode\":\"overlay\",\"size\":10,\"solidity\":0.2}},\"type\":\"bar\"}],\"scattergeo\":[{\"type\":\"scattergeo\",\"marker\":{\"colorbar\":{\"outlinewidth\":0,\"ticks\":\"\"}}}],\"scatterpolar\":[{\"type\":\"scatterpolar\",\"marker\":{\"colorbar\":{\"outlinewidth\":0,\"ticks\":\"\"}}}],\"histogram\":[{\"marker\":{\"pattern\":{\"fillmode\":\"overlay\",\"size\":10,\"solidity\":0.2}},\"type\":\"histogram\"}],\"scattergl\":[{\"type\":\"scattergl\",\"marker\":{\"colorbar\":{\"outlinewidth\":0,\"ticks\":\"\"}}}],\"scatter3d\":[{\"type\":\"scatter3d\",\"line\":{\"colorbar\":{\"outlinewidth\":0,\"ticks\":\"\"}},\"marker\":{\"colorbar\":{\"outlinewidth\":0,\"ticks\":\"\"}}}],\"scattermapbox\":[{\"type\":\"scattermapbox\",\"marker\":{\"colorbar\":{\"outlinewidth\":0,\"ticks\":\"\"}}}],\"scatterternary\":[{\"type\":\"scatterternary\",\"marker\":{\"colorbar\":{\"outlinewidth\":0,\"ticks\":\"\"}}}],\"scattercarpet\":[{\"type\":\"scattercarpet\",\"marker\":{\"colorbar\":{\"outlinewidth\":0,\"ticks\":\"\"}}}],\"carpet\":[{\"aaxis\":{\"endlinecolor\":\"#2a3f5f\",\"gridcolor\":\"white\",\"linecolor\":\"white\",\"minorgridcolor\":\"white\",\"startlinecolor\":\"#2a3f5f\"},\"baxis\":{\"endlinecolor\":\"#2a3f5f\",\"gridcolor\":\"white\",\"linecolor\":\"white\",\"minorgridcolor\":\"white\",\"startlinecolor\":\"#2a3f5f\"},\"type\":\"carpet\"}],\"table\":[{\"cells\":{\"fill\":{\"color\":\"#EBF0F8\"},\"line\":{\"color\":\"white\"}},\"header\":{\"fill\":{\"color\":\"#C8D4E3\"},\"line\":{\"color\":\"white\"}},\"type\":\"table\"}],\"barpolar\":[{\"marker\":{\"line\":{\"color\":\"#E5ECF6\",\"width\":0.5},\"pattern\":{\"fillmode\":\"overlay\",\"size\":10,\"solidity\":0.2}},\"type\":\"barpolar\"}],\"pie\":[{\"automargin\":true,\"type\":\"pie\"}]},\"layout\":{\"autotypenumbers\":\"strict\",\"colorway\":[\"#636efa\",\"#EF553B\",\"#00cc96\",\"#ab63fa\",\"#FFA15A\",\"#19d3f3\",\"#FF6692\",\"#B6E880\",\"#FF97FF\",\"#FECB52\"],\"font\":{\"color\":\"#2a3f5f\"},\"hovermode\":\"closest\",\"hoverlabel\":{\"align\":\"left\"},\"paper_bgcolor\":\"white\",\"plot_bgcolor\":\"#E5ECF6\",\"polar\":{\"bgcolor\":\"#E5ECF6\",\"angularaxis\":{\"gridcolor\":\"white\",\"linecolor\":\"white\",\"ticks\":\"\"},\"radialaxis\":{\"gridcolor\":\"white\",\"linecolor\":\"white\",\"ticks\":\"\"}},\"ternary\":{\"bgcolor\":\"#E5ECF6\",\"aaxis\":{\"gridcolor\":\"white\",\"linecolor\":\"white\",\"ticks\":\"\"},\"baxis\":{\"gridcolor\":\"white\",\"linecolor\":\"white\",\"ticks\":\"\"},\"caxis\":{\"gridcolor\":\"white\",\"linecolor\":\"white\",\"ticks\":\"\"}},\"coloraxis\":{\"colorbar\":{\"outlinewidth\":0,\"ticks\":\"\"}},\"colorscale\":{\"sequential\":[[0.0,\"#0d0887\"],[0.1111111111111111,\"#46039f\"],[0.2222222222222222,\"#7201a8\"],[0.3333333333333333,\"#9c179e\"],[0.4444444444444444,\"#bd3786\"],[0.5555555555555556,\"#d8576b\"],[0.6666666666666666,\"#ed7953\"],[0.7777777777777778,\"#fb9f3a\"],[0.8888888888888888,\"#fdca26\"],[1.0,\"#f0f921\"]],\"sequentialminus\":[[0.0,\"#0d0887\"],[0.1111111111111111,\"#46039f\"],[0.2222222222222222,\"#7201a8\"],[0.3333333333333333,\"#9c179e\"],[0.4444444444444444,\"#bd3786\"],[0.5555555555555556,\"#d8576b\"],[0.6666666666666666,\"#ed7953\"],[0.7777777777777778,\"#fb9f3a\"],[0.8888888888888888,\"#fdca26\"],[1.0,\"#f0f921\"]],\"diverging\":[[0,\"#8e0152\"],[0.1,\"#c51b7d\"],[0.2,\"#de77ae\"],[0.3,\"#f1b6da\"],[0.4,\"#fde0ef\"],[0.5,\"#f7f7f7\"],[0.6,\"#e6f5d0\"],[0.7,\"#b8e186\"],[0.8,\"#7fbc41\"],[0.9,\"#4d9221\"],[1,\"#276419\"]]},\"xaxis\":{\"gridcolor\":\"white\",\"linecolor\":\"white\",\"ticks\":\"\",\"title\":{\"standoff\":15},\"zerolinecolor\":\"white\",\"automargin\":true,\"zerolinewidth\":2},\"yaxis\":{\"gridcolor\":\"white\",\"linecolor\":\"white\",\"ticks\":\"\",\"title\":{\"standoff\":15},\"zerolinecolor\":\"white\",\"automargin\":true,\"zerolinewidth\":2},\"scene\":{\"xaxis\":{\"backgroundcolor\":\"#E5ECF6\",\"gridcolor\":\"white\",\"linecolor\":\"white\",\"showbackground\":true,\"ticks\":\"\",\"zerolinecolor\":\"white\",\"gridwidth\":2},\"yaxis\":{\"backgroundcolor\":\"#E5ECF6\",\"gridcolor\":\"white\",\"linecolor\":\"white\",\"showbackground\":true,\"ticks\":\"\",\"zerolinecolor\":\"white\",\"gridwidth\":2},\"zaxis\":{\"backgroundcolor\":\"#E5ECF6\",\"gridcolor\":\"white\",\"linecolor\":\"white\",\"showbackground\":true,\"ticks\":\"\",\"zerolinecolor\":\"white\",\"gridwidth\":2}},\"shapedefaults\":{\"line\":{\"color\":\"#2a3f5f\"}},\"annotationdefaults\":{\"arrowcolor\":\"#2a3f5f\",\"arrowhead\":0,\"arrowwidth\":1},\"geo\":{\"bgcolor\":\"white\",\"landcolor\":\"#E5ECF6\",\"subunitcolor\":\"white\",\"showland\":true,\"showlakes\":true,\"lakecolor\":\"white\"},\"title\":{\"x\":0.05},\"mapbox\":{\"style\":\"light\"}}},\"xaxis\":{\"anchor\":\"y\",\"domain\":[0.0,1.0],\"title\":{\"text\":\"value\"}},\"yaxis\":{\"anchor\":\"x\",\"domain\":[0.0,1.0],\"title\":{\"text\":\"variable\"}},\"legend\":{\"tracegroupgap\":0},\"title\":{\"text\":\"Average Basket Size for Month 1 and Month 2\"},\"boxmode\":\"group\"},                        {\"responsive\": true}                    ).then(function(){\n",
       "                            \n",
       "var gd = document.getElementById('4d12b97e-0b44-47a0-bc94-b06882ceff99');\n",
       "var x = new MutationObserver(function (mutations, observer) {{\n",
       "        var display = window.getComputedStyle(gd).display;\n",
       "        if (!display || display === 'none') {{\n",
       "            console.log([gd, 'removed!']);\n",
       "            Plotly.purge(gd);\n",
       "            observer.disconnect();\n",
       "        }}\n",
       "}});\n",
       "\n",
       "// Listen for the removal of the full notebook cells\n",
       "var notebookContainer = gd.closest('#notebook-container');\n",
       "if (notebookContainer) {{\n",
       "    x.observe(notebookContainer, {childList: true});\n",
       "}}\n",
       "\n",
       "// Listen for the clearing of the current output cell\n",
       "var outputEl = gd.closest('.output');\n",
       "if (outputEl) {{\n",
       "    x.observe(outputEl, {childList: true});\n",
       "}}\n",
       "\n",
       "                        })                };                });            </script>        </div>"
      ]
     },
     "metadata": {},
     "output_type": "display_data"
    }
   ],
   "source": [
    "fig = px.box(del_merged,\n",
    "                  x = ['avg_basket_size_€_1', 'avg_basket_size_€_2'],\n",
    "            title = 'Average Basket Size for Month 1 and Month 2')\n",
    "fig.show()\n",
    "fig.write_html('./graphs/box_avh_basket_size.html')"
   ]
  },
  {
   "cell_type": "code",
   "execution_count": 57,
   "id": "e8e15e25",
   "metadata": {},
   "outputs": [],
   "source": [
    "del_merged.rename(columns = {'avg_time_to_accept_(s)_x': 'avg_time_to_accept_(s)_1', 'avg_time_to_accept_(s)_y': 'avg_time_to_accept_(s)_x_2'}, inplace = True)"
   ]
  },
  {
   "cell_type": "code",
   "execution_count": 60,
   "id": "ee5e33d8",
   "metadata": {},
   "outputs": [
    {
     "data": {
      "text/html": [
       "<div>\n",
       "<style scoped>\n",
       "    .dataframe tbody tr th:only-of-type {\n",
       "        vertical-align: middle;\n",
       "    }\n",
       "\n",
       "    .dataframe tbody tr th {\n",
       "        vertical-align: top;\n",
       "    }\n",
       "\n",
       "    .dataframe thead th {\n",
       "        text-align: right;\n",
       "    }\n",
       "</style>\n",
       "<table border=\"1\" class=\"dataframe\">\n",
       "  <thead>\n",
       "    <tr style=\"text-align: right;\">\n",
       "      <th></th>\n",
       "      <th>name</th>\n",
       "      <th>zip</th>\n",
       "      <th>%_kill_rate_x</th>\n",
       "      <th>avg_basket_size_€_1</th>\n",
       "      <th>avg_time_to_accept_(s)_1</th>\n",
       "      <th>commissionable_orders_x</th>\n",
       "      <th>negative_comments_x</th>\n",
       "      <th>positive_comments_x</th>\n",
       "      <th>%_kill_rate_y</th>\n",
       "      <th>avg_basket_size_€_2</th>\n",
       "      <th>avg_time_to_accept_(s)_x_2</th>\n",
       "      <th>commissionable_orders_y</th>\n",
       "      <th>negative_comments_y</th>\n",
       "      <th>positive_comments_y</th>\n",
       "    </tr>\n",
       "  </thead>\n",
       "  <tbody>\n",
       "    <tr>\n",
       "      <th>0</th>\n",
       "      <td>Adelphia</td>\n",
       "      <td>8010</td>\n",
       "      <td>NaN</td>\n",
       "      <td>15.0</td>\n",
       "      <td>462.0</td>\n",
       "      <td>78.0</td>\n",
       "      <td>NaN</td>\n",
       "      <td>1.0</td>\n",
       "      <td>NaN</td>\n",
       "      <td>14.0</td>\n",
       "      <td>512.0</td>\n",
       "      <td>69.0</td>\n",
       "      <td>NaN</td>\n",
       "      <td>1.0</td>\n",
       "    </tr>\n",
       "    <tr>\n",
       "      <th>1</th>\n",
       "      <td>Aegaeis - Greek Grill</td>\n",
       "      <td>8020</td>\n",
       "      <td>NaN</td>\n",
       "      <td>15.0</td>\n",
       "      <td>305.0</td>\n",
       "      <td>25.0</td>\n",
       "      <td>NaN</td>\n",
       "      <td>NaN</td>\n",
       "      <td>NaN</td>\n",
       "      <td>14.0</td>\n",
       "      <td>155.0</td>\n",
       "      <td>1.0</td>\n",
       "      <td>NaN</td>\n",
       "      <td>NaN</td>\n",
       "    </tr>\n",
       "    <tr>\n",
       "      <th>2</th>\n",
       "      <td>Akakiko</td>\n",
       "      <td>8010</td>\n",
       "      <td>107.0</td>\n",
       "      <td>30.0</td>\n",
       "      <td>499.0</td>\n",
       "      <td>481.0</td>\n",
       "      <td>1.0</td>\n",
       "      <td>1.0</td>\n",
       "      <td>105.0</td>\n",
       "      <td>31.0</td>\n",
       "      <td>600.0</td>\n",
       "      <td>405.0</td>\n",
       "      <td>1.0</td>\n",
       "      <td>1.0</td>\n",
       "    </tr>\n",
       "    <tr>\n",
       "      <th>3</th>\n",
       "      <td>Akdag Kebap</td>\n",
       "      <td>8020</td>\n",
       "      <td>33.0</td>\n",
       "      <td>10.0</td>\n",
       "      <td>465.0</td>\n",
       "      <td>144.0</td>\n",
       "      <td>1.0</td>\n",
       "      <td>1.0</td>\n",
       "      <td>21.0</td>\n",
       "      <td>10.0</td>\n",
       "      <td>361.0</td>\n",
       "      <td>98.0</td>\n",
       "      <td>2.0</td>\n",
       "      <td>1.0</td>\n",
       "    </tr>\n",
       "    <tr>\n",
       "      <th>4</th>\n",
       "      <td>Al Pomodoro- Ristorante Pizzeria</td>\n",
       "      <td>8010</td>\n",
       "      <td>135.0</td>\n",
       "      <td>21.0</td>\n",
       "      <td>249.0</td>\n",
       "      <td>55.0</td>\n",
       "      <td>NaN</td>\n",
       "      <td>1.0</td>\n",
       "      <td>105.0</td>\n",
       "      <td>22.0</td>\n",
       "      <td>311.0</td>\n",
       "      <td>62.0</td>\n",
       "      <td>NaN</td>\n",
       "      <td>1.0</td>\n",
       "    </tr>\n",
       "    <tr>\n",
       "      <th>...</th>\n",
       "      <td>...</td>\n",
       "      <td>...</td>\n",
       "      <td>...</td>\n",
       "      <td>...</td>\n",
       "      <td>...</td>\n",
       "      <td>...</td>\n",
       "      <td>...</td>\n",
       "      <td>...</td>\n",
       "      <td>...</td>\n",
       "      <td>...</td>\n",
       "      <td>...</td>\n",
       "      <td>...</td>\n",
       "      <td>...</td>\n",
       "      <td>...</td>\n",
       "    </tr>\n",
       "    <tr>\n",
       "      <th>225</th>\n",
       "      <td>Zur Steirerstub'n</td>\n",
       "      <td>8020</td>\n",
       "      <td>118.0</td>\n",
       "      <td>24.0</td>\n",
       "      <td>283.0</td>\n",
       "      <td>43.0</td>\n",
       "      <td>NaN</td>\n",
       "      <td>1.0</td>\n",
       "      <td>135.0</td>\n",
       "      <td>24.0</td>\n",
       "      <td>243.0</td>\n",
       "      <td>42.0</td>\n",
       "      <td>NaN</td>\n",
       "      <td>1.0</td>\n",
       "    </tr>\n",
       "    <tr>\n",
       "      <th>226</th>\n",
       "      <td>bp - MERKUR inside</td>\n",
       "      <td>8010</td>\n",
       "      <td>NaN</td>\n",
       "      <td>21.0</td>\n",
       "      <td>485.0</td>\n",
       "      <td>86.0</td>\n",
       "      <td>NaN</td>\n",
       "      <td>1.0</td>\n",
       "      <td>NaN</td>\n",
       "      <td>22.0</td>\n",
       "      <td>626.0</td>\n",
       "      <td>175.0</td>\n",
       "      <td>NaN</td>\n",
       "      <td>1.0</td>\n",
       "    </tr>\n",
       "    <tr>\n",
       "      <th>227</th>\n",
       "      <td>dean &amp; david Wels</td>\n",
       "      <td>8010</td>\n",
       "      <td>79.0</td>\n",
       "      <td>26.0</td>\n",
       "      <td>19.0</td>\n",
       "      <td>767.0</td>\n",
       "      <td>NaN</td>\n",
       "      <td>1.0</td>\n",
       "      <td>82.0</td>\n",
       "      <td>26.0</td>\n",
       "      <td>19.0</td>\n",
       "      <td>752.0</td>\n",
       "      <td>NaN</td>\n",
       "      <td>1.0</td>\n",
       "    </tr>\n",
       "    <tr>\n",
       "      <th>228</th>\n",
       "      <td>my Kentt Pizza &amp; Kebap</td>\n",
       "      <td>8054</td>\n",
       "      <td>89.0</td>\n",
       "      <td>16.0</td>\n",
       "      <td>12.0</td>\n",
       "      <td>172.0</td>\n",
       "      <td>1.0</td>\n",
       "      <td>1.0</td>\n",
       "      <td>93.0</td>\n",
       "      <td>19.0</td>\n",
       "      <td>13.0</td>\n",
       "      <td>201.0</td>\n",
       "      <td>2.0</td>\n",
       "      <td>1.0</td>\n",
       "    </tr>\n",
       "    <tr>\n",
       "      <th>229</th>\n",
       "      <td>the italian</td>\n",
       "      <td>8020</td>\n",
       "      <td>NaN</td>\n",
       "      <td>21.0</td>\n",
       "      <td>381.0</td>\n",
       "      <td>59.0</td>\n",
       "      <td>NaN</td>\n",
       "      <td>1.0</td>\n",
       "      <td>NaN</td>\n",
       "      <td>22.0</td>\n",
       "      <td>433.0</td>\n",
       "      <td>131.0</td>\n",
       "      <td>NaN</td>\n",
       "      <td>1.0</td>\n",
       "    </tr>\n",
       "  </tbody>\n",
       "</table>\n",
       "<p>230 rows × 14 columns</p>\n",
       "</div>"
      ],
      "text/plain": [
       "                                 name   zip  %_kill_rate_x  \\\n",
       "0                            Adelphia  8010            NaN   \n",
       "1               Aegaeis - Greek Grill  8020            NaN   \n",
       "2                             Akakiko  8010          107.0   \n",
       "3                         Akdag Kebap  8020           33.0   \n",
       "4    Al Pomodoro- Ristorante Pizzeria  8010          135.0   \n",
       "..                                ...   ...            ...   \n",
       "225                 Zur Steirerstub'n  8020          118.0   \n",
       "226                bp - MERKUR inside  8010            NaN   \n",
       "227                 dean & david Wels  8010           79.0   \n",
       "228            my Kentt Pizza & Kebap  8054           89.0   \n",
       "229                       the italian  8020            NaN   \n",
       "\n",
       "     avg_basket_size_€_1  avg_time_to_accept_(s)_1  commissionable_orders_x  \\\n",
       "0                   15.0                     462.0                     78.0   \n",
       "1                   15.0                     305.0                     25.0   \n",
       "2                   30.0                     499.0                    481.0   \n",
       "3                   10.0                     465.0                    144.0   \n",
       "4                   21.0                     249.0                     55.0   \n",
       "..                   ...                       ...                      ...   \n",
       "225                 24.0                     283.0                     43.0   \n",
       "226                 21.0                     485.0                     86.0   \n",
       "227                 26.0                      19.0                    767.0   \n",
       "228                 16.0                      12.0                    172.0   \n",
       "229                 21.0                     381.0                     59.0   \n",
       "\n",
       "     negative_comments_x  positive_comments_x  %_kill_rate_y  \\\n",
       "0                    NaN                  1.0            NaN   \n",
       "1                    NaN                  NaN            NaN   \n",
       "2                    1.0                  1.0          105.0   \n",
       "3                    1.0                  1.0           21.0   \n",
       "4                    NaN                  1.0          105.0   \n",
       "..                   ...                  ...            ...   \n",
       "225                  NaN                  1.0          135.0   \n",
       "226                  NaN                  1.0            NaN   \n",
       "227                  NaN                  1.0           82.0   \n",
       "228                  1.0                  1.0           93.0   \n",
       "229                  NaN                  1.0            NaN   \n",
       "\n",
       "     avg_basket_size_€_2  avg_time_to_accept_(s)_x_2  commissionable_orders_y  \\\n",
       "0                   14.0                       512.0                     69.0   \n",
       "1                   14.0                       155.0                      1.0   \n",
       "2                   31.0                       600.0                    405.0   \n",
       "3                   10.0                       361.0                     98.0   \n",
       "4                   22.0                       311.0                     62.0   \n",
       "..                   ...                         ...                      ...   \n",
       "225                 24.0                       243.0                     42.0   \n",
       "226                 22.0                       626.0                    175.0   \n",
       "227                 26.0                        19.0                    752.0   \n",
       "228                 19.0                        13.0                    201.0   \n",
       "229                 22.0                       433.0                    131.0   \n",
       "\n",
       "     negative_comments_y  positive_comments_y  \n",
       "0                    NaN                  1.0  \n",
       "1                    NaN                  NaN  \n",
       "2                    1.0                  1.0  \n",
       "3                    2.0                  1.0  \n",
       "4                    NaN                  1.0  \n",
       "..                   ...                  ...  \n",
       "225                  NaN                  1.0  \n",
       "226                  NaN                  1.0  \n",
       "227                  NaN                  1.0  \n",
       "228                  2.0                  1.0  \n",
       "229                  NaN                  1.0  \n",
       "\n",
       "[230 rows x 14 columns]"
      ]
     },
     "execution_count": 60,
     "metadata": {},
     "output_type": "execute_result"
    }
   ],
   "source": [
    "del_merged"
   ]
  },
  {
   "cell_type": "code",
   "execution_count": 67,
   "id": "6bb8eed9",
   "metadata": {},
   "outputs": [
    {
     "data": {
      "application/vnd.plotly.v1+json": {
       "config": {
        "plotlyServerURL": "https://plot.ly"
       },
       "data": [
        {
         "alignmentgroup": "True",
         "hovertemplate": "value=%{x}<br>variable=%{y}<extra></extra>",
         "legendgroup": "",
         "marker": {
          "color": "#636efa"
         },
         "name": "",
         "notched": false,
         "offsetgroup": "",
         "orientation": "h",
         "showlegend": false,
         "type": "box",
         "x": [
          78,
          25,
          481,
          144,
          55,
          319,
          285,
          null,
          235,
          199,
          null,
          82,
          8,
          34,
          82,
          181,
          82,
          null,
          273,
          136,
          90,
          9,
          109,
          null,
          993,
          72,
          537,
          10,
          32,
          3,
          375,
          129,
          324,
          841,
          111,
          36,
          240,
          54,
          24,
          370,
          50,
          275,
          111,
          178,
          157,
          853,
          720,
          240,
          24,
          486,
          230,
          39,
          869,
          333,
          41,
          7,
          56,
          5,
          null,
          33,
          1463,
          137,
          null,
          12,
          null,
          null,
          1178,
          328,
          51,
          210,
          72,
          114,
          35,
          139,
          18,
          null,
          320,
          498,
          43,
          2,
          17,
          98,
          248,
          37,
          null,
          24,
          17,
          13,
          106,
          6,
          166,
          null,
          1,
          41,
          10,
          399,
          104,
          87,
          330,
          13,
          160,
          117,
          12,
          1244,
          229,
          47,
          9,
          94,
          35,
          1017,
          43,
          436,
          2,
          261,
          4,
          106,
          1010,
          699,
          192,
          1776,
          888.5,
          1010,
          387,
          15,
          63,
          94,
          38,
          328,
          80,
          22,
          48,
          16,
          75,
          311,
          15,
          5,
          28,
          183,
          67,
          19,
          97,
          53,
          94,
          3,
          null,
          17,
          5,
          80,
          108,
          null,
          260,
          70,
          14,
          360,
          64,
          67,
          355,
          319,
          160,
          336,
          674,
          88,
          69,
          827,
          336,
          38,
          84,
          1933,
          99,
          624,
          null,
          70,
          128,
          55,
          52,
          46,
          502,
          122,
          116,
          1899,
          318,
          36,
          746,
          151,
          99,
          692,
          2,
          460,
          17,
          null,
          285,
          36,
          7,
          19,
          236,
          5,
          85,
          150,
          1982,
          120,
          80,
          22,
          54,
          191,
          16,
          80,
          194,
          30,
          66,
          184,
          23,
          261,
          119,
          7,
          489,
          265,
          278,
          345,
          66,
          365,
          null,
          387,
          70.5,
          14,
          7.5,
          43,
          86,
          767,
          172,
          59,
          69,
          1,
          405,
          98,
          62,
          342,
          184,
          null,
          299,
          191,
          null,
          66,
          11,
          42,
          74,
          114,
          43,
          null,
          378,
          153,
          98,
          25,
          72,
          null,
          953,
          144,
          591,
          83,
          11,
          38,
          424.6666666666667,
          132,
          370,
          682,
          40,
          49,
          180,
          29,
          12,
          439,
          35,
          193,
          142,
          101,
          481,
          727,
          1026,
          300,
          24,
          561,
          375,
          38,
          651,
          335,
          85,
          8,
          64,
          27,
          null,
          156,
          1634,
          133,
          null,
          115,
          null,
          null,
          1353,
          322,
          41,
          343,
          119,
          108,
          19,
          221,
          9,
          null,
          215,
          637,
          36,
          4,
          19,
          74,
          211,
          57,
          null,
          18,
          4,
          2,
          120,
          1,
          154,
          null,
          7,
          68,
          11,
          354,
          171,
          52,
          451,
          12,
          112,
          131,
          7,
          1057,
          253,
          67,
          8,
          71,
          27,
          840,
          29,
          417,
          17,
          329,
          3,
          68,
          1067,
          822,
          109,
          1507.5,
          740.5,
          903,
          453,
          11,
          69,
          100,
          150,
          405,
          88,
          3,
          39,
          10,
          62,
          212,
          30,
          11,
          18,
          112,
          62,
          33,
          26,
          42,
          129,
          2,
          null,
          13,
          2,
          79,
          86,
          null,
          241,
          80,
          9,
          508,
          80,
          114,
          185,
          363,
          195,
          430,
          643,
          115,
          67,
          918,
          362,
          21,
          116,
          2180,
          158,
          634,
          null,
          90,
          115,
          58,
          157,
          32,
          474,
          67,
          81,
          1859,
          360,
          62,
          835,
          197.5,
          67,
          734,
          6,
          528,
          3,
          null,
          252,
          36,
          76,
          91,
          181,
          73,
          76,
          151,
          1913,
          160,
          106,
          24,
          20,
          129,
          54,
          76,
          122,
          3,
          35,
          202,
          35,
          267,
          102,
          8,
          494,
          268,
          319,
          358,
          64,
          410,
          null,
          341,
          73,
          10,
          9,
          42,
          175,
          752,
          201,
          131
         ],
         "x0": " ",
         "xaxis": "x",
         "y": [
          "commissionable_orders_x",
          "commissionable_orders_x",
          "commissionable_orders_x",
          "commissionable_orders_x",
          "commissionable_orders_x",
          "commissionable_orders_x",
          "commissionable_orders_x",
          "commissionable_orders_x",
          "commissionable_orders_x",
          "commissionable_orders_x",
          "commissionable_orders_x",
          "commissionable_orders_x",
          "commissionable_orders_x",
          "commissionable_orders_x",
          "commissionable_orders_x",
          "commissionable_orders_x",
          "commissionable_orders_x",
          "commissionable_orders_x",
          "commissionable_orders_x",
          "commissionable_orders_x",
          "commissionable_orders_x",
          "commissionable_orders_x",
          "commissionable_orders_x",
          "commissionable_orders_x",
          "commissionable_orders_x",
          "commissionable_orders_x",
          "commissionable_orders_x",
          "commissionable_orders_x",
          "commissionable_orders_x",
          "commissionable_orders_x",
          "commissionable_orders_x",
          "commissionable_orders_x",
          "commissionable_orders_x",
          "commissionable_orders_x",
          "commissionable_orders_x",
          "commissionable_orders_x",
          "commissionable_orders_x",
          "commissionable_orders_x",
          "commissionable_orders_x",
          "commissionable_orders_x",
          "commissionable_orders_x",
          "commissionable_orders_x",
          "commissionable_orders_x",
          "commissionable_orders_x",
          "commissionable_orders_x",
          "commissionable_orders_x",
          "commissionable_orders_x",
          "commissionable_orders_x",
          "commissionable_orders_x",
          "commissionable_orders_x",
          "commissionable_orders_x",
          "commissionable_orders_x",
          "commissionable_orders_x",
          "commissionable_orders_x",
          "commissionable_orders_x",
          "commissionable_orders_x",
          "commissionable_orders_x",
          "commissionable_orders_x",
          "commissionable_orders_x",
          "commissionable_orders_x",
          "commissionable_orders_x",
          "commissionable_orders_x",
          "commissionable_orders_x",
          "commissionable_orders_x",
          "commissionable_orders_x",
          "commissionable_orders_x",
          "commissionable_orders_x",
          "commissionable_orders_x",
          "commissionable_orders_x",
          "commissionable_orders_x",
          "commissionable_orders_x",
          "commissionable_orders_x",
          "commissionable_orders_x",
          "commissionable_orders_x",
          "commissionable_orders_x",
          "commissionable_orders_x",
          "commissionable_orders_x",
          "commissionable_orders_x",
          "commissionable_orders_x",
          "commissionable_orders_x",
          "commissionable_orders_x",
          "commissionable_orders_x",
          "commissionable_orders_x",
          "commissionable_orders_x",
          "commissionable_orders_x",
          "commissionable_orders_x",
          "commissionable_orders_x",
          "commissionable_orders_x",
          "commissionable_orders_x",
          "commissionable_orders_x",
          "commissionable_orders_x",
          "commissionable_orders_x",
          "commissionable_orders_x",
          "commissionable_orders_x",
          "commissionable_orders_x",
          "commissionable_orders_x",
          "commissionable_orders_x",
          "commissionable_orders_x",
          "commissionable_orders_x",
          "commissionable_orders_x",
          "commissionable_orders_x",
          "commissionable_orders_x",
          "commissionable_orders_x",
          "commissionable_orders_x",
          "commissionable_orders_x",
          "commissionable_orders_x",
          "commissionable_orders_x",
          "commissionable_orders_x",
          "commissionable_orders_x",
          "commissionable_orders_x",
          "commissionable_orders_x",
          "commissionable_orders_x",
          "commissionable_orders_x",
          "commissionable_orders_x",
          "commissionable_orders_x",
          "commissionable_orders_x",
          "commissionable_orders_x",
          "commissionable_orders_x",
          "commissionable_orders_x",
          "commissionable_orders_x",
          "commissionable_orders_x",
          "commissionable_orders_x",
          "commissionable_orders_x",
          "commissionable_orders_x",
          "commissionable_orders_x",
          "commissionable_orders_x",
          "commissionable_orders_x",
          "commissionable_orders_x",
          "commissionable_orders_x",
          "commissionable_orders_x",
          "commissionable_orders_x",
          "commissionable_orders_x",
          "commissionable_orders_x",
          "commissionable_orders_x",
          "commissionable_orders_x",
          "commissionable_orders_x",
          "commissionable_orders_x",
          "commissionable_orders_x",
          "commissionable_orders_x",
          "commissionable_orders_x",
          "commissionable_orders_x",
          "commissionable_orders_x",
          "commissionable_orders_x",
          "commissionable_orders_x",
          "commissionable_orders_x",
          "commissionable_orders_x",
          "commissionable_orders_x",
          "commissionable_orders_x",
          "commissionable_orders_x",
          "commissionable_orders_x",
          "commissionable_orders_x",
          "commissionable_orders_x",
          "commissionable_orders_x",
          "commissionable_orders_x",
          "commissionable_orders_x",
          "commissionable_orders_x",
          "commissionable_orders_x",
          "commissionable_orders_x",
          "commissionable_orders_x",
          "commissionable_orders_x",
          "commissionable_orders_x",
          "commissionable_orders_x",
          "commissionable_orders_x",
          "commissionable_orders_x",
          "commissionable_orders_x",
          "commissionable_orders_x",
          "commissionable_orders_x",
          "commissionable_orders_x",
          "commissionable_orders_x",
          "commissionable_orders_x",
          "commissionable_orders_x",
          "commissionable_orders_x",
          "commissionable_orders_x",
          "commissionable_orders_x",
          "commissionable_orders_x",
          "commissionable_orders_x",
          "commissionable_orders_x",
          "commissionable_orders_x",
          "commissionable_orders_x",
          "commissionable_orders_x",
          "commissionable_orders_x",
          "commissionable_orders_x",
          "commissionable_orders_x",
          "commissionable_orders_x",
          "commissionable_orders_x",
          "commissionable_orders_x",
          "commissionable_orders_x",
          "commissionable_orders_x",
          "commissionable_orders_x",
          "commissionable_orders_x",
          "commissionable_orders_x",
          "commissionable_orders_x",
          "commissionable_orders_x",
          "commissionable_orders_x",
          "commissionable_orders_x",
          "commissionable_orders_x",
          "commissionable_orders_x",
          "commissionable_orders_x",
          "commissionable_orders_x",
          "commissionable_orders_x",
          "commissionable_orders_x",
          "commissionable_orders_x",
          "commissionable_orders_x",
          "commissionable_orders_x",
          "commissionable_orders_x",
          "commissionable_orders_x",
          "commissionable_orders_x",
          "commissionable_orders_x",
          "commissionable_orders_x",
          "commissionable_orders_x",
          "commissionable_orders_x",
          "commissionable_orders_x",
          "commissionable_orders_x",
          "commissionable_orders_x",
          "commissionable_orders_x",
          "commissionable_orders_x",
          "commissionable_orders_x",
          "commissionable_orders_x",
          "commissionable_orders_x",
          "commissionable_orders_x",
          "commissionable_orders_x",
          "commissionable_orders_x",
          "commissionable_orders_x",
          "commissionable_orders_x",
          "commissionable_orders_x",
          "commissionable_orders_x",
          "commissionable_orders_x",
          "commissionable_orders_x",
          "commissionable_orders_x",
          "commissionable_orders_x",
          "commissionable_orders_y",
          "commissionable_orders_y",
          "commissionable_orders_y",
          "commissionable_orders_y",
          "commissionable_orders_y",
          "commissionable_orders_y",
          "commissionable_orders_y",
          "commissionable_orders_y",
          "commissionable_orders_y",
          "commissionable_orders_y",
          "commissionable_orders_y",
          "commissionable_orders_y",
          "commissionable_orders_y",
          "commissionable_orders_y",
          "commissionable_orders_y",
          "commissionable_orders_y",
          "commissionable_orders_y",
          "commissionable_orders_y",
          "commissionable_orders_y",
          "commissionable_orders_y",
          "commissionable_orders_y",
          "commissionable_orders_y",
          "commissionable_orders_y",
          "commissionable_orders_y",
          "commissionable_orders_y",
          "commissionable_orders_y",
          "commissionable_orders_y",
          "commissionable_orders_y",
          "commissionable_orders_y",
          "commissionable_orders_y",
          "commissionable_orders_y",
          "commissionable_orders_y",
          "commissionable_orders_y",
          "commissionable_orders_y",
          "commissionable_orders_y",
          "commissionable_orders_y",
          "commissionable_orders_y",
          "commissionable_orders_y",
          "commissionable_orders_y",
          "commissionable_orders_y",
          "commissionable_orders_y",
          "commissionable_orders_y",
          "commissionable_orders_y",
          "commissionable_orders_y",
          "commissionable_orders_y",
          "commissionable_orders_y",
          "commissionable_orders_y",
          "commissionable_orders_y",
          "commissionable_orders_y",
          "commissionable_orders_y",
          "commissionable_orders_y",
          "commissionable_orders_y",
          "commissionable_orders_y",
          "commissionable_orders_y",
          "commissionable_orders_y",
          "commissionable_orders_y",
          "commissionable_orders_y",
          "commissionable_orders_y",
          "commissionable_orders_y",
          "commissionable_orders_y",
          "commissionable_orders_y",
          "commissionable_orders_y",
          "commissionable_orders_y",
          "commissionable_orders_y",
          "commissionable_orders_y",
          "commissionable_orders_y",
          "commissionable_orders_y",
          "commissionable_orders_y",
          "commissionable_orders_y",
          "commissionable_orders_y",
          "commissionable_orders_y",
          "commissionable_orders_y",
          "commissionable_orders_y",
          "commissionable_orders_y",
          "commissionable_orders_y",
          "commissionable_orders_y",
          "commissionable_orders_y",
          "commissionable_orders_y",
          "commissionable_orders_y",
          "commissionable_orders_y",
          "commissionable_orders_y",
          "commissionable_orders_y",
          "commissionable_orders_y",
          "commissionable_orders_y",
          "commissionable_orders_y",
          "commissionable_orders_y",
          "commissionable_orders_y",
          "commissionable_orders_y",
          "commissionable_orders_y",
          "commissionable_orders_y",
          "commissionable_orders_y",
          "commissionable_orders_y",
          "commissionable_orders_y",
          "commissionable_orders_y",
          "commissionable_orders_y",
          "commissionable_orders_y",
          "commissionable_orders_y",
          "commissionable_orders_y",
          "commissionable_orders_y",
          "commissionable_orders_y",
          "commissionable_orders_y",
          "commissionable_orders_y",
          "commissionable_orders_y",
          "commissionable_orders_y",
          "commissionable_orders_y",
          "commissionable_orders_y",
          "commissionable_orders_y",
          "commissionable_orders_y",
          "commissionable_orders_y",
          "commissionable_orders_y",
          "commissionable_orders_y",
          "commissionable_orders_y",
          "commissionable_orders_y",
          "commissionable_orders_y",
          "commissionable_orders_y",
          "commissionable_orders_y",
          "commissionable_orders_y",
          "commissionable_orders_y",
          "commissionable_orders_y",
          "commissionable_orders_y",
          "commissionable_orders_y",
          "commissionable_orders_y",
          "commissionable_orders_y",
          "commissionable_orders_y",
          "commissionable_orders_y",
          "commissionable_orders_y",
          "commissionable_orders_y",
          "commissionable_orders_y",
          "commissionable_orders_y",
          "commissionable_orders_y",
          "commissionable_orders_y",
          "commissionable_orders_y",
          "commissionable_orders_y",
          "commissionable_orders_y",
          "commissionable_orders_y",
          "commissionable_orders_y",
          "commissionable_orders_y",
          "commissionable_orders_y",
          "commissionable_orders_y",
          "commissionable_orders_y",
          "commissionable_orders_y",
          "commissionable_orders_y",
          "commissionable_orders_y",
          "commissionable_orders_y",
          "commissionable_orders_y",
          "commissionable_orders_y",
          "commissionable_orders_y",
          "commissionable_orders_y",
          "commissionable_orders_y",
          "commissionable_orders_y",
          "commissionable_orders_y",
          "commissionable_orders_y",
          "commissionable_orders_y",
          "commissionable_orders_y",
          "commissionable_orders_y",
          "commissionable_orders_y",
          "commissionable_orders_y",
          "commissionable_orders_y",
          "commissionable_orders_y",
          "commissionable_orders_y",
          "commissionable_orders_y",
          "commissionable_orders_y",
          "commissionable_orders_y",
          "commissionable_orders_y",
          "commissionable_orders_y",
          "commissionable_orders_y",
          "commissionable_orders_y",
          "commissionable_orders_y",
          "commissionable_orders_y",
          "commissionable_orders_y",
          "commissionable_orders_y",
          "commissionable_orders_y",
          "commissionable_orders_y",
          "commissionable_orders_y",
          "commissionable_orders_y",
          "commissionable_orders_y",
          "commissionable_orders_y",
          "commissionable_orders_y",
          "commissionable_orders_y",
          "commissionable_orders_y",
          "commissionable_orders_y",
          "commissionable_orders_y",
          "commissionable_orders_y",
          "commissionable_orders_y",
          "commissionable_orders_y",
          "commissionable_orders_y",
          "commissionable_orders_y",
          "commissionable_orders_y",
          "commissionable_orders_y",
          "commissionable_orders_y",
          "commissionable_orders_y",
          "commissionable_orders_y",
          "commissionable_orders_y",
          "commissionable_orders_y",
          "commissionable_orders_y",
          "commissionable_orders_y",
          "commissionable_orders_y",
          "commissionable_orders_y",
          "commissionable_orders_y",
          "commissionable_orders_y",
          "commissionable_orders_y",
          "commissionable_orders_y",
          "commissionable_orders_y",
          "commissionable_orders_y",
          "commissionable_orders_y",
          "commissionable_orders_y",
          "commissionable_orders_y",
          "commissionable_orders_y",
          "commissionable_orders_y",
          "commissionable_orders_y",
          "commissionable_orders_y",
          "commissionable_orders_y",
          "commissionable_orders_y",
          "commissionable_orders_y",
          "commissionable_orders_y",
          "commissionable_orders_y",
          "commissionable_orders_y",
          "commissionable_orders_y",
          "commissionable_orders_y",
          "commissionable_orders_y",
          "commissionable_orders_y",
          "commissionable_orders_y",
          "commissionable_orders_y",
          "commissionable_orders_y",
          "commissionable_orders_y",
          "commissionable_orders_y",
          "commissionable_orders_y",
          "commissionable_orders_y",
          "commissionable_orders_y",
          "commissionable_orders_y"
         ],
         "y0": " ",
         "yaxis": "y"
        }
       ],
       "layout": {
        "boxmode": "group",
        "legend": {
         "tracegroupgap": 0
        },
        "template": {
         "data": {
          "bar": [
           {
            "error_x": {
             "color": "#2a3f5f"
            },
            "error_y": {
             "color": "#2a3f5f"
            },
            "marker": {
             "line": {
              "color": "#E5ECF6",
              "width": 0.5
             },
             "pattern": {
              "fillmode": "overlay",
              "size": 10,
              "solidity": 0.2
             }
            },
            "type": "bar"
           }
          ],
          "barpolar": [
           {
            "marker": {
             "line": {
              "color": "#E5ECF6",
              "width": 0.5
             },
             "pattern": {
              "fillmode": "overlay",
              "size": 10,
              "solidity": 0.2
             }
            },
            "type": "barpolar"
           }
          ],
          "carpet": [
           {
            "aaxis": {
             "endlinecolor": "#2a3f5f",
             "gridcolor": "white",
             "linecolor": "white",
             "minorgridcolor": "white",
             "startlinecolor": "#2a3f5f"
            },
            "baxis": {
             "endlinecolor": "#2a3f5f",
             "gridcolor": "white",
             "linecolor": "white",
             "minorgridcolor": "white",
             "startlinecolor": "#2a3f5f"
            },
            "type": "carpet"
           }
          ],
          "choropleth": [
           {
            "colorbar": {
             "outlinewidth": 0,
             "ticks": ""
            },
            "type": "choropleth"
           }
          ],
          "contour": [
           {
            "colorbar": {
             "outlinewidth": 0,
             "ticks": ""
            },
            "colorscale": [
             [
              0,
              "#0d0887"
             ],
             [
              0.1111111111111111,
              "#46039f"
             ],
             [
              0.2222222222222222,
              "#7201a8"
             ],
             [
              0.3333333333333333,
              "#9c179e"
             ],
             [
              0.4444444444444444,
              "#bd3786"
             ],
             [
              0.5555555555555556,
              "#d8576b"
             ],
             [
              0.6666666666666666,
              "#ed7953"
             ],
             [
              0.7777777777777778,
              "#fb9f3a"
             ],
             [
              0.8888888888888888,
              "#fdca26"
             ],
             [
              1,
              "#f0f921"
             ]
            ],
            "type": "contour"
           }
          ],
          "contourcarpet": [
           {
            "colorbar": {
             "outlinewidth": 0,
             "ticks": ""
            },
            "type": "contourcarpet"
           }
          ],
          "heatmap": [
           {
            "colorbar": {
             "outlinewidth": 0,
             "ticks": ""
            },
            "colorscale": [
             [
              0,
              "#0d0887"
             ],
             [
              0.1111111111111111,
              "#46039f"
             ],
             [
              0.2222222222222222,
              "#7201a8"
             ],
             [
              0.3333333333333333,
              "#9c179e"
             ],
             [
              0.4444444444444444,
              "#bd3786"
             ],
             [
              0.5555555555555556,
              "#d8576b"
             ],
             [
              0.6666666666666666,
              "#ed7953"
             ],
             [
              0.7777777777777778,
              "#fb9f3a"
             ],
             [
              0.8888888888888888,
              "#fdca26"
             ],
             [
              1,
              "#f0f921"
             ]
            ],
            "type": "heatmap"
           }
          ],
          "heatmapgl": [
           {
            "colorbar": {
             "outlinewidth": 0,
             "ticks": ""
            },
            "colorscale": [
             [
              0,
              "#0d0887"
             ],
             [
              0.1111111111111111,
              "#46039f"
             ],
             [
              0.2222222222222222,
              "#7201a8"
             ],
             [
              0.3333333333333333,
              "#9c179e"
             ],
             [
              0.4444444444444444,
              "#bd3786"
             ],
             [
              0.5555555555555556,
              "#d8576b"
             ],
             [
              0.6666666666666666,
              "#ed7953"
             ],
             [
              0.7777777777777778,
              "#fb9f3a"
             ],
             [
              0.8888888888888888,
              "#fdca26"
             ],
             [
              1,
              "#f0f921"
             ]
            ],
            "type": "heatmapgl"
           }
          ],
          "histogram": [
           {
            "marker": {
             "pattern": {
              "fillmode": "overlay",
              "size": 10,
              "solidity": 0.2
             }
            },
            "type": "histogram"
           }
          ],
          "histogram2d": [
           {
            "colorbar": {
             "outlinewidth": 0,
             "ticks": ""
            },
            "colorscale": [
             [
              0,
              "#0d0887"
             ],
             [
              0.1111111111111111,
              "#46039f"
             ],
             [
              0.2222222222222222,
              "#7201a8"
             ],
             [
              0.3333333333333333,
              "#9c179e"
             ],
             [
              0.4444444444444444,
              "#bd3786"
             ],
             [
              0.5555555555555556,
              "#d8576b"
             ],
             [
              0.6666666666666666,
              "#ed7953"
             ],
             [
              0.7777777777777778,
              "#fb9f3a"
             ],
             [
              0.8888888888888888,
              "#fdca26"
             ],
             [
              1,
              "#f0f921"
             ]
            ],
            "type": "histogram2d"
           }
          ],
          "histogram2dcontour": [
           {
            "colorbar": {
             "outlinewidth": 0,
             "ticks": ""
            },
            "colorscale": [
             [
              0,
              "#0d0887"
             ],
             [
              0.1111111111111111,
              "#46039f"
             ],
             [
              0.2222222222222222,
              "#7201a8"
             ],
             [
              0.3333333333333333,
              "#9c179e"
             ],
             [
              0.4444444444444444,
              "#bd3786"
             ],
             [
              0.5555555555555556,
              "#d8576b"
             ],
             [
              0.6666666666666666,
              "#ed7953"
             ],
             [
              0.7777777777777778,
              "#fb9f3a"
             ],
             [
              0.8888888888888888,
              "#fdca26"
             ],
             [
              1,
              "#f0f921"
             ]
            ],
            "type": "histogram2dcontour"
           }
          ],
          "mesh3d": [
           {
            "colorbar": {
             "outlinewidth": 0,
             "ticks": ""
            },
            "type": "mesh3d"
           }
          ],
          "parcoords": [
           {
            "line": {
             "colorbar": {
              "outlinewidth": 0,
              "ticks": ""
             }
            },
            "type": "parcoords"
           }
          ],
          "pie": [
           {
            "automargin": true,
            "type": "pie"
           }
          ],
          "scatter": [
           {
            "fillpattern": {
             "fillmode": "overlay",
             "size": 10,
             "solidity": 0.2
            },
            "type": "scatter"
           }
          ],
          "scatter3d": [
           {
            "line": {
             "colorbar": {
              "outlinewidth": 0,
              "ticks": ""
             }
            },
            "marker": {
             "colorbar": {
              "outlinewidth": 0,
              "ticks": ""
             }
            },
            "type": "scatter3d"
           }
          ],
          "scattercarpet": [
           {
            "marker": {
             "colorbar": {
              "outlinewidth": 0,
              "ticks": ""
             }
            },
            "type": "scattercarpet"
           }
          ],
          "scattergeo": [
           {
            "marker": {
             "colorbar": {
              "outlinewidth": 0,
              "ticks": ""
             }
            },
            "type": "scattergeo"
           }
          ],
          "scattergl": [
           {
            "marker": {
             "colorbar": {
              "outlinewidth": 0,
              "ticks": ""
             }
            },
            "type": "scattergl"
           }
          ],
          "scattermapbox": [
           {
            "marker": {
             "colorbar": {
              "outlinewidth": 0,
              "ticks": ""
             }
            },
            "type": "scattermapbox"
           }
          ],
          "scatterpolar": [
           {
            "marker": {
             "colorbar": {
              "outlinewidth": 0,
              "ticks": ""
             }
            },
            "type": "scatterpolar"
           }
          ],
          "scatterpolargl": [
           {
            "marker": {
             "colorbar": {
              "outlinewidth": 0,
              "ticks": ""
             }
            },
            "type": "scatterpolargl"
           }
          ],
          "scatterternary": [
           {
            "marker": {
             "colorbar": {
              "outlinewidth": 0,
              "ticks": ""
             }
            },
            "type": "scatterternary"
           }
          ],
          "surface": [
           {
            "colorbar": {
             "outlinewidth": 0,
             "ticks": ""
            },
            "colorscale": [
             [
              0,
              "#0d0887"
             ],
             [
              0.1111111111111111,
              "#46039f"
             ],
             [
              0.2222222222222222,
              "#7201a8"
             ],
             [
              0.3333333333333333,
              "#9c179e"
             ],
             [
              0.4444444444444444,
              "#bd3786"
             ],
             [
              0.5555555555555556,
              "#d8576b"
             ],
             [
              0.6666666666666666,
              "#ed7953"
             ],
             [
              0.7777777777777778,
              "#fb9f3a"
             ],
             [
              0.8888888888888888,
              "#fdca26"
             ],
             [
              1,
              "#f0f921"
             ]
            ],
            "type": "surface"
           }
          ],
          "table": [
           {
            "cells": {
             "fill": {
              "color": "#EBF0F8"
             },
             "line": {
              "color": "white"
             }
            },
            "header": {
             "fill": {
              "color": "#C8D4E3"
             },
             "line": {
              "color": "white"
             }
            },
            "type": "table"
           }
          ]
         },
         "layout": {
          "annotationdefaults": {
           "arrowcolor": "#2a3f5f",
           "arrowhead": 0,
           "arrowwidth": 1
          },
          "autotypenumbers": "strict",
          "coloraxis": {
           "colorbar": {
            "outlinewidth": 0,
            "ticks": ""
           }
          },
          "colorscale": {
           "diverging": [
            [
             0,
             "#8e0152"
            ],
            [
             0.1,
             "#c51b7d"
            ],
            [
             0.2,
             "#de77ae"
            ],
            [
             0.3,
             "#f1b6da"
            ],
            [
             0.4,
             "#fde0ef"
            ],
            [
             0.5,
             "#f7f7f7"
            ],
            [
             0.6,
             "#e6f5d0"
            ],
            [
             0.7,
             "#b8e186"
            ],
            [
             0.8,
             "#7fbc41"
            ],
            [
             0.9,
             "#4d9221"
            ],
            [
             1,
             "#276419"
            ]
           ],
           "sequential": [
            [
             0,
             "#0d0887"
            ],
            [
             0.1111111111111111,
             "#46039f"
            ],
            [
             0.2222222222222222,
             "#7201a8"
            ],
            [
             0.3333333333333333,
             "#9c179e"
            ],
            [
             0.4444444444444444,
             "#bd3786"
            ],
            [
             0.5555555555555556,
             "#d8576b"
            ],
            [
             0.6666666666666666,
             "#ed7953"
            ],
            [
             0.7777777777777778,
             "#fb9f3a"
            ],
            [
             0.8888888888888888,
             "#fdca26"
            ],
            [
             1,
             "#f0f921"
            ]
           ],
           "sequentialminus": [
            [
             0,
             "#0d0887"
            ],
            [
             0.1111111111111111,
             "#46039f"
            ],
            [
             0.2222222222222222,
             "#7201a8"
            ],
            [
             0.3333333333333333,
             "#9c179e"
            ],
            [
             0.4444444444444444,
             "#bd3786"
            ],
            [
             0.5555555555555556,
             "#d8576b"
            ],
            [
             0.6666666666666666,
             "#ed7953"
            ],
            [
             0.7777777777777778,
             "#fb9f3a"
            ],
            [
             0.8888888888888888,
             "#fdca26"
            ],
            [
             1,
             "#f0f921"
            ]
           ]
          },
          "colorway": [
           "#636efa",
           "#EF553B",
           "#00cc96",
           "#ab63fa",
           "#FFA15A",
           "#19d3f3",
           "#FF6692",
           "#B6E880",
           "#FF97FF",
           "#FECB52"
          ],
          "font": {
           "color": "#2a3f5f"
          },
          "geo": {
           "bgcolor": "white",
           "lakecolor": "white",
           "landcolor": "#E5ECF6",
           "showlakes": true,
           "showland": true,
           "subunitcolor": "white"
          },
          "hoverlabel": {
           "align": "left"
          },
          "hovermode": "closest",
          "mapbox": {
           "style": "light"
          },
          "paper_bgcolor": "white",
          "plot_bgcolor": "#E5ECF6",
          "polar": {
           "angularaxis": {
            "gridcolor": "white",
            "linecolor": "white",
            "ticks": ""
           },
           "bgcolor": "#E5ECF6",
           "radialaxis": {
            "gridcolor": "white",
            "linecolor": "white",
            "ticks": ""
           }
          },
          "scene": {
           "xaxis": {
            "backgroundcolor": "#E5ECF6",
            "gridcolor": "white",
            "gridwidth": 2,
            "linecolor": "white",
            "showbackground": true,
            "ticks": "",
            "zerolinecolor": "white"
           },
           "yaxis": {
            "backgroundcolor": "#E5ECF6",
            "gridcolor": "white",
            "gridwidth": 2,
            "linecolor": "white",
            "showbackground": true,
            "ticks": "",
            "zerolinecolor": "white"
           },
           "zaxis": {
            "backgroundcolor": "#E5ECF6",
            "gridcolor": "white",
            "gridwidth": 2,
            "linecolor": "white",
            "showbackground": true,
            "ticks": "",
            "zerolinecolor": "white"
           }
          },
          "shapedefaults": {
           "line": {
            "color": "#2a3f5f"
           }
          },
          "ternary": {
           "aaxis": {
            "gridcolor": "white",
            "linecolor": "white",
            "ticks": ""
           },
           "baxis": {
            "gridcolor": "white",
            "linecolor": "white",
            "ticks": ""
           },
           "bgcolor": "#E5ECF6",
           "caxis": {
            "gridcolor": "white",
            "linecolor": "white",
            "ticks": ""
           }
          },
          "title": {
           "x": 0.05
          },
          "xaxis": {
           "automargin": true,
           "gridcolor": "white",
           "linecolor": "white",
           "ticks": "",
           "title": {
            "standoff": 15
           },
           "zerolinecolor": "white",
           "zerolinewidth": 2
          },
          "yaxis": {
           "automargin": true,
           "gridcolor": "white",
           "linecolor": "white",
           "ticks": "",
           "title": {
            "standoff": 15
           },
           "zerolinecolor": "white",
           "zerolinewidth": 2
          }
         }
        },
        "title": {
         "text": "NUmber of orders Month 1 and Month 2"
        },
        "xaxis": {
         "anchor": "y",
         "domain": [
          0,
          1
         ],
         "title": {
          "text": "value"
         }
        },
        "yaxis": {
         "anchor": "x",
         "domain": [
          0,
          1
         ],
         "title": {
          "text": "variable"
         }
        }
       }
      },
      "text/html": [
       "<div>                            <div id=\"6004d4a1-5210-4a35-93b1-88d5d23b832b\" class=\"plotly-graph-div\" style=\"height:525px; width:100%;\"></div>            <script type=\"text/javascript\">                require([\"plotly\"], function(Plotly) {                    window.PLOTLYENV=window.PLOTLYENV || {};                                    if (document.getElementById(\"6004d4a1-5210-4a35-93b1-88d5d23b832b\")) {                    Plotly.newPlot(                        \"6004d4a1-5210-4a35-93b1-88d5d23b832b\",                        [{\"alignmentgroup\":\"True\",\"hovertemplate\":\"value=%{x}<br>variable=%{y}<extra></extra>\",\"legendgroup\":\"\",\"marker\":{\"color\":\"#636efa\"},\"name\":\"\",\"notched\":false,\"offsetgroup\":\"\",\"orientation\":\"h\",\"showlegend\":false,\"x\":[78.0,25.0,481.0,144.0,55.0,319.0,285.0,null,235.0,199.0,null,82.0,8.0,34.0,82.0,181.0,82.0,null,273.0,136.0,90.0,9.0,109.0,null,993.0,72.0,537.0,10.0,32.0,3.0,375.0,129.0,324.0,841.0,111.0,36.0,240.0,54.0,24.0,370.0,50.0,275.0,111.0,178.0,157.0,853.0,720.0,240.0,24.0,486.0,230.0,39.0,869.0,333.0,41.0,7.0,56.0,5.0,null,33.0,1463.0,137.0,null,12.0,null,null,1178.0,328.0,51.0,210.0,72.0,114.0,35.0,139.0,18.0,null,320.0,498.0,43.0,2.0,17.0,98.0,248.0,37.0,null,24.0,17.0,13.0,106.0,6.0,166.0,null,1.0,41.0,10.0,399.0,104.0,87.0,330.0,13.0,160.0,117.0,12.0,1244.0,229.0,47.0,9.0,94.0,35.0,1017.0,43.0,436.0,2.0,261.0,4.0,106.0,1010.0,699.0,192.0,1776.0,888.5,1010.0,387.0,15.0,63.0,94.0,38.0,328.0,80.0,22.0,48.0,16.0,75.0,311.0,15.0,5.0,28.0,183.0,67.0,19.0,97.0,53.0,94.0,3.0,null,17.0,5.0,80.0,108.0,null,260.0,70.0,14.0,360.0,64.0,67.0,355.0,319.0,160.0,336.0,674.0,88.0,69.0,827.0,336.0,38.0,84.0,1933.0,99.0,624.0,null,70.0,128.0,55.0,52.0,46.0,502.0,122.0,116.0,1899.0,318.0,36.0,746.0,151.0,99.0,692.0,2.0,460.0,17.0,null,285.0,36.0,7.0,19.0,236.0,5.0,85.0,150.0,1982.0,120.0,80.0,22.0,54.0,191.0,16.0,80.0,194.0,30.0,66.0,184.0,23.0,261.0,119.0,7.0,489.0,265.0,278.0,345.0,66.0,365.0,null,387.0,70.5,14.0,7.5,43.0,86.0,767.0,172.0,59.0,69.0,1.0,405.0,98.0,62.0,342.0,184.0,null,299.0,191.0,null,66.0,11.0,42.0,74.0,114.0,43.0,null,378.0,153.0,98.0,25.0,72.0,null,953.0,144.0,591.0,83.0,11.0,38.0,424.6666666666667,132.0,370.0,682.0,40.0,49.0,180.0,29.0,12.0,439.0,35.0,193.0,142.0,101.0,481.0,727.0,1026.0,300.0,24.0,561.0,375.0,38.0,651.0,335.0,85.0,8.0,64.0,27.0,null,156.0,1634.0,133.0,null,115.0,null,null,1353.0,322.0,41.0,343.0,119.0,108.0,19.0,221.0,9.0,null,215.0,637.0,36.0,4.0,19.0,74.0,211.0,57.0,null,18.0,4.0,2.0,120.0,1.0,154.0,null,7.0,68.0,11.0,354.0,171.0,52.0,451.0,12.0,112.0,131.0,7.0,1057.0,253.0,67.0,8.0,71.0,27.0,840.0,29.0,417.0,17.0,329.0,3.0,68.0,1067.0,822.0,109.0,1507.5,740.5,903.0,453.0,11.0,69.0,100.0,150.0,405.0,88.0,3.0,39.0,10.0,62.0,212.0,30.0,11.0,18.0,112.0,62.0,33.0,26.0,42.0,129.0,2.0,null,13.0,2.0,79.0,86.0,null,241.0,80.0,9.0,508.0,80.0,114.0,185.0,363.0,195.0,430.0,643.0,115.0,67.0,918.0,362.0,21.0,116.0,2180.0,158.0,634.0,null,90.0,115.0,58.0,157.0,32.0,474.0,67.0,81.0,1859.0,360.0,62.0,835.0,197.5,67.0,734.0,6.0,528.0,3.0,null,252.0,36.0,76.0,91.0,181.0,73.0,76.0,151.0,1913.0,160.0,106.0,24.0,20.0,129.0,54.0,76.0,122.0,3.0,35.0,202.0,35.0,267.0,102.0,8.0,494.0,268.0,319.0,358.0,64.0,410.0,null,341.0,73.0,10.0,9.0,42.0,175.0,752.0,201.0,131.0],\"x0\":\" \",\"xaxis\":\"x\",\"y\":[\"commissionable_orders_x\",\"commissionable_orders_x\",\"commissionable_orders_x\",\"commissionable_orders_x\",\"commissionable_orders_x\",\"commissionable_orders_x\",\"commissionable_orders_x\",\"commissionable_orders_x\",\"commissionable_orders_x\",\"commissionable_orders_x\",\"commissionable_orders_x\",\"commissionable_orders_x\",\"commissionable_orders_x\",\"commissionable_orders_x\",\"commissionable_orders_x\",\"commissionable_orders_x\",\"commissionable_orders_x\",\"commissionable_orders_x\",\"commissionable_orders_x\",\"commissionable_orders_x\",\"commissionable_orders_x\",\"commissionable_orders_x\",\"commissionable_orders_x\",\"commissionable_orders_x\",\"commissionable_orders_x\",\"commissionable_orders_x\",\"commissionable_orders_x\",\"commissionable_orders_x\",\"commissionable_orders_x\",\"commissionable_orders_x\",\"commissionable_orders_x\",\"commissionable_orders_x\",\"commissionable_orders_x\",\"commissionable_orders_x\",\"commissionable_orders_x\",\"commissionable_orders_x\",\"commissionable_orders_x\",\"commissionable_orders_x\",\"commissionable_orders_x\",\"commissionable_orders_x\",\"commissionable_orders_x\",\"commissionable_orders_x\",\"commissionable_orders_x\",\"commissionable_orders_x\",\"commissionable_orders_x\",\"commissionable_orders_x\",\"commissionable_orders_x\",\"commissionable_orders_x\",\"commissionable_orders_x\",\"commissionable_orders_x\",\"commissionable_orders_x\",\"commissionable_orders_x\",\"commissionable_orders_x\",\"commissionable_orders_x\",\"commissionable_orders_x\",\"commissionable_orders_x\",\"commissionable_orders_x\",\"commissionable_orders_x\",\"commissionable_orders_x\",\"commissionable_orders_x\",\"commissionable_orders_x\",\"commissionable_orders_x\",\"commissionable_orders_x\",\"commissionable_orders_x\",\"commissionable_orders_x\",\"commissionable_orders_x\",\"commissionable_orders_x\",\"commissionable_orders_x\",\"commissionable_orders_x\",\"commissionable_orders_x\",\"commissionable_orders_x\",\"commissionable_orders_x\",\"commissionable_orders_x\",\"commissionable_orders_x\",\"commissionable_orders_x\",\"commissionable_orders_x\",\"commissionable_orders_x\",\"commissionable_orders_x\",\"commissionable_orders_x\",\"commissionable_orders_x\",\"commissionable_orders_x\",\"commissionable_orders_x\",\"commissionable_orders_x\",\"commissionable_orders_x\",\"commissionable_orders_x\",\"commissionable_orders_x\",\"commissionable_orders_x\",\"commissionable_orders_x\",\"commissionable_orders_x\",\"commissionable_orders_x\",\"commissionable_orders_x\",\"commissionable_orders_x\",\"commissionable_orders_x\",\"commissionable_orders_x\",\"commissionable_orders_x\",\"commissionable_orders_x\",\"commissionable_orders_x\",\"commissionable_orders_x\",\"commissionable_orders_x\",\"commissionable_orders_x\",\"commissionable_orders_x\",\"commissionable_orders_x\",\"commissionable_orders_x\",\"commissionable_orders_x\",\"commissionable_orders_x\",\"commissionable_orders_x\",\"commissionable_orders_x\",\"commissionable_orders_x\",\"commissionable_orders_x\",\"commissionable_orders_x\",\"commissionable_orders_x\",\"commissionable_orders_x\",\"commissionable_orders_x\",\"commissionable_orders_x\",\"commissionable_orders_x\",\"commissionable_orders_x\",\"commissionable_orders_x\",\"commissionable_orders_x\",\"commissionable_orders_x\",\"commissionable_orders_x\",\"commissionable_orders_x\",\"commissionable_orders_x\",\"commissionable_orders_x\",\"commissionable_orders_x\",\"commissionable_orders_x\",\"commissionable_orders_x\",\"commissionable_orders_x\",\"commissionable_orders_x\",\"commissionable_orders_x\",\"commissionable_orders_x\",\"commissionable_orders_x\",\"commissionable_orders_x\",\"commissionable_orders_x\",\"commissionable_orders_x\",\"commissionable_orders_x\",\"commissionable_orders_x\",\"commissionable_orders_x\",\"commissionable_orders_x\",\"commissionable_orders_x\",\"commissionable_orders_x\",\"commissionable_orders_x\",\"commissionable_orders_x\",\"commissionable_orders_x\",\"commissionable_orders_x\",\"commissionable_orders_x\",\"commissionable_orders_x\",\"commissionable_orders_x\",\"commissionable_orders_x\",\"commissionable_orders_x\",\"commissionable_orders_x\",\"commissionable_orders_x\",\"commissionable_orders_x\",\"commissionable_orders_x\",\"commissionable_orders_x\",\"commissionable_orders_x\",\"commissionable_orders_x\",\"commissionable_orders_x\",\"commissionable_orders_x\",\"commissionable_orders_x\",\"commissionable_orders_x\",\"commissionable_orders_x\",\"commissionable_orders_x\",\"commissionable_orders_x\",\"commissionable_orders_x\",\"commissionable_orders_x\",\"commissionable_orders_x\",\"commissionable_orders_x\",\"commissionable_orders_x\",\"commissionable_orders_x\",\"commissionable_orders_x\",\"commissionable_orders_x\",\"commissionable_orders_x\",\"commissionable_orders_x\",\"commissionable_orders_x\",\"commissionable_orders_x\",\"commissionable_orders_x\",\"commissionable_orders_x\",\"commissionable_orders_x\",\"commissionable_orders_x\",\"commissionable_orders_x\",\"commissionable_orders_x\",\"commissionable_orders_x\",\"commissionable_orders_x\",\"commissionable_orders_x\",\"commissionable_orders_x\",\"commissionable_orders_x\",\"commissionable_orders_x\",\"commissionable_orders_x\",\"commissionable_orders_x\",\"commissionable_orders_x\",\"commissionable_orders_x\",\"commissionable_orders_x\",\"commissionable_orders_x\",\"commissionable_orders_x\",\"commissionable_orders_x\",\"commissionable_orders_x\",\"commissionable_orders_x\",\"commissionable_orders_x\",\"commissionable_orders_x\",\"commissionable_orders_x\",\"commissionable_orders_x\",\"commissionable_orders_x\",\"commissionable_orders_x\",\"commissionable_orders_x\",\"commissionable_orders_x\",\"commissionable_orders_x\",\"commissionable_orders_x\",\"commissionable_orders_x\",\"commissionable_orders_x\",\"commissionable_orders_x\",\"commissionable_orders_x\",\"commissionable_orders_x\",\"commissionable_orders_x\",\"commissionable_orders_x\",\"commissionable_orders_x\",\"commissionable_orders_x\",\"commissionable_orders_x\",\"commissionable_orders_x\",\"commissionable_orders_x\",\"commissionable_orders_x\",\"commissionable_orders_x\",\"commissionable_orders_x\",\"commissionable_orders_x\",\"commissionable_orders_x\",\"commissionable_orders_x\",\"commissionable_orders_x\",\"commissionable_orders_x\",\"commissionable_orders_x\",\"commissionable_orders_x\",\"commissionable_orders_x\",\"commissionable_orders_y\",\"commissionable_orders_y\",\"commissionable_orders_y\",\"commissionable_orders_y\",\"commissionable_orders_y\",\"commissionable_orders_y\",\"commissionable_orders_y\",\"commissionable_orders_y\",\"commissionable_orders_y\",\"commissionable_orders_y\",\"commissionable_orders_y\",\"commissionable_orders_y\",\"commissionable_orders_y\",\"commissionable_orders_y\",\"commissionable_orders_y\",\"commissionable_orders_y\",\"commissionable_orders_y\",\"commissionable_orders_y\",\"commissionable_orders_y\",\"commissionable_orders_y\",\"commissionable_orders_y\",\"commissionable_orders_y\",\"commissionable_orders_y\",\"commissionable_orders_y\",\"commissionable_orders_y\",\"commissionable_orders_y\",\"commissionable_orders_y\",\"commissionable_orders_y\",\"commissionable_orders_y\",\"commissionable_orders_y\",\"commissionable_orders_y\",\"commissionable_orders_y\",\"commissionable_orders_y\",\"commissionable_orders_y\",\"commissionable_orders_y\",\"commissionable_orders_y\",\"commissionable_orders_y\",\"commissionable_orders_y\",\"commissionable_orders_y\",\"commissionable_orders_y\",\"commissionable_orders_y\",\"commissionable_orders_y\",\"commissionable_orders_y\",\"commissionable_orders_y\",\"commissionable_orders_y\",\"commissionable_orders_y\",\"commissionable_orders_y\",\"commissionable_orders_y\",\"commissionable_orders_y\",\"commissionable_orders_y\",\"commissionable_orders_y\",\"commissionable_orders_y\",\"commissionable_orders_y\",\"commissionable_orders_y\",\"commissionable_orders_y\",\"commissionable_orders_y\",\"commissionable_orders_y\",\"commissionable_orders_y\",\"commissionable_orders_y\",\"commissionable_orders_y\",\"commissionable_orders_y\",\"commissionable_orders_y\",\"commissionable_orders_y\",\"commissionable_orders_y\",\"commissionable_orders_y\",\"commissionable_orders_y\",\"commissionable_orders_y\",\"commissionable_orders_y\",\"commissionable_orders_y\",\"commissionable_orders_y\",\"commissionable_orders_y\",\"commissionable_orders_y\",\"commissionable_orders_y\",\"commissionable_orders_y\",\"commissionable_orders_y\",\"commissionable_orders_y\",\"commissionable_orders_y\",\"commissionable_orders_y\",\"commissionable_orders_y\",\"commissionable_orders_y\",\"commissionable_orders_y\",\"commissionable_orders_y\",\"commissionable_orders_y\",\"commissionable_orders_y\",\"commissionable_orders_y\",\"commissionable_orders_y\",\"commissionable_orders_y\",\"commissionable_orders_y\",\"commissionable_orders_y\",\"commissionable_orders_y\",\"commissionable_orders_y\",\"commissionable_orders_y\",\"commissionable_orders_y\",\"commissionable_orders_y\",\"commissionable_orders_y\",\"commissionable_orders_y\",\"commissionable_orders_y\",\"commissionable_orders_y\",\"commissionable_orders_y\",\"commissionable_orders_y\",\"commissionable_orders_y\",\"commissionable_orders_y\",\"commissionable_orders_y\",\"commissionable_orders_y\",\"commissionable_orders_y\",\"commissionable_orders_y\",\"commissionable_orders_y\",\"commissionable_orders_y\",\"commissionable_orders_y\",\"commissionable_orders_y\",\"commissionable_orders_y\",\"commissionable_orders_y\",\"commissionable_orders_y\",\"commissionable_orders_y\",\"commissionable_orders_y\",\"commissionable_orders_y\",\"commissionable_orders_y\",\"commissionable_orders_y\",\"commissionable_orders_y\",\"commissionable_orders_y\",\"commissionable_orders_y\",\"commissionable_orders_y\",\"commissionable_orders_y\",\"commissionable_orders_y\",\"commissionable_orders_y\",\"commissionable_orders_y\",\"commissionable_orders_y\",\"commissionable_orders_y\",\"commissionable_orders_y\",\"commissionable_orders_y\",\"commissionable_orders_y\",\"commissionable_orders_y\",\"commissionable_orders_y\",\"commissionable_orders_y\",\"commissionable_orders_y\",\"commissionable_orders_y\",\"commissionable_orders_y\",\"commissionable_orders_y\",\"commissionable_orders_y\",\"commissionable_orders_y\",\"commissionable_orders_y\",\"commissionable_orders_y\",\"commissionable_orders_y\",\"commissionable_orders_y\",\"commissionable_orders_y\",\"commissionable_orders_y\",\"commissionable_orders_y\",\"commissionable_orders_y\",\"commissionable_orders_y\",\"commissionable_orders_y\",\"commissionable_orders_y\",\"commissionable_orders_y\",\"commissionable_orders_y\",\"commissionable_orders_y\",\"commissionable_orders_y\",\"commissionable_orders_y\",\"commissionable_orders_y\",\"commissionable_orders_y\",\"commissionable_orders_y\",\"commissionable_orders_y\",\"commissionable_orders_y\",\"commissionable_orders_y\",\"commissionable_orders_y\",\"commissionable_orders_y\",\"commissionable_orders_y\",\"commissionable_orders_y\",\"commissionable_orders_y\",\"commissionable_orders_y\",\"commissionable_orders_y\",\"commissionable_orders_y\",\"commissionable_orders_y\",\"commissionable_orders_y\",\"commissionable_orders_y\",\"commissionable_orders_y\",\"commissionable_orders_y\",\"commissionable_orders_y\",\"commissionable_orders_y\",\"commissionable_orders_y\",\"commissionable_orders_y\",\"commissionable_orders_y\",\"commissionable_orders_y\",\"commissionable_orders_y\",\"commissionable_orders_y\",\"commissionable_orders_y\",\"commissionable_orders_y\",\"commissionable_orders_y\",\"commissionable_orders_y\",\"commissionable_orders_y\",\"commissionable_orders_y\",\"commissionable_orders_y\",\"commissionable_orders_y\",\"commissionable_orders_y\",\"commissionable_orders_y\",\"commissionable_orders_y\",\"commissionable_orders_y\",\"commissionable_orders_y\",\"commissionable_orders_y\",\"commissionable_orders_y\",\"commissionable_orders_y\",\"commissionable_orders_y\",\"commissionable_orders_y\",\"commissionable_orders_y\",\"commissionable_orders_y\",\"commissionable_orders_y\",\"commissionable_orders_y\",\"commissionable_orders_y\",\"commissionable_orders_y\",\"commissionable_orders_y\",\"commissionable_orders_y\",\"commissionable_orders_y\",\"commissionable_orders_y\",\"commissionable_orders_y\",\"commissionable_orders_y\",\"commissionable_orders_y\",\"commissionable_orders_y\",\"commissionable_orders_y\",\"commissionable_orders_y\",\"commissionable_orders_y\",\"commissionable_orders_y\",\"commissionable_orders_y\",\"commissionable_orders_y\",\"commissionable_orders_y\",\"commissionable_orders_y\",\"commissionable_orders_y\",\"commissionable_orders_y\",\"commissionable_orders_y\",\"commissionable_orders_y\",\"commissionable_orders_y\",\"commissionable_orders_y\",\"commissionable_orders_y\"],\"y0\":\" \",\"yaxis\":\"y\",\"type\":\"box\"}],                        {\"template\":{\"data\":{\"histogram2dcontour\":[{\"type\":\"histogram2dcontour\",\"colorbar\":{\"outlinewidth\":0,\"ticks\":\"\"},\"colorscale\":[[0.0,\"#0d0887\"],[0.1111111111111111,\"#46039f\"],[0.2222222222222222,\"#7201a8\"],[0.3333333333333333,\"#9c179e\"],[0.4444444444444444,\"#bd3786\"],[0.5555555555555556,\"#d8576b\"],[0.6666666666666666,\"#ed7953\"],[0.7777777777777778,\"#fb9f3a\"],[0.8888888888888888,\"#fdca26\"],[1.0,\"#f0f921\"]]}],\"choropleth\":[{\"type\":\"choropleth\",\"colorbar\":{\"outlinewidth\":0,\"ticks\":\"\"}}],\"histogram2d\":[{\"type\":\"histogram2d\",\"colorbar\":{\"outlinewidth\":0,\"ticks\":\"\"},\"colorscale\":[[0.0,\"#0d0887\"],[0.1111111111111111,\"#46039f\"],[0.2222222222222222,\"#7201a8\"],[0.3333333333333333,\"#9c179e\"],[0.4444444444444444,\"#bd3786\"],[0.5555555555555556,\"#d8576b\"],[0.6666666666666666,\"#ed7953\"],[0.7777777777777778,\"#fb9f3a\"],[0.8888888888888888,\"#fdca26\"],[1.0,\"#f0f921\"]]}],\"heatmap\":[{\"type\":\"heatmap\",\"colorbar\":{\"outlinewidth\":0,\"ticks\":\"\"},\"colorscale\":[[0.0,\"#0d0887\"],[0.1111111111111111,\"#46039f\"],[0.2222222222222222,\"#7201a8\"],[0.3333333333333333,\"#9c179e\"],[0.4444444444444444,\"#bd3786\"],[0.5555555555555556,\"#d8576b\"],[0.6666666666666666,\"#ed7953\"],[0.7777777777777778,\"#fb9f3a\"],[0.8888888888888888,\"#fdca26\"],[1.0,\"#f0f921\"]]}],\"heatmapgl\":[{\"type\":\"heatmapgl\",\"colorbar\":{\"outlinewidth\":0,\"ticks\":\"\"},\"colorscale\":[[0.0,\"#0d0887\"],[0.1111111111111111,\"#46039f\"],[0.2222222222222222,\"#7201a8\"],[0.3333333333333333,\"#9c179e\"],[0.4444444444444444,\"#bd3786\"],[0.5555555555555556,\"#d8576b\"],[0.6666666666666666,\"#ed7953\"],[0.7777777777777778,\"#fb9f3a\"],[0.8888888888888888,\"#fdca26\"],[1.0,\"#f0f921\"]]}],\"contourcarpet\":[{\"type\":\"contourcarpet\",\"colorbar\":{\"outlinewidth\":0,\"ticks\":\"\"}}],\"contour\":[{\"type\":\"contour\",\"colorbar\":{\"outlinewidth\":0,\"ticks\":\"\"},\"colorscale\":[[0.0,\"#0d0887\"],[0.1111111111111111,\"#46039f\"],[0.2222222222222222,\"#7201a8\"],[0.3333333333333333,\"#9c179e\"],[0.4444444444444444,\"#bd3786\"],[0.5555555555555556,\"#d8576b\"],[0.6666666666666666,\"#ed7953\"],[0.7777777777777778,\"#fb9f3a\"],[0.8888888888888888,\"#fdca26\"],[1.0,\"#f0f921\"]]}],\"surface\":[{\"type\":\"surface\",\"colorbar\":{\"outlinewidth\":0,\"ticks\":\"\"},\"colorscale\":[[0.0,\"#0d0887\"],[0.1111111111111111,\"#46039f\"],[0.2222222222222222,\"#7201a8\"],[0.3333333333333333,\"#9c179e\"],[0.4444444444444444,\"#bd3786\"],[0.5555555555555556,\"#d8576b\"],[0.6666666666666666,\"#ed7953\"],[0.7777777777777778,\"#fb9f3a\"],[0.8888888888888888,\"#fdca26\"],[1.0,\"#f0f921\"]]}],\"mesh3d\":[{\"type\":\"mesh3d\",\"colorbar\":{\"outlinewidth\":0,\"ticks\":\"\"}}],\"scatter\":[{\"fillpattern\":{\"fillmode\":\"overlay\",\"size\":10,\"solidity\":0.2},\"type\":\"scatter\"}],\"parcoords\":[{\"type\":\"parcoords\",\"line\":{\"colorbar\":{\"outlinewidth\":0,\"ticks\":\"\"}}}],\"scatterpolargl\":[{\"type\":\"scatterpolargl\",\"marker\":{\"colorbar\":{\"outlinewidth\":0,\"ticks\":\"\"}}}],\"bar\":[{\"error_x\":{\"color\":\"#2a3f5f\"},\"error_y\":{\"color\":\"#2a3f5f\"},\"marker\":{\"line\":{\"color\":\"#E5ECF6\",\"width\":0.5},\"pattern\":{\"fillmode\":\"overlay\",\"size\":10,\"solidity\":0.2}},\"type\":\"bar\"}],\"scattergeo\":[{\"type\":\"scattergeo\",\"marker\":{\"colorbar\":{\"outlinewidth\":0,\"ticks\":\"\"}}}],\"scatterpolar\":[{\"type\":\"scatterpolar\",\"marker\":{\"colorbar\":{\"outlinewidth\":0,\"ticks\":\"\"}}}],\"histogram\":[{\"marker\":{\"pattern\":{\"fillmode\":\"overlay\",\"size\":10,\"solidity\":0.2}},\"type\":\"histogram\"}],\"scattergl\":[{\"type\":\"scattergl\",\"marker\":{\"colorbar\":{\"outlinewidth\":0,\"ticks\":\"\"}}}],\"scatter3d\":[{\"type\":\"scatter3d\",\"line\":{\"colorbar\":{\"outlinewidth\":0,\"ticks\":\"\"}},\"marker\":{\"colorbar\":{\"outlinewidth\":0,\"ticks\":\"\"}}}],\"scattermapbox\":[{\"type\":\"scattermapbox\",\"marker\":{\"colorbar\":{\"outlinewidth\":0,\"ticks\":\"\"}}}],\"scatterternary\":[{\"type\":\"scatterternary\",\"marker\":{\"colorbar\":{\"outlinewidth\":0,\"ticks\":\"\"}}}],\"scattercarpet\":[{\"type\":\"scattercarpet\",\"marker\":{\"colorbar\":{\"outlinewidth\":0,\"ticks\":\"\"}}}],\"carpet\":[{\"aaxis\":{\"endlinecolor\":\"#2a3f5f\",\"gridcolor\":\"white\",\"linecolor\":\"white\",\"minorgridcolor\":\"white\",\"startlinecolor\":\"#2a3f5f\"},\"baxis\":{\"endlinecolor\":\"#2a3f5f\",\"gridcolor\":\"white\",\"linecolor\":\"white\",\"minorgridcolor\":\"white\",\"startlinecolor\":\"#2a3f5f\"},\"type\":\"carpet\"}],\"table\":[{\"cells\":{\"fill\":{\"color\":\"#EBF0F8\"},\"line\":{\"color\":\"white\"}},\"header\":{\"fill\":{\"color\":\"#C8D4E3\"},\"line\":{\"color\":\"white\"}},\"type\":\"table\"}],\"barpolar\":[{\"marker\":{\"line\":{\"color\":\"#E5ECF6\",\"width\":0.5},\"pattern\":{\"fillmode\":\"overlay\",\"size\":10,\"solidity\":0.2}},\"type\":\"barpolar\"}],\"pie\":[{\"automargin\":true,\"type\":\"pie\"}]},\"layout\":{\"autotypenumbers\":\"strict\",\"colorway\":[\"#636efa\",\"#EF553B\",\"#00cc96\",\"#ab63fa\",\"#FFA15A\",\"#19d3f3\",\"#FF6692\",\"#B6E880\",\"#FF97FF\",\"#FECB52\"],\"font\":{\"color\":\"#2a3f5f\"},\"hovermode\":\"closest\",\"hoverlabel\":{\"align\":\"left\"},\"paper_bgcolor\":\"white\",\"plot_bgcolor\":\"#E5ECF6\",\"polar\":{\"bgcolor\":\"#E5ECF6\",\"angularaxis\":{\"gridcolor\":\"white\",\"linecolor\":\"white\",\"ticks\":\"\"},\"radialaxis\":{\"gridcolor\":\"white\",\"linecolor\":\"white\",\"ticks\":\"\"}},\"ternary\":{\"bgcolor\":\"#E5ECF6\",\"aaxis\":{\"gridcolor\":\"white\",\"linecolor\":\"white\",\"ticks\":\"\"},\"baxis\":{\"gridcolor\":\"white\",\"linecolor\":\"white\",\"ticks\":\"\"},\"caxis\":{\"gridcolor\":\"white\",\"linecolor\":\"white\",\"ticks\":\"\"}},\"coloraxis\":{\"colorbar\":{\"outlinewidth\":0,\"ticks\":\"\"}},\"colorscale\":{\"sequential\":[[0.0,\"#0d0887\"],[0.1111111111111111,\"#46039f\"],[0.2222222222222222,\"#7201a8\"],[0.3333333333333333,\"#9c179e\"],[0.4444444444444444,\"#bd3786\"],[0.5555555555555556,\"#d8576b\"],[0.6666666666666666,\"#ed7953\"],[0.7777777777777778,\"#fb9f3a\"],[0.8888888888888888,\"#fdca26\"],[1.0,\"#f0f921\"]],\"sequentialminus\":[[0.0,\"#0d0887\"],[0.1111111111111111,\"#46039f\"],[0.2222222222222222,\"#7201a8\"],[0.3333333333333333,\"#9c179e\"],[0.4444444444444444,\"#bd3786\"],[0.5555555555555556,\"#d8576b\"],[0.6666666666666666,\"#ed7953\"],[0.7777777777777778,\"#fb9f3a\"],[0.8888888888888888,\"#fdca26\"],[1.0,\"#f0f921\"]],\"diverging\":[[0,\"#8e0152\"],[0.1,\"#c51b7d\"],[0.2,\"#de77ae\"],[0.3,\"#f1b6da\"],[0.4,\"#fde0ef\"],[0.5,\"#f7f7f7\"],[0.6,\"#e6f5d0\"],[0.7,\"#b8e186\"],[0.8,\"#7fbc41\"],[0.9,\"#4d9221\"],[1,\"#276419\"]]},\"xaxis\":{\"gridcolor\":\"white\",\"linecolor\":\"white\",\"ticks\":\"\",\"title\":{\"standoff\":15},\"zerolinecolor\":\"white\",\"automargin\":true,\"zerolinewidth\":2},\"yaxis\":{\"gridcolor\":\"white\",\"linecolor\":\"white\",\"ticks\":\"\",\"title\":{\"standoff\":15},\"zerolinecolor\":\"white\",\"automargin\":true,\"zerolinewidth\":2},\"scene\":{\"xaxis\":{\"backgroundcolor\":\"#E5ECF6\",\"gridcolor\":\"white\",\"linecolor\":\"white\",\"showbackground\":true,\"ticks\":\"\",\"zerolinecolor\":\"white\",\"gridwidth\":2},\"yaxis\":{\"backgroundcolor\":\"#E5ECF6\",\"gridcolor\":\"white\",\"linecolor\":\"white\",\"showbackground\":true,\"ticks\":\"\",\"zerolinecolor\":\"white\",\"gridwidth\":2},\"zaxis\":{\"backgroundcolor\":\"#E5ECF6\",\"gridcolor\":\"white\",\"linecolor\":\"white\",\"showbackground\":true,\"ticks\":\"\",\"zerolinecolor\":\"white\",\"gridwidth\":2}},\"shapedefaults\":{\"line\":{\"color\":\"#2a3f5f\"}},\"annotationdefaults\":{\"arrowcolor\":\"#2a3f5f\",\"arrowhead\":0,\"arrowwidth\":1},\"geo\":{\"bgcolor\":\"white\",\"landcolor\":\"#E5ECF6\",\"subunitcolor\":\"white\",\"showland\":true,\"showlakes\":true,\"lakecolor\":\"white\"},\"title\":{\"x\":0.05},\"mapbox\":{\"style\":\"light\"}}},\"xaxis\":{\"anchor\":\"y\",\"domain\":[0.0,1.0],\"title\":{\"text\":\"value\"}},\"yaxis\":{\"anchor\":\"x\",\"domain\":[0.0,1.0],\"title\":{\"text\":\"variable\"}},\"legend\":{\"tracegroupgap\":0},\"title\":{\"text\":\"NUmber of orders Month 1 and Month 2\"},\"boxmode\":\"group\"},                        {\"responsive\": true}                    ).then(function(){\n",
       "                            \n",
       "var gd = document.getElementById('6004d4a1-5210-4a35-93b1-88d5d23b832b');\n",
       "var x = new MutationObserver(function (mutations, observer) {{\n",
       "        var display = window.getComputedStyle(gd).display;\n",
       "        if (!display || display === 'none') {{\n",
       "            console.log([gd, 'removed!']);\n",
       "            Plotly.purge(gd);\n",
       "            observer.disconnect();\n",
       "        }}\n",
       "}});\n",
       "\n",
       "// Listen for the removal of the full notebook cells\n",
       "var notebookContainer = gd.closest('#notebook-container');\n",
       "if (notebookContainer) {{\n",
       "    x.observe(notebookContainer, {childList: true});\n",
       "}}\n",
       "\n",
       "// Listen for the clearing of the current output cell\n",
       "var outputEl = gd.closest('.output');\n",
       "if (outputEl) {{\n",
       "    x.observe(outputEl, {childList: true});\n",
       "}}\n",
       "\n",
       "                        })                };                });            </script>        </div>"
      ]
     },
     "metadata": {},
     "output_type": "display_data"
    }
   ],
   "source": [
    "fig = px.box(del_merged,\n",
    "                  x = ['commissionable_orders_x', 'commissionable_orders_y'],\n",
    "            title = 'NUmber of orders Month 1 and Month 2')\n",
    "fig.show()\n",
    "# fig.write_html('./graphs/box_avh_basket_size.html')"
   ]
  },
  {
   "cell_type": "markdown",
   "id": "8b3e9d2d",
   "metadata": {},
   "source": [
    "### who are the outliers?"
   ]
  },
  {
   "cell_type": "code",
   "execution_count": 85,
   "id": "ee75c9ae",
   "metadata": {},
   "outputs": [],
   "source": [
    "orders_outliers = del_merged[del_merged['commissionable_orders_y'] > 752]"
   ]
  },
  {
   "cell_type": "code",
   "execution_count": 86,
   "id": "08f9da85",
   "metadata": {},
   "outputs": [
    {
     "data": {
      "text/html": [
       "<div>\n",
       "<style scoped>\n",
       "    .dataframe tbody tr th:only-of-type {\n",
       "        vertical-align: middle;\n",
       "    }\n",
       "\n",
       "    .dataframe tbody tr th {\n",
       "        vertical-align: top;\n",
       "    }\n",
       "\n",
       "    .dataframe thead th {\n",
       "        text-align: right;\n",
       "    }\n",
       "</style>\n",
       "<table border=\"1\" class=\"dataframe\">\n",
       "  <thead>\n",
       "    <tr style=\"text-align: right;\">\n",
       "      <th></th>\n",
       "      <th>name</th>\n",
       "      <th>zip</th>\n",
       "      <th>%_kill_rate_x</th>\n",
       "      <th>avg_basket_size_€_1</th>\n",
       "      <th>avg_time_to_accept_(s)_1</th>\n",
       "      <th>commissionable_orders_x</th>\n",
       "      <th>negative_comments_x</th>\n",
       "      <th>positive_comments_x</th>\n",
       "      <th>%_kill_rate_y</th>\n",
       "      <th>avg_basket_size_€_2</th>\n",
       "      <th>avg_time_to_accept_(s)_x_2</th>\n",
       "      <th>commissionable_orders_y</th>\n",
       "      <th>negative_comments_y</th>\n",
       "      <th>positive_comments_y</th>\n",
       "    </tr>\n",
       "  </thead>\n",
       "  <tbody>\n",
       "    <tr>\n",
       "      <th>24</th>\n",
       "      <td>Beste Freunde - Burgergrill</td>\n",
       "      <td>8020</td>\n",
       "      <td>NaN</td>\n",
       "      <td>19.0</td>\n",
       "      <td>16.0</td>\n",
       "      <td>993.0</td>\n",
       "      <td>11.0</td>\n",
       "      <td>1.0</td>\n",
       "      <td>NaN</td>\n",
       "      <td>20.0</td>\n",
       "      <td>16.0</td>\n",
       "      <td>953.0</td>\n",
       "      <td>8.0</td>\n",
       "      <td>1.0</td>\n",
       "    </tr>\n",
       "    <tr>\n",
       "      <th>46</th>\n",
       "      <td>Chin Chin Asian Special</td>\n",
       "      <td>8020</td>\n",
       "      <td>102.0</td>\n",
       "      <td>26.0</td>\n",
       "      <td>16.0</td>\n",
       "      <td>720.0</td>\n",
       "      <td>1.0</td>\n",
       "      <td>1.0</td>\n",
       "      <td>91.0</td>\n",
       "      <td>27.0</td>\n",
       "      <td>12.0</td>\n",
       "      <td>1026.0</td>\n",
       "      <td>1.0</td>\n",
       "      <td>1.0</td>\n",
       "    </tr>\n",
       "    <tr>\n",
       "      <th>60</th>\n",
       "      <td>Da Piero</td>\n",
       "      <td>8020</td>\n",
       "      <td>64.0</td>\n",
       "      <td>19.0</td>\n",
       "      <td>9.0</td>\n",
       "      <td>1463.0</td>\n",
       "      <td>1.0</td>\n",
       "      <td>1.0</td>\n",
       "      <td>61.0</td>\n",
       "      <td>19.0</td>\n",
       "      <td>9.0</td>\n",
       "      <td>1634.0</td>\n",
       "      <td>1.0</td>\n",
       "      <td>1.0</td>\n",
       "    </tr>\n",
       "    <tr>\n",
       "      <th>66</th>\n",
       "      <td>Dolce Vita</td>\n",
       "      <td>8020</td>\n",
       "      <td>NaN</td>\n",
       "      <td>19.0</td>\n",
       "      <td>9.0</td>\n",
       "      <td>1178.0</td>\n",
       "      <td>NaN</td>\n",
       "      <td>1.0</td>\n",
       "      <td>NaN</td>\n",
       "      <td>19.0</td>\n",
       "      <td>9.0</td>\n",
       "      <td>1353.0</td>\n",
       "      <td>NaN</td>\n",
       "      <td>1.0</td>\n",
       "    </tr>\n",
       "    <tr>\n",
       "      <th>103</th>\n",
       "      <td>KFC</td>\n",
       "      <td>8020</td>\n",
       "      <td>49.0</td>\n",
       "      <td>16.0</td>\n",
       "      <td>305.0</td>\n",
       "      <td>1244.0</td>\n",
       "      <td>13.0</td>\n",
       "      <td>1.0</td>\n",
       "      <td>46.0</td>\n",
       "      <td>16.0</td>\n",
       "      <td>300.0</td>\n",
       "      <td>1057.0</td>\n",
       "      <td>10.0</td>\n",
       "      <td>1.0</td>\n",
       "    </tr>\n",
       "    <tr>\n",
       "      <th>109</th>\n",
       "      <td>L'Osteria</td>\n",
       "      <td>8010</td>\n",
       "      <td>98.0</td>\n",
       "      <td>25.0</td>\n",
       "      <td>263.0</td>\n",
       "      <td>1017.0</td>\n",
       "      <td>7.0</td>\n",
       "      <td>1.0</td>\n",
       "      <td>101.0</td>\n",
       "      <td>25.0</td>\n",
       "      <td>264.0</td>\n",
       "      <td>840.0</td>\n",
       "      <td>5.0</td>\n",
       "      <td>1.0</td>\n",
       "    </tr>\n",
       "    <tr>\n",
       "      <th>116</th>\n",
       "      <td>Mamacita - California Burritos</td>\n",
       "      <td>8010</td>\n",
       "      <td>NaN</td>\n",
       "      <td>21.0</td>\n",
       "      <td>17.0</td>\n",
       "      <td>1010.0</td>\n",
       "      <td>10.0</td>\n",
       "      <td>1.0</td>\n",
       "      <td>NaN</td>\n",
       "      <td>23.0</td>\n",
       "      <td>18.0</td>\n",
       "      <td>1067.0</td>\n",
       "      <td>10.0</td>\n",
       "      <td>1.0</td>\n",
       "    </tr>\n",
       "    <tr>\n",
       "      <th>117</th>\n",
       "      <td>Mampf</td>\n",
       "      <td>8020</td>\n",
       "      <td>52.0</td>\n",
       "      <td>22.0</td>\n",
       "      <td>17.0</td>\n",
       "      <td>699.0</td>\n",
       "      <td>3.0</td>\n",
       "      <td>1.0</td>\n",
       "      <td>46.0</td>\n",
       "      <td>23.0</td>\n",
       "      <td>15.0</td>\n",
       "      <td>822.0</td>\n",
       "      <td>4.0</td>\n",
       "      <td>1.0</td>\n",
       "    </tr>\n",
       "    <tr>\n",
       "      <th>119</th>\n",
       "      <td>McDonald's®</td>\n",
       "      <td>8010</td>\n",
       "      <td>31.0</td>\n",
       "      <td>21.0</td>\n",
       "      <td>512.5</td>\n",
       "      <td>1776.0</td>\n",
       "      <td>11.5</td>\n",
       "      <td>1.0</td>\n",
       "      <td>36.0</td>\n",
       "      <td>21.5</td>\n",
       "      <td>685.0</td>\n",
       "      <td>1507.5</td>\n",
       "      <td>8.0</td>\n",
       "      <td>1.0</td>\n",
       "    </tr>\n",
       "    <tr>\n",
       "      <th>121</th>\n",
       "      <td>McDonald's®</td>\n",
       "      <td>8054</td>\n",
       "      <td>55.0</td>\n",
       "      <td>23.0</td>\n",
       "      <td>500.0</td>\n",
       "      <td>1010.0</td>\n",
       "      <td>7.0</td>\n",
       "      <td>1.0</td>\n",
       "      <td>58.0</td>\n",
       "      <td>23.0</td>\n",
       "      <td>501.0</td>\n",
       "      <td>903.0</td>\n",
       "      <td>7.0</td>\n",
       "      <td>1.0</td>\n",
       "    </tr>\n",
       "    <tr>\n",
       "      <th>163</th>\n",
       "      <td>Pizzeria Casa Roma</td>\n",
       "      <td>8010</td>\n",
       "      <td>79.0</td>\n",
       "      <td>17.0</td>\n",
       "      <td>16.0</td>\n",
       "      <td>827.0</td>\n",
       "      <td>6.0</td>\n",
       "      <td>1.0</td>\n",
       "      <td>86.0</td>\n",
       "      <td>17.0</td>\n",
       "      <td>15.0</td>\n",
       "      <td>918.0</td>\n",
       "      <td>9.0</td>\n",
       "      <td>1.0</td>\n",
       "    </tr>\n",
       "    <tr>\n",
       "      <th>167</th>\n",
       "      <td>Pizzeria Ristorante Da Vinci Linz</td>\n",
       "      <td>8010</td>\n",
       "      <td>51.0</td>\n",
       "      <td>20.0</td>\n",
       "      <td>16.0</td>\n",
       "      <td>1933.0</td>\n",
       "      <td>7.0</td>\n",
       "      <td>1.0</td>\n",
       "      <td>47.0</td>\n",
       "      <td>21.0</td>\n",
       "      <td>13.0</td>\n",
       "      <td>2180.0</td>\n",
       "      <td>10.0</td>\n",
       "      <td>1.0</td>\n",
       "    </tr>\n",
       "    <tr>\n",
       "      <th>179</th>\n",
       "      <td>Restaurant Z10</td>\n",
       "      <td>8010</td>\n",
       "      <td>NaN</td>\n",
       "      <td>23.0</td>\n",
       "      <td>15.0</td>\n",
       "      <td>1899.0</td>\n",
       "      <td>4.0</td>\n",
       "      <td>1.0</td>\n",
       "      <td>NaN</td>\n",
       "      <td>23.0</td>\n",
       "      <td>14.0</td>\n",
       "      <td>1859.0</td>\n",
       "      <td>7.0</td>\n",
       "      <td>1.0</td>\n",
       "    </tr>\n",
       "    <tr>\n",
       "      <th>182</th>\n",
       "      <td>Road Burger - Pizza Taxi 2600</td>\n",
       "      <td>8053</td>\n",
       "      <td>54.0</td>\n",
       "      <td>26.0</td>\n",
       "      <td>21.0</td>\n",
       "      <td>746.0</td>\n",
       "      <td>NaN</td>\n",
       "      <td>1.0</td>\n",
       "      <td>51.0</td>\n",
       "      <td>28.0</td>\n",
       "      <td>24.0</td>\n",
       "      <td>835.0</td>\n",
       "      <td>NaN</td>\n",
       "      <td>1.0</td>\n",
       "    </tr>\n",
       "    <tr>\n",
       "      <th>198</th>\n",
       "      <td>Swing Kitchen</td>\n",
       "      <td>8010</td>\n",
       "      <td>65.0</td>\n",
       "      <td>23.0</td>\n",
       "      <td>402.0</td>\n",
       "      <td>1982.0</td>\n",
       "      <td>NaN</td>\n",
       "      <td>1.0</td>\n",
       "      <td>65.0</td>\n",
       "      <td>23.0</td>\n",
       "      <td>405.0</td>\n",
       "      <td>1913.0</td>\n",
       "      <td>NaN</td>\n",
       "      <td>1.0</td>\n",
       "    </tr>\n",
       "  </tbody>\n",
       "</table>\n",
       "</div>"
      ],
      "text/plain": [
       "                                  name   zip  %_kill_rate_x  \\\n",
       "24         Beste Freunde - Burgergrill  8020            NaN   \n",
       "46             Chin Chin Asian Special  8020          102.0   \n",
       "60                            Da Piero  8020           64.0   \n",
       "66                          Dolce Vita  8020            NaN   \n",
       "103                                KFC  8020           49.0   \n",
       "109                          L'Osteria  8010           98.0   \n",
       "116     Mamacita - California Burritos  8010            NaN   \n",
       "117                              Mampf  8020           52.0   \n",
       "119                        McDonald's®  8010           31.0   \n",
       "121                        McDonald's®  8054           55.0   \n",
       "163                 Pizzeria Casa Roma  8010           79.0   \n",
       "167  Pizzeria Ristorante Da Vinci Linz  8010           51.0   \n",
       "179                     Restaurant Z10  8010            NaN   \n",
       "182      Road Burger - Pizza Taxi 2600  8053           54.0   \n",
       "198                      Swing Kitchen  8010           65.0   \n",
       "\n",
       "     avg_basket_size_€_1  avg_time_to_accept_(s)_1  commissionable_orders_x  \\\n",
       "24                  19.0                      16.0                    993.0   \n",
       "46                  26.0                      16.0                    720.0   \n",
       "60                  19.0                       9.0                   1463.0   \n",
       "66                  19.0                       9.0                   1178.0   \n",
       "103                 16.0                     305.0                   1244.0   \n",
       "109                 25.0                     263.0                   1017.0   \n",
       "116                 21.0                      17.0                   1010.0   \n",
       "117                 22.0                      17.0                    699.0   \n",
       "119                 21.0                     512.5                   1776.0   \n",
       "121                 23.0                     500.0                   1010.0   \n",
       "163                 17.0                      16.0                    827.0   \n",
       "167                 20.0                      16.0                   1933.0   \n",
       "179                 23.0                      15.0                   1899.0   \n",
       "182                 26.0                      21.0                    746.0   \n",
       "198                 23.0                     402.0                   1982.0   \n",
       "\n",
       "     negative_comments_x  positive_comments_x  %_kill_rate_y  \\\n",
       "24                  11.0                  1.0            NaN   \n",
       "46                   1.0                  1.0           91.0   \n",
       "60                   1.0                  1.0           61.0   \n",
       "66                   NaN                  1.0            NaN   \n",
       "103                 13.0                  1.0           46.0   \n",
       "109                  7.0                  1.0          101.0   \n",
       "116                 10.0                  1.0            NaN   \n",
       "117                  3.0                  1.0           46.0   \n",
       "119                 11.5                  1.0           36.0   \n",
       "121                  7.0                  1.0           58.0   \n",
       "163                  6.0                  1.0           86.0   \n",
       "167                  7.0                  1.0           47.0   \n",
       "179                  4.0                  1.0            NaN   \n",
       "182                  NaN                  1.0           51.0   \n",
       "198                  NaN                  1.0           65.0   \n",
       "\n",
       "     avg_basket_size_€_2  avg_time_to_accept_(s)_x_2  commissionable_orders_y  \\\n",
       "24                  20.0                        16.0                    953.0   \n",
       "46                  27.0                        12.0                   1026.0   \n",
       "60                  19.0                         9.0                   1634.0   \n",
       "66                  19.0                         9.0                   1353.0   \n",
       "103                 16.0                       300.0                   1057.0   \n",
       "109                 25.0                       264.0                    840.0   \n",
       "116                 23.0                        18.0                   1067.0   \n",
       "117                 23.0                        15.0                    822.0   \n",
       "119                 21.5                       685.0                   1507.5   \n",
       "121                 23.0                       501.0                    903.0   \n",
       "163                 17.0                        15.0                    918.0   \n",
       "167                 21.0                        13.0                   2180.0   \n",
       "179                 23.0                        14.0                   1859.0   \n",
       "182                 28.0                        24.0                    835.0   \n",
       "198                 23.0                       405.0                   1913.0   \n",
       "\n",
       "     negative_comments_y  positive_comments_y  \n",
       "24                   8.0                  1.0  \n",
       "46                   1.0                  1.0  \n",
       "60                   1.0                  1.0  \n",
       "66                   NaN                  1.0  \n",
       "103                 10.0                  1.0  \n",
       "109                  5.0                  1.0  \n",
       "116                 10.0                  1.0  \n",
       "117                  4.0                  1.0  \n",
       "119                  8.0                  1.0  \n",
       "121                  7.0                  1.0  \n",
       "163                  9.0                  1.0  \n",
       "167                 10.0                  1.0  \n",
       "179                  7.0                  1.0  \n",
       "182                  NaN                  1.0  \n",
       "198                  NaN                  1.0  "
      ]
     },
     "execution_count": 86,
     "metadata": {},
     "output_type": "execute_result"
    }
   ],
   "source": [
    "orders_outliers"
   ]
  },
  {
   "cell_type": "code",
   "execution_count": 87,
   "id": "c7c1e3a1",
   "metadata": {},
   "outputs": [
    {
     "data": {
      "text/plain": [
       "name                          15\n",
       "zip                           15\n",
       "%_kill_rate_x                 11\n",
       "avg_basket_size_€_1           15\n",
       "avg_time_to_accept_(s)_1      15\n",
       "commissionable_orders_x       15\n",
       "negative_comments_x           12\n",
       "positive_comments_x           15\n",
       "%_kill_rate_y                 11\n",
       "avg_basket_size_€_2           15\n",
       "avg_time_to_accept_(s)_x_2    15\n",
       "commissionable_orders_y       15\n",
       "negative_comments_y           12\n",
       "positive_comments_y           15\n",
       "dtype: int64"
      ]
     },
     "execution_count": 87,
     "metadata": {},
     "output_type": "execute_result"
    }
   ],
   "source": [
    "orders_outliers.sort_values(by = 'commissionable_orders_y', ascending = False).count()\n",
    "\n",
    "# 22 outliers for month 1\n",
    "# 15 outliers for month 2"
   ]
  },
  {
   "cell_type": "code",
   "execution_count": 77,
   "id": "9c64b2b9",
   "metadata": {},
   "outputs": [
    {
     "data": {
      "text/html": [
       "<div>\n",
       "<style scoped>\n",
       "    .dataframe tbody tr th:only-of-type {\n",
       "        vertical-align: middle;\n",
       "    }\n",
       "\n",
       "    .dataframe tbody tr th {\n",
       "        vertical-align: top;\n",
       "    }\n",
       "\n",
       "    .dataframe thead th {\n",
       "        text-align: right;\n",
       "    }\n",
       "</style>\n",
       "<table border=\"1\" class=\"dataframe\">\n",
       "  <thead>\n",
       "    <tr style=\"text-align: right;\">\n",
       "      <th></th>\n",
       "      <th>name</th>\n",
       "      <th>zip</th>\n",
       "      <th>%_kill_rate_x</th>\n",
       "      <th>avg_basket_size_€_1</th>\n",
       "      <th>avg_time_to_accept_(s)_1</th>\n",
       "      <th>commissionable_orders_x</th>\n",
       "      <th>negative_comments_x</th>\n",
       "      <th>positive_comments_x</th>\n",
       "      <th>%_kill_rate_y</th>\n",
       "      <th>avg_basket_size_€_2</th>\n",
       "      <th>avg_time_to_accept_(s)_x_2</th>\n",
       "      <th>commissionable_orders_y</th>\n",
       "      <th>negative_comments_y</th>\n",
       "      <th>positive_comments_y</th>\n",
       "    </tr>\n",
       "  </thead>\n",
       "  <tbody>\n",
       "    <tr>\n",
       "      <th>198</th>\n",
       "      <td>Swing Kitchen</td>\n",
       "      <td>8010</td>\n",
       "      <td>65.0</td>\n",
       "      <td>23.0</td>\n",
       "      <td>402.0</td>\n",
       "      <td>1982.0</td>\n",
       "      <td>NaN</td>\n",
       "      <td>1.0</td>\n",
       "      <td>65.0</td>\n",
       "      <td>23.0</td>\n",
       "      <td>405.0</td>\n",
       "      <td>1913.0</td>\n",
       "      <td>NaN</td>\n",
       "      <td>1.0</td>\n",
       "    </tr>\n",
       "    <tr>\n",
       "      <th>167</th>\n",
       "      <td>Pizzeria Ristorante Da Vinci Linz</td>\n",
       "      <td>8010</td>\n",
       "      <td>51.0</td>\n",
       "      <td>20.0</td>\n",
       "      <td>16.0</td>\n",
       "      <td>1933.0</td>\n",
       "      <td>7.0</td>\n",
       "      <td>1.0</td>\n",
       "      <td>47.0</td>\n",
       "      <td>21.0</td>\n",
       "      <td>13.0</td>\n",
       "      <td>2180.0</td>\n",
       "      <td>10.0</td>\n",
       "      <td>1.0</td>\n",
       "    </tr>\n",
       "    <tr>\n",
       "      <th>179</th>\n",
       "      <td>Restaurant Z10</td>\n",
       "      <td>8010</td>\n",
       "      <td>NaN</td>\n",
       "      <td>23.0</td>\n",
       "      <td>15.0</td>\n",
       "      <td>1899.0</td>\n",
       "      <td>4.0</td>\n",
       "      <td>1.0</td>\n",
       "      <td>NaN</td>\n",
       "      <td>23.0</td>\n",
       "      <td>14.0</td>\n",
       "      <td>1859.0</td>\n",
       "      <td>7.0</td>\n",
       "      <td>1.0</td>\n",
       "    </tr>\n",
       "    <tr>\n",
       "      <th>119</th>\n",
       "      <td>McDonald's®</td>\n",
       "      <td>8010</td>\n",
       "      <td>31.0</td>\n",
       "      <td>21.0</td>\n",
       "      <td>512.5</td>\n",
       "      <td>1776.0</td>\n",
       "      <td>11.5</td>\n",
       "      <td>1.0</td>\n",
       "      <td>36.0</td>\n",
       "      <td>21.5</td>\n",
       "      <td>685.0</td>\n",
       "      <td>1507.5</td>\n",
       "      <td>8.0</td>\n",
       "      <td>1.0</td>\n",
       "    </tr>\n",
       "    <tr>\n",
       "      <th>60</th>\n",
       "      <td>Da Piero</td>\n",
       "      <td>8020</td>\n",
       "      <td>64.0</td>\n",
       "      <td>19.0</td>\n",
       "      <td>9.0</td>\n",
       "      <td>1463.0</td>\n",
       "      <td>1.0</td>\n",
       "      <td>1.0</td>\n",
       "      <td>61.0</td>\n",
       "      <td>19.0</td>\n",
       "      <td>9.0</td>\n",
       "      <td>1634.0</td>\n",
       "      <td>1.0</td>\n",
       "      <td>1.0</td>\n",
       "    </tr>\n",
       "    <tr>\n",
       "      <th>103</th>\n",
       "      <td>KFC</td>\n",
       "      <td>8020</td>\n",
       "      <td>49.0</td>\n",
       "      <td>16.0</td>\n",
       "      <td>305.0</td>\n",
       "      <td>1244.0</td>\n",
       "      <td>13.0</td>\n",
       "      <td>1.0</td>\n",
       "      <td>46.0</td>\n",
       "      <td>16.0</td>\n",
       "      <td>300.0</td>\n",
       "      <td>1057.0</td>\n",
       "      <td>10.0</td>\n",
       "      <td>1.0</td>\n",
       "    </tr>\n",
       "    <tr>\n",
       "      <th>66</th>\n",
       "      <td>Dolce Vita</td>\n",
       "      <td>8020</td>\n",
       "      <td>NaN</td>\n",
       "      <td>19.0</td>\n",
       "      <td>9.0</td>\n",
       "      <td>1178.0</td>\n",
       "      <td>NaN</td>\n",
       "      <td>1.0</td>\n",
       "      <td>NaN</td>\n",
       "      <td>19.0</td>\n",
       "      <td>9.0</td>\n",
       "      <td>1353.0</td>\n",
       "      <td>NaN</td>\n",
       "      <td>1.0</td>\n",
       "    </tr>\n",
       "    <tr>\n",
       "      <th>109</th>\n",
       "      <td>L'Osteria</td>\n",
       "      <td>8010</td>\n",
       "      <td>98.0</td>\n",
       "      <td>25.0</td>\n",
       "      <td>263.0</td>\n",
       "      <td>1017.0</td>\n",
       "      <td>7.0</td>\n",
       "      <td>1.0</td>\n",
       "      <td>101.0</td>\n",
       "      <td>25.0</td>\n",
       "      <td>264.0</td>\n",
       "      <td>840.0</td>\n",
       "      <td>5.0</td>\n",
       "      <td>1.0</td>\n",
       "    </tr>\n",
       "    <tr>\n",
       "      <th>121</th>\n",
       "      <td>McDonald's®</td>\n",
       "      <td>8054</td>\n",
       "      <td>55.0</td>\n",
       "      <td>23.0</td>\n",
       "      <td>500.0</td>\n",
       "      <td>1010.0</td>\n",
       "      <td>7.0</td>\n",
       "      <td>1.0</td>\n",
       "      <td>58.0</td>\n",
       "      <td>23.0</td>\n",
       "      <td>501.0</td>\n",
       "      <td>903.0</td>\n",
       "      <td>7.0</td>\n",
       "      <td>1.0</td>\n",
       "    </tr>\n",
       "    <tr>\n",
       "      <th>116</th>\n",
       "      <td>Mamacita - California Burritos</td>\n",
       "      <td>8010</td>\n",
       "      <td>NaN</td>\n",
       "      <td>21.0</td>\n",
       "      <td>17.0</td>\n",
       "      <td>1010.0</td>\n",
       "      <td>10.0</td>\n",
       "      <td>1.0</td>\n",
       "      <td>NaN</td>\n",
       "      <td>23.0</td>\n",
       "      <td>18.0</td>\n",
       "      <td>1067.0</td>\n",
       "      <td>10.0</td>\n",
       "      <td>1.0</td>\n",
       "    </tr>\n",
       "  </tbody>\n",
       "</table>\n",
       "</div>"
      ],
      "text/plain": [
       "                                  name   zip  %_kill_rate_x  \\\n",
       "198                      Swing Kitchen  8010           65.0   \n",
       "167  Pizzeria Ristorante Da Vinci Linz  8010           51.0   \n",
       "179                     Restaurant Z10  8010            NaN   \n",
       "119                        McDonald's®  8010           31.0   \n",
       "60                            Da Piero  8020           64.0   \n",
       "103                                KFC  8020           49.0   \n",
       "66                          Dolce Vita  8020            NaN   \n",
       "109                          L'Osteria  8010           98.0   \n",
       "121                        McDonald's®  8054           55.0   \n",
       "116     Mamacita - California Burritos  8010            NaN   \n",
       "\n",
       "     avg_basket_size_€_1  avg_time_to_accept_(s)_1  commissionable_orders_x  \\\n",
       "198                 23.0                     402.0                   1982.0   \n",
       "167                 20.0                      16.0                   1933.0   \n",
       "179                 23.0                      15.0                   1899.0   \n",
       "119                 21.0                     512.5                   1776.0   \n",
       "60                  19.0                       9.0                   1463.0   \n",
       "103                 16.0                     305.0                   1244.0   \n",
       "66                  19.0                       9.0                   1178.0   \n",
       "109                 25.0                     263.0                   1017.0   \n",
       "121                 23.0                     500.0                   1010.0   \n",
       "116                 21.0                      17.0                   1010.0   \n",
       "\n",
       "     negative_comments_x  positive_comments_x  %_kill_rate_y  \\\n",
       "198                  NaN                  1.0           65.0   \n",
       "167                  7.0                  1.0           47.0   \n",
       "179                  4.0                  1.0            NaN   \n",
       "119                 11.5                  1.0           36.0   \n",
       "60                   1.0                  1.0           61.0   \n",
       "103                 13.0                  1.0           46.0   \n",
       "66                   NaN                  1.0            NaN   \n",
       "109                  7.0                  1.0          101.0   \n",
       "121                  7.0                  1.0           58.0   \n",
       "116                 10.0                  1.0            NaN   \n",
       "\n",
       "     avg_basket_size_€_2  avg_time_to_accept_(s)_x_2  commissionable_orders_y  \\\n",
       "198                 23.0                       405.0                   1913.0   \n",
       "167                 21.0                        13.0                   2180.0   \n",
       "179                 23.0                        14.0                   1859.0   \n",
       "119                 21.5                       685.0                   1507.5   \n",
       "60                  19.0                         9.0                   1634.0   \n",
       "103                 16.0                       300.0                   1057.0   \n",
       "66                  19.0                         9.0                   1353.0   \n",
       "109                 25.0                       264.0                    840.0   \n",
       "121                 23.0                       501.0                    903.0   \n",
       "116                 23.0                        18.0                   1067.0   \n",
       "\n",
       "     negative_comments_y  positive_comments_y  \n",
       "198                  NaN                  1.0  \n",
       "167                 10.0                  1.0  \n",
       "179                  7.0                  1.0  \n",
       "119                  8.0                  1.0  \n",
       "60                   1.0                  1.0  \n",
       "103                 10.0                  1.0  \n",
       "66                   NaN                  1.0  \n",
       "109                  5.0                  1.0  \n",
       "121                  7.0                  1.0  \n",
       "116                 10.0                  1.0  "
      ]
     },
     "execution_count": 77,
     "metadata": {},
     "output_type": "execute_result"
    }
   ],
   "source": [
    "outliers_top_10 = orders_outliers.sort_values(by = 'commissionable_orders_x', ascending = False).head(10)\n",
    "outliers_top_10"
   ]
  },
  {
   "cell_type": "code",
   "execution_count": 66,
   "id": "ecb05c2e",
   "metadata": {},
   "outputs": [
    {
     "data": {
      "application/vnd.plotly.v1+json": {
       "config": {
        "plotlyServerURL": "https://plot.ly"
       },
       "data": [
        {
         "alignmentgroup": "True",
         "bingroup": "x",
         "hovertemplate": "variable=commissionable_orders_x<br>value=%{x}<br>count=%{y}<extra></extra>",
         "legendgroup": "commissionable_orders_x",
         "marker": {
          "color": "#636efa",
          "pattern": {
           "shape": ""
          }
         },
         "name": "commissionable_orders_x",
         "offsetgroup": "commissionable_orders_x",
         "orientation": "v",
         "showlegend": true,
         "type": "histogram",
         "x": [
          78,
          25,
          481,
          144,
          55,
          319,
          285,
          null,
          235,
          199,
          null,
          82,
          8,
          34,
          82,
          181,
          82,
          null,
          273,
          136,
          90,
          9,
          109,
          null,
          993,
          72,
          537,
          10,
          32,
          3,
          375,
          129,
          324,
          841,
          111,
          36,
          240,
          54,
          24,
          370,
          50,
          275,
          111,
          178,
          157,
          853,
          720,
          240,
          24,
          486,
          230,
          39,
          869,
          333,
          41,
          7,
          56,
          5,
          null,
          33,
          1463,
          137,
          null,
          12,
          null,
          null,
          1178,
          328,
          51,
          210,
          72,
          114,
          35,
          139,
          18,
          null,
          320,
          498,
          43,
          2,
          17,
          98,
          248,
          37,
          null,
          24,
          17,
          13,
          106,
          6,
          166,
          null,
          1,
          41,
          10,
          399,
          104,
          87,
          330,
          13,
          160,
          117,
          12,
          1244,
          229,
          47,
          9,
          94,
          35,
          1017,
          43,
          436,
          2,
          261,
          4,
          106,
          1010,
          699,
          192,
          1776,
          888.5,
          1010,
          387,
          15,
          63,
          94,
          38,
          328,
          80,
          22,
          48,
          16,
          75,
          311,
          15,
          5,
          28,
          183,
          67,
          19,
          97,
          53,
          94,
          3,
          null,
          17,
          5,
          80,
          108,
          null,
          260,
          70,
          14,
          360,
          64,
          67,
          355,
          319,
          160,
          336,
          674,
          88,
          69,
          827,
          336,
          38,
          84,
          1933,
          99,
          624,
          null,
          70,
          128,
          55,
          52,
          46,
          502,
          122,
          116,
          1899,
          318,
          36,
          746,
          151,
          99,
          692,
          2,
          460,
          17,
          null,
          285,
          36,
          7,
          19,
          236,
          5,
          85,
          150,
          1982,
          120,
          80,
          22,
          54,
          191,
          16,
          80,
          194,
          30,
          66,
          184,
          23,
          261,
          119,
          7,
          489,
          265,
          278,
          345,
          66,
          365,
          null,
          387,
          70.5,
          14,
          7.5,
          43,
          86,
          767,
          172,
          59
         ],
         "xaxis": "x",
         "yaxis": "y"
        },
        {
         "alignmentgroup": "True",
         "bingroup": "x",
         "hovertemplate": "variable=commissionable_orders_y<br>value=%{x}<br>count=%{y}<extra></extra>",
         "legendgroup": "commissionable_orders_y",
         "marker": {
          "color": "#EF553B",
          "pattern": {
           "shape": ""
          }
         },
         "name": "commissionable_orders_y",
         "offsetgroup": "commissionable_orders_y",
         "orientation": "v",
         "showlegend": true,
         "type": "histogram",
         "x": [
          69,
          1,
          405,
          98,
          62,
          342,
          184,
          null,
          299,
          191,
          null,
          66,
          11,
          42,
          74,
          114,
          43,
          null,
          378,
          153,
          98,
          25,
          72,
          null,
          953,
          144,
          591,
          83,
          11,
          38,
          424.6666666666667,
          132,
          370,
          682,
          40,
          49,
          180,
          29,
          12,
          439,
          35,
          193,
          142,
          101,
          481,
          727,
          1026,
          300,
          24,
          561,
          375,
          38,
          651,
          335,
          85,
          8,
          64,
          27,
          null,
          156,
          1634,
          133,
          null,
          115,
          null,
          null,
          1353,
          322,
          41,
          343,
          119,
          108,
          19,
          221,
          9,
          null,
          215,
          637,
          36,
          4,
          19,
          74,
          211,
          57,
          null,
          18,
          4,
          2,
          120,
          1,
          154,
          null,
          7,
          68,
          11,
          354,
          171,
          52,
          451,
          12,
          112,
          131,
          7,
          1057,
          253,
          67,
          8,
          71,
          27,
          840,
          29,
          417,
          17,
          329,
          3,
          68,
          1067,
          822,
          109,
          1507.5,
          740.5,
          903,
          453,
          11,
          69,
          100,
          150,
          405,
          88,
          3,
          39,
          10,
          62,
          212,
          30,
          11,
          18,
          112,
          62,
          33,
          26,
          42,
          129,
          2,
          null,
          13,
          2,
          79,
          86,
          null,
          241,
          80,
          9,
          508,
          80,
          114,
          185,
          363,
          195,
          430,
          643,
          115,
          67,
          918,
          362,
          21,
          116,
          2180,
          158,
          634,
          null,
          90,
          115,
          58,
          157,
          32,
          474,
          67,
          81,
          1859,
          360,
          62,
          835,
          197.5,
          67,
          734,
          6,
          528,
          3,
          null,
          252,
          36,
          76,
          91,
          181,
          73,
          76,
          151,
          1913,
          160,
          106,
          24,
          20,
          129,
          54,
          76,
          122,
          3,
          35,
          202,
          35,
          267,
          102,
          8,
          494,
          268,
          319,
          358,
          64,
          410,
          null,
          341,
          73,
          10,
          9,
          42,
          175,
          752,
          201,
          131
         ],
         "xaxis": "x",
         "yaxis": "y"
        }
       ],
       "layout": {
        "barmode": "relative",
        "legend": {
         "title": {
          "text": "variable"
         },
         "tracegroupgap": 0
        },
        "template": {
         "data": {
          "bar": [
           {
            "error_x": {
             "color": "#2a3f5f"
            },
            "error_y": {
             "color": "#2a3f5f"
            },
            "marker": {
             "line": {
              "color": "#E5ECF6",
              "width": 0.5
             },
             "pattern": {
              "fillmode": "overlay",
              "size": 10,
              "solidity": 0.2
             }
            },
            "type": "bar"
           }
          ],
          "barpolar": [
           {
            "marker": {
             "line": {
              "color": "#E5ECF6",
              "width": 0.5
             },
             "pattern": {
              "fillmode": "overlay",
              "size": 10,
              "solidity": 0.2
             }
            },
            "type": "barpolar"
           }
          ],
          "carpet": [
           {
            "aaxis": {
             "endlinecolor": "#2a3f5f",
             "gridcolor": "white",
             "linecolor": "white",
             "minorgridcolor": "white",
             "startlinecolor": "#2a3f5f"
            },
            "baxis": {
             "endlinecolor": "#2a3f5f",
             "gridcolor": "white",
             "linecolor": "white",
             "minorgridcolor": "white",
             "startlinecolor": "#2a3f5f"
            },
            "type": "carpet"
           }
          ],
          "choropleth": [
           {
            "colorbar": {
             "outlinewidth": 0,
             "ticks": ""
            },
            "type": "choropleth"
           }
          ],
          "contour": [
           {
            "colorbar": {
             "outlinewidth": 0,
             "ticks": ""
            },
            "colorscale": [
             [
              0,
              "#0d0887"
             ],
             [
              0.1111111111111111,
              "#46039f"
             ],
             [
              0.2222222222222222,
              "#7201a8"
             ],
             [
              0.3333333333333333,
              "#9c179e"
             ],
             [
              0.4444444444444444,
              "#bd3786"
             ],
             [
              0.5555555555555556,
              "#d8576b"
             ],
             [
              0.6666666666666666,
              "#ed7953"
             ],
             [
              0.7777777777777778,
              "#fb9f3a"
             ],
             [
              0.8888888888888888,
              "#fdca26"
             ],
             [
              1,
              "#f0f921"
             ]
            ],
            "type": "contour"
           }
          ],
          "contourcarpet": [
           {
            "colorbar": {
             "outlinewidth": 0,
             "ticks": ""
            },
            "type": "contourcarpet"
           }
          ],
          "heatmap": [
           {
            "colorbar": {
             "outlinewidth": 0,
             "ticks": ""
            },
            "colorscale": [
             [
              0,
              "#0d0887"
             ],
             [
              0.1111111111111111,
              "#46039f"
             ],
             [
              0.2222222222222222,
              "#7201a8"
             ],
             [
              0.3333333333333333,
              "#9c179e"
             ],
             [
              0.4444444444444444,
              "#bd3786"
             ],
             [
              0.5555555555555556,
              "#d8576b"
             ],
             [
              0.6666666666666666,
              "#ed7953"
             ],
             [
              0.7777777777777778,
              "#fb9f3a"
             ],
             [
              0.8888888888888888,
              "#fdca26"
             ],
             [
              1,
              "#f0f921"
             ]
            ],
            "type": "heatmap"
           }
          ],
          "heatmapgl": [
           {
            "colorbar": {
             "outlinewidth": 0,
             "ticks": ""
            },
            "colorscale": [
             [
              0,
              "#0d0887"
             ],
             [
              0.1111111111111111,
              "#46039f"
             ],
             [
              0.2222222222222222,
              "#7201a8"
             ],
             [
              0.3333333333333333,
              "#9c179e"
             ],
             [
              0.4444444444444444,
              "#bd3786"
             ],
             [
              0.5555555555555556,
              "#d8576b"
             ],
             [
              0.6666666666666666,
              "#ed7953"
             ],
             [
              0.7777777777777778,
              "#fb9f3a"
             ],
             [
              0.8888888888888888,
              "#fdca26"
             ],
             [
              1,
              "#f0f921"
             ]
            ],
            "type": "heatmapgl"
           }
          ],
          "histogram": [
           {
            "marker": {
             "pattern": {
              "fillmode": "overlay",
              "size": 10,
              "solidity": 0.2
             }
            },
            "type": "histogram"
           }
          ],
          "histogram2d": [
           {
            "colorbar": {
             "outlinewidth": 0,
             "ticks": ""
            },
            "colorscale": [
             [
              0,
              "#0d0887"
             ],
             [
              0.1111111111111111,
              "#46039f"
             ],
             [
              0.2222222222222222,
              "#7201a8"
             ],
             [
              0.3333333333333333,
              "#9c179e"
             ],
             [
              0.4444444444444444,
              "#bd3786"
             ],
             [
              0.5555555555555556,
              "#d8576b"
             ],
             [
              0.6666666666666666,
              "#ed7953"
             ],
             [
              0.7777777777777778,
              "#fb9f3a"
             ],
             [
              0.8888888888888888,
              "#fdca26"
             ],
             [
              1,
              "#f0f921"
             ]
            ],
            "type": "histogram2d"
           }
          ],
          "histogram2dcontour": [
           {
            "colorbar": {
             "outlinewidth": 0,
             "ticks": ""
            },
            "colorscale": [
             [
              0,
              "#0d0887"
             ],
             [
              0.1111111111111111,
              "#46039f"
             ],
             [
              0.2222222222222222,
              "#7201a8"
             ],
             [
              0.3333333333333333,
              "#9c179e"
             ],
             [
              0.4444444444444444,
              "#bd3786"
             ],
             [
              0.5555555555555556,
              "#d8576b"
             ],
             [
              0.6666666666666666,
              "#ed7953"
             ],
             [
              0.7777777777777778,
              "#fb9f3a"
             ],
             [
              0.8888888888888888,
              "#fdca26"
             ],
             [
              1,
              "#f0f921"
             ]
            ],
            "type": "histogram2dcontour"
           }
          ],
          "mesh3d": [
           {
            "colorbar": {
             "outlinewidth": 0,
             "ticks": ""
            },
            "type": "mesh3d"
           }
          ],
          "parcoords": [
           {
            "line": {
             "colorbar": {
              "outlinewidth": 0,
              "ticks": ""
             }
            },
            "type": "parcoords"
           }
          ],
          "pie": [
           {
            "automargin": true,
            "type": "pie"
           }
          ],
          "scatter": [
           {
            "fillpattern": {
             "fillmode": "overlay",
             "size": 10,
             "solidity": 0.2
            },
            "type": "scatter"
           }
          ],
          "scatter3d": [
           {
            "line": {
             "colorbar": {
              "outlinewidth": 0,
              "ticks": ""
             }
            },
            "marker": {
             "colorbar": {
              "outlinewidth": 0,
              "ticks": ""
             }
            },
            "type": "scatter3d"
           }
          ],
          "scattercarpet": [
           {
            "marker": {
             "colorbar": {
              "outlinewidth": 0,
              "ticks": ""
             }
            },
            "type": "scattercarpet"
           }
          ],
          "scattergeo": [
           {
            "marker": {
             "colorbar": {
              "outlinewidth": 0,
              "ticks": ""
             }
            },
            "type": "scattergeo"
           }
          ],
          "scattergl": [
           {
            "marker": {
             "colorbar": {
              "outlinewidth": 0,
              "ticks": ""
             }
            },
            "type": "scattergl"
           }
          ],
          "scattermapbox": [
           {
            "marker": {
             "colorbar": {
              "outlinewidth": 0,
              "ticks": ""
             }
            },
            "type": "scattermapbox"
           }
          ],
          "scatterpolar": [
           {
            "marker": {
             "colorbar": {
              "outlinewidth": 0,
              "ticks": ""
             }
            },
            "type": "scatterpolar"
           }
          ],
          "scatterpolargl": [
           {
            "marker": {
             "colorbar": {
              "outlinewidth": 0,
              "ticks": ""
             }
            },
            "type": "scatterpolargl"
           }
          ],
          "scatterternary": [
           {
            "marker": {
             "colorbar": {
              "outlinewidth": 0,
              "ticks": ""
             }
            },
            "type": "scatterternary"
           }
          ],
          "surface": [
           {
            "colorbar": {
             "outlinewidth": 0,
             "ticks": ""
            },
            "colorscale": [
             [
              0,
              "#0d0887"
             ],
             [
              0.1111111111111111,
              "#46039f"
             ],
             [
              0.2222222222222222,
              "#7201a8"
             ],
             [
              0.3333333333333333,
              "#9c179e"
             ],
             [
              0.4444444444444444,
              "#bd3786"
             ],
             [
              0.5555555555555556,
              "#d8576b"
             ],
             [
              0.6666666666666666,
              "#ed7953"
             ],
             [
              0.7777777777777778,
              "#fb9f3a"
             ],
             [
              0.8888888888888888,
              "#fdca26"
             ],
             [
              1,
              "#f0f921"
             ]
            ],
            "type": "surface"
           }
          ],
          "table": [
           {
            "cells": {
             "fill": {
              "color": "#EBF0F8"
             },
             "line": {
              "color": "white"
             }
            },
            "header": {
             "fill": {
              "color": "#C8D4E3"
             },
             "line": {
              "color": "white"
             }
            },
            "type": "table"
           }
          ]
         },
         "layout": {
          "annotationdefaults": {
           "arrowcolor": "#2a3f5f",
           "arrowhead": 0,
           "arrowwidth": 1
          },
          "autotypenumbers": "strict",
          "coloraxis": {
           "colorbar": {
            "outlinewidth": 0,
            "ticks": ""
           }
          },
          "colorscale": {
           "diverging": [
            [
             0,
             "#8e0152"
            ],
            [
             0.1,
             "#c51b7d"
            ],
            [
             0.2,
             "#de77ae"
            ],
            [
             0.3,
             "#f1b6da"
            ],
            [
             0.4,
             "#fde0ef"
            ],
            [
             0.5,
             "#f7f7f7"
            ],
            [
             0.6,
             "#e6f5d0"
            ],
            [
             0.7,
             "#b8e186"
            ],
            [
             0.8,
             "#7fbc41"
            ],
            [
             0.9,
             "#4d9221"
            ],
            [
             1,
             "#276419"
            ]
           ],
           "sequential": [
            [
             0,
             "#0d0887"
            ],
            [
             0.1111111111111111,
             "#46039f"
            ],
            [
             0.2222222222222222,
             "#7201a8"
            ],
            [
             0.3333333333333333,
             "#9c179e"
            ],
            [
             0.4444444444444444,
             "#bd3786"
            ],
            [
             0.5555555555555556,
             "#d8576b"
            ],
            [
             0.6666666666666666,
             "#ed7953"
            ],
            [
             0.7777777777777778,
             "#fb9f3a"
            ],
            [
             0.8888888888888888,
             "#fdca26"
            ],
            [
             1,
             "#f0f921"
            ]
           ],
           "sequentialminus": [
            [
             0,
             "#0d0887"
            ],
            [
             0.1111111111111111,
             "#46039f"
            ],
            [
             0.2222222222222222,
             "#7201a8"
            ],
            [
             0.3333333333333333,
             "#9c179e"
            ],
            [
             0.4444444444444444,
             "#bd3786"
            ],
            [
             0.5555555555555556,
             "#d8576b"
            ],
            [
             0.6666666666666666,
             "#ed7953"
            ],
            [
             0.7777777777777778,
             "#fb9f3a"
            ],
            [
             0.8888888888888888,
             "#fdca26"
            ],
            [
             1,
             "#f0f921"
            ]
           ]
          },
          "colorway": [
           "#636efa",
           "#EF553B",
           "#00cc96",
           "#ab63fa",
           "#FFA15A",
           "#19d3f3",
           "#FF6692",
           "#B6E880",
           "#FF97FF",
           "#FECB52"
          ],
          "font": {
           "color": "#2a3f5f"
          },
          "geo": {
           "bgcolor": "white",
           "lakecolor": "white",
           "landcolor": "#E5ECF6",
           "showlakes": true,
           "showland": true,
           "subunitcolor": "white"
          },
          "hoverlabel": {
           "align": "left"
          },
          "hovermode": "closest",
          "mapbox": {
           "style": "light"
          },
          "paper_bgcolor": "white",
          "plot_bgcolor": "#E5ECF6",
          "polar": {
           "angularaxis": {
            "gridcolor": "white",
            "linecolor": "white",
            "ticks": ""
           },
           "bgcolor": "#E5ECF6",
           "radialaxis": {
            "gridcolor": "white",
            "linecolor": "white",
            "ticks": ""
           }
          },
          "scene": {
           "xaxis": {
            "backgroundcolor": "#E5ECF6",
            "gridcolor": "white",
            "gridwidth": 2,
            "linecolor": "white",
            "showbackground": true,
            "ticks": "",
            "zerolinecolor": "white"
           },
           "yaxis": {
            "backgroundcolor": "#E5ECF6",
            "gridcolor": "white",
            "gridwidth": 2,
            "linecolor": "white",
            "showbackground": true,
            "ticks": "",
            "zerolinecolor": "white"
           },
           "zaxis": {
            "backgroundcolor": "#E5ECF6",
            "gridcolor": "white",
            "gridwidth": 2,
            "linecolor": "white",
            "showbackground": true,
            "ticks": "",
            "zerolinecolor": "white"
           }
          },
          "shapedefaults": {
           "line": {
            "color": "#2a3f5f"
           }
          },
          "ternary": {
           "aaxis": {
            "gridcolor": "white",
            "linecolor": "white",
            "ticks": ""
           },
           "baxis": {
            "gridcolor": "white",
            "linecolor": "white",
            "ticks": ""
           },
           "bgcolor": "#E5ECF6",
           "caxis": {
            "gridcolor": "white",
            "linecolor": "white",
            "ticks": ""
           }
          },
          "title": {
           "x": 0.05
          },
          "xaxis": {
           "automargin": true,
           "gridcolor": "white",
           "linecolor": "white",
           "ticks": "",
           "title": {
            "standoff": 15
           },
           "zerolinecolor": "white",
           "zerolinewidth": 2
          },
          "yaxis": {
           "automargin": true,
           "gridcolor": "white",
           "linecolor": "white",
           "ticks": "",
           "title": {
            "standoff": 15
           },
           "zerolinecolor": "white",
           "zerolinewidth": 2
          }
         }
        },
        "title": {
         "text": "Distribution of nuber of orders Month 1 and Month 2"
        },
        "xaxis": {
         "anchor": "y",
         "domain": [
          0,
          1
         ],
         "title": {
          "text": "value"
         }
        },
        "yaxis": {
         "anchor": "x",
         "domain": [
          0,
          1
         ],
         "title": {
          "text": "count"
         }
        }
       }
      },
      "text/html": [
       "<div>                            <div id=\"30e39276-d7f3-426d-9d37-022f08cf1133\" class=\"plotly-graph-div\" style=\"height:525px; width:100%;\"></div>            <script type=\"text/javascript\">                require([\"plotly\"], function(Plotly) {                    window.PLOTLYENV=window.PLOTLYENV || {};                                    if (document.getElementById(\"30e39276-d7f3-426d-9d37-022f08cf1133\")) {                    Plotly.newPlot(                        \"30e39276-d7f3-426d-9d37-022f08cf1133\",                        [{\"alignmentgroup\":\"True\",\"bingroup\":\"x\",\"hovertemplate\":\"variable=commissionable_orders_x<br>value=%{x}<br>count=%{y}<extra></extra>\",\"legendgroup\":\"commissionable_orders_x\",\"marker\":{\"color\":\"#636efa\",\"pattern\":{\"shape\":\"\"}},\"name\":\"commissionable_orders_x\",\"offsetgroup\":\"commissionable_orders_x\",\"orientation\":\"v\",\"showlegend\":true,\"x\":[78.0,25.0,481.0,144.0,55.0,319.0,285.0,null,235.0,199.0,null,82.0,8.0,34.0,82.0,181.0,82.0,null,273.0,136.0,90.0,9.0,109.0,null,993.0,72.0,537.0,10.0,32.0,3.0,375.0,129.0,324.0,841.0,111.0,36.0,240.0,54.0,24.0,370.0,50.0,275.0,111.0,178.0,157.0,853.0,720.0,240.0,24.0,486.0,230.0,39.0,869.0,333.0,41.0,7.0,56.0,5.0,null,33.0,1463.0,137.0,null,12.0,null,null,1178.0,328.0,51.0,210.0,72.0,114.0,35.0,139.0,18.0,null,320.0,498.0,43.0,2.0,17.0,98.0,248.0,37.0,null,24.0,17.0,13.0,106.0,6.0,166.0,null,1.0,41.0,10.0,399.0,104.0,87.0,330.0,13.0,160.0,117.0,12.0,1244.0,229.0,47.0,9.0,94.0,35.0,1017.0,43.0,436.0,2.0,261.0,4.0,106.0,1010.0,699.0,192.0,1776.0,888.5,1010.0,387.0,15.0,63.0,94.0,38.0,328.0,80.0,22.0,48.0,16.0,75.0,311.0,15.0,5.0,28.0,183.0,67.0,19.0,97.0,53.0,94.0,3.0,null,17.0,5.0,80.0,108.0,null,260.0,70.0,14.0,360.0,64.0,67.0,355.0,319.0,160.0,336.0,674.0,88.0,69.0,827.0,336.0,38.0,84.0,1933.0,99.0,624.0,null,70.0,128.0,55.0,52.0,46.0,502.0,122.0,116.0,1899.0,318.0,36.0,746.0,151.0,99.0,692.0,2.0,460.0,17.0,null,285.0,36.0,7.0,19.0,236.0,5.0,85.0,150.0,1982.0,120.0,80.0,22.0,54.0,191.0,16.0,80.0,194.0,30.0,66.0,184.0,23.0,261.0,119.0,7.0,489.0,265.0,278.0,345.0,66.0,365.0,null,387.0,70.5,14.0,7.5,43.0,86.0,767.0,172.0,59.0],\"xaxis\":\"x\",\"yaxis\":\"y\",\"type\":\"histogram\"},{\"alignmentgroup\":\"True\",\"bingroup\":\"x\",\"hovertemplate\":\"variable=commissionable_orders_y<br>value=%{x}<br>count=%{y}<extra></extra>\",\"legendgroup\":\"commissionable_orders_y\",\"marker\":{\"color\":\"#EF553B\",\"pattern\":{\"shape\":\"\"}},\"name\":\"commissionable_orders_y\",\"offsetgroup\":\"commissionable_orders_y\",\"orientation\":\"v\",\"showlegend\":true,\"x\":[69.0,1.0,405.0,98.0,62.0,342.0,184.0,null,299.0,191.0,null,66.0,11.0,42.0,74.0,114.0,43.0,null,378.0,153.0,98.0,25.0,72.0,null,953.0,144.0,591.0,83.0,11.0,38.0,424.6666666666667,132.0,370.0,682.0,40.0,49.0,180.0,29.0,12.0,439.0,35.0,193.0,142.0,101.0,481.0,727.0,1026.0,300.0,24.0,561.0,375.0,38.0,651.0,335.0,85.0,8.0,64.0,27.0,null,156.0,1634.0,133.0,null,115.0,null,null,1353.0,322.0,41.0,343.0,119.0,108.0,19.0,221.0,9.0,null,215.0,637.0,36.0,4.0,19.0,74.0,211.0,57.0,null,18.0,4.0,2.0,120.0,1.0,154.0,null,7.0,68.0,11.0,354.0,171.0,52.0,451.0,12.0,112.0,131.0,7.0,1057.0,253.0,67.0,8.0,71.0,27.0,840.0,29.0,417.0,17.0,329.0,3.0,68.0,1067.0,822.0,109.0,1507.5,740.5,903.0,453.0,11.0,69.0,100.0,150.0,405.0,88.0,3.0,39.0,10.0,62.0,212.0,30.0,11.0,18.0,112.0,62.0,33.0,26.0,42.0,129.0,2.0,null,13.0,2.0,79.0,86.0,null,241.0,80.0,9.0,508.0,80.0,114.0,185.0,363.0,195.0,430.0,643.0,115.0,67.0,918.0,362.0,21.0,116.0,2180.0,158.0,634.0,null,90.0,115.0,58.0,157.0,32.0,474.0,67.0,81.0,1859.0,360.0,62.0,835.0,197.5,67.0,734.0,6.0,528.0,3.0,null,252.0,36.0,76.0,91.0,181.0,73.0,76.0,151.0,1913.0,160.0,106.0,24.0,20.0,129.0,54.0,76.0,122.0,3.0,35.0,202.0,35.0,267.0,102.0,8.0,494.0,268.0,319.0,358.0,64.0,410.0,null,341.0,73.0,10.0,9.0,42.0,175.0,752.0,201.0,131.0],\"xaxis\":\"x\",\"yaxis\":\"y\",\"type\":\"histogram\"}],                        {\"template\":{\"data\":{\"histogram2dcontour\":[{\"type\":\"histogram2dcontour\",\"colorbar\":{\"outlinewidth\":0,\"ticks\":\"\"},\"colorscale\":[[0.0,\"#0d0887\"],[0.1111111111111111,\"#46039f\"],[0.2222222222222222,\"#7201a8\"],[0.3333333333333333,\"#9c179e\"],[0.4444444444444444,\"#bd3786\"],[0.5555555555555556,\"#d8576b\"],[0.6666666666666666,\"#ed7953\"],[0.7777777777777778,\"#fb9f3a\"],[0.8888888888888888,\"#fdca26\"],[1.0,\"#f0f921\"]]}],\"choropleth\":[{\"type\":\"choropleth\",\"colorbar\":{\"outlinewidth\":0,\"ticks\":\"\"}}],\"histogram2d\":[{\"type\":\"histogram2d\",\"colorbar\":{\"outlinewidth\":0,\"ticks\":\"\"},\"colorscale\":[[0.0,\"#0d0887\"],[0.1111111111111111,\"#46039f\"],[0.2222222222222222,\"#7201a8\"],[0.3333333333333333,\"#9c179e\"],[0.4444444444444444,\"#bd3786\"],[0.5555555555555556,\"#d8576b\"],[0.6666666666666666,\"#ed7953\"],[0.7777777777777778,\"#fb9f3a\"],[0.8888888888888888,\"#fdca26\"],[1.0,\"#f0f921\"]]}],\"heatmap\":[{\"type\":\"heatmap\",\"colorbar\":{\"outlinewidth\":0,\"ticks\":\"\"},\"colorscale\":[[0.0,\"#0d0887\"],[0.1111111111111111,\"#46039f\"],[0.2222222222222222,\"#7201a8\"],[0.3333333333333333,\"#9c179e\"],[0.4444444444444444,\"#bd3786\"],[0.5555555555555556,\"#d8576b\"],[0.6666666666666666,\"#ed7953\"],[0.7777777777777778,\"#fb9f3a\"],[0.8888888888888888,\"#fdca26\"],[1.0,\"#f0f921\"]]}],\"heatmapgl\":[{\"type\":\"heatmapgl\",\"colorbar\":{\"outlinewidth\":0,\"ticks\":\"\"},\"colorscale\":[[0.0,\"#0d0887\"],[0.1111111111111111,\"#46039f\"],[0.2222222222222222,\"#7201a8\"],[0.3333333333333333,\"#9c179e\"],[0.4444444444444444,\"#bd3786\"],[0.5555555555555556,\"#d8576b\"],[0.6666666666666666,\"#ed7953\"],[0.7777777777777778,\"#fb9f3a\"],[0.8888888888888888,\"#fdca26\"],[1.0,\"#f0f921\"]]}],\"contourcarpet\":[{\"type\":\"contourcarpet\",\"colorbar\":{\"outlinewidth\":0,\"ticks\":\"\"}}],\"contour\":[{\"type\":\"contour\",\"colorbar\":{\"outlinewidth\":0,\"ticks\":\"\"},\"colorscale\":[[0.0,\"#0d0887\"],[0.1111111111111111,\"#46039f\"],[0.2222222222222222,\"#7201a8\"],[0.3333333333333333,\"#9c179e\"],[0.4444444444444444,\"#bd3786\"],[0.5555555555555556,\"#d8576b\"],[0.6666666666666666,\"#ed7953\"],[0.7777777777777778,\"#fb9f3a\"],[0.8888888888888888,\"#fdca26\"],[1.0,\"#f0f921\"]]}],\"surface\":[{\"type\":\"surface\",\"colorbar\":{\"outlinewidth\":0,\"ticks\":\"\"},\"colorscale\":[[0.0,\"#0d0887\"],[0.1111111111111111,\"#46039f\"],[0.2222222222222222,\"#7201a8\"],[0.3333333333333333,\"#9c179e\"],[0.4444444444444444,\"#bd3786\"],[0.5555555555555556,\"#d8576b\"],[0.6666666666666666,\"#ed7953\"],[0.7777777777777778,\"#fb9f3a\"],[0.8888888888888888,\"#fdca26\"],[1.0,\"#f0f921\"]]}],\"mesh3d\":[{\"type\":\"mesh3d\",\"colorbar\":{\"outlinewidth\":0,\"ticks\":\"\"}}],\"scatter\":[{\"fillpattern\":{\"fillmode\":\"overlay\",\"size\":10,\"solidity\":0.2},\"type\":\"scatter\"}],\"parcoords\":[{\"type\":\"parcoords\",\"line\":{\"colorbar\":{\"outlinewidth\":0,\"ticks\":\"\"}}}],\"scatterpolargl\":[{\"type\":\"scatterpolargl\",\"marker\":{\"colorbar\":{\"outlinewidth\":0,\"ticks\":\"\"}}}],\"bar\":[{\"error_x\":{\"color\":\"#2a3f5f\"},\"error_y\":{\"color\":\"#2a3f5f\"},\"marker\":{\"line\":{\"color\":\"#E5ECF6\",\"width\":0.5},\"pattern\":{\"fillmode\":\"overlay\",\"size\":10,\"solidity\":0.2}},\"type\":\"bar\"}],\"scattergeo\":[{\"type\":\"scattergeo\",\"marker\":{\"colorbar\":{\"outlinewidth\":0,\"ticks\":\"\"}}}],\"scatterpolar\":[{\"type\":\"scatterpolar\",\"marker\":{\"colorbar\":{\"outlinewidth\":0,\"ticks\":\"\"}}}],\"histogram\":[{\"marker\":{\"pattern\":{\"fillmode\":\"overlay\",\"size\":10,\"solidity\":0.2}},\"type\":\"histogram\"}],\"scattergl\":[{\"type\":\"scattergl\",\"marker\":{\"colorbar\":{\"outlinewidth\":0,\"ticks\":\"\"}}}],\"scatter3d\":[{\"type\":\"scatter3d\",\"line\":{\"colorbar\":{\"outlinewidth\":0,\"ticks\":\"\"}},\"marker\":{\"colorbar\":{\"outlinewidth\":0,\"ticks\":\"\"}}}],\"scattermapbox\":[{\"type\":\"scattermapbox\",\"marker\":{\"colorbar\":{\"outlinewidth\":0,\"ticks\":\"\"}}}],\"scatterternary\":[{\"type\":\"scatterternary\",\"marker\":{\"colorbar\":{\"outlinewidth\":0,\"ticks\":\"\"}}}],\"scattercarpet\":[{\"type\":\"scattercarpet\",\"marker\":{\"colorbar\":{\"outlinewidth\":0,\"ticks\":\"\"}}}],\"carpet\":[{\"aaxis\":{\"endlinecolor\":\"#2a3f5f\",\"gridcolor\":\"white\",\"linecolor\":\"white\",\"minorgridcolor\":\"white\",\"startlinecolor\":\"#2a3f5f\"},\"baxis\":{\"endlinecolor\":\"#2a3f5f\",\"gridcolor\":\"white\",\"linecolor\":\"white\",\"minorgridcolor\":\"white\",\"startlinecolor\":\"#2a3f5f\"},\"type\":\"carpet\"}],\"table\":[{\"cells\":{\"fill\":{\"color\":\"#EBF0F8\"},\"line\":{\"color\":\"white\"}},\"header\":{\"fill\":{\"color\":\"#C8D4E3\"},\"line\":{\"color\":\"white\"}},\"type\":\"table\"}],\"barpolar\":[{\"marker\":{\"line\":{\"color\":\"#E5ECF6\",\"width\":0.5},\"pattern\":{\"fillmode\":\"overlay\",\"size\":10,\"solidity\":0.2}},\"type\":\"barpolar\"}],\"pie\":[{\"automargin\":true,\"type\":\"pie\"}]},\"layout\":{\"autotypenumbers\":\"strict\",\"colorway\":[\"#636efa\",\"#EF553B\",\"#00cc96\",\"#ab63fa\",\"#FFA15A\",\"#19d3f3\",\"#FF6692\",\"#B6E880\",\"#FF97FF\",\"#FECB52\"],\"font\":{\"color\":\"#2a3f5f\"},\"hovermode\":\"closest\",\"hoverlabel\":{\"align\":\"left\"},\"paper_bgcolor\":\"white\",\"plot_bgcolor\":\"#E5ECF6\",\"polar\":{\"bgcolor\":\"#E5ECF6\",\"angularaxis\":{\"gridcolor\":\"white\",\"linecolor\":\"white\",\"ticks\":\"\"},\"radialaxis\":{\"gridcolor\":\"white\",\"linecolor\":\"white\",\"ticks\":\"\"}},\"ternary\":{\"bgcolor\":\"#E5ECF6\",\"aaxis\":{\"gridcolor\":\"white\",\"linecolor\":\"white\",\"ticks\":\"\"},\"baxis\":{\"gridcolor\":\"white\",\"linecolor\":\"white\",\"ticks\":\"\"},\"caxis\":{\"gridcolor\":\"white\",\"linecolor\":\"white\",\"ticks\":\"\"}},\"coloraxis\":{\"colorbar\":{\"outlinewidth\":0,\"ticks\":\"\"}},\"colorscale\":{\"sequential\":[[0.0,\"#0d0887\"],[0.1111111111111111,\"#46039f\"],[0.2222222222222222,\"#7201a8\"],[0.3333333333333333,\"#9c179e\"],[0.4444444444444444,\"#bd3786\"],[0.5555555555555556,\"#d8576b\"],[0.6666666666666666,\"#ed7953\"],[0.7777777777777778,\"#fb9f3a\"],[0.8888888888888888,\"#fdca26\"],[1.0,\"#f0f921\"]],\"sequentialminus\":[[0.0,\"#0d0887\"],[0.1111111111111111,\"#46039f\"],[0.2222222222222222,\"#7201a8\"],[0.3333333333333333,\"#9c179e\"],[0.4444444444444444,\"#bd3786\"],[0.5555555555555556,\"#d8576b\"],[0.6666666666666666,\"#ed7953\"],[0.7777777777777778,\"#fb9f3a\"],[0.8888888888888888,\"#fdca26\"],[1.0,\"#f0f921\"]],\"diverging\":[[0,\"#8e0152\"],[0.1,\"#c51b7d\"],[0.2,\"#de77ae\"],[0.3,\"#f1b6da\"],[0.4,\"#fde0ef\"],[0.5,\"#f7f7f7\"],[0.6,\"#e6f5d0\"],[0.7,\"#b8e186\"],[0.8,\"#7fbc41\"],[0.9,\"#4d9221\"],[1,\"#276419\"]]},\"xaxis\":{\"gridcolor\":\"white\",\"linecolor\":\"white\",\"ticks\":\"\",\"title\":{\"standoff\":15},\"zerolinecolor\":\"white\",\"automargin\":true,\"zerolinewidth\":2},\"yaxis\":{\"gridcolor\":\"white\",\"linecolor\":\"white\",\"ticks\":\"\",\"title\":{\"standoff\":15},\"zerolinecolor\":\"white\",\"automargin\":true,\"zerolinewidth\":2},\"scene\":{\"xaxis\":{\"backgroundcolor\":\"#E5ECF6\",\"gridcolor\":\"white\",\"linecolor\":\"white\",\"showbackground\":true,\"ticks\":\"\",\"zerolinecolor\":\"white\",\"gridwidth\":2},\"yaxis\":{\"backgroundcolor\":\"#E5ECF6\",\"gridcolor\":\"white\",\"linecolor\":\"white\",\"showbackground\":true,\"ticks\":\"\",\"zerolinecolor\":\"white\",\"gridwidth\":2},\"zaxis\":{\"backgroundcolor\":\"#E5ECF6\",\"gridcolor\":\"white\",\"linecolor\":\"white\",\"showbackground\":true,\"ticks\":\"\",\"zerolinecolor\":\"white\",\"gridwidth\":2}},\"shapedefaults\":{\"line\":{\"color\":\"#2a3f5f\"}},\"annotationdefaults\":{\"arrowcolor\":\"#2a3f5f\",\"arrowhead\":0,\"arrowwidth\":1},\"geo\":{\"bgcolor\":\"white\",\"landcolor\":\"#E5ECF6\",\"subunitcolor\":\"white\",\"showland\":true,\"showlakes\":true,\"lakecolor\":\"white\"},\"title\":{\"x\":0.05},\"mapbox\":{\"style\":\"light\"}}},\"xaxis\":{\"anchor\":\"y\",\"domain\":[0.0,1.0],\"title\":{\"text\":\"value\"}},\"yaxis\":{\"anchor\":\"x\",\"domain\":[0.0,1.0],\"title\":{\"text\":\"count\"}},\"legend\":{\"title\":{\"text\":\"variable\"},\"tracegroupgap\":0},\"title\":{\"text\":\"Distribution of nuber of orders Month 1 and Month 2\"},\"barmode\":\"relative\"},                        {\"responsive\": true}                    ).then(function(){\n",
       "                            \n",
       "var gd = document.getElementById('30e39276-d7f3-426d-9d37-022f08cf1133');\n",
       "var x = new MutationObserver(function (mutations, observer) {{\n",
       "        var display = window.getComputedStyle(gd).display;\n",
       "        if (!display || display === 'none') {{\n",
       "            console.log([gd, 'removed!']);\n",
       "            Plotly.purge(gd);\n",
       "            observer.disconnect();\n",
       "        }}\n",
       "}});\n",
       "\n",
       "// Listen for the removal of the full notebook cells\n",
       "var notebookContainer = gd.closest('#notebook-container');\n",
       "if (notebookContainer) {{\n",
       "    x.observe(notebookContainer, {childList: true});\n",
       "}}\n",
       "\n",
       "// Listen for the clearing of the current output cell\n",
       "var outputEl = gd.closest('.output');\n",
       "if (outputEl) {{\n",
       "    x.observe(outputEl, {childList: true});\n",
       "}}\n",
       "\n",
       "                        })                };                });            </script>        </div>"
      ]
     },
     "metadata": {},
     "output_type": "display_data"
    }
   ],
   "source": [
    "fig = px.histogram(del_merged,\n",
    "                  x = ['commissionable_orders_x', 'commissionable_orders_y'],\n",
    "            title = 'Distribution of nuber of orders Month 1 and Month 2')\n",
    "fig.show()"
   ]
  },
  {
   "cell_type": "code",
   "execution_count": 62,
   "id": "7bc5af02",
   "metadata": {},
   "outputs": [
    {
     "data": {
      "application/vnd.plotly.v1+json": {
       "config": {
        "plotlyServerURL": "https://plot.ly"
       },
       "data": [
        {
         "alignmentgroup": "True",
         "hovertemplate": "y=%{y}<extra></extra>",
         "legendgroup": "",
         "marker": {
          "color": "#636efa"
         },
         "name": "",
         "notched": false,
         "offsetgroup": "",
         "orientation": "v",
         "showlegend": false,
         "type": "box",
         "x0": " ",
         "xaxis": "x",
         "y": [
          "avg_time_to_accept_(s)_x",
          "avg_time_to_accept_(s)_y"
         ],
         "y0": " ",
         "yaxis": "y"
        }
       ],
       "layout": {
        "boxmode": "group",
        "legend": {
         "tracegroupgap": 0
        },
        "template": {
         "data": {
          "bar": [
           {
            "error_x": {
             "color": "#2a3f5f"
            },
            "error_y": {
             "color": "#2a3f5f"
            },
            "marker": {
             "line": {
              "color": "#E5ECF6",
              "width": 0.5
             },
             "pattern": {
              "fillmode": "overlay",
              "size": 10,
              "solidity": 0.2
             }
            },
            "type": "bar"
           }
          ],
          "barpolar": [
           {
            "marker": {
             "line": {
              "color": "#E5ECF6",
              "width": 0.5
             },
             "pattern": {
              "fillmode": "overlay",
              "size": 10,
              "solidity": 0.2
             }
            },
            "type": "barpolar"
           }
          ],
          "carpet": [
           {
            "aaxis": {
             "endlinecolor": "#2a3f5f",
             "gridcolor": "white",
             "linecolor": "white",
             "minorgridcolor": "white",
             "startlinecolor": "#2a3f5f"
            },
            "baxis": {
             "endlinecolor": "#2a3f5f",
             "gridcolor": "white",
             "linecolor": "white",
             "minorgridcolor": "white",
             "startlinecolor": "#2a3f5f"
            },
            "type": "carpet"
           }
          ],
          "choropleth": [
           {
            "colorbar": {
             "outlinewidth": 0,
             "ticks": ""
            },
            "type": "choropleth"
           }
          ],
          "contour": [
           {
            "colorbar": {
             "outlinewidth": 0,
             "ticks": ""
            },
            "colorscale": [
             [
              0,
              "#0d0887"
             ],
             [
              0.1111111111111111,
              "#46039f"
             ],
             [
              0.2222222222222222,
              "#7201a8"
             ],
             [
              0.3333333333333333,
              "#9c179e"
             ],
             [
              0.4444444444444444,
              "#bd3786"
             ],
             [
              0.5555555555555556,
              "#d8576b"
             ],
             [
              0.6666666666666666,
              "#ed7953"
             ],
             [
              0.7777777777777778,
              "#fb9f3a"
             ],
             [
              0.8888888888888888,
              "#fdca26"
             ],
             [
              1,
              "#f0f921"
             ]
            ],
            "type": "contour"
           }
          ],
          "contourcarpet": [
           {
            "colorbar": {
             "outlinewidth": 0,
             "ticks": ""
            },
            "type": "contourcarpet"
           }
          ],
          "heatmap": [
           {
            "colorbar": {
             "outlinewidth": 0,
             "ticks": ""
            },
            "colorscale": [
             [
              0,
              "#0d0887"
             ],
             [
              0.1111111111111111,
              "#46039f"
             ],
             [
              0.2222222222222222,
              "#7201a8"
             ],
             [
              0.3333333333333333,
              "#9c179e"
             ],
             [
              0.4444444444444444,
              "#bd3786"
             ],
             [
              0.5555555555555556,
              "#d8576b"
             ],
             [
              0.6666666666666666,
              "#ed7953"
             ],
             [
              0.7777777777777778,
              "#fb9f3a"
             ],
             [
              0.8888888888888888,
              "#fdca26"
             ],
             [
              1,
              "#f0f921"
             ]
            ],
            "type": "heatmap"
           }
          ],
          "heatmapgl": [
           {
            "colorbar": {
             "outlinewidth": 0,
             "ticks": ""
            },
            "colorscale": [
             [
              0,
              "#0d0887"
             ],
             [
              0.1111111111111111,
              "#46039f"
             ],
             [
              0.2222222222222222,
              "#7201a8"
             ],
             [
              0.3333333333333333,
              "#9c179e"
             ],
             [
              0.4444444444444444,
              "#bd3786"
             ],
             [
              0.5555555555555556,
              "#d8576b"
             ],
             [
              0.6666666666666666,
              "#ed7953"
             ],
             [
              0.7777777777777778,
              "#fb9f3a"
             ],
             [
              0.8888888888888888,
              "#fdca26"
             ],
             [
              1,
              "#f0f921"
             ]
            ],
            "type": "heatmapgl"
           }
          ],
          "histogram": [
           {
            "marker": {
             "pattern": {
              "fillmode": "overlay",
              "size": 10,
              "solidity": 0.2
             }
            },
            "type": "histogram"
           }
          ],
          "histogram2d": [
           {
            "colorbar": {
             "outlinewidth": 0,
             "ticks": ""
            },
            "colorscale": [
             [
              0,
              "#0d0887"
             ],
             [
              0.1111111111111111,
              "#46039f"
             ],
             [
              0.2222222222222222,
              "#7201a8"
             ],
             [
              0.3333333333333333,
              "#9c179e"
             ],
             [
              0.4444444444444444,
              "#bd3786"
             ],
             [
              0.5555555555555556,
              "#d8576b"
             ],
             [
              0.6666666666666666,
              "#ed7953"
             ],
             [
              0.7777777777777778,
              "#fb9f3a"
             ],
             [
              0.8888888888888888,
              "#fdca26"
             ],
             [
              1,
              "#f0f921"
             ]
            ],
            "type": "histogram2d"
           }
          ],
          "histogram2dcontour": [
           {
            "colorbar": {
             "outlinewidth": 0,
             "ticks": ""
            },
            "colorscale": [
             [
              0,
              "#0d0887"
             ],
             [
              0.1111111111111111,
              "#46039f"
             ],
             [
              0.2222222222222222,
              "#7201a8"
             ],
             [
              0.3333333333333333,
              "#9c179e"
             ],
             [
              0.4444444444444444,
              "#bd3786"
             ],
             [
              0.5555555555555556,
              "#d8576b"
             ],
             [
              0.6666666666666666,
              "#ed7953"
             ],
             [
              0.7777777777777778,
              "#fb9f3a"
             ],
             [
              0.8888888888888888,
              "#fdca26"
             ],
             [
              1,
              "#f0f921"
             ]
            ],
            "type": "histogram2dcontour"
           }
          ],
          "mesh3d": [
           {
            "colorbar": {
             "outlinewidth": 0,
             "ticks": ""
            },
            "type": "mesh3d"
           }
          ],
          "parcoords": [
           {
            "line": {
             "colorbar": {
              "outlinewidth": 0,
              "ticks": ""
             }
            },
            "type": "parcoords"
           }
          ],
          "pie": [
           {
            "automargin": true,
            "type": "pie"
           }
          ],
          "scatter": [
           {
            "fillpattern": {
             "fillmode": "overlay",
             "size": 10,
             "solidity": 0.2
            },
            "type": "scatter"
           }
          ],
          "scatter3d": [
           {
            "line": {
             "colorbar": {
              "outlinewidth": 0,
              "ticks": ""
             }
            },
            "marker": {
             "colorbar": {
              "outlinewidth": 0,
              "ticks": ""
             }
            },
            "type": "scatter3d"
           }
          ],
          "scattercarpet": [
           {
            "marker": {
             "colorbar": {
              "outlinewidth": 0,
              "ticks": ""
             }
            },
            "type": "scattercarpet"
           }
          ],
          "scattergeo": [
           {
            "marker": {
             "colorbar": {
              "outlinewidth": 0,
              "ticks": ""
             }
            },
            "type": "scattergeo"
           }
          ],
          "scattergl": [
           {
            "marker": {
             "colorbar": {
              "outlinewidth": 0,
              "ticks": ""
             }
            },
            "type": "scattergl"
           }
          ],
          "scattermapbox": [
           {
            "marker": {
             "colorbar": {
              "outlinewidth": 0,
              "ticks": ""
             }
            },
            "type": "scattermapbox"
           }
          ],
          "scatterpolar": [
           {
            "marker": {
             "colorbar": {
              "outlinewidth": 0,
              "ticks": ""
             }
            },
            "type": "scatterpolar"
           }
          ],
          "scatterpolargl": [
           {
            "marker": {
             "colorbar": {
              "outlinewidth": 0,
              "ticks": ""
             }
            },
            "type": "scatterpolargl"
           }
          ],
          "scatterternary": [
           {
            "marker": {
             "colorbar": {
              "outlinewidth": 0,
              "ticks": ""
             }
            },
            "type": "scatterternary"
           }
          ],
          "surface": [
           {
            "colorbar": {
             "outlinewidth": 0,
             "ticks": ""
            },
            "colorscale": [
             [
              0,
              "#0d0887"
             ],
             [
              0.1111111111111111,
              "#46039f"
             ],
             [
              0.2222222222222222,
              "#7201a8"
             ],
             [
              0.3333333333333333,
              "#9c179e"
             ],
             [
              0.4444444444444444,
              "#bd3786"
             ],
             [
              0.5555555555555556,
              "#d8576b"
             ],
             [
              0.6666666666666666,
              "#ed7953"
             ],
             [
              0.7777777777777778,
              "#fb9f3a"
             ],
             [
              0.8888888888888888,
              "#fdca26"
             ],
             [
              1,
              "#f0f921"
             ]
            ],
            "type": "surface"
           }
          ],
          "table": [
           {
            "cells": {
             "fill": {
              "color": "#EBF0F8"
             },
             "line": {
              "color": "white"
             }
            },
            "header": {
             "fill": {
              "color": "#C8D4E3"
             },
             "line": {
              "color": "white"
             }
            },
            "type": "table"
           }
          ]
         },
         "layout": {
          "annotationdefaults": {
           "arrowcolor": "#2a3f5f",
           "arrowhead": 0,
           "arrowwidth": 1
          },
          "autotypenumbers": "strict",
          "coloraxis": {
           "colorbar": {
            "outlinewidth": 0,
            "ticks": ""
           }
          },
          "colorscale": {
           "diverging": [
            [
             0,
             "#8e0152"
            ],
            [
             0.1,
             "#c51b7d"
            ],
            [
             0.2,
             "#de77ae"
            ],
            [
             0.3,
             "#f1b6da"
            ],
            [
             0.4,
             "#fde0ef"
            ],
            [
             0.5,
             "#f7f7f7"
            ],
            [
             0.6,
             "#e6f5d0"
            ],
            [
             0.7,
             "#b8e186"
            ],
            [
             0.8,
             "#7fbc41"
            ],
            [
             0.9,
             "#4d9221"
            ],
            [
             1,
             "#276419"
            ]
           ],
           "sequential": [
            [
             0,
             "#0d0887"
            ],
            [
             0.1111111111111111,
             "#46039f"
            ],
            [
             0.2222222222222222,
             "#7201a8"
            ],
            [
             0.3333333333333333,
             "#9c179e"
            ],
            [
             0.4444444444444444,
             "#bd3786"
            ],
            [
             0.5555555555555556,
             "#d8576b"
            ],
            [
             0.6666666666666666,
             "#ed7953"
            ],
            [
             0.7777777777777778,
             "#fb9f3a"
            ],
            [
             0.8888888888888888,
             "#fdca26"
            ],
            [
             1,
             "#f0f921"
            ]
           ],
           "sequentialminus": [
            [
             0,
             "#0d0887"
            ],
            [
             0.1111111111111111,
             "#46039f"
            ],
            [
             0.2222222222222222,
             "#7201a8"
            ],
            [
             0.3333333333333333,
             "#9c179e"
            ],
            [
             0.4444444444444444,
             "#bd3786"
            ],
            [
             0.5555555555555556,
             "#d8576b"
            ],
            [
             0.6666666666666666,
             "#ed7953"
            ],
            [
             0.7777777777777778,
             "#fb9f3a"
            ],
            [
             0.8888888888888888,
             "#fdca26"
            ],
            [
             1,
             "#f0f921"
            ]
           ]
          },
          "colorway": [
           "#636efa",
           "#EF553B",
           "#00cc96",
           "#ab63fa",
           "#FFA15A",
           "#19d3f3",
           "#FF6692",
           "#B6E880",
           "#FF97FF",
           "#FECB52"
          ],
          "font": {
           "color": "#2a3f5f"
          },
          "geo": {
           "bgcolor": "white",
           "lakecolor": "white",
           "landcolor": "#E5ECF6",
           "showlakes": true,
           "showland": true,
           "subunitcolor": "white"
          },
          "hoverlabel": {
           "align": "left"
          },
          "hovermode": "closest",
          "mapbox": {
           "style": "light"
          },
          "paper_bgcolor": "white",
          "plot_bgcolor": "#E5ECF6",
          "polar": {
           "angularaxis": {
            "gridcolor": "white",
            "linecolor": "white",
            "ticks": ""
           },
           "bgcolor": "#E5ECF6",
           "radialaxis": {
            "gridcolor": "white",
            "linecolor": "white",
            "ticks": ""
           }
          },
          "scene": {
           "xaxis": {
            "backgroundcolor": "#E5ECF6",
            "gridcolor": "white",
            "gridwidth": 2,
            "linecolor": "white",
            "showbackground": true,
            "ticks": "",
            "zerolinecolor": "white"
           },
           "yaxis": {
            "backgroundcolor": "#E5ECF6",
            "gridcolor": "white",
            "gridwidth": 2,
            "linecolor": "white",
            "showbackground": true,
            "ticks": "",
            "zerolinecolor": "white"
           },
           "zaxis": {
            "backgroundcolor": "#E5ECF6",
            "gridcolor": "white",
            "gridwidth": 2,
            "linecolor": "white",
            "showbackground": true,
            "ticks": "",
            "zerolinecolor": "white"
           }
          },
          "shapedefaults": {
           "line": {
            "color": "#2a3f5f"
           }
          },
          "ternary": {
           "aaxis": {
            "gridcolor": "white",
            "linecolor": "white",
            "ticks": ""
           },
           "baxis": {
            "gridcolor": "white",
            "linecolor": "white",
            "ticks": ""
           },
           "bgcolor": "#E5ECF6",
           "caxis": {
            "gridcolor": "white",
            "linecolor": "white",
            "ticks": ""
           }
          },
          "title": {
           "x": 0.05
          },
          "xaxis": {
           "automargin": true,
           "gridcolor": "white",
           "linecolor": "white",
           "ticks": "",
           "title": {
            "standoff": 15
           },
           "zerolinecolor": "white",
           "zerolinewidth": 2
          },
          "yaxis": {
           "automargin": true,
           "gridcolor": "white",
           "linecolor": "white",
           "ticks": "",
           "title": {
            "standoff": 15
           },
           "zerolinecolor": "white",
           "zerolinewidth": 2
          }
         }
        },
        "title": {
         "text": "Average time to accept orders Month 1 and Month 2"
        },
        "xaxis": {
         "anchor": "y",
         "domain": [
          0,
          1
         ]
        },
        "yaxis": {
         "anchor": "x",
         "domain": [
          0,
          1
         ],
         "title": {
          "text": "y"
         }
        }
       }
      },
      "text/html": [
       "<div>                            <div id=\"34b5e247-9c9f-4bd5-9f89-e543d093fbfe\" class=\"plotly-graph-div\" style=\"height:525px; width:100%;\"></div>            <script type=\"text/javascript\">                require([\"plotly\"], function(Plotly) {                    window.PLOTLYENV=window.PLOTLYENV || {};                                    if (document.getElementById(\"34b5e247-9c9f-4bd5-9f89-e543d093fbfe\")) {                    Plotly.newPlot(                        \"34b5e247-9c9f-4bd5-9f89-e543d093fbfe\",                        [{\"alignmentgroup\":\"True\",\"hovertemplate\":\"y=%{y}<extra></extra>\",\"legendgroup\":\"\",\"marker\":{\"color\":\"#636efa\"},\"name\":\"\",\"notched\":false,\"offsetgroup\":\"\",\"orientation\":\"v\",\"showlegend\":false,\"x0\":\" \",\"xaxis\":\"x\",\"y\":[\"avg_time_to_accept_(s)_x\",\"avg_time_to_accept_(s)_y\"],\"y0\":\" \",\"yaxis\":\"y\",\"type\":\"box\"}],                        {\"template\":{\"data\":{\"histogram2dcontour\":[{\"type\":\"histogram2dcontour\",\"colorbar\":{\"outlinewidth\":0,\"ticks\":\"\"},\"colorscale\":[[0.0,\"#0d0887\"],[0.1111111111111111,\"#46039f\"],[0.2222222222222222,\"#7201a8\"],[0.3333333333333333,\"#9c179e\"],[0.4444444444444444,\"#bd3786\"],[0.5555555555555556,\"#d8576b\"],[0.6666666666666666,\"#ed7953\"],[0.7777777777777778,\"#fb9f3a\"],[0.8888888888888888,\"#fdca26\"],[1.0,\"#f0f921\"]]}],\"choropleth\":[{\"type\":\"choropleth\",\"colorbar\":{\"outlinewidth\":0,\"ticks\":\"\"}}],\"histogram2d\":[{\"type\":\"histogram2d\",\"colorbar\":{\"outlinewidth\":0,\"ticks\":\"\"},\"colorscale\":[[0.0,\"#0d0887\"],[0.1111111111111111,\"#46039f\"],[0.2222222222222222,\"#7201a8\"],[0.3333333333333333,\"#9c179e\"],[0.4444444444444444,\"#bd3786\"],[0.5555555555555556,\"#d8576b\"],[0.6666666666666666,\"#ed7953\"],[0.7777777777777778,\"#fb9f3a\"],[0.8888888888888888,\"#fdca26\"],[1.0,\"#f0f921\"]]}],\"heatmap\":[{\"type\":\"heatmap\",\"colorbar\":{\"outlinewidth\":0,\"ticks\":\"\"},\"colorscale\":[[0.0,\"#0d0887\"],[0.1111111111111111,\"#46039f\"],[0.2222222222222222,\"#7201a8\"],[0.3333333333333333,\"#9c179e\"],[0.4444444444444444,\"#bd3786\"],[0.5555555555555556,\"#d8576b\"],[0.6666666666666666,\"#ed7953\"],[0.7777777777777778,\"#fb9f3a\"],[0.8888888888888888,\"#fdca26\"],[1.0,\"#f0f921\"]]}],\"heatmapgl\":[{\"type\":\"heatmapgl\",\"colorbar\":{\"outlinewidth\":0,\"ticks\":\"\"},\"colorscale\":[[0.0,\"#0d0887\"],[0.1111111111111111,\"#46039f\"],[0.2222222222222222,\"#7201a8\"],[0.3333333333333333,\"#9c179e\"],[0.4444444444444444,\"#bd3786\"],[0.5555555555555556,\"#d8576b\"],[0.6666666666666666,\"#ed7953\"],[0.7777777777777778,\"#fb9f3a\"],[0.8888888888888888,\"#fdca26\"],[1.0,\"#f0f921\"]]}],\"contourcarpet\":[{\"type\":\"contourcarpet\",\"colorbar\":{\"outlinewidth\":0,\"ticks\":\"\"}}],\"contour\":[{\"type\":\"contour\",\"colorbar\":{\"outlinewidth\":0,\"ticks\":\"\"},\"colorscale\":[[0.0,\"#0d0887\"],[0.1111111111111111,\"#46039f\"],[0.2222222222222222,\"#7201a8\"],[0.3333333333333333,\"#9c179e\"],[0.4444444444444444,\"#bd3786\"],[0.5555555555555556,\"#d8576b\"],[0.6666666666666666,\"#ed7953\"],[0.7777777777777778,\"#fb9f3a\"],[0.8888888888888888,\"#fdca26\"],[1.0,\"#f0f921\"]]}],\"surface\":[{\"type\":\"surface\",\"colorbar\":{\"outlinewidth\":0,\"ticks\":\"\"},\"colorscale\":[[0.0,\"#0d0887\"],[0.1111111111111111,\"#46039f\"],[0.2222222222222222,\"#7201a8\"],[0.3333333333333333,\"#9c179e\"],[0.4444444444444444,\"#bd3786\"],[0.5555555555555556,\"#d8576b\"],[0.6666666666666666,\"#ed7953\"],[0.7777777777777778,\"#fb9f3a\"],[0.8888888888888888,\"#fdca26\"],[1.0,\"#f0f921\"]]}],\"mesh3d\":[{\"type\":\"mesh3d\",\"colorbar\":{\"outlinewidth\":0,\"ticks\":\"\"}}],\"scatter\":[{\"fillpattern\":{\"fillmode\":\"overlay\",\"size\":10,\"solidity\":0.2},\"type\":\"scatter\"}],\"parcoords\":[{\"type\":\"parcoords\",\"line\":{\"colorbar\":{\"outlinewidth\":0,\"ticks\":\"\"}}}],\"scatterpolargl\":[{\"type\":\"scatterpolargl\",\"marker\":{\"colorbar\":{\"outlinewidth\":0,\"ticks\":\"\"}}}],\"bar\":[{\"error_x\":{\"color\":\"#2a3f5f\"},\"error_y\":{\"color\":\"#2a3f5f\"},\"marker\":{\"line\":{\"color\":\"#E5ECF6\",\"width\":0.5},\"pattern\":{\"fillmode\":\"overlay\",\"size\":10,\"solidity\":0.2}},\"type\":\"bar\"}],\"scattergeo\":[{\"type\":\"scattergeo\",\"marker\":{\"colorbar\":{\"outlinewidth\":0,\"ticks\":\"\"}}}],\"scatterpolar\":[{\"type\":\"scatterpolar\",\"marker\":{\"colorbar\":{\"outlinewidth\":0,\"ticks\":\"\"}}}],\"histogram\":[{\"marker\":{\"pattern\":{\"fillmode\":\"overlay\",\"size\":10,\"solidity\":0.2}},\"type\":\"histogram\"}],\"scattergl\":[{\"type\":\"scattergl\",\"marker\":{\"colorbar\":{\"outlinewidth\":0,\"ticks\":\"\"}}}],\"scatter3d\":[{\"type\":\"scatter3d\",\"line\":{\"colorbar\":{\"outlinewidth\":0,\"ticks\":\"\"}},\"marker\":{\"colorbar\":{\"outlinewidth\":0,\"ticks\":\"\"}}}],\"scattermapbox\":[{\"type\":\"scattermapbox\",\"marker\":{\"colorbar\":{\"outlinewidth\":0,\"ticks\":\"\"}}}],\"scatterternary\":[{\"type\":\"scatterternary\",\"marker\":{\"colorbar\":{\"outlinewidth\":0,\"ticks\":\"\"}}}],\"scattercarpet\":[{\"type\":\"scattercarpet\",\"marker\":{\"colorbar\":{\"outlinewidth\":0,\"ticks\":\"\"}}}],\"carpet\":[{\"aaxis\":{\"endlinecolor\":\"#2a3f5f\",\"gridcolor\":\"white\",\"linecolor\":\"white\",\"minorgridcolor\":\"white\",\"startlinecolor\":\"#2a3f5f\"},\"baxis\":{\"endlinecolor\":\"#2a3f5f\",\"gridcolor\":\"white\",\"linecolor\":\"white\",\"minorgridcolor\":\"white\",\"startlinecolor\":\"#2a3f5f\"},\"type\":\"carpet\"}],\"table\":[{\"cells\":{\"fill\":{\"color\":\"#EBF0F8\"},\"line\":{\"color\":\"white\"}},\"header\":{\"fill\":{\"color\":\"#C8D4E3\"},\"line\":{\"color\":\"white\"}},\"type\":\"table\"}],\"barpolar\":[{\"marker\":{\"line\":{\"color\":\"#E5ECF6\",\"width\":0.5},\"pattern\":{\"fillmode\":\"overlay\",\"size\":10,\"solidity\":0.2}},\"type\":\"barpolar\"}],\"pie\":[{\"automargin\":true,\"type\":\"pie\"}]},\"layout\":{\"autotypenumbers\":\"strict\",\"colorway\":[\"#636efa\",\"#EF553B\",\"#00cc96\",\"#ab63fa\",\"#FFA15A\",\"#19d3f3\",\"#FF6692\",\"#B6E880\",\"#FF97FF\",\"#FECB52\"],\"font\":{\"color\":\"#2a3f5f\"},\"hovermode\":\"closest\",\"hoverlabel\":{\"align\":\"left\"},\"paper_bgcolor\":\"white\",\"plot_bgcolor\":\"#E5ECF6\",\"polar\":{\"bgcolor\":\"#E5ECF6\",\"angularaxis\":{\"gridcolor\":\"white\",\"linecolor\":\"white\",\"ticks\":\"\"},\"radialaxis\":{\"gridcolor\":\"white\",\"linecolor\":\"white\",\"ticks\":\"\"}},\"ternary\":{\"bgcolor\":\"#E5ECF6\",\"aaxis\":{\"gridcolor\":\"white\",\"linecolor\":\"white\",\"ticks\":\"\"},\"baxis\":{\"gridcolor\":\"white\",\"linecolor\":\"white\",\"ticks\":\"\"},\"caxis\":{\"gridcolor\":\"white\",\"linecolor\":\"white\",\"ticks\":\"\"}},\"coloraxis\":{\"colorbar\":{\"outlinewidth\":0,\"ticks\":\"\"}},\"colorscale\":{\"sequential\":[[0.0,\"#0d0887\"],[0.1111111111111111,\"#46039f\"],[0.2222222222222222,\"#7201a8\"],[0.3333333333333333,\"#9c179e\"],[0.4444444444444444,\"#bd3786\"],[0.5555555555555556,\"#d8576b\"],[0.6666666666666666,\"#ed7953\"],[0.7777777777777778,\"#fb9f3a\"],[0.8888888888888888,\"#fdca26\"],[1.0,\"#f0f921\"]],\"sequentialminus\":[[0.0,\"#0d0887\"],[0.1111111111111111,\"#46039f\"],[0.2222222222222222,\"#7201a8\"],[0.3333333333333333,\"#9c179e\"],[0.4444444444444444,\"#bd3786\"],[0.5555555555555556,\"#d8576b\"],[0.6666666666666666,\"#ed7953\"],[0.7777777777777778,\"#fb9f3a\"],[0.8888888888888888,\"#fdca26\"],[1.0,\"#f0f921\"]],\"diverging\":[[0,\"#8e0152\"],[0.1,\"#c51b7d\"],[0.2,\"#de77ae\"],[0.3,\"#f1b6da\"],[0.4,\"#fde0ef\"],[0.5,\"#f7f7f7\"],[0.6,\"#e6f5d0\"],[0.7,\"#b8e186\"],[0.8,\"#7fbc41\"],[0.9,\"#4d9221\"],[1,\"#276419\"]]},\"xaxis\":{\"gridcolor\":\"white\",\"linecolor\":\"white\",\"ticks\":\"\",\"title\":{\"standoff\":15},\"zerolinecolor\":\"white\",\"automargin\":true,\"zerolinewidth\":2},\"yaxis\":{\"gridcolor\":\"white\",\"linecolor\":\"white\",\"ticks\":\"\",\"title\":{\"standoff\":15},\"zerolinecolor\":\"white\",\"automargin\":true,\"zerolinewidth\":2},\"scene\":{\"xaxis\":{\"backgroundcolor\":\"#E5ECF6\",\"gridcolor\":\"white\",\"linecolor\":\"white\",\"showbackground\":true,\"ticks\":\"\",\"zerolinecolor\":\"white\",\"gridwidth\":2},\"yaxis\":{\"backgroundcolor\":\"#E5ECF6\",\"gridcolor\":\"white\",\"linecolor\":\"white\",\"showbackground\":true,\"ticks\":\"\",\"zerolinecolor\":\"white\",\"gridwidth\":2},\"zaxis\":{\"backgroundcolor\":\"#E5ECF6\",\"gridcolor\":\"white\",\"linecolor\":\"white\",\"showbackground\":true,\"ticks\":\"\",\"zerolinecolor\":\"white\",\"gridwidth\":2}},\"shapedefaults\":{\"line\":{\"color\":\"#2a3f5f\"}},\"annotationdefaults\":{\"arrowcolor\":\"#2a3f5f\",\"arrowhead\":0,\"arrowwidth\":1},\"geo\":{\"bgcolor\":\"white\",\"landcolor\":\"#E5ECF6\",\"subunitcolor\":\"white\",\"showland\":true,\"showlakes\":true,\"lakecolor\":\"white\"},\"title\":{\"x\":0.05},\"mapbox\":{\"style\":\"light\"}}},\"xaxis\":{\"anchor\":\"y\",\"domain\":[0.0,1.0]},\"yaxis\":{\"anchor\":\"x\",\"domain\":[0.0,1.0],\"title\":{\"text\":\"y\"}},\"legend\":{\"tracegroupgap\":0},\"title\":{\"text\":\"Average time to accept orders Month 1 and Month 2\"},\"boxmode\":\"group\"},                        {\"responsive\": true}                    ).then(function(){\n",
       "                            \n",
       "var gd = document.getElementById('34b5e247-9c9f-4bd5-9f89-e543d093fbfe');\n",
       "var x = new MutationObserver(function (mutations, observer) {{\n",
       "        var display = window.getComputedStyle(gd).display;\n",
       "        if (!display || display === 'none') {{\n",
       "            console.log([gd, 'removed!']);\n",
       "            Plotly.purge(gd);\n",
       "            observer.disconnect();\n",
       "        }}\n",
       "}});\n",
       "\n",
       "// Listen for the removal of the full notebook cells\n",
       "var notebookContainer = gd.closest('#notebook-container');\n",
       "if (notebookContainer) {{\n",
       "    x.observe(notebookContainer, {childList: true});\n",
       "}}\n",
       "\n",
       "// Listen for the clearing of the current output cell\n",
       "var outputEl = gd.closest('.output');\n",
       "if (outputEl) {{\n",
       "    x.observe(outputEl, {childList: true});\n",
       "}}\n",
       "\n",
       "                        })                };                });            </script>        </div>"
      ]
     },
     "metadata": {},
     "output_type": "display_data"
    }
   ],
   "source": [
    "fig = px.box(del_merged,\n",
    "                  x = ['avg_time_to_accept_(s)_x', 'avg_time_to_accept_(s)_y'],\n",
    "            title = 'Average time to accept orders Month 1 and Month 2')\n",
    "fig.show()\n",
    "# fig.write_html('./graphs/box_avh_basket_size.html')"
   ]
  },
  {
   "cell_type": "markdown",
   "id": "04100ad4",
   "metadata": {},
   "source": [
    "### kpi insights"
   ]
  },
  {
   "cell_type": "code",
   "execution_count": 37,
   "id": "ad022e3c",
   "metadata": {},
   "outputs": [
    {
     "data": {
      "text/html": [
       "<div>\n",
       "<style scoped>\n",
       "    .dataframe tbody tr th:only-of-type {\n",
       "        vertical-align: middle;\n",
       "    }\n",
       "\n",
       "    .dataframe tbody tr th {\n",
       "        vertical-align: top;\n",
       "    }\n",
       "\n",
       "    .dataframe thead th {\n",
       "        text-align: right;\n",
       "    }\n",
       "</style>\n",
       "<table border=\"1\" class=\"dataframe\">\n",
       "  <thead>\n",
       "    <tr style=\"text-align: right;\">\n",
       "      <th></th>\n",
       "      <th>zip</th>\n",
       "      <th>%_kill_rate</th>\n",
       "      <th>avg_basket_size_€</th>\n",
       "      <th>avg_time_to_accept_(s)</th>\n",
       "      <th>commissionable_orders</th>\n",
       "      <th>negative_comments</th>\n",
       "      <th>positive_comments</th>\n",
       "    </tr>\n",
       "  </thead>\n",
       "  <tbody>\n",
       "    <tr>\n",
       "      <th>count</th>\n",
       "      <td>230.000000</td>\n",
       "      <td>174.000000</td>\n",
       "      <td>208.000000</td>\n",
       "      <td>208.000000</td>\n",
       "      <td>214.000000</td>\n",
       "      <td>70.000000</td>\n",
       "      <td>174.0</td>\n",
       "    </tr>\n",
       "    <tr>\n",
       "      <th>mean</th>\n",
       "      <td>8022.130435</td>\n",
       "      <td>82.939655</td>\n",
       "      <td>20.087340</td>\n",
       "      <td>282.044872</td>\n",
       "      <td>232.235981</td>\n",
       "      <td>3.071429</td>\n",
       "      <td>1.0</td>\n",
       "    </tr>\n",
       "    <tr>\n",
       "      <th>std</th>\n",
       "      <td>16.252388</td>\n",
       "      <td>38.641798</td>\n",
       "      <td>5.233489</td>\n",
       "      <td>267.617124</td>\n",
       "      <td>347.348486</td>\n",
       "      <td>2.961450</td>\n",
       "      <td>0.0</td>\n",
       "    </tr>\n",
       "    <tr>\n",
       "      <th>min</th>\n",
       "      <td>8010.000000</td>\n",
       "      <td>16.000000</td>\n",
       "      <td>9.000000</td>\n",
       "      <td>9.000000</td>\n",
       "      <td>1.000000</td>\n",
       "      <td>1.000000</td>\n",
       "      <td>1.0</td>\n",
       "    </tr>\n",
       "    <tr>\n",
       "      <th>25%</th>\n",
       "      <td>8010.000000</td>\n",
       "      <td>53.250000</td>\n",
       "      <td>16.000000</td>\n",
       "      <td>19.000000</td>\n",
       "      <td>36.000000</td>\n",
       "      <td>1.000000</td>\n",
       "      <td>1.0</td>\n",
       "    </tr>\n",
       "    <tr>\n",
       "      <th>50%</th>\n",
       "      <td>8020.000000</td>\n",
       "      <td>81.500000</td>\n",
       "      <td>20.000000</td>\n",
       "      <td>322.000000</td>\n",
       "      <td>95.500000</td>\n",
       "      <td>2.000000</td>\n",
       "      <td>1.0</td>\n",
       "    </tr>\n",
       "    <tr>\n",
       "      <th>75%</th>\n",
       "      <td>8020.000000</td>\n",
       "      <td>106.000000</td>\n",
       "      <td>23.750000</td>\n",
       "      <td>462.000000</td>\n",
       "      <td>283.250000</td>\n",
       "      <td>4.000000</td>\n",
       "      <td>1.0</td>\n",
       "    </tr>\n",
       "    <tr>\n",
       "      <th>max</th>\n",
       "      <td>8055.000000</td>\n",
       "      <td>227.000000</td>\n",
       "      <td>38.000000</td>\n",
       "      <td>1951.000000</td>\n",
       "      <td>1982.000000</td>\n",
       "      <td>13.000000</td>\n",
       "      <td>1.0</td>\n",
       "    </tr>\n",
       "  </tbody>\n",
       "</table>\n",
       "</div>"
      ],
      "text/plain": [
       "               zip  %_kill_rate  avg_basket_size_€  avg_time_to_accept_(s)  \\\n",
       "count   230.000000   174.000000         208.000000              208.000000   \n",
       "mean   8022.130435    82.939655          20.087340              282.044872   \n",
       "std      16.252388    38.641798           5.233489              267.617124   \n",
       "min    8010.000000    16.000000           9.000000                9.000000   \n",
       "25%    8010.000000    53.250000          16.000000               19.000000   \n",
       "50%    8020.000000    81.500000          20.000000              322.000000   \n",
       "75%    8020.000000   106.000000          23.750000              462.000000   \n",
       "max    8055.000000   227.000000          38.000000             1951.000000   \n",
       "\n",
       "       commissionable_orders  negative_comments  positive_comments  \n",
       "count             214.000000          70.000000              174.0  \n",
       "mean              232.235981           3.071429                1.0  \n",
       "std               347.348486           2.961450                0.0  \n",
       "min                 1.000000           1.000000                1.0  \n",
       "25%                36.000000           1.000000                1.0  \n",
       "50%                95.500000           2.000000                1.0  \n",
       "75%               283.250000           4.000000                1.0  \n",
       "max              1982.000000          13.000000                1.0  "
      ]
     },
     "execution_count": 37,
     "metadata": {},
     "output_type": "execute_result"
    }
   ],
   "source": [
    "info_1 = deliverando_pt_1.describe()\n",
    "info_1"
   ]
  },
  {
   "cell_type": "code",
   "execution_count": 42,
   "id": "bb5ea378",
   "metadata": {},
   "outputs": [
    {
     "data": {
      "text/html": [
       "<div>\n",
       "<style scoped>\n",
       "    .dataframe tbody tr th:only-of-type {\n",
       "        vertical-align: middle;\n",
       "    }\n",
       "\n",
       "    .dataframe tbody tr th {\n",
       "        vertical-align: top;\n",
       "    }\n",
       "\n",
       "    .dataframe thead th {\n",
       "        text-align: right;\n",
       "    }\n",
       "</style>\n",
       "<table border=\"1\" class=\"dataframe\">\n",
       "  <thead>\n",
       "    <tr style=\"text-align: right;\">\n",
       "      <th></th>\n",
       "      <th>zip</th>\n",
       "      <th>%_kill_rate</th>\n",
       "      <th>avg_basket_size_€</th>\n",
       "      <th>avg_time_to_accept_(s)</th>\n",
       "      <th>commissionable_orders</th>\n",
       "      <th>negative_comments</th>\n",
       "      <th>positive_comments</th>\n",
       "      <th>index</th>\n",
       "    </tr>\n",
       "  </thead>\n",
       "  <tbody>\n",
       "    <tr>\n",
       "      <th>count</th>\n",
       "      <td>230.000000</td>\n",
       "      <td>174.000000</td>\n",
       "      <td>208.000000</td>\n",
       "      <td>208.000000</td>\n",
       "      <td>214.000000</td>\n",
       "      <td>70.000000</td>\n",
       "      <td>174.0</td>\n",
       "      <td>count</td>\n",
       "    </tr>\n",
       "    <tr>\n",
       "      <th>mean</th>\n",
       "      <td>8022.130435</td>\n",
       "      <td>82.939655</td>\n",
       "      <td>20.087340</td>\n",
       "      <td>282.044872</td>\n",
       "      <td>232.235981</td>\n",
       "      <td>3.071429</td>\n",
       "      <td>1.0</td>\n",
       "      <td>mean</td>\n",
       "    </tr>\n",
       "    <tr>\n",
       "      <th>std</th>\n",
       "      <td>16.252388</td>\n",
       "      <td>38.641798</td>\n",
       "      <td>5.233489</td>\n",
       "      <td>267.617124</td>\n",
       "      <td>347.348486</td>\n",
       "      <td>2.961450</td>\n",
       "      <td>0.0</td>\n",
       "      <td>std</td>\n",
       "    </tr>\n",
       "    <tr>\n",
       "      <th>min</th>\n",
       "      <td>8010.000000</td>\n",
       "      <td>16.000000</td>\n",
       "      <td>9.000000</td>\n",
       "      <td>9.000000</td>\n",
       "      <td>1.000000</td>\n",
       "      <td>1.000000</td>\n",
       "      <td>1.0</td>\n",
       "      <td>min</td>\n",
       "    </tr>\n",
       "    <tr>\n",
       "      <th>25%</th>\n",
       "      <td>8010.000000</td>\n",
       "      <td>53.250000</td>\n",
       "      <td>16.000000</td>\n",
       "      <td>19.000000</td>\n",
       "      <td>36.000000</td>\n",
       "      <td>1.000000</td>\n",
       "      <td>1.0</td>\n",
       "      <td>25%</td>\n",
       "    </tr>\n",
       "    <tr>\n",
       "      <th>50%</th>\n",
       "      <td>8020.000000</td>\n",
       "      <td>81.500000</td>\n",
       "      <td>20.000000</td>\n",
       "      <td>322.000000</td>\n",
       "      <td>95.500000</td>\n",
       "      <td>2.000000</td>\n",
       "      <td>1.0</td>\n",
       "      <td>50%</td>\n",
       "    </tr>\n",
       "    <tr>\n",
       "      <th>75%</th>\n",
       "      <td>8020.000000</td>\n",
       "      <td>106.000000</td>\n",
       "      <td>23.750000</td>\n",
       "      <td>462.000000</td>\n",
       "      <td>283.250000</td>\n",
       "      <td>4.000000</td>\n",
       "      <td>1.0</td>\n",
       "      <td>75%</td>\n",
       "    </tr>\n",
       "    <tr>\n",
       "      <th>max</th>\n",
       "      <td>8055.000000</td>\n",
       "      <td>227.000000</td>\n",
       "      <td>38.000000</td>\n",
       "      <td>1951.000000</td>\n",
       "      <td>1982.000000</td>\n",
       "      <td>13.000000</td>\n",
       "      <td>1.0</td>\n",
       "      <td>max</td>\n",
       "    </tr>\n",
       "  </tbody>\n",
       "</table>\n",
       "</div>"
      ],
      "text/plain": [
       "               zip  %_kill_rate  avg_basket_size_€  avg_time_to_accept_(s)  \\\n",
       "count   230.000000   174.000000         208.000000              208.000000   \n",
       "mean   8022.130435    82.939655          20.087340              282.044872   \n",
       "std      16.252388    38.641798           5.233489              267.617124   \n",
       "min    8010.000000    16.000000           9.000000                9.000000   \n",
       "25%    8010.000000    53.250000          16.000000               19.000000   \n",
       "50%    8020.000000    81.500000          20.000000              322.000000   \n",
       "75%    8020.000000   106.000000          23.750000              462.000000   \n",
       "max    8055.000000   227.000000          38.000000             1951.000000   \n",
       "\n",
       "       commissionable_orders  negative_comments  positive_comments  index  \n",
       "count             214.000000          70.000000              174.0  count  \n",
       "mean              232.235981           3.071429                1.0   mean  \n",
       "std               347.348486           2.961450                0.0    std  \n",
       "min                 1.000000           1.000000                1.0    min  \n",
       "25%                36.000000           1.000000                1.0    25%  \n",
       "50%                95.500000           2.000000                1.0    50%  \n",
       "75%               283.250000           4.000000                1.0    75%  \n",
       "max              1982.000000          13.000000                1.0    max  "
      ]
     },
     "execution_count": 42,
     "metadata": {},
     "output_type": "execute_result"
    }
   ],
   "source": [
    "info_1['index'] = info_1.index\n",
    "info_1"
   ]
  },
  {
   "cell_type": "code",
   "execution_count": 36,
   "id": "ea07a89b",
   "metadata": {},
   "outputs": [],
   "source": [
    "info_2 = deliverando_pt_2.describe()"
   ]
  },
  {
   "cell_type": "code",
   "execution_count": 44,
   "id": "93a28e46",
   "metadata": {},
   "outputs": [],
   "source": [
    "info_2['index'] = info_2.index"
   ]
  },
  {
   "cell_type": "code",
   "execution_count": 47,
   "id": "fa3b5055",
   "metadata": {},
   "outputs": [
    {
     "data": {
      "text/html": [
       "<div>\n",
       "<style scoped>\n",
       "    .dataframe tbody tr th:only-of-type {\n",
       "        vertical-align: middle;\n",
       "    }\n",
       "\n",
       "    .dataframe tbody tr th {\n",
       "        vertical-align: top;\n",
       "    }\n",
       "\n",
       "    .dataframe thead th {\n",
       "        text-align: right;\n",
       "    }\n",
       "</style>\n",
       "<table border=\"1\" class=\"dataframe\">\n",
       "  <thead>\n",
       "    <tr style=\"text-align: right;\">\n",
       "      <th></th>\n",
       "      <th>zip_x</th>\n",
       "      <th>%_kill_rate_x</th>\n",
       "      <th>avg_basket_size_€_x</th>\n",
       "      <th>avg_time_to_accept_(s)_x</th>\n",
       "      <th>commissionable_orders_x</th>\n",
       "      <th>negative_comments_x</th>\n",
       "      <th>positive_comments_x</th>\n",
       "      <th>index</th>\n",
       "      <th>zip_y</th>\n",
       "      <th>%_kill_rate_y</th>\n",
       "      <th>avg_basket_size_€_y</th>\n",
       "      <th>avg_time_to_accept_(s)_y</th>\n",
       "      <th>commissionable_orders_y</th>\n",
       "      <th>negative_comments_y</th>\n",
       "      <th>positive_comments_y</th>\n",
       "    </tr>\n",
       "  </thead>\n",
       "  <tbody>\n",
       "    <tr>\n",
       "      <th>0</th>\n",
       "      <td>230.000000</td>\n",
       "      <td>174.000000</td>\n",
       "      <td>208.000000</td>\n",
       "      <td>208.000000</td>\n",
       "      <td>214.000000</td>\n",
       "      <td>70.000000</td>\n",
       "      <td>174.0</td>\n",
       "      <td>count</td>\n",
       "      <td>230.000000</td>\n",
       "      <td>174.000000</td>\n",
       "      <td>208.000000</td>\n",
       "      <td>208.000000</td>\n",
       "      <td>214.000000</td>\n",
       "      <td>70.000000</td>\n",
       "      <td>174.0</td>\n",
       "    </tr>\n",
       "    <tr>\n",
       "      <th>1</th>\n",
       "      <td>8022.130435</td>\n",
       "      <td>82.939655</td>\n",
       "      <td>20.087340</td>\n",
       "      <td>282.044872</td>\n",
       "      <td>232.235981</td>\n",
       "      <td>3.071429</td>\n",
       "      <td>1.0</td>\n",
       "      <td>mean</td>\n",
       "      <td>8022.130435</td>\n",
       "      <td>80.224138</td>\n",
       "      <td>20.395032</td>\n",
       "      <td>273.893429</td>\n",
       "      <td>238.991433</td>\n",
       "      <td>3.002381</td>\n",
       "      <td>1.0</td>\n",
       "    </tr>\n",
       "    <tr>\n",
       "      <th>2</th>\n",
       "      <td>16.252388</td>\n",
       "      <td>38.641798</td>\n",
       "      <td>5.233489</td>\n",
       "      <td>267.617124</td>\n",
       "      <td>347.348486</td>\n",
       "      <td>2.961450</td>\n",
       "      <td>0.0</td>\n",
       "      <td>std</td>\n",
       "      <td>16.252388</td>\n",
       "      <td>36.930669</td>\n",
       "      <td>5.430754</td>\n",
       "      <td>238.122132</td>\n",
       "      <td>349.126642</td>\n",
       "      <td>2.690188</td>\n",
       "      <td>0.0</td>\n",
       "    </tr>\n",
       "    <tr>\n",
       "      <th>3</th>\n",
       "      <td>8010.000000</td>\n",
       "      <td>16.000000</td>\n",
       "      <td>9.000000</td>\n",
       "      <td>9.000000</td>\n",
       "      <td>1.000000</td>\n",
       "      <td>1.000000</td>\n",
       "      <td>1.0</td>\n",
       "      <td>min</td>\n",
       "      <td>8010.000000</td>\n",
       "      <td>21.000000</td>\n",
       "      <td>8.000000</td>\n",
       "      <td>9.000000</td>\n",
       "      <td>1.000000</td>\n",
       "      <td>1.000000</td>\n",
       "      <td>1.0</td>\n",
       "    </tr>\n",
       "    <tr>\n",
       "      <th>4</th>\n",
       "      <td>8010.000000</td>\n",
       "      <td>53.250000</td>\n",
       "      <td>16.000000</td>\n",
       "      <td>19.000000</td>\n",
       "      <td>36.000000</td>\n",
       "      <td>1.000000</td>\n",
       "      <td>1.0</td>\n",
       "      <td>25%</td>\n",
       "      <td>8010.000000</td>\n",
       "      <td>56.000000</td>\n",
       "      <td>17.000000</td>\n",
       "      <td>18.000000</td>\n",
       "      <td>38.000000</td>\n",
       "      <td>1.000000</td>\n",
       "      <td>1.0</td>\n",
       "    </tr>\n",
       "    <tr>\n",
       "      <th>5</th>\n",
       "      <td>8020.000000</td>\n",
       "      <td>81.500000</td>\n",
       "      <td>20.000000</td>\n",
       "      <td>322.000000</td>\n",
       "      <td>95.500000</td>\n",
       "      <td>2.000000</td>\n",
       "      <td>1.0</td>\n",
       "      <td>50%</td>\n",
       "      <td>8020.000000</td>\n",
       "      <td>75.500000</td>\n",
       "      <td>20.000000</td>\n",
       "      <td>306.000000</td>\n",
       "      <td>107.000000</td>\n",
       "      <td>2.000000</td>\n",
       "      <td>1.0</td>\n",
       "    </tr>\n",
       "    <tr>\n",
       "      <th>6</th>\n",
       "      <td>8020.000000</td>\n",
       "      <td>106.000000</td>\n",
       "      <td>23.750000</td>\n",
       "      <td>462.000000</td>\n",
       "      <td>283.250000</td>\n",
       "      <td>4.000000</td>\n",
       "      <td>1.0</td>\n",
       "      <td>75%</td>\n",
       "      <td>8020.000000</td>\n",
       "      <td>99.000000</td>\n",
       "      <td>24.000000</td>\n",
       "      <td>473.500000</td>\n",
       "      <td>321.250000</td>\n",
       "      <td>3.000000</td>\n",
       "      <td>1.0</td>\n",
       "    </tr>\n",
       "    <tr>\n",
       "      <th>7</th>\n",
       "      <td>8055.000000</td>\n",
       "      <td>227.000000</td>\n",
       "      <td>38.000000</td>\n",
       "      <td>1951.000000</td>\n",
       "      <td>1982.000000</td>\n",
       "      <td>13.000000</td>\n",
       "      <td>1.0</td>\n",
       "      <td>max</td>\n",
       "      <td>8055.000000</td>\n",
       "      <td>231.000000</td>\n",
       "      <td>43.000000</td>\n",
       "      <td>1051.000000</td>\n",
       "      <td>2180.000000</td>\n",
       "      <td>10.000000</td>\n",
       "      <td>1.0</td>\n",
       "    </tr>\n",
       "  </tbody>\n",
       "</table>\n",
       "</div>"
      ],
      "text/plain": [
       "         zip_x  %_kill_rate_x  avg_basket_size_€_x  avg_time_to_accept_(s)_x  \\\n",
       "0   230.000000     174.000000           208.000000                208.000000   \n",
       "1  8022.130435      82.939655            20.087340                282.044872   \n",
       "2    16.252388      38.641798             5.233489                267.617124   \n",
       "3  8010.000000      16.000000             9.000000                  9.000000   \n",
       "4  8010.000000      53.250000            16.000000                 19.000000   \n",
       "5  8020.000000      81.500000            20.000000                322.000000   \n",
       "6  8020.000000     106.000000            23.750000                462.000000   \n",
       "7  8055.000000     227.000000            38.000000               1951.000000   \n",
       "\n",
       "   commissionable_orders_x  negative_comments_x  positive_comments_x  index  \\\n",
       "0               214.000000            70.000000                174.0  count   \n",
       "1               232.235981             3.071429                  1.0   mean   \n",
       "2               347.348486             2.961450                  0.0    std   \n",
       "3                 1.000000             1.000000                  1.0    min   \n",
       "4                36.000000             1.000000                  1.0    25%   \n",
       "5                95.500000             2.000000                  1.0    50%   \n",
       "6               283.250000             4.000000                  1.0    75%   \n",
       "7              1982.000000            13.000000                  1.0    max   \n",
       "\n",
       "         zip_y  %_kill_rate_y  avg_basket_size_€_y  avg_time_to_accept_(s)_y  \\\n",
       "0   230.000000     174.000000           208.000000                208.000000   \n",
       "1  8022.130435      80.224138            20.395032                273.893429   \n",
       "2    16.252388      36.930669             5.430754                238.122132   \n",
       "3  8010.000000      21.000000             8.000000                  9.000000   \n",
       "4  8010.000000      56.000000            17.000000                 18.000000   \n",
       "5  8020.000000      75.500000            20.000000                306.000000   \n",
       "6  8020.000000      99.000000            24.000000                473.500000   \n",
       "7  8055.000000     231.000000            43.000000               1051.000000   \n",
       "\n",
       "   commissionable_orders_y  negative_comments_y  positive_comments_y  \n",
       "0               214.000000            70.000000                174.0  \n",
       "1               238.991433             3.002381                  1.0  \n",
       "2               349.126642             2.690188                  0.0  \n",
       "3                 1.000000             1.000000                  1.0  \n",
       "4                38.000000             1.000000                  1.0  \n",
       "5               107.000000             2.000000                  1.0  \n",
       "6               321.250000             3.000000                  1.0  \n",
       "7              2180.000000            10.000000                  1.0  "
      ]
     },
     "execution_count": 47,
     "metadata": {},
     "output_type": "execute_result"
    }
   ],
   "source": [
    "merge_info = info_1.merge(info_2, how = 'outer' , on = 'index')\n",
    "merge_info"
   ]
  },
  {
   "cell_type": "code",
   "execution_count": 48,
   "id": "c17e6982",
   "metadata": {},
   "outputs": [
    {
     "data": {
      "text/html": [
       "<div>\n",
       "<style scoped>\n",
       "    .dataframe tbody tr th:only-of-type {\n",
       "        vertical-align: middle;\n",
       "    }\n",
       "\n",
       "    .dataframe tbody tr th {\n",
       "        vertical-align: top;\n",
       "    }\n",
       "\n",
       "    .dataframe thead th {\n",
       "        text-align: right;\n",
       "    }\n",
       "</style>\n",
       "<table border=\"1\" class=\"dataframe\">\n",
       "  <thead>\n",
       "    <tr style=\"text-align: right;\">\n",
       "      <th></th>\n",
       "      <th>%_kill_rate_x</th>\n",
       "      <th>avg_basket_size_€_x</th>\n",
       "      <th>avg_time_to_accept_(s)_x</th>\n",
       "      <th>commissionable_orders_x</th>\n",
       "      <th>negative_comments_x</th>\n",
       "      <th>index</th>\n",
       "      <th>%_kill_rate_y</th>\n",
       "      <th>avg_basket_size_€_y</th>\n",
       "      <th>avg_time_to_accept_(s)_y</th>\n",
       "      <th>commissionable_orders_y</th>\n",
       "      <th>negative_comments_y</th>\n",
       "    </tr>\n",
       "  </thead>\n",
       "  <tbody>\n",
       "    <tr>\n",
       "      <th>0</th>\n",
       "      <td>174.000000</td>\n",
       "      <td>208.000000</td>\n",
       "      <td>208.000000</td>\n",
       "      <td>214.000000</td>\n",
       "      <td>70.000000</td>\n",
       "      <td>count</td>\n",
       "      <td>174.000000</td>\n",
       "      <td>208.000000</td>\n",
       "      <td>208.000000</td>\n",
       "      <td>214.000000</td>\n",
       "      <td>70.000000</td>\n",
       "    </tr>\n",
       "    <tr>\n",
       "      <th>1</th>\n",
       "      <td>82.939655</td>\n",
       "      <td>20.087340</td>\n",
       "      <td>282.044872</td>\n",
       "      <td>232.235981</td>\n",
       "      <td>3.071429</td>\n",
       "      <td>mean</td>\n",
       "      <td>80.224138</td>\n",
       "      <td>20.395032</td>\n",
       "      <td>273.893429</td>\n",
       "      <td>238.991433</td>\n",
       "      <td>3.002381</td>\n",
       "    </tr>\n",
       "    <tr>\n",
       "      <th>2</th>\n",
       "      <td>38.641798</td>\n",
       "      <td>5.233489</td>\n",
       "      <td>267.617124</td>\n",
       "      <td>347.348486</td>\n",
       "      <td>2.961450</td>\n",
       "      <td>std</td>\n",
       "      <td>36.930669</td>\n",
       "      <td>5.430754</td>\n",
       "      <td>238.122132</td>\n",
       "      <td>349.126642</td>\n",
       "      <td>2.690188</td>\n",
       "    </tr>\n",
       "    <tr>\n",
       "      <th>3</th>\n",
       "      <td>16.000000</td>\n",
       "      <td>9.000000</td>\n",
       "      <td>9.000000</td>\n",
       "      <td>1.000000</td>\n",
       "      <td>1.000000</td>\n",
       "      <td>min</td>\n",
       "      <td>21.000000</td>\n",
       "      <td>8.000000</td>\n",
       "      <td>9.000000</td>\n",
       "      <td>1.000000</td>\n",
       "      <td>1.000000</td>\n",
       "    </tr>\n",
       "    <tr>\n",
       "      <th>4</th>\n",
       "      <td>53.250000</td>\n",
       "      <td>16.000000</td>\n",
       "      <td>19.000000</td>\n",
       "      <td>36.000000</td>\n",
       "      <td>1.000000</td>\n",
       "      <td>25%</td>\n",
       "      <td>56.000000</td>\n",
       "      <td>17.000000</td>\n",
       "      <td>18.000000</td>\n",
       "      <td>38.000000</td>\n",
       "      <td>1.000000</td>\n",
       "    </tr>\n",
       "    <tr>\n",
       "      <th>5</th>\n",
       "      <td>81.500000</td>\n",
       "      <td>20.000000</td>\n",
       "      <td>322.000000</td>\n",
       "      <td>95.500000</td>\n",
       "      <td>2.000000</td>\n",
       "      <td>50%</td>\n",
       "      <td>75.500000</td>\n",
       "      <td>20.000000</td>\n",
       "      <td>306.000000</td>\n",
       "      <td>107.000000</td>\n",
       "      <td>2.000000</td>\n",
       "    </tr>\n",
       "    <tr>\n",
       "      <th>6</th>\n",
       "      <td>106.000000</td>\n",
       "      <td>23.750000</td>\n",
       "      <td>462.000000</td>\n",
       "      <td>283.250000</td>\n",
       "      <td>4.000000</td>\n",
       "      <td>75%</td>\n",
       "      <td>99.000000</td>\n",
       "      <td>24.000000</td>\n",
       "      <td>473.500000</td>\n",
       "      <td>321.250000</td>\n",
       "      <td>3.000000</td>\n",
       "    </tr>\n",
       "    <tr>\n",
       "      <th>7</th>\n",
       "      <td>227.000000</td>\n",
       "      <td>38.000000</td>\n",
       "      <td>1951.000000</td>\n",
       "      <td>1982.000000</td>\n",
       "      <td>13.000000</td>\n",
       "      <td>max</td>\n",
       "      <td>231.000000</td>\n",
       "      <td>43.000000</td>\n",
       "      <td>1051.000000</td>\n",
       "      <td>2180.000000</td>\n",
       "      <td>10.000000</td>\n",
       "    </tr>\n",
       "  </tbody>\n",
       "</table>\n",
       "</div>"
      ],
      "text/plain": [
       "   %_kill_rate_x  avg_basket_size_€_x  avg_time_to_accept_(s)_x  \\\n",
       "0     174.000000           208.000000                208.000000   \n",
       "1      82.939655            20.087340                282.044872   \n",
       "2      38.641798             5.233489                267.617124   \n",
       "3      16.000000             9.000000                  9.000000   \n",
       "4      53.250000            16.000000                 19.000000   \n",
       "5      81.500000            20.000000                322.000000   \n",
       "6     106.000000            23.750000                462.000000   \n",
       "7     227.000000            38.000000               1951.000000   \n",
       "\n",
       "   commissionable_orders_x  negative_comments_x  index  %_kill_rate_y  \\\n",
       "0               214.000000            70.000000  count     174.000000   \n",
       "1               232.235981             3.071429   mean      80.224138   \n",
       "2               347.348486             2.961450    std      36.930669   \n",
       "3                 1.000000             1.000000    min      21.000000   \n",
       "4                36.000000             1.000000    25%      56.000000   \n",
       "5                95.500000             2.000000    50%      75.500000   \n",
       "6               283.250000             4.000000    75%      99.000000   \n",
       "7              1982.000000            13.000000    max     231.000000   \n",
       "\n",
       "   avg_basket_size_€_y  avg_time_to_accept_(s)_y  commissionable_orders_y  \\\n",
       "0           208.000000                208.000000               214.000000   \n",
       "1            20.395032                273.893429               238.991433   \n",
       "2             5.430754                238.122132               349.126642   \n",
       "3             8.000000                  9.000000                 1.000000   \n",
       "4            17.000000                 18.000000                38.000000   \n",
       "5            20.000000                306.000000               107.000000   \n",
       "6            24.000000                473.500000               321.250000   \n",
       "7            43.000000               1051.000000              2180.000000   \n",
       "\n",
       "   negative_comments_y  \n",
       "0            70.000000  \n",
       "1             3.002381  \n",
       "2             2.690188  \n",
       "3             1.000000  \n",
       "4             1.000000  \n",
       "5             2.000000  \n",
       "6             3.000000  \n",
       "7            10.000000  "
      ]
     },
     "execution_count": 48,
     "metadata": {},
     "output_type": "execute_result"
    }
   ],
   "source": [
    "merge_info.drop(columns = ['zip_x', 'zip_y', 'positive_comments_x', 'positive_comments_y' ])"
   ]
  },
  {
   "cell_type": "code",
   "execution_count": null,
   "id": "62e8154a",
   "metadata": {},
   "outputs": [],
   "source": [
    "merge_info.melt(id_vars = 'index',\n",
    "                value_vars =  , \n",
    "               var_name = ,\n",
    "               value_name = )\n",
    "\n",
    "id_vars = ['name', 'zip'], value_vars = ['month_1_x', 'month_1_y'], var_name = 'delivery_service', value_name = 'Commissionable Orders')"
   ]
  },
  {
   "cell_type": "markdown",
   "id": "1a1bad27",
   "metadata": {},
   "source": [
    "### find our top 10 on competitor platform"
   ]
  },
  {
   "cell_type": "code",
   "execution_count": 90,
   "id": "44611140",
   "metadata": {},
   "outputs": [
    {
     "data": {
      "text/html": [
       "<div>\n",
       "<style scoped>\n",
       "    .dataframe tbody tr th:only-of-type {\n",
       "        vertical-align: middle;\n",
       "    }\n",
       "\n",
       "    .dataframe tbody tr th {\n",
       "        vertical-align: top;\n",
       "    }\n",
       "\n",
       "    .dataframe thead th {\n",
       "        text-align: right;\n",
       "    }\n",
       "</style>\n",
       "<table border=\"1\" class=\"dataframe\">\n",
       "  <thead>\n",
       "    <tr style=\"text-align: right;\">\n",
       "      <th></th>\n",
       "      <th>name</th>\n",
       "      <th>zip</th>\n",
       "      <th>%_kill_rate</th>\n",
       "      <th>avg_basket_size_€</th>\n",
       "      <th>avg_time_to_accept_(s)</th>\n",
       "      <th>commissionable_orders</th>\n",
       "      <th>negative_comments</th>\n",
       "      <th>positive_comments</th>\n",
       "    </tr>\n",
       "  </thead>\n",
       "  <tbody>\n",
       "    <tr>\n",
       "      <th>0</th>\n",
       "      <td>Adelphia</td>\n",
       "      <td>8010</td>\n",
       "      <td>NaN</td>\n",
       "      <td>15.0</td>\n",
       "      <td>462.0</td>\n",
       "      <td>78.0</td>\n",
       "      <td>NaN</td>\n",
       "      <td>1.0</td>\n",
       "    </tr>\n",
       "    <tr>\n",
       "      <th>1</th>\n",
       "      <td>Aegaeis - Greek Grill</td>\n",
       "      <td>8020</td>\n",
       "      <td>NaN</td>\n",
       "      <td>15.0</td>\n",
       "      <td>305.0</td>\n",
       "      <td>25.0</td>\n",
       "      <td>NaN</td>\n",
       "      <td>NaN</td>\n",
       "    </tr>\n",
       "    <tr>\n",
       "      <th>2</th>\n",
       "      <td>Akakiko</td>\n",
       "      <td>8010</td>\n",
       "      <td>107.0</td>\n",
       "      <td>30.0</td>\n",
       "      <td>499.0</td>\n",
       "      <td>481.0</td>\n",
       "      <td>1.0</td>\n",
       "      <td>1.0</td>\n",
       "    </tr>\n",
       "    <tr>\n",
       "      <th>3</th>\n",
       "      <td>Akdag Kebap</td>\n",
       "      <td>8020</td>\n",
       "      <td>33.0</td>\n",
       "      <td>10.0</td>\n",
       "      <td>465.0</td>\n",
       "      <td>144.0</td>\n",
       "      <td>1.0</td>\n",
       "      <td>1.0</td>\n",
       "    </tr>\n",
       "    <tr>\n",
       "      <th>4</th>\n",
       "      <td>Al Pomodoro- Ristorante Pizzeria</td>\n",
       "      <td>8010</td>\n",
       "      <td>135.0</td>\n",
       "      <td>21.0</td>\n",
       "      <td>249.0</td>\n",
       "      <td>55.0</td>\n",
       "      <td>NaN</td>\n",
       "      <td>1.0</td>\n",
       "    </tr>\n",
       "    <tr>\n",
       "      <th>...</th>\n",
       "      <td>...</td>\n",
       "      <td>...</td>\n",
       "      <td>...</td>\n",
       "      <td>...</td>\n",
       "      <td>...</td>\n",
       "      <td>...</td>\n",
       "      <td>...</td>\n",
       "      <td>...</td>\n",
       "    </tr>\n",
       "    <tr>\n",
       "      <th>225</th>\n",
       "      <td>Zur Steirerstub'n</td>\n",
       "      <td>8020</td>\n",
       "      <td>118.0</td>\n",
       "      <td>24.0</td>\n",
       "      <td>283.0</td>\n",
       "      <td>43.0</td>\n",
       "      <td>NaN</td>\n",
       "      <td>1.0</td>\n",
       "    </tr>\n",
       "    <tr>\n",
       "      <th>226</th>\n",
       "      <td>bp - MERKUR inside</td>\n",
       "      <td>8010</td>\n",
       "      <td>NaN</td>\n",
       "      <td>21.0</td>\n",
       "      <td>485.0</td>\n",
       "      <td>86.0</td>\n",
       "      <td>NaN</td>\n",
       "      <td>1.0</td>\n",
       "    </tr>\n",
       "    <tr>\n",
       "      <th>227</th>\n",
       "      <td>dean &amp; david Wels</td>\n",
       "      <td>8010</td>\n",
       "      <td>79.0</td>\n",
       "      <td>26.0</td>\n",
       "      <td>19.0</td>\n",
       "      <td>767.0</td>\n",
       "      <td>NaN</td>\n",
       "      <td>1.0</td>\n",
       "    </tr>\n",
       "    <tr>\n",
       "      <th>228</th>\n",
       "      <td>my Kentt Pizza &amp; Kebap</td>\n",
       "      <td>8054</td>\n",
       "      <td>89.0</td>\n",
       "      <td>16.0</td>\n",
       "      <td>12.0</td>\n",
       "      <td>172.0</td>\n",
       "      <td>1.0</td>\n",
       "      <td>1.0</td>\n",
       "    </tr>\n",
       "    <tr>\n",
       "      <th>229</th>\n",
       "      <td>the italian</td>\n",
       "      <td>8020</td>\n",
       "      <td>NaN</td>\n",
       "      <td>21.0</td>\n",
       "      <td>381.0</td>\n",
       "      <td>59.0</td>\n",
       "      <td>NaN</td>\n",
       "      <td>1.0</td>\n",
       "    </tr>\n",
       "  </tbody>\n",
       "</table>\n",
       "<p>230 rows × 8 columns</p>\n",
       "</div>"
      ],
      "text/plain": [
       "                                 name   zip  %_kill_rate  avg_basket_size_€  \\\n",
       "0                            Adelphia  8010          NaN               15.0   \n",
       "1               Aegaeis - Greek Grill  8020          NaN               15.0   \n",
       "2                             Akakiko  8010        107.0               30.0   \n",
       "3                         Akdag Kebap  8020         33.0               10.0   \n",
       "4    Al Pomodoro- Ristorante Pizzeria  8010        135.0               21.0   \n",
       "..                                ...   ...          ...                ...   \n",
       "225                 Zur Steirerstub'n  8020        118.0               24.0   \n",
       "226                bp - MERKUR inside  8010          NaN               21.0   \n",
       "227                 dean & david Wels  8010         79.0               26.0   \n",
       "228            my Kentt Pizza & Kebap  8054         89.0               16.0   \n",
       "229                       the italian  8020          NaN               21.0   \n",
       "\n",
       "     avg_time_to_accept_(s)  commissionable_orders  negative_comments  \\\n",
       "0                     462.0                   78.0                NaN   \n",
       "1                     305.0                   25.0                NaN   \n",
       "2                     499.0                  481.0                1.0   \n",
       "3                     465.0                  144.0                1.0   \n",
       "4                     249.0                   55.0                NaN   \n",
       "..                      ...                    ...                ...   \n",
       "225                   283.0                   43.0                NaN   \n",
       "226                   485.0                   86.0                NaN   \n",
       "227                    19.0                  767.0                NaN   \n",
       "228                    12.0                  172.0                1.0   \n",
       "229                   381.0                   59.0                NaN   \n",
       "\n",
       "     positive_comments  \n",
       "0                  1.0  \n",
       "1                  NaN  \n",
       "2                  1.0  \n",
       "3                  1.0  \n",
       "4                  1.0  \n",
       "..                 ...  \n",
       "225                1.0  \n",
       "226                1.0  \n",
       "227                1.0  \n",
       "228                1.0  \n",
       "229                1.0  \n",
       "\n",
       "[230 rows x 8 columns]"
      ]
     },
     "execution_count": 90,
     "metadata": {},
     "output_type": "execute_result"
    }
   ],
   "source": [
    "deliverando_pt_1"
   ]
  },
  {
   "cell_type": "code",
   "execution_count": 91,
   "id": "0c6d8a66",
   "metadata": {},
   "outputs": [
    {
     "data": {
      "text/html": [
       "<div>\n",
       "<style scoped>\n",
       "    .dataframe tbody tr th:only-of-type {\n",
       "        vertical-align: middle;\n",
       "    }\n",
       "\n",
       "    .dataframe tbody tr th {\n",
       "        vertical-align: top;\n",
       "    }\n",
       "\n",
       "    .dataframe thead th {\n",
       "        text-align: right;\n",
       "    }\n",
       "</style>\n",
       "<table border=\"1\" class=\"dataframe\">\n",
       "  <thead>\n",
       "    <tr style=\"text-align: right;\">\n",
       "      <th></th>\n",
       "      <th>name</th>\n",
       "      <th>zip</th>\n",
       "      <th>%_kill_rate</th>\n",
       "      <th>avg_basket_size_€</th>\n",
       "      <th>avg_time_to_accept_(s)</th>\n",
       "      <th>commissionable_orders</th>\n",
       "      <th>negative_comments</th>\n",
       "      <th>positive_comments</th>\n",
       "    </tr>\n",
       "  </thead>\n",
       "  <tbody>\n",
       "    <tr>\n",
       "      <th>0</th>\n",
       "      <td>Adelphia</td>\n",
       "      <td>8010</td>\n",
       "      <td>NaN</td>\n",
       "      <td>15.0</td>\n",
       "      <td>462.0</td>\n",
       "      <td>78.0</td>\n",
       "      <td>NaN</td>\n",
       "      <td>1.0</td>\n",
       "    </tr>\n",
       "    <tr>\n",
       "      <th>1</th>\n",
       "      <td>Aegaeis - Greek Grill</td>\n",
       "      <td>8020</td>\n",
       "      <td>NaN</td>\n",
       "      <td>15.0</td>\n",
       "      <td>305.0</td>\n",
       "      <td>25.0</td>\n",
       "      <td>NaN</td>\n",
       "      <td>NaN</td>\n",
       "    </tr>\n",
       "    <tr>\n",
       "      <th>2</th>\n",
       "      <td>Akakiko</td>\n",
       "      <td>8010</td>\n",
       "      <td>107.0</td>\n",
       "      <td>30.0</td>\n",
       "      <td>499.0</td>\n",
       "      <td>481.0</td>\n",
       "      <td>1.0</td>\n",
       "      <td>1.0</td>\n",
       "    </tr>\n",
       "    <tr>\n",
       "      <th>3</th>\n",
       "      <td>Akdag Kebap</td>\n",
       "      <td>8020</td>\n",
       "      <td>33.0</td>\n",
       "      <td>10.0</td>\n",
       "      <td>465.0</td>\n",
       "      <td>144.0</td>\n",
       "      <td>1.0</td>\n",
       "      <td>1.0</td>\n",
       "    </tr>\n",
       "    <tr>\n",
       "      <th>4</th>\n",
       "      <td>Al Pomodoro- Ristorante Pizzeria</td>\n",
       "      <td>8010</td>\n",
       "      <td>135.0</td>\n",
       "      <td>21.0</td>\n",
       "      <td>249.0</td>\n",
       "      <td>55.0</td>\n",
       "      <td>NaN</td>\n",
       "      <td>1.0</td>\n",
       "    </tr>\n",
       "    <tr>\n",
       "      <th>...</th>\n",
       "      <td>...</td>\n",
       "      <td>...</td>\n",
       "      <td>...</td>\n",
       "      <td>...</td>\n",
       "      <td>...</td>\n",
       "      <td>...</td>\n",
       "      <td>...</td>\n",
       "      <td>...</td>\n",
       "    </tr>\n",
       "    <tr>\n",
       "      <th>225</th>\n",
       "      <td>Zur Steirerstub'n</td>\n",
       "      <td>8020</td>\n",
       "      <td>118.0</td>\n",
       "      <td>24.0</td>\n",
       "      <td>283.0</td>\n",
       "      <td>43.0</td>\n",
       "      <td>NaN</td>\n",
       "      <td>1.0</td>\n",
       "    </tr>\n",
       "    <tr>\n",
       "      <th>226</th>\n",
       "      <td>bp - MERKUR inside</td>\n",
       "      <td>8010</td>\n",
       "      <td>NaN</td>\n",
       "      <td>21.0</td>\n",
       "      <td>485.0</td>\n",
       "      <td>86.0</td>\n",
       "      <td>NaN</td>\n",
       "      <td>1.0</td>\n",
       "    </tr>\n",
       "    <tr>\n",
       "      <th>227</th>\n",
       "      <td>dean &amp; david Wels</td>\n",
       "      <td>8010</td>\n",
       "      <td>79.0</td>\n",
       "      <td>26.0</td>\n",
       "      <td>19.0</td>\n",
       "      <td>767.0</td>\n",
       "      <td>NaN</td>\n",
       "      <td>1.0</td>\n",
       "    </tr>\n",
       "    <tr>\n",
       "      <th>228</th>\n",
       "      <td>my Kentt Pizza &amp; Kebap</td>\n",
       "      <td>8054</td>\n",
       "      <td>89.0</td>\n",
       "      <td>16.0</td>\n",
       "      <td>12.0</td>\n",
       "      <td>172.0</td>\n",
       "      <td>1.0</td>\n",
       "      <td>1.0</td>\n",
       "    </tr>\n",
       "    <tr>\n",
       "      <th>229</th>\n",
       "      <td>the italian</td>\n",
       "      <td>8020</td>\n",
       "      <td>NaN</td>\n",
       "      <td>21.0</td>\n",
       "      <td>381.0</td>\n",
       "      <td>59.0</td>\n",
       "      <td>NaN</td>\n",
       "      <td>1.0</td>\n",
       "    </tr>\n",
       "  </tbody>\n",
       "</table>\n",
       "<p>230 rows × 8 columns</p>\n",
       "</div>"
      ],
      "text/plain": [
       "                                 name   zip  %_kill_rate  avg_basket_size_€  \\\n",
       "0                            Adelphia  8010          NaN               15.0   \n",
       "1               Aegaeis - Greek Grill  8020          NaN               15.0   \n",
       "2                             Akakiko  8010        107.0               30.0   \n",
       "3                         Akdag Kebap  8020         33.0               10.0   \n",
       "4    Al Pomodoro- Ristorante Pizzeria  8010        135.0               21.0   \n",
       "..                                ...   ...          ...                ...   \n",
       "225                 Zur Steirerstub'n  8020        118.0               24.0   \n",
       "226                bp - MERKUR inside  8010          NaN               21.0   \n",
       "227                 dean & david Wels  8010         79.0               26.0   \n",
       "228            my Kentt Pizza & Kebap  8054         89.0               16.0   \n",
       "229                       the italian  8020          NaN               21.0   \n",
       "\n",
       "     avg_time_to_accept_(s)  commissionable_orders  negative_comments  \\\n",
       "0                     462.0                   78.0                NaN   \n",
       "1                     305.0                   25.0                NaN   \n",
       "2                     499.0                  481.0                1.0   \n",
       "3                     465.0                  144.0                1.0   \n",
       "4                     249.0                   55.0                NaN   \n",
       "..                      ...                    ...                ...   \n",
       "225                   283.0                   43.0                NaN   \n",
       "226                   485.0                   86.0                NaN   \n",
       "227                    19.0                  767.0                NaN   \n",
       "228                    12.0                  172.0                1.0   \n",
       "229                   381.0                   59.0                NaN   \n",
       "\n",
       "     positive_comments  \n",
       "0                  1.0  \n",
       "1                  NaN  \n",
       "2                  1.0  \n",
       "3                  1.0  \n",
       "4                  1.0  \n",
       "..                 ...  \n",
       "225                1.0  \n",
       "226                1.0  \n",
       "227                1.0  \n",
       "228                1.0  \n",
       "229                1.0  \n",
       "\n",
       "[230 rows x 8 columns]"
      ]
     },
     "execution_count": 91,
     "metadata": {},
     "output_type": "execute_result"
    }
   ],
   "source": [
    "deliverando_pt_1"
   ]
  },
  {
   "cell_type": "code",
   "execution_count": 92,
   "id": "14316e79",
   "metadata": {},
   "outputs": [],
   "source": [
    "deliverando_top_10 = deliverando_pt_1.drop(columns = ['%_kill_rate', 'avg_basket_size_€','avg_time_to_accept_(s)', 'negative_comments', 'positive_comments'])"
   ]
  },
  {
   "cell_type": "code",
   "execution_count": 96,
   "id": "c33087ef",
   "metadata": {},
   "outputs": [],
   "source": [
    "deliverando_top_10 = deliverando_top_10.sort_values(by = 'commissionable_orders', ascending = False).head(10)"
   ]
  },
  {
   "cell_type": "code",
   "execution_count": 97,
   "id": "bf2ce060",
   "metadata": {},
   "outputs": [
    {
     "data": {
      "text/html": [
       "<div>\n",
       "<style scoped>\n",
       "    .dataframe tbody tr th:only-of-type {\n",
       "        vertical-align: middle;\n",
       "    }\n",
       "\n",
       "    .dataframe tbody tr th {\n",
       "        vertical-align: top;\n",
       "    }\n",
       "\n",
       "    .dataframe thead th {\n",
       "        text-align: right;\n",
       "    }\n",
       "</style>\n",
       "<table border=\"1\" class=\"dataframe\">\n",
       "  <thead>\n",
       "    <tr style=\"text-align: right;\">\n",
       "      <th></th>\n",
       "      <th>name</th>\n",
       "      <th>zip</th>\n",
       "      <th>commissionable_orders</th>\n",
       "    </tr>\n",
       "  </thead>\n",
       "  <tbody>\n",
       "    <tr>\n",
       "      <th>198</th>\n",
       "      <td>Swing Kitchen</td>\n",
       "      <td>8010</td>\n",
       "      <td>1982.0</td>\n",
       "    </tr>\n",
       "    <tr>\n",
       "      <th>167</th>\n",
       "      <td>Pizzeria Ristorante Da Vinci Linz</td>\n",
       "      <td>8010</td>\n",
       "      <td>1933.0</td>\n",
       "    </tr>\n",
       "    <tr>\n",
       "      <th>179</th>\n",
       "      <td>Restaurant Z10</td>\n",
       "      <td>8010</td>\n",
       "      <td>1899.0</td>\n",
       "    </tr>\n",
       "    <tr>\n",
       "      <th>119</th>\n",
       "      <td>McDonald's®</td>\n",
       "      <td>8010</td>\n",
       "      <td>1776.0</td>\n",
       "    </tr>\n",
       "    <tr>\n",
       "      <th>60</th>\n",
       "      <td>Da Piero</td>\n",
       "      <td>8020</td>\n",
       "      <td>1463.0</td>\n",
       "    </tr>\n",
       "    <tr>\n",
       "      <th>103</th>\n",
       "      <td>KFC</td>\n",
       "      <td>8020</td>\n",
       "      <td>1244.0</td>\n",
       "    </tr>\n",
       "    <tr>\n",
       "      <th>66</th>\n",
       "      <td>Dolce Vita</td>\n",
       "      <td>8020</td>\n",
       "      <td>1178.0</td>\n",
       "    </tr>\n",
       "    <tr>\n",
       "      <th>109</th>\n",
       "      <td>L'Osteria</td>\n",
       "      <td>8010</td>\n",
       "      <td>1017.0</td>\n",
       "    </tr>\n",
       "    <tr>\n",
       "      <th>116</th>\n",
       "      <td>Mamacita - California Burritos</td>\n",
       "      <td>8010</td>\n",
       "      <td>1010.0</td>\n",
       "    </tr>\n",
       "    <tr>\n",
       "      <th>121</th>\n",
       "      <td>McDonald's®</td>\n",
       "      <td>8054</td>\n",
       "      <td>1010.0</td>\n",
       "    </tr>\n",
       "  </tbody>\n",
       "</table>\n",
       "</div>"
      ],
      "text/plain": [
       "                                  name   zip  commissionable_orders\n",
       "198                      Swing Kitchen  8010                 1982.0\n",
       "167  Pizzeria Ristorante Da Vinci Linz  8010                 1933.0\n",
       "179                     Restaurant Z10  8010                 1899.0\n",
       "119                        McDonald's®  8010                 1776.0\n",
       "60                            Da Piero  8020                 1463.0\n",
       "103                                KFC  8020                 1244.0\n",
       "66                          Dolce Vita  8020                 1178.0\n",
       "109                          L'Osteria  8010                 1017.0\n",
       "116     Mamacita - California Burritos  8010                 1010.0\n",
       "121                        McDonald's®  8054                 1010.0"
      ]
     },
     "execution_count": 97,
     "metadata": {},
     "output_type": "execute_result"
    }
   ],
   "source": [
    "deliverando_top_10"
   ]
  },
  {
   "cell_type": "code",
   "execution_count": 98,
   "id": "29b54905",
   "metadata": {},
   "outputs": [],
   "source": [
    "# import competitor \n",
    "competitor = competitor = pd.read_excel('./data/SalesAnalyst_Competition.xlsx')"
   ]
  },
  {
   "cell_type": "code",
   "execution_count": 99,
   "id": "401fcff4",
   "metadata": {},
   "outputs": [],
   "source": [
    "competitor = deliv_graz = competitor[competitor['zip'].isin([8010, 8020, 8036, 8041, 8042, 8043, 8045, 8051, 8052, 8053, 8054, 8055, 8063, 8077])]\n"
   ]
  },
  {
   "cell_type": "code",
   "execution_count": 100,
   "id": "c78a530b",
   "metadata": {},
   "outputs": [],
   "source": [
    "# make column orders into month_1 to merge\n",
    "competitor = competitor.rename(columns={'month_1': 'commissionable_orders'})"
   ]
  },
  {
   "cell_type": "code",
   "execution_count": 101,
   "id": "c5d680b6",
   "metadata": {},
   "outputs": [],
   "source": [
    "# drop column month\n",
    "competitor = competitor.drop(columns=['month'])"
   ]
  },
  {
   "cell_type": "code",
   "execution_count": 102,
   "id": "5141dd52",
   "metadata": {},
   "outputs": [
    {
     "data": {
      "text/html": [
       "<div>\n",
       "<style scoped>\n",
       "    .dataframe tbody tr th:only-of-type {\n",
       "        vertical-align: middle;\n",
       "    }\n",
       "\n",
       "    .dataframe tbody tr th {\n",
       "        vertical-align: top;\n",
       "    }\n",
       "\n",
       "    .dataframe thead th {\n",
       "        text-align: right;\n",
       "    }\n",
       "</style>\n",
       "<table border=\"1\" class=\"dataframe\">\n",
       "  <thead>\n",
       "    <tr style=\"text-align: right;\">\n",
       "      <th></th>\n",
       "      <th>name</th>\n",
       "      <th>zip</th>\n",
       "      <th>orders</th>\n",
       "      <th>delivery_service</th>\n",
       "    </tr>\n",
       "  </thead>\n",
       "  <tbody>\n",
       "    <tr>\n",
       "      <th>13</th>\n",
       "      <td>Heinz</td>\n",
       "      <td>8041</td>\n",
       "      <td>569</td>\n",
       "      <td>competition</td>\n",
       "    </tr>\n",
       "    <tr>\n",
       "      <th>18</th>\n",
       "      <td>Die Herzl</td>\n",
       "      <td>8010</td>\n",
       "      <td>127</td>\n",
       "      <td>competition</td>\n",
       "    </tr>\n",
       "    <tr>\n",
       "      <th>42</th>\n",
       "      <td>Pizzeria Volta</td>\n",
       "      <td>8010</td>\n",
       "      <td>574</td>\n",
       "      <td>competition</td>\n",
       "    </tr>\n",
       "    <tr>\n",
       "      <th>46</th>\n",
       "      <td>Afghan Restaurant</td>\n",
       "      <td>8010</td>\n",
       "      <td>40</td>\n",
       "      <td>competition</td>\n",
       "    </tr>\n",
       "    <tr>\n",
       "      <th>50</th>\n",
       "      <td>Eat - Asiafood</td>\n",
       "      <td>8010</td>\n",
       "      <td>9</td>\n",
       "      <td>competition</td>\n",
       "    </tr>\n",
       "    <tr>\n",
       "      <th>...</th>\n",
       "      <td>...</td>\n",
       "      <td>...</td>\n",
       "      <td>...</td>\n",
       "      <td>...</td>\n",
       "    </tr>\n",
       "    <tr>\n",
       "      <th>3162</th>\n",
       "      <td>China Restaurant Imperium</td>\n",
       "      <td>8010</td>\n",
       "      <td>1658</td>\n",
       "      <td>competition</td>\n",
       "    </tr>\n",
       "    <tr>\n",
       "      <th>3167</th>\n",
       "      <td>Kaffeesiederei Schraußer</td>\n",
       "      <td>8010</td>\n",
       "      <td>2</td>\n",
       "      <td>competition</td>\n",
       "    </tr>\n",
       "    <tr>\n",
       "      <th>3172</th>\n",
       "      <td>Ritterwirt Graz</td>\n",
       "      <td>8010</td>\n",
       "      <td>89</td>\n",
       "      <td>competition</td>\n",
       "    </tr>\n",
       "    <tr>\n",
       "      <th>3176</th>\n",
       "      <td>Isaan Thai</td>\n",
       "      <td>8010</td>\n",
       "      <td>412</td>\n",
       "      <td>competition</td>\n",
       "    </tr>\n",
       "    <tr>\n",
       "      <th>3195</th>\n",
       "      <td>Das Maxxx</td>\n",
       "      <td>8045</td>\n",
       "      <td>570</td>\n",
       "      <td>competition</td>\n",
       "    </tr>\n",
       "  </tbody>\n",
       "</table>\n",
       "<p>299 rows × 4 columns</p>\n",
       "</div>"
      ],
      "text/plain": [
       "                           name   zip  orders delivery_service\n",
       "13                        Heinz  8041     569      competition\n",
       "18                    Die Herzl  8010     127      competition\n",
       "42               Pizzeria Volta  8010     574      competition\n",
       "46            Afghan Restaurant  8010      40      competition\n",
       "50               Eat - Asiafood  8010       9      competition\n",
       "...                         ...   ...     ...              ...\n",
       "3162  China Restaurant Imperium  8010    1658      competition\n",
       "3167   Kaffeesiederei Schraußer  8010       2      competition\n",
       "3172            Ritterwirt Graz  8010      89      competition\n",
       "3176                 Isaan Thai  8010     412      competition\n",
       "3195                  Das Maxxx  8045     570      competition\n",
       "\n",
       "[299 rows x 4 columns]"
      ]
     },
     "execution_count": 102,
     "metadata": {},
     "output_type": "execute_result"
    }
   ],
   "source": [
    "competitor"
   ]
  },
  {
   "cell_type": "code",
   "execution_count": 106,
   "id": "c314a552",
   "metadata": {},
   "outputs": [],
   "source": [
    "top_10_merge_2 = deliverando_top_10.merge(competitor, how = 'inner', on = ['name', 'zip'])"
   ]
  },
  {
   "cell_type": "code",
   "execution_count": 116,
   "id": "938fed72",
   "metadata": {},
   "outputs": [],
   "source": [
    "top_10_merge_2.rename(columns={'commissionable_orders': 'orders_deliverando', 'orders': 'orders_competitor'}, inplace = True)"
   ]
  },
  {
   "cell_type": "code",
   "execution_count": 117,
   "id": "65765772",
   "metadata": {},
   "outputs": [
    {
     "data": {
      "text/html": [
       "<div>\n",
       "<style scoped>\n",
       "    .dataframe tbody tr th:only-of-type {\n",
       "        vertical-align: middle;\n",
       "    }\n",
       "\n",
       "    .dataframe tbody tr th {\n",
       "        vertical-align: top;\n",
       "    }\n",
       "\n",
       "    .dataframe thead th {\n",
       "        text-align: right;\n",
       "    }\n",
       "</style>\n",
       "<table border=\"1\" class=\"dataframe\">\n",
       "  <thead>\n",
       "    <tr style=\"text-align: right;\">\n",
       "      <th></th>\n",
       "      <th>name</th>\n",
       "      <th>zip</th>\n",
       "      <th>orders_deliverando</th>\n",
       "      <th>orders_competitor</th>\n",
       "      <th>delivery_service</th>\n",
       "    </tr>\n",
       "  </thead>\n",
       "  <tbody>\n",
       "    <tr>\n",
       "      <th>0</th>\n",
       "      <td>Restaurant Z10</td>\n",
       "      <td>8010</td>\n",
       "      <td>1899.0</td>\n",
       "      <td>613</td>\n",
       "      <td>competition</td>\n",
       "    </tr>\n",
       "    <tr>\n",
       "      <th>1</th>\n",
       "      <td>McDonald's®</td>\n",
       "      <td>8010</td>\n",
       "      <td>1776.0</td>\n",
       "      <td>125</td>\n",
       "      <td>competition</td>\n",
       "    </tr>\n",
       "    <tr>\n",
       "      <th>2</th>\n",
       "      <td>McDonald's®</td>\n",
       "      <td>8010</td>\n",
       "      <td>1776.0</td>\n",
       "      <td>166</td>\n",
       "      <td>competition</td>\n",
       "    </tr>\n",
       "    <tr>\n",
       "      <th>3</th>\n",
       "      <td>Da Piero</td>\n",
       "      <td>8020</td>\n",
       "      <td>1463.0</td>\n",
       "      <td>892</td>\n",
       "      <td>competition</td>\n",
       "    </tr>\n",
       "    <tr>\n",
       "      <th>4</th>\n",
       "      <td>KFC</td>\n",
       "      <td>8020</td>\n",
       "      <td>1244.0</td>\n",
       "      <td>535</td>\n",
       "      <td>competition</td>\n",
       "    </tr>\n",
       "    <tr>\n",
       "      <th>5</th>\n",
       "      <td>L'Osteria</td>\n",
       "      <td>8010</td>\n",
       "      <td>1017.0</td>\n",
       "      <td>696</td>\n",
       "      <td>competition</td>\n",
       "    </tr>\n",
       "    <tr>\n",
       "      <th>6</th>\n",
       "      <td>McDonald's®</td>\n",
       "      <td>8054</td>\n",
       "      <td>1010.0</td>\n",
       "      <td>128</td>\n",
       "      <td>competition</td>\n",
       "    </tr>\n",
       "  </tbody>\n",
       "</table>\n",
       "</div>"
      ],
      "text/plain": [
       "             name   zip  orders_deliverando  orders_competitor  \\\n",
       "0  Restaurant Z10  8010              1899.0                613   \n",
       "1     McDonald's®  8010              1776.0                125   \n",
       "2     McDonald's®  8010              1776.0                166   \n",
       "3        Da Piero  8020              1463.0                892   \n",
       "4             KFC  8020              1244.0                535   \n",
       "5       L'Osteria  8010              1017.0                696   \n",
       "6     McDonald's®  8054              1010.0                128   \n",
       "\n",
       "  delivery_service  \n",
       "0      competition  \n",
       "1      competition  \n",
       "2      competition  \n",
       "3      competition  \n",
       "4      competition  \n",
       "5      competition  \n",
       "6      competition  "
      ]
     },
     "execution_count": 117,
     "metadata": {},
     "output_type": "execute_result"
    }
   ],
   "source": [
    "top_10_merge_2"
   ]
  },
  {
   "cell_type": "code",
   "execution_count": 118,
   "id": "1040858d",
   "metadata": {},
   "outputs": [
    {
     "data": {
      "application/vnd.plotly.v1+json": {
       "config": {
        "plotlyServerURL": "https://plot.ly"
       },
       "data": [
        {
         "alignmentgroup": "True",
         "hovertemplate": "variable=orders_deliverando<br>name=%{x}<br>value=%{y}<extra></extra>",
         "legendgroup": "orders_deliverando",
         "marker": {
          "color": "#636efa",
          "pattern": {
           "shape": ""
          }
         },
         "name": "orders_deliverando",
         "offsetgroup": "orders_deliverando",
         "orientation": "v",
         "showlegend": true,
         "textposition": "auto",
         "type": "bar",
         "x": [
          "Restaurant Z10",
          "McDonald's®",
          "McDonald's®",
          "Da Piero",
          "KFC",
          "L'Osteria",
          "McDonald's®"
         ],
         "xaxis": "x",
         "y": [
          1899,
          1776,
          1776,
          1463,
          1244,
          1017,
          1010
         ],
         "yaxis": "y"
        },
        {
         "alignmentgroup": "True",
         "hovertemplate": "variable=orders_competitor<br>name=%{x}<br>value=%{y}<extra></extra>",
         "legendgroup": "orders_competitor",
         "marker": {
          "color": "#EF553B",
          "pattern": {
           "shape": ""
          }
         },
         "name": "orders_competitor",
         "offsetgroup": "orders_competitor",
         "orientation": "v",
         "showlegend": true,
         "textposition": "auto",
         "type": "bar",
         "x": [
          "Restaurant Z10",
          "McDonald's®",
          "McDonald's®",
          "Da Piero",
          "KFC",
          "L'Osteria",
          "McDonald's®"
         ],
         "xaxis": "x",
         "y": [
          613,
          125,
          166,
          892,
          535,
          696,
          128
         ],
         "yaxis": "y"
        }
       ],
       "layout": {
        "barmode": "group",
        "legend": {
         "title": {
          "text": "variable"
         },
         "tracegroupgap": 0
        },
        "margin": {
         "t": 60
        },
        "template": {
         "data": {
          "bar": [
           {
            "error_x": {
             "color": "#2a3f5f"
            },
            "error_y": {
             "color": "#2a3f5f"
            },
            "marker": {
             "line": {
              "color": "#E5ECF6",
              "width": 0.5
             },
             "pattern": {
              "fillmode": "overlay",
              "size": 10,
              "solidity": 0.2
             }
            },
            "type": "bar"
           }
          ],
          "barpolar": [
           {
            "marker": {
             "line": {
              "color": "#E5ECF6",
              "width": 0.5
             },
             "pattern": {
              "fillmode": "overlay",
              "size": 10,
              "solidity": 0.2
             }
            },
            "type": "barpolar"
           }
          ],
          "carpet": [
           {
            "aaxis": {
             "endlinecolor": "#2a3f5f",
             "gridcolor": "white",
             "linecolor": "white",
             "minorgridcolor": "white",
             "startlinecolor": "#2a3f5f"
            },
            "baxis": {
             "endlinecolor": "#2a3f5f",
             "gridcolor": "white",
             "linecolor": "white",
             "minorgridcolor": "white",
             "startlinecolor": "#2a3f5f"
            },
            "type": "carpet"
           }
          ],
          "choropleth": [
           {
            "colorbar": {
             "outlinewidth": 0,
             "ticks": ""
            },
            "type": "choropleth"
           }
          ],
          "contour": [
           {
            "colorbar": {
             "outlinewidth": 0,
             "ticks": ""
            },
            "colorscale": [
             [
              0,
              "#0d0887"
             ],
             [
              0.1111111111111111,
              "#46039f"
             ],
             [
              0.2222222222222222,
              "#7201a8"
             ],
             [
              0.3333333333333333,
              "#9c179e"
             ],
             [
              0.4444444444444444,
              "#bd3786"
             ],
             [
              0.5555555555555556,
              "#d8576b"
             ],
             [
              0.6666666666666666,
              "#ed7953"
             ],
             [
              0.7777777777777778,
              "#fb9f3a"
             ],
             [
              0.8888888888888888,
              "#fdca26"
             ],
             [
              1,
              "#f0f921"
             ]
            ],
            "type": "contour"
           }
          ],
          "contourcarpet": [
           {
            "colorbar": {
             "outlinewidth": 0,
             "ticks": ""
            },
            "type": "contourcarpet"
           }
          ],
          "heatmap": [
           {
            "colorbar": {
             "outlinewidth": 0,
             "ticks": ""
            },
            "colorscale": [
             [
              0,
              "#0d0887"
             ],
             [
              0.1111111111111111,
              "#46039f"
             ],
             [
              0.2222222222222222,
              "#7201a8"
             ],
             [
              0.3333333333333333,
              "#9c179e"
             ],
             [
              0.4444444444444444,
              "#bd3786"
             ],
             [
              0.5555555555555556,
              "#d8576b"
             ],
             [
              0.6666666666666666,
              "#ed7953"
             ],
             [
              0.7777777777777778,
              "#fb9f3a"
             ],
             [
              0.8888888888888888,
              "#fdca26"
             ],
             [
              1,
              "#f0f921"
             ]
            ],
            "type": "heatmap"
           }
          ],
          "heatmapgl": [
           {
            "colorbar": {
             "outlinewidth": 0,
             "ticks": ""
            },
            "colorscale": [
             [
              0,
              "#0d0887"
             ],
             [
              0.1111111111111111,
              "#46039f"
             ],
             [
              0.2222222222222222,
              "#7201a8"
             ],
             [
              0.3333333333333333,
              "#9c179e"
             ],
             [
              0.4444444444444444,
              "#bd3786"
             ],
             [
              0.5555555555555556,
              "#d8576b"
             ],
             [
              0.6666666666666666,
              "#ed7953"
             ],
             [
              0.7777777777777778,
              "#fb9f3a"
             ],
             [
              0.8888888888888888,
              "#fdca26"
             ],
             [
              1,
              "#f0f921"
             ]
            ],
            "type": "heatmapgl"
           }
          ],
          "histogram": [
           {
            "marker": {
             "pattern": {
              "fillmode": "overlay",
              "size": 10,
              "solidity": 0.2
             }
            },
            "type": "histogram"
           }
          ],
          "histogram2d": [
           {
            "colorbar": {
             "outlinewidth": 0,
             "ticks": ""
            },
            "colorscale": [
             [
              0,
              "#0d0887"
             ],
             [
              0.1111111111111111,
              "#46039f"
             ],
             [
              0.2222222222222222,
              "#7201a8"
             ],
             [
              0.3333333333333333,
              "#9c179e"
             ],
             [
              0.4444444444444444,
              "#bd3786"
             ],
             [
              0.5555555555555556,
              "#d8576b"
             ],
             [
              0.6666666666666666,
              "#ed7953"
             ],
             [
              0.7777777777777778,
              "#fb9f3a"
             ],
             [
              0.8888888888888888,
              "#fdca26"
             ],
             [
              1,
              "#f0f921"
             ]
            ],
            "type": "histogram2d"
           }
          ],
          "histogram2dcontour": [
           {
            "colorbar": {
             "outlinewidth": 0,
             "ticks": ""
            },
            "colorscale": [
             [
              0,
              "#0d0887"
             ],
             [
              0.1111111111111111,
              "#46039f"
             ],
             [
              0.2222222222222222,
              "#7201a8"
             ],
             [
              0.3333333333333333,
              "#9c179e"
             ],
             [
              0.4444444444444444,
              "#bd3786"
             ],
             [
              0.5555555555555556,
              "#d8576b"
             ],
             [
              0.6666666666666666,
              "#ed7953"
             ],
             [
              0.7777777777777778,
              "#fb9f3a"
             ],
             [
              0.8888888888888888,
              "#fdca26"
             ],
             [
              1,
              "#f0f921"
             ]
            ],
            "type": "histogram2dcontour"
           }
          ],
          "mesh3d": [
           {
            "colorbar": {
             "outlinewidth": 0,
             "ticks": ""
            },
            "type": "mesh3d"
           }
          ],
          "parcoords": [
           {
            "line": {
             "colorbar": {
              "outlinewidth": 0,
              "ticks": ""
             }
            },
            "type": "parcoords"
           }
          ],
          "pie": [
           {
            "automargin": true,
            "type": "pie"
           }
          ],
          "scatter": [
           {
            "fillpattern": {
             "fillmode": "overlay",
             "size": 10,
             "solidity": 0.2
            },
            "type": "scatter"
           }
          ],
          "scatter3d": [
           {
            "line": {
             "colorbar": {
              "outlinewidth": 0,
              "ticks": ""
             }
            },
            "marker": {
             "colorbar": {
              "outlinewidth": 0,
              "ticks": ""
             }
            },
            "type": "scatter3d"
           }
          ],
          "scattercarpet": [
           {
            "marker": {
             "colorbar": {
              "outlinewidth": 0,
              "ticks": ""
             }
            },
            "type": "scattercarpet"
           }
          ],
          "scattergeo": [
           {
            "marker": {
             "colorbar": {
              "outlinewidth": 0,
              "ticks": ""
             }
            },
            "type": "scattergeo"
           }
          ],
          "scattergl": [
           {
            "marker": {
             "colorbar": {
              "outlinewidth": 0,
              "ticks": ""
             }
            },
            "type": "scattergl"
           }
          ],
          "scattermapbox": [
           {
            "marker": {
             "colorbar": {
              "outlinewidth": 0,
              "ticks": ""
             }
            },
            "type": "scattermapbox"
           }
          ],
          "scatterpolar": [
           {
            "marker": {
             "colorbar": {
              "outlinewidth": 0,
              "ticks": ""
             }
            },
            "type": "scatterpolar"
           }
          ],
          "scatterpolargl": [
           {
            "marker": {
             "colorbar": {
              "outlinewidth": 0,
              "ticks": ""
             }
            },
            "type": "scatterpolargl"
           }
          ],
          "scatterternary": [
           {
            "marker": {
             "colorbar": {
              "outlinewidth": 0,
              "ticks": ""
             }
            },
            "type": "scatterternary"
           }
          ],
          "surface": [
           {
            "colorbar": {
             "outlinewidth": 0,
             "ticks": ""
            },
            "colorscale": [
             [
              0,
              "#0d0887"
             ],
             [
              0.1111111111111111,
              "#46039f"
             ],
             [
              0.2222222222222222,
              "#7201a8"
             ],
             [
              0.3333333333333333,
              "#9c179e"
             ],
             [
              0.4444444444444444,
              "#bd3786"
             ],
             [
              0.5555555555555556,
              "#d8576b"
             ],
             [
              0.6666666666666666,
              "#ed7953"
             ],
             [
              0.7777777777777778,
              "#fb9f3a"
             ],
             [
              0.8888888888888888,
              "#fdca26"
             ],
             [
              1,
              "#f0f921"
             ]
            ],
            "type": "surface"
           }
          ],
          "table": [
           {
            "cells": {
             "fill": {
              "color": "#EBF0F8"
             },
             "line": {
              "color": "white"
             }
            },
            "header": {
             "fill": {
              "color": "#C8D4E3"
             },
             "line": {
              "color": "white"
             }
            },
            "type": "table"
           }
          ]
         },
         "layout": {
          "annotationdefaults": {
           "arrowcolor": "#2a3f5f",
           "arrowhead": 0,
           "arrowwidth": 1
          },
          "autotypenumbers": "strict",
          "coloraxis": {
           "colorbar": {
            "outlinewidth": 0,
            "ticks": ""
           }
          },
          "colorscale": {
           "diverging": [
            [
             0,
             "#8e0152"
            ],
            [
             0.1,
             "#c51b7d"
            ],
            [
             0.2,
             "#de77ae"
            ],
            [
             0.3,
             "#f1b6da"
            ],
            [
             0.4,
             "#fde0ef"
            ],
            [
             0.5,
             "#f7f7f7"
            ],
            [
             0.6,
             "#e6f5d0"
            ],
            [
             0.7,
             "#b8e186"
            ],
            [
             0.8,
             "#7fbc41"
            ],
            [
             0.9,
             "#4d9221"
            ],
            [
             1,
             "#276419"
            ]
           ],
           "sequential": [
            [
             0,
             "#0d0887"
            ],
            [
             0.1111111111111111,
             "#46039f"
            ],
            [
             0.2222222222222222,
             "#7201a8"
            ],
            [
             0.3333333333333333,
             "#9c179e"
            ],
            [
             0.4444444444444444,
             "#bd3786"
            ],
            [
             0.5555555555555556,
             "#d8576b"
            ],
            [
             0.6666666666666666,
             "#ed7953"
            ],
            [
             0.7777777777777778,
             "#fb9f3a"
            ],
            [
             0.8888888888888888,
             "#fdca26"
            ],
            [
             1,
             "#f0f921"
            ]
           ],
           "sequentialminus": [
            [
             0,
             "#0d0887"
            ],
            [
             0.1111111111111111,
             "#46039f"
            ],
            [
             0.2222222222222222,
             "#7201a8"
            ],
            [
             0.3333333333333333,
             "#9c179e"
            ],
            [
             0.4444444444444444,
             "#bd3786"
            ],
            [
             0.5555555555555556,
             "#d8576b"
            ],
            [
             0.6666666666666666,
             "#ed7953"
            ],
            [
             0.7777777777777778,
             "#fb9f3a"
            ],
            [
             0.8888888888888888,
             "#fdca26"
            ],
            [
             1,
             "#f0f921"
            ]
           ]
          },
          "colorway": [
           "#636efa",
           "#EF553B",
           "#00cc96",
           "#ab63fa",
           "#FFA15A",
           "#19d3f3",
           "#FF6692",
           "#B6E880",
           "#FF97FF",
           "#FECB52"
          ],
          "font": {
           "color": "#2a3f5f"
          },
          "geo": {
           "bgcolor": "white",
           "lakecolor": "white",
           "landcolor": "#E5ECF6",
           "showlakes": true,
           "showland": true,
           "subunitcolor": "white"
          },
          "hoverlabel": {
           "align": "left"
          },
          "hovermode": "closest",
          "mapbox": {
           "style": "light"
          },
          "paper_bgcolor": "white",
          "plot_bgcolor": "#E5ECF6",
          "polar": {
           "angularaxis": {
            "gridcolor": "white",
            "linecolor": "white",
            "ticks": ""
           },
           "bgcolor": "#E5ECF6",
           "radialaxis": {
            "gridcolor": "white",
            "linecolor": "white",
            "ticks": ""
           }
          },
          "scene": {
           "xaxis": {
            "backgroundcolor": "#E5ECF6",
            "gridcolor": "white",
            "gridwidth": 2,
            "linecolor": "white",
            "showbackground": true,
            "ticks": "",
            "zerolinecolor": "white"
           },
           "yaxis": {
            "backgroundcolor": "#E5ECF6",
            "gridcolor": "white",
            "gridwidth": 2,
            "linecolor": "white",
            "showbackground": true,
            "ticks": "",
            "zerolinecolor": "white"
           },
           "zaxis": {
            "backgroundcolor": "#E5ECF6",
            "gridcolor": "white",
            "gridwidth": 2,
            "linecolor": "white",
            "showbackground": true,
            "ticks": "",
            "zerolinecolor": "white"
           }
          },
          "shapedefaults": {
           "line": {
            "color": "#2a3f5f"
           }
          },
          "ternary": {
           "aaxis": {
            "gridcolor": "white",
            "linecolor": "white",
            "ticks": ""
           },
           "baxis": {
            "gridcolor": "white",
            "linecolor": "white",
            "ticks": ""
           },
           "bgcolor": "#E5ECF6",
           "caxis": {
            "gridcolor": "white",
            "linecolor": "white",
            "ticks": ""
           }
          },
          "title": {
           "x": 0.05
          },
          "xaxis": {
           "automargin": true,
           "gridcolor": "white",
           "linecolor": "white",
           "ticks": "",
           "title": {
            "standoff": 15
           },
           "zerolinecolor": "white",
           "zerolinewidth": 2
          },
          "yaxis": {
           "automargin": true,
           "gridcolor": "white",
           "linecolor": "white",
           "ticks": "",
           "title": {
            "standoff": 15
           },
           "zerolinecolor": "white",
           "zerolinewidth": 2
          }
         }
        },
        "xaxis": {
         "anchor": "y",
         "domain": [
          0,
          1
         ],
         "title": {
          "text": "name"
         }
        },
        "yaxis": {
         "anchor": "x",
         "domain": [
          0,
          1
         ],
         "title": {
          "text": "value"
         }
        }
       }
      },
      "text/html": [
       "<div>                            <div id=\"665021f0-b384-48bf-a638-f71a3c96151f\" class=\"plotly-graph-div\" style=\"height:525px; width:100%;\"></div>            <script type=\"text/javascript\">                require([\"plotly\"], function(Plotly) {                    window.PLOTLYENV=window.PLOTLYENV || {};                                    if (document.getElementById(\"665021f0-b384-48bf-a638-f71a3c96151f\")) {                    Plotly.newPlot(                        \"665021f0-b384-48bf-a638-f71a3c96151f\",                        [{\"alignmentgroup\":\"True\",\"hovertemplate\":\"variable=orders_deliverando<br>name=%{x}<br>value=%{y}<extra></extra>\",\"legendgroup\":\"orders_deliverando\",\"marker\":{\"color\":\"#636efa\",\"pattern\":{\"shape\":\"\"}},\"name\":\"orders_deliverando\",\"offsetgroup\":\"orders_deliverando\",\"orientation\":\"v\",\"showlegend\":true,\"textposition\":\"auto\",\"x\":[\"Restaurant Z10\",\"McDonald's\\u00ae\",\"McDonald's\\u00ae\",\"Da Piero\",\"KFC\",\"L'Osteria\",\"McDonald's\\u00ae\"],\"xaxis\":\"x\",\"y\":[1899.0,1776.0,1776.0,1463.0,1244.0,1017.0,1010.0],\"yaxis\":\"y\",\"type\":\"bar\"},{\"alignmentgroup\":\"True\",\"hovertemplate\":\"variable=orders_competitor<br>name=%{x}<br>value=%{y}<extra></extra>\",\"legendgroup\":\"orders_competitor\",\"marker\":{\"color\":\"#EF553B\",\"pattern\":{\"shape\":\"\"}},\"name\":\"orders_competitor\",\"offsetgroup\":\"orders_competitor\",\"orientation\":\"v\",\"showlegend\":true,\"textposition\":\"auto\",\"x\":[\"Restaurant Z10\",\"McDonald's\\u00ae\",\"McDonald's\\u00ae\",\"Da Piero\",\"KFC\",\"L'Osteria\",\"McDonald's\\u00ae\"],\"xaxis\":\"x\",\"y\":[613.0,125.0,166.0,892.0,535.0,696.0,128.0],\"yaxis\":\"y\",\"type\":\"bar\"}],                        {\"template\":{\"data\":{\"histogram2dcontour\":[{\"type\":\"histogram2dcontour\",\"colorbar\":{\"outlinewidth\":0,\"ticks\":\"\"},\"colorscale\":[[0.0,\"#0d0887\"],[0.1111111111111111,\"#46039f\"],[0.2222222222222222,\"#7201a8\"],[0.3333333333333333,\"#9c179e\"],[0.4444444444444444,\"#bd3786\"],[0.5555555555555556,\"#d8576b\"],[0.6666666666666666,\"#ed7953\"],[0.7777777777777778,\"#fb9f3a\"],[0.8888888888888888,\"#fdca26\"],[1.0,\"#f0f921\"]]}],\"choropleth\":[{\"type\":\"choropleth\",\"colorbar\":{\"outlinewidth\":0,\"ticks\":\"\"}}],\"histogram2d\":[{\"type\":\"histogram2d\",\"colorbar\":{\"outlinewidth\":0,\"ticks\":\"\"},\"colorscale\":[[0.0,\"#0d0887\"],[0.1111111111111111,\"#46039f\"],[0.2222222222222222,\"#7201a8\"],[0.3333333333333333,\"#9c179e\"],[0.4444444444444444,\"#bd3786\"],[0.5555555555555556,\"#d8576b\"],[0.6666666666666666,\"#ed7953\"],[0.7777777777777778,\"#fb9f3a\"],[0.8888888888888888,\"#fdca26\"],[1.0,\"#f0f921\"]]}],\"heatmap\":[{\"type\":\"heatmap\",\"colorbar\":{\"outlinewidth\":0,\"ticks\":\"\"},\"colorscale\":[[0.0,\"#0d0887\"],[0.1111111111111111,\"#46039f\"],[0.2222222222222222,\"#7201a8\"],[0.3333333333333333,\"#9c179e\"],[0.4444444444444444,\"#bd3786\"],[0.5555555555555556,\"#d8576b\"],[0.6666666666666666,\"#ed7953\"],[0.7777777777777778,\"#fb9f3a\"],[0.8888888888888888,\"#fdca26\"],[1.0,\"#f0f921\"]]}],\"heatmapgl\":[{\"type\":\"heatmapgl\",\"colorbar\":{\"outlinewidth\":0,\"ticks\":\"\"},\"colorscale\":[[0.0,\"#0d0887\"],[0.1111111111111111,\"#46039f\"],[0.2222222222222222,\"#7201a8\"],[0.3333333333333333,\"#9c179e\"],[0.4444444444444444,\"#bd3786\"],[0.5555555555555556,\"#d8576b\"],[0.6666666666666666,\"#ed7953\"],[0.7777777777777778,\"#fb9f3a\"],[0.8888888888888888,\"#fdca26\"],[1.0,\"#f0f921\"]]}],\"contourcarpet\":[{\"type\":\"contourcarpet\",\"colorbar\":{\"outlinewidth\":0,\"ticks\":\"\"}}],\"contour\":[{\"type\":\"contour\",\"colorbar\":{\"outlinewidth\":0,\"ticks\":\"\"},\"colorscale\":[[0.0,\"#0d0887\"],[0.1111111111111111,\"#46039f\"],[0.2222222222222222,\"#7201a8\"],[0.3333333333333333,\"#9c179e\"],[0.4444444444444444,\"#bd3786\"],[0.5555555555555556,\"#d8576b\"],[0.6666666666666666,\"#ed7953\"],[0.7777777777777778,\"#fb9f3a\"],[0.8888888888888888,\"#fdca26\"],[1.0,\"#f0f921\"]]}],\"surface\":[{\"type\":\"surface\",\"colorbar\":{\"outlinewidth\":0,\"ticks\":\"\"},\"colorscale\":[[0.0,\"#0d0887\"],[0.1111111111111111,\"#46039f\"],[0.2222222222222222,\"#7201a8\"],[0.3333333333333333,\"#9c179e\"],[0.4444444444444444,\"#bd3786\"],[0.5555555555555556,\"#d8576b\"],[0.6666666666666666,\"#ed7953\"],[0.7777777777777778,\"#fb9f3a\"],[0.8888888888888888,\"#fdca26\"],[1.0,\"#f0f921\"]]}],\"mesh3d\":[{\"type\":\"mesh3d\",\"colorbar\":{\"outlinewidth\":0,\"ticks\":\"\"}}],\"scatter\":[{\"fillpattern\":{\"fillmode\":\"overlay\",\"size\":10,\"solidity\":0.2},\"type\":\"scatter\"}],\"parcoords\":[{\"type\":\"parcoords\",\"line\":{\"colorbar\":{\"outlinewidth\":0,\"ticks\":\"\"}}}],\"scatterpolargl\":[{\"type\":\"scatterpolargl\",\"marker\":{\"colorbar\":{\"outlinewidth\":0,\"ticks\":\"\"}}}],\"bar\":[{\"error_x\":{\"color\":\"#2a3f5f\"},\"error_y\":{\"color\":\"#2a3f5f\"},\"marker\":{\"line\":{\"color\":\"#E5ECF6\",\"width\":0.5},\"pattern\":{\"fillmode\":\"overlay\",\"size\":10,\"solidity\":0.2}},\"type\":\"bar\"}],\"scattergeo\":[{\"type\":\"scattergeo\",\"marker\":{\"colorbar\":{\"outlinewidth\":0,\"ticks\":\"\"}}}],\"scatterpolar\":[{\"type\":\"scatterpolar\",\"marker\":{\"colorbar\":{\"outlinewidth\":0,\"ticks\":\"\"}}}],\"histogram\":[{\"marker\":{\"pattern\":{\"fillmode\":\"overlay\",\"size\":10,\"solidity\":0.2}},\"type\":\"histogram\"}],\"scattergl\":[{\"type\":\"scattergl\",\"marker\":{\"colorbar\":{\"outlinewidth\":0,\"ticks\":\"\"}}}],\"scatter3d\":[{\"type\":\"scatter3d\",\"line\":{\"colorbar\":{\"outlinewidth\":0,\"ticks\":\"\"}},\"marker\":{\"colorbar\":{\"outlinewidth\":0,\"ticks\":\"\"}}}],\"scattermapbox\":[{\"type\":\"scattermapbox\",\"marker\":{\"colorbar\":{\"outlinewidth\":0,\"ticks\":\"\"}}}],\"scatterternary\":[{\"type\":\"scatterternary\",\"marker\":{\"colorbar\":{\"outlinewidth\":0,\"ticks\":\"\"}}}],\"scattercarpet\":[{\"type\":\"scattercarpet\",\"marker\":{\"colorbar\":{\"outlinewidth\":0,\"ticks\":\"\"}}}],\"carpet\":[{\"aaxis\":{\"endlinecolor\":\"#2a3f5f\",\"gridcolor\":\"white\",\"linecolor\":\"white\",\"minorgridcolor\":\"white\",\"startlinecolor\":\"#2a3f5f\"},\"baxis\":{\"endlinecolor\":\"#2a3f5f\",\"gridcolor\":\"white\",\"linecolor\":\"white\",\"minorgridcolor\":\"white\",\"startlinecolor\":\"#2a3f5f\"},\"type\":\"carpet\"}],\"table\":[{\"cells\":{\"fill\":{\"color\":\"#EBF0F8\"},\"line\":{\"color\":\"white\"}},\"header\":{\"fill\":{\"color\":\"#C8D4E3\"},\"line\":{\"color\":\"white\"}},\"type\":\"table\"}],\"barpolar\":[{\"marker\":{\"line\":{\"color\":\"#E5ECF6\",\"width\":0.5},\"pattern\":{\"fillmode\":\"overlay\",\"size\":10,\"solidity\":0.2}},\"type\":\"barpolar\"}],\"pie\":[{\"automargin\":true,\"type\":\"pie\"}]},\"layout\":{\"autotypenumbers\":\"strict\",\"colorway\":[\"#636efa\",\"#EF553B\",\"#00cc96\",\"#ab63fa\",\"#FFA15A\",\"#19d3f3\",\"#FF6692\",\"#B6E880\",\"#FF97FF\",\"#FECB52\"],\"font\":{\"color\":\"#2a3f5f\"},\"hovermode\":\"closest\",\"hoverlabel\":{\"align\":\"left\"},\"paper_bgcolor\":\"white\",\"plot_bgcolor\":\"#E5ECF6\",\"polar\":{\"bgcolor\":\"#E5ECF6\",\"angularaxis\":{\"gridcolor\":\"white\",\"linecolor\":\"white\",\"ticks\":\"\"},\"radialaxis\":{\"gridcolor\":\"white\",\"linecolor\":\"white\",\"ticks\":\"\"}},\"ternary\":{\"bgcolor\":\"#E5ECF6\",\"aaxis\":{\"gridcolor\":\"white\",\"linecolor\":\"white\",\"ticks\":\"\"},\"baxis\":{\"gridcolor\":\"white\",\"linecolor\":\"white\",\"ticks\":\"\"},\"caxis\":{\"gridcolor\":\"white\",\"linecolor\":\"white\",\"ticks\":\"\"}},\"coloraxis\":{\"colorbar\":{\"outlinewidth\":0,\"ticks\":\"\"}},\"colorscale\":{\"sequential\":[[0.0,\"#0d0887\"],[0.1111111111111111,\"#46039f\"],[0.2222222222222222,\"#7201a8\"],[0.3333333333333333,\"#9c179e\"],[0.4444444444444444,\"#bd3786\"],[0.5555555555555556,\"#d8576b\"],[0.6666666666666666,\"#ed7953\"],[0.7777777777777778,\"#fb9f3a\"],[0.8888888888888888,\"#fdca26\"],[1.0,\"#f0f921\"]],\"sequentialminus\":[[0.0,\"#0d0887\"],[0.1111111111111111,\"#46039f\"],[0.2222222222222222,\"#7201a8\"],[0.3333333333333333,\"#9c179e\"],[0.4444444444444444,\"#bd3786\"],[0.5555555555555556,\"#d8576b\"],[0.6666666666666666,\"#ed7953\"],[0.7777777777777778,\"#fb9f3a\"],[0.8888888888888888,\"#fdca26\"],[1.0,\"#f0f921\"]],\"diverging\":[[0,\"#8e0152\"],[0.1,\"#c51b7d\"],[0.2,\"#de77ae\"],[0.3,\"#f1b6da\"],[0.4,\"#fde0ef\"],[0.5,\"#f7f7f7\"],[0.6,\"#e6f5d0\"],[0.7,\"#b8e186\"],[0.8,\"#7fbc41\"],[0.9,\"#4d9221\"],[1,\"#276419\"]]},\"xaxis\":{\"gridcolor\":\"white\",\"linecolor\":\"white\",\"ticks\":\"\",\"title\":{\"standoff\":15},\"zerolinecolor\":\"white\",\"automargin\":true,\"zerolinewidth\":2},\"yaxis\":{\"gridcolor\":\"white\",\"linecolor\":\"white\",\"ticks\":\"\",\"title\":{\"standoff\":15},\"zerolinecolor\":\"white\",\"automargin\":true,\"zerolinewidth\":2},\"scene\":{\"xaxis\":{\"backgroundcolor\":\"#E5ECF6\",\"gridcolor\":\"white\",\"linecolor\":\"white\",\"showbackground\":true,\"ticks\":\"\",\"zerolinecolor\":\"white\",\"gridwidth\":2},\"yaxis\":{\"backgroundcolor\":\"#E5ECF6\",\"gridcolor\":\"white\",\"linecolor\":\"white\",\"showbackground\":true,\"ticks\":\"\",\"zerolinecolor\":\"white\",\"gridwidth\":2},\"zaxis\":{\"backgroundcolor\":\"#E5ECF6\",\"gridcolor\":\"white\",\"linecolor\":\"white\",\"showbackground\":true,\"ticks\":\"\",\"zerolinecolor\":\"white\",\"gridwidth\":2}},\"shapedefaults\":{\"line\":{\"color\":\"#2a3f5f\"}},\"annotationdefaults\":{\"arrowcolor\":\"#2a3f5f\",\"arrowhead\":0,\"arrowwidth\":1},\"geo\":{\"bgcolor\":\"white\",\"landcolor\":\"#E5ECF6\",\"subunitcolor\":\"white\",\"showland\":true,\"showlakes\":true,\"lakecolor\":\"white\"},\"title\":{\"x\":0.05},\"mapbox\":{\"style\":\"light\"}}},\"xaxis\":{\"anchor\":\"y\",\"domain\":[0.0,1.0],\"title\":{\"text\":\"name\"}},\"yaxis\":{\"anchor\":\"x\",\"domain\":[0.0,1.0],\"title\":{\"text\":\"value\"}},\"legend\":{\"title\":{\"text\":\"variable\"},\"tracegroupgap\":0},\"margin\":{\"t\":60},\"barmode\":\"group\"},                        {\"responsive\": true}                    ).then(function(){\n",
       "                            \n",
       "var gd = document.getElementById('665021f0-b384-48bf-a638-f71a3c96151f');\n",
       "var x = new MutationObserver(function (mutations, observer) {{\n",
       "        var display = window.getComputedStyle(gd).display;\n",
       "        if (!display || display === 'none') {{\n",
       "            console.log([gd, 'removed!']);\n",
       "            Plotly.purge(gd);\n",
       "            observer.disconnect();\n",
       "        }}\n",
       "}});\n",
       "\n",
       "// Listen for the removal of the full notebook cells\n",
       "var notebookContainer = gd.closest('#notebook-container');\n",
       "if (notebookContainer) {{\n",
       "    x.observe(notebookContainer, {childList: true});\n",
       "}}\n",
       "\n",
       "// Listen for the clearing of the current output cell\n",
       "var outputEl = gd.closest('.output');\n",
       "if (outputEl) {{\n",
       "    x.observe(outputEl, {childList: true});\n",
       "}}\n",
       "\n",
       "                        })                };                });            </script>        </div>"
      ]
     },
     "metadata": {},
     "output_type": "display_data"
    }
   ],
   "source": [
    "fig = px.bar(data_frame = top_10_merge_2,\n",
    "      x= 'name', \n",
    "       y =['orders_deliverando', 'orders_competitor'],\n",
    "             barmode = 'group')\n",
    "fig.show()"
   ]
  },
  {
   "cell_type": "code",
   "execution_count": null,
   "id": "856ac805",
   "metadata": {},
   "outputs": [],
   "source": []
  }
 ],
 "metadata": {
  "kernelspec": {
   "display_name": "Python 3 (ipykernel)",
   "language": "python",
   "name": "python3"
  },
  "language_info": {
   "codemirror_mode": {
    "name": "ipython",
    "version": 3
   },
   "file_extension": ".py",
   "mimetype": "text/x-python",
   "name": "python",
   "nbconvert_exporter": "python",
   "pygments_lexer": "ipython3",
   "version": "3.9.12"
  }
 },
 "nbformat": 4,
 "nbformat_minor": 5
}
